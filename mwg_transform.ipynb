{
    "metadata": {
        "kernelspec": {
            "name": "python3",
            "display_name": "Python 3 (ipykernel)",
            "language": "python"
        },
        "language_info": {
            "name": "python",
            "version": "3.10.6",
            "mimetype": "text/x-python",
            "codemirror_mode": {
                "name": "ipython",
                "version": 3
            },
            "pygments_lexer": "ipython3",
            "nbconvert_exporter": "python",
            "file_extension": ".py"
        },
        "colab": {
            "provenance": []
        }
    },
    "nbformat_minor": 2,
    "nbformat": 4,
    "cells": [
        {
            "cell_type": "code",
            "source": [
                "!pip install pyspark"
            ],
            "metadata": {
                "id": "w6i5yOsRx0sn",
                "colab": {
                    "base_uri": "https://localhost:8080/"
                },
                "executionInfo": {
                    "status": "ok",
                    "timestamp": 1687822037365,
                    "user_tz": -420,
                    "elapsed": 5653,
                    "user": {
                        "displayName": "Cho Phan",
                        "userId": "15376299712231995454"
                    }
                },
                "outputId": "8ad080a1-ff9c-4e86-bf92-ebf81e79cb5b",
                "azdata_cell_guid": "146e15f3-3b2b-4133-9b72-a520e3ea617c",
                "language": "python"
            },
            "outputs": [
                {
                    "output_type": "stream",
                    "name": "stdout",
                    "text": "Looking in indexes: https://pypi.org/simple, https://us-python.pkg.dev/colab-wheels/public/simple/\nRequirement already satisfied: pyspark in /usr/local/lib/python3.10/dist-packages (3.4.1)\nRequirement already satisfied: py4j==0.10.9.7 in /usr/local/lib/python3.10/dist-packages (from pyspark) (0.10.9.7)\n"
                }
            ],
            "execution_count": 37
        },
        {
            "cell_type": "code",
            "source": [
                "from pyspark.sql import SparkSession\n",
                "from pyspark.sql.functions import split, when, regexp_replace, regexp_extract, initcap, concat_ws, length, col\n",
                "\n",
                "import os\n",
                "import pandas as pd"
            ],
            "metadata": {
                "azdata_cell_guid": "472239f4-617c-48f6-b5ec-9c72bbfda530",
                "language": "python",
                "id": "HPYxe-dXbA82",
                "executionInfo": {
                    "status": "ok",
                    "timestamp": 1687822054963,
                    "user_tz": -420,
                    "elapsed": 4,
                    "user": {
                        "displayName": "Cho Phan",
                        "userId": "15376299712231995454"
                    }
                }
            },
            "outputs": [],
            "execution_count": 38
        },
        {
            "cell_type": "code",
            "source": [
                "current_dir = os.getcwd()\n",
                "print(current_dir)"
            ],
            "metadata": {
                "language": "python",
                "azdata_cell_guid": "480e3422-5afd-4432-b7c4-24ba5af831b9",
                "colab": {
                    "base_uri": "https://localhost:8080/"
                },
                "id": "VyqnNpVObA86",
                "executionInfo": {
                    "status": "ok",
                    "timestamp": 1687711729944,
                    "user_tz": -420,
                    "elapsed": 400,
                    "user": {
                        "displayName": "Cho Phan",
                        "userId": "15376299712231995454"
                    }
                },
                "outputId": "d022402a-989d-43d6-cd21-b70fa0139054"
            },
            "outputs": [
                {
                    "output_type": "stream",
                    "name": "stdout",
                    "text": "/content\n"
                }
            ],
            "execution_count": null
        },
        {
            "cell_type": "code",
            "source": [
                "spark = SparkSession.builder.getOrCreate()\n",
                "print(spark)"
            ],
            "metadata": {
                "language": "python",
                "azdata_cell_guid": "a1cff563-e56f-4040-88c1-908a24359239",
                "colab": {
                    "base_uri": "https://localhost:8080/"
                },
                "id": "Zlb-xLYVbA88",
                "executionInfo": {
                    "status": "ok",
                    "timestamp": 1687819099574,
                    "user_tz": -420,
                    "elapsed": 13218,
                    "user": {
                        "displayName": "Cho Phan",
                        "userId": "15376299712231995454"
                    }
                },
                "outputId": "0a100198-0cc1-48ad-d515-fc7e424472b5"
            },
            "outputs": [
                {
                    "output_type": "stream",
                    "name": "stdout",
                    "text": "<pyspark.sql.session.SparkSession object at 0x7efea24fc6d0>\n"
                }
            ],
            "execution_count": null
        },
        {
            "cell_type": "code",
            "source": [
                "from google.colab import drive\n",
                "drive.mount('/content/drive')"
            ],
            "metadata": {
                "colab": {
                    "base_uri": "https://localhost:8080/"
                },
                "id": "U2N1xuiacONp",
                "executionInfo": {
                    "status": "ok",
                    "timestamp": 1687819187629,
                    "user_tz": -420,
                    "elapsed": 19225,
                    "user": {
                        "displayName": "Cho Phan",
                        "userId": "15376299712231995454"
                    }
                },
                "outputId": "5970d261-4b2a-46a8-9a37-771574e45afd",
                "azdata_cell_guid": "0b8ff9fd-78a6-4400-a0d6-6e6189c0a12c",
                "language": "python"
            },
            "outputs": [
                {
                    "output_type": "stream",
                    "name": "stdout",
                    "text": "Mounted at /content/drive\n"
                }
            ],
            "execution_count": null
        },
        {
            "cell_type": "code",
            "source": [
                "current_dir = '/content/drive/MyDrive/mwg/dien_may_xanh'\n",
                "#current_dir = '/content/drive/MyDrive/mwg'"
            ],
            "metadata": {
                "id": "DYhaiE07ho_0",
                "executionInfo": {
                    "status": "ok",
                    "timestamp": 1687822060686,
                    "user_tz": -420,
                    "elapsed": 369,
                    "user": {
                        "displayName": "Cho Phan",
                        "userId": "15376299712231995454"
                    }
                },
                "azdata_cell_guid": "7bd06c3b-0f9b-4374-b33d-d3e003867e1c",
                "language": "python"
            },
            "outputs": [],
            "execution_count": 39
        },
        {
            "cell_type": "markdown",
            "source": [
                "# **Function CSV**"
            ],
            "metadata": {
                "id": "29-7lhlEdcSC",
                "azdata_cell_guid": "5a4f499a-25f3-40b2-9f4c-1dbe5408f695"
            }
        },
        {
            "cell_type": "markdown",
            "source": [
                "## **Function Read CSV**"
            ],
            "metadata": {
                "id": "Au6RdFwNwGKE",
                "azdata_cell_guid": "f41a0cd1-8de3-404b-80c0-d9685962cf99"
            }
        },
        {
            "cell_type": "code",
            "source": [
                "def read_csv(dir):\n",
                "    data = spark.read \\\n",
                "        .format('csv') \\\n",
                "        .option('header', 'true') \\\n",
                "        .load(current_dir + dir)\n",
                "\n",
                "    return data"
            ],
            "metadata": {
                "language": "python",
                "azdata_cell_guid": "4575530e-d4ad-4afa-b823-4615e046a25c",
                "id": "XAz4oMFCbA9B"
            },
            "outputs": [],
            "execution_count": null
        },
        {
            "cell_type": "markdown",
            "source": [
                "## **Function To CSV**"
            ],
            "metadata": {
                "id": "FEuvHS6CwKAK",
                "azdata_cell_guid": "560ba041-8e36-41eb-958d-9899c879b193"
            }
        },
        {
            "cell_type": "code",
            "source": [
                "def to_csv(data, dir):\n",
                "    data.to_csv(current_dir + dir, index=False)"
            ],
            "metadata": {
                "id": "4B7ik5UNu1ZU",
                "azdata_cell_guid": "9258f2c2-ce4e-47d2-9516-f7ce0e4d49e4",
                "language": "python"
            },
            "outputs": [],
            "execution_count": null
        },
        {
            "cell_type": "markdown",
            "source": [
                "# **Mobile Phone**"
            ],
            "metadata": {
                "language": "python",
                "azdata_cell_guid": "4c9492ec-73fb-4a88-9456-ce4606f54ea8",
                "id": "OjZEhrmkbA89"
            }
        },
        {
            "cell_type": "markdown",
            "source": [
                "## **Brand Mobile Phone**"
            ],
            "metadata": {
                "id": "STxjCKvOAzcF",
                "azdata_cell_guid": "aa30e54d-db9b-45c6-802a-107c307c4829"
            }
        },
        {
            "cell_type": "code",
            "source": [
                "brand = read_csv('/raw/brand/brand_mobile_phone.csv')"
            ],
            "metadata": {
                "id": "lNNuASOAfbiC",
                "azdata_cell_guid": "34771581-5df1-4ea3-b6b8-f3db15c845b0",
                "language": "python"
            },
            "outputs": [],
            "execution_count": null
        },
        {
            "cell_type": "code",
            "source": [
                "brand.toPandas()"
            ],
            "metadata": {
                "language": "python",
                "azdata_cell_guid": "60eb82c0-898d-4a2b-a5b9-abca6d88a8c6",
                "colab": {
                    "base_uri": "https://localhost:8080/",
                    "height": 363
                },
                "id": "1MzQ8F3GbA9C",
                "executionInfo": {
                    "status": "ok",
                    "timestamp": 1687800039633,
                    "user_tz": -420,
                    "elapsed": 619,
                    "user": {
                        "displayName": "Cho Phan",
                        "userId": "15376299712231995454"
                    }
                },
                "outputId": "343919a8-5740-49ed-8416-84bc53e5a51f"
            },
            "outputs": [
                {
                    "output_type": "execute_result",
                    "execution_count": 52,
                    "data": {
                        "text/plain": "                                              link  \\\n0  https://www.thegioididong.com/dtdd-apple-iphone   \n1       https://www.thegioididong.com/dtdd-samsung   \n2          https://www.thegioididong.com/dtdd-oppo   \n3        https://www.thegioididong.com/dtdd-xiaomi   \n4          https://www.thegioididong.com/dtdd-vivo   \n5        https://www.thegioididong.com/dtdd-realme   \n6         https://www.thegioididong.com/dtdd-nokia   \n7       https://www.thegioididong.com/dtdd-masstel   \n8          https://www.thegioididong.com/dtdd-itel   \n9        https://www.thegioididong.com/dtdd-mobell   \n\n                                           link_logo brand_id  \n0  https://cdn.tgdd.vn/Brand/1/logo-iphone-220x48...       01  \n1  https://cdn.tgdd.vn/Brand/1/samsungnew-220x48-...       02  \n2         https://cdn.tgdd.vn/Brand/1/OPPO42-b_5.jpg       03  \n3  https://cdn.tgdd.vn/Brand/1/logo-xiaomi-220x48...       04  \n4  https://cdn.tgdd.vn/Brand/1/vivo-logo-220-220x...       05  \n5      https://cdn.tgdd.vn/Brand/1/Realme42-b_37.png       06  \n6       https://cdn.tgdd.vn/Brand/1/Nokia42-b_21.jpg       07  \n7      https://cdn.tgdd.vn/Brand/1/Masstel42-b_0.png       08  \n8        https://cdn.tgdd.vn/Brand/1/Itel42-b_54.jpg       09  \n9      https://cdn.tgdd.vn/Brand/1/Mobell42-b_19.jpg       10  ",
                        "text/html": "\n  <div id=\"df-15c27b5a-4f83-4fef-9ab2-6dba12e76afc\">\n    <div class=\"colab-df-container\">\n      <div>\n<style scoped>\n    .dataframe tbody tr th:only-of-type {\n        vertical-align: middle;\n    }\n\n    .dataframe tbody tr th {\n        vertical-align: top;\n    }\n\n    .dataframe thead th {\n        text-align: right;\n    }\n</style>\n<table border=\"1\" class=\"dataframe\">\n  <thead>\n    <tr style=\"text-align: right;\">\n      <th></th>\n      <th>link</th>\n      <th>link_logo</th>\n      <th>brand_id</th>\n    </tr>\n  </thead>\n  <tbody>\n    <tr>\n      <th>0</th>\n      <td>https://www.thegioididong.com/dtdd-apple-iphone</td>\n      <td>https://cdn.tgdd.vn/Brand/1/logo-iphone-220x48...</td>\n      <td>01</td>\n    </tr>\n    <tr>\n      <th>1</th>\n      <td>https://www.thegioididong.com/dtdd-samsung</td>\n      <td>https://cdn.tgdd.vn/Brand/1/samsungnew-220x48-...</td>\n      <td>02</td>\n    </tr>\n    <tr>\n      <th>2</th>\n      <td>https://www.thegioididong.com/dtdd-oppo</td>\n      <td>https://cdn.tgdd.vn/Brand/1/OPPO42-b_5.jpg</td>\n      <td>03</td>\n    </tr>\n    <tr>\n      <th>3</th>\n      <td>https://www.thegioididong.com/dtdd-xiaomi</td>\n      <td>https://cdn.tgdd.vn/Brand/1/logo-xiaomi-220x48...</td>\n      <td>04</td>\n    </tr>\n    <tr>\n      <th>4</th>\n      <td>https://www.thegioididong.com/dtdd-vivo</td>\n      <td>https://cdn.tgdd.vn/Brand/1/vivo-logo-220-220x...</td>\n      <td>05</td>\n    </tr>\n    <tr>\n      <th>5</th>\n      <td>https://www.thegioididong.com/dtdd-realme</td>\n      <td>https://cdn.tgdd.vn/Brand/1/Realme42-b_37.png</td>\n      <td>06</td>\n    </tr>\n    <tr>\n      <th>6</th>\n      <td>https://www.thegioididong.com/dtdd-nokia</td>\n      <td>https://cdn.tgdd.vn/Brand/1/Nokia42-b_21.jpg</td>\n      <td>07</td>\n    </tr>\n    <tr>\n      <th>7</th>\n      <td>https://www.thegioididong.com/dtdd-masstel</td>\n      <td>https://cdn.tgdd.vn/Brand/1/Masstel42-b_0.png</td>\n      <td>08</td>\n    </tr>\n    <tr>\n      <th>8</th>\n      <td>https://www.thegioididong.com/dtdd-itel</td>\n      <td>https://cdn.tgdd.vn/Brand/1/Itel42-b_54.jpg</td>\n      <td>09</td>\n    </tr>\n    <tr>\n      <th>9</th>\n      <td>https://www.thegioididong.com/dtdd-mobell</td>\n      <td>https://cdn.tgdd.vn/Brand/1/Mobell42-b_19.jpg</td>\n      <td>10</td>\n    </tr>\n  </tbody>\n</table>\n</div>\n      <button class=\"colab-df-convert\" onclick=\"convertToInteractive('df-15c27b5a-4f83-4fef-9ab2-6dba12e76afc')\"\n              title=\"Convert this dataframe to an interactive table.\"\n              style=\"display:none;\">\n        \n  <svg xmlns=\"http://www.w3.org/2000/svg\" height=\"24px\"viewBox=\"0 0 24 24\"\n       width=\"24px\">\n    <path d=\"M0 0h24v24H0V0z\" fill=\"none\"/>\n    <path d=\"M18.56 5.44l.94 2.06.94-2.06 2.06-.94-2.06-.94-.94-2.06-.94 2.06-2.06.94zm-11 1L8.5 8.5l.94-2.06 2.06-.94-2.06-.94L8.5 2.5l-.94 2.06-2.06.94zm10 10l.94 2.06.94-2.06 2.06-.94-2.06-.94-.94-2.06-.94 2.06-2.06.94z\"/><path d=\"M17.41 7.96l-1.37-1.37c-.4-.4-.92-.59-1.43-.59-.52 0-1.04.2-1.43.59L10.3 9.45l-7.72 7.72c-.78.78-.78 2.05 0 2.83L4 21.41c.39.39.9.59 1.41.59.51 0 1.02-.2 1.41-.59l7.78-7.78 2.81-2.81c.8-.78.8-2.07 0-2.86zM5.41 20L4 18.59l7.72-7.72 1.47 1.35L5.41 20z\"/>\n  </svg>\n      </button>\n      \n  <style>\n    .colab-df-container {\n      display:flex;\n      flex-wrap:wrap;\n      gap: 12px;\n    }\n\n    .colab-df-convert {\n      background-color: #E8F0FE;\n      border: none;\n      border-radius: 50%;\n      cursor: pointer;\n      display: none;\n      fill: #1967D2;\n      height: 32px;\n      padding: 0 0 0 0;\n      width: 32px;\n    }\n\n    .colab-df-convert:hover {\n      background-color: #E2EBFA;\n      box-shadow: 0px 1px 2px rgba(60, 64, 67, 0.3), 0px 1px 3px 1px rgba(60, 64, 67, 0.15);\n      fill: #174EA6;\n    }\n\n    [theme=dark] .colab-df-convert {\n      background-color: #3B4455;\n      fill: #D2E3FC;\n    }\n\n    [theme=dark] .colab-df-convert:hover {\n      background-color: #434B5C;\n      box-shadow: 0px 1px 3px 1px rgba(0, 0, 0, 0.15);\n      filter: drop-shadow(0px 1px 2px rgba(0, 0, 0, 0.3));\n      fill: #FFFFFF;\n    }\n  </style>\n\n      <script>\n        const buttonEl =\n          document.querySelector('#df-15c27b5a-4f83-4fef-9ab2-6dba12e76afc button.colab-df-convert');\n        buttonEl.style.display =\n          google.colab.kernel.accessAllowed ? 'block' : 'none';\n\n        async function convertToInteractive(key) {\n          const element = document.querySelector('#df-15c27b5a-4f83-4fef-9ab2-6dba12e76afc');\n          const dataTable =\n            await google.colab.kernel.invokeFunction('convertToInteractive',\n                                                     [key], {});\n          if (!dataTable) return;\n\n          const docLinkHtml = 'Like what you see? Visit the ' +\n            '<a target=\"_blank\" href=https://colab.research.google.com/notebooks/data_table.ipynb>data table notebook</a>'\n            + ' to learn more about interactive tables.';\n          element.innerHTML = '';\n          dataTable['output_type'] = 'display_data';\n          await google.colab.output.renderOutput(dataTable, element);\n          const docLink = document.createElement('div');\n          docLink.innerHTML = docLinkHtml;\n          element.appendChild(docLink);\n        }\n      </script>\n    </div>\n  </div>\n  "
                    },
                    "metadata": {}
                }
            ],
            "execution_count": null
        },
        {
            "cell_type": "markdown",
            "source": [
                "### **`brand_name`**\n",
                "* Get `brand_name`\n",
                "* Transform to `initcap`: This function capitalizes the first letter of each word in a string"
            ],
            "metadata": {
                "id": "eRo5Whkhoe70",
                "azdata_cell_guid": "9c956fe9-96fd-4036-a8b1-21bbe85d8c95"
            }
        },
        {
            "cell_type": "code",
            "source": [
                "brand = brand.withColumn('brand_name', initcap(split(brand.link, '-')[1]))\n",
                "brand.toPandas()"
            ],
            "metadata": {
                "language": "python",
                "azdata_cell_guid": "ecab0154-b4df-403f-a1c5-c9a267fee144",
                "colab": {
                    "base_uri": "https://localhost:8080/",
                    "height": 363
                },
                "id": "zSTdT-FpbA9D",
                "executionInfo": {
                    "status": "ok",
                    "timestamp": 1687797736368,
                    "user_tz": -420,
                    "elapsed": 1076,
                    "user": {
                        "displayName": "Cho Phan",
                        "userId": "15376299712231995454"
                    }
                },
                "outputId": "6c41aa23-4554-4c99-9952-44fd7041e8eb"
            },
            "outputs": [
                {
                    "output_type": "execute_result",
                    "execution_count": 13,
                    "data": {
                        "text/plain": "                                              link  \\\n0  https://www.thegioididong.com/dtdd-apple-iphone   \n1       https://www.thegioididong.com/dtdd-samsung   \n2          https://www.thegioididong.com/dtdd-oppo   \n3        https://www.thegioididong.com/dtdd-xiaomi   \n4          https://www.thegioididong.com/dtdd-vivo   \n5        https://www.thegioididong.com/dtdd-realme   \n6         https://www.thegioididong.com/dtdd-nokia   \n7       https://www.thegioididong.com/dtdd-masstel   \n8          https://www.thegioididong.com/dtdd-itel   \n9        https://www.thegioididong.com/dtdd-mobell   \n\n                                           link_logo brand_id brand_name  \n0  https://cdn.tgdd.vn/Brand/1/logo-iphone-220x48...       01      Apple  \n1  https://cdn.tgdd.vn/Brand/1/samsungnew-220x48-...       02    Samsung  \n2         https://cdn.tgdd.vn/Brand/1/OPPO42-b_5.jpg       03       Oppo  \n3  https://cdn.tgdd.vn/Brand/1/logo-xiaomi-220x48...       04     Xiaomi  \n4  https://cdn.tgdd.vn/Brand/1/vivo-logo-220-220x...       05       Vivo  \n5      https://cdn.tgdd.vn/Brand/1/Realme42-b_37.png       06     Realme  \n6       https://cdn.tgdd.vn/Brand/1/Nokia42-b_21.jpg       07      Nokia  \n7      https://cdn.tgdd.vn/Brand/1/Masstel42-b_0.png       08    Masstel  \n8        https://cdn.tgdd.vn/Brand/1/Itel42-b_54.jpg       09       Itel  \n9      https://cdn.tgdd.vn/Brand/1/Mobell42-b_19.jpg       10     Mobell  ",
                        "text/html": "\n  <div id=\"df-79192db2-5e27-4ae0-9708-361913710a09\">\n    <div class=\"colab-df-container\">\n      <div>\n<style scoped>\n    .dataframe tbody tr th:only-of-type {\n        vertical-align: middle;\n    }\n\n    .dataframe tbody tr th {\n        vertical-align: top;\n    }\n\n    .dataframe thead th {\n        text-align: right;\n    }\n</style>\n<table border=\"1\" class=\"dataframe\">\n  <thead>\n    <tr style=\"text-align: right;\">\n      <th></th>\n      <th>link</th>\n      <th>link_logo</th>\n      <th>brand_id</th>\n      <th>brand_name</th>\n    </tr>\n  </thead>\n  <tbody>\n    <tr>\n      <th>0</th>\n      <td>https://www.thegioididong.com/dtdd-apple-iphone</td>\n      <td>https://cdn.tgdd.vn/Brand/1/logo-iphone-220x48...</td>\n      <td>01</td>\n      <td>Apple</td>\n    </tr>\n    <tr>\n      <th>1</th>\n      <td>https://www.thegioididong.com/dtdd-samsung</td>\n      <td>https://cdn.tgdd.vn/Brand/1/samsungnew-220x48-...</td>\n      <td>02</td>\n      <td>Samsung</td>\n    </tr>\n    <tr>\n      <th>2</th>\n      <td>https://www.thegioididong.com/dtdd-oppo</td>\n      <td>https://cdn.tgdd.vn/Brand/1/OPPO42-b_5.jpg</td>\n      <td>03</td>\n      <td>Oppo</td>\n    </tr>\n    <tr>\n      <th>3</th>\n      <td>https://www.thegioididong.com/dtdd-xiaomi</td>\n      <td>https://cdn.tgdd.vn/Brand/1/logo-xiaomi-220x48...</td>\n      <td>04</td>\n      <td>Xiaomi</td>\n    </tr>\n    <tr>\n      <th>4</th>\n      <td>https://www.thegioididong.com/dtdd-vivo</td>\n      <td>https://cdn.tgdd.vn/Brand/1/vivo-logo-220-220x...</td>\n      <td>05</td>\n      <td>Vivo</td>\n    </tr>\n    <tr>\n      <th>5</th>\n      <td>https://www.thegioididong.com/dtdd-realme</td>\n      <td>https://cdn.tgdd.vn/Brand/1/Realme42-b_37.png</td>\n      <td>06</td>\n      <td>Realme</td>\n    </tr>\n    <tr>\n      <th>6</th>\n      <td>https://www.thegioididong.com/dtdd-nokia</td>\n      <td>https://cdn.tgdd.vn/Brand/1/Nokia42-b_21.jpg</td>\n      <td>07</td>\n      <td>Nokia</td>\n    </tr>\n    <tr>\n      <th>7</th>\n      <td>https://www.thegioididong.com/dtdd-masstel</td>\n      <td>https://cdn.tgdd.vn/Brand/1/Masstel42-b_0.png</td>\n      <td>08</td>\n      <td>Masstel</td>\n    </tr>\n    <tr>\n      <th>8</th>\n      <td>https://www.thegioididong.com/dtdd-itel</td>\n      <td>https://cdn.tgdd.vn/Brand/1/Itel42-b_54.jpg</td>\n      <td>09</td>\n      <td>Itel</td>\n    </tr>\n    <tr>\n      <th>9</th>\n      <td>https://www.thegioididong.com/dtdd-mobell</td>\n      <td>https://cdn.tgdd.vn/Brand/1/Mobell42-b_19.jpg</td>\n      <td>10</td>\n      <td>Mobell</td>\n    </tr>\n  </tbody>\n</table>\n</div>\n      <button class=\"colab-df-convert\" onclick=\"convertToInteractive('df-79192db2-5e27-4ae0-9708-361913710a09')\"\n              title=\"Convert this dataframe to an interactive table.\"\n              style=\"display:none;\">\n        \n  <svg xmlns=\"http://www.w3.org/2000/svg\" height=\"24px\"viewBox=\"0 0 24 24\"\n       width=\"24px\">\n    <path d=\"M0 0h24v24H0V0z\" fill=\"none\"/>\n    <path d=\"M18.56 5.44l.94 2.06.94-2.06 2.06-.94-2.06-.94-.94-2.06-.94 2.06-2.06.94zm-11 1L8.5 8.5l.94-2.06 2.06-.94-2.06-.94L8.5 2.5l-.94 2.06-2.06.94zm10 10l.94 2.06.94-2.06 2.06-.94-2.06-.94-.94-2.06-.94 2.06-2.06.94z\"/><path d=\"M17.41 7.96l-1.37-1.37c-.4-.4-.92-.59-1.43-.59-.52 0-1.04.2-1.43.59L10.3 9.45l-7.72 7.72c-.78.78-.78 2.05 0 2.83L4 21.41c.39.39.9.59 1.41.59.51 0 1.02-.2 1.41-.59l7.78-7.78 2.81-2.81c.8-.78.8-2.07 0-2.86zM5.41 20L4 18.59l7.72-7.72 1.47 1.35L5.41 20z\"/>\n  </svg>\n      </button>\n      \n  <style>\n    .colab-df-container {\n      display:flex;\n      flex-wrap:wrap;\n      gap: 12px;\n    }\n\n    .colab-df-convert {\n      background-color: #E8F0FE;\n      border: none;\n      border-radius: 50%;\n      cursor: pointer;\n      display: none;\n      fill: #1967D2;\n      height: 32px;\n      padding: 0 0 0 0;\n      width: 32px;\n    }\n\n    .colab-df-convert:hover {\n      background-color: #E2EBFA;\n      box-shadow: 0px 1px 2px rgba(60, 64, 67, 0.3), 0px 1px 3px 1px rgba(60, 64, 67, 0.15);\n      fill: #174EA6;\n    }\n\n    [theme=dark] .colab-df-convert {\n      background-color: #3B4455;\n      fill: #D2E3FC;\n    }\n\n    [theme=dark] .colab-df-convert:hover {\n      background-color: #434B5C;\n      box-shadow: 0px 1px 3px 1px rgba(0, 0, 0, 0.15);\n      filter: drop-shadow(0px 1px 2px rgba(0, 0, 0, 0.3));\n      fill: #FFFFFF;\n    }\n  </style>\n\n      <script>\n        const buttonEl =\n          document.querySelector('#df-79192db2-5e27-4ae0-9708-361913710a09 button.colab-df-convert');\n        buttonEl.style.display =\n          google.colab.kernel.accessAllowed ? 'block' : 'none';\n\n        async function convertToInteractive(key) {\n          const element = document.querySelector('#df-79192db2-5e27-4ae0-9708-361913710a09');\n          const dataTable =\n            await google.colab.kernel.invokeFunction('convertToInteractive',\n                                                     [key], {});\n          if (!dataTable) return;\n\n          const docLinkHtml = 'Like what you see? Visit the ' +\n            '<a target=\"_blank\" href=https://colab.research.google.com/notebooks/data_table.ipynb>data table notebook</a>'\n            + ' to learn more about interactive tables.';\n          element.innerHTML = '';\n          dataTable['output_type'] = 'display_data';\n          await google.colab.output.renderOutput(dataTable, element);\n          const docLink = document.createElement('div');\n          docLink.innerHTML = docLinkHtml;\n          element.appendChild(docLink);\n        }\n      </script>\n    </div>\n  </div>\n  "
                    },
                    "metadata": {}
                }
            ],
            "execution_count": null
        },
        {
            "cell_type": "code",
            "source": [
                "brand = brand.select('brand_name', 'link', 'link_logo')\n",
                "brand.toPandas()"
            ],
            "metadata": {
                "colab": {
                    "base_uri": "https://localhost:8080/",
                    "height": 363
                },
                "id": "zErLM5bfGXYf",
                "executionInfo": {
                    "status": "ok",
                    "timestamp": 1687797751208,
                    "user_tz": -420,
                    "elapsed": 470,
                    "user": {
                        "displayName": "Cho Phan",
                        "userId": "15376299712231995454"
                    }
                },
                "outputId": "b9936c65-a4cf-40eb-d0be-de6f292197ee",
                "azdata_cell_guid": "f3b700b9-cfbb-4805-b080-cf7e458aace0",
                "language": "python"
            },
            "outputs": [
                {
                    "output_type": "execute_result",
                    "execution_count": 14,
                    "data": {
                        "text/plain": "  brand_name                                             link  \\\n0      Apple  https://www.thegioididong.com/dtdd-apple-iphone   \n1    Samsung       https://www.thegioididong.com/dtdd-samsung   \n2       Oppo          https://www.thegioididong.com/dtdd-oppo   \n3     Xiaomi        https://www.thegioididong.com/dtdd-xiaomi   \n4       Vivo          https://www.thegioididong.com/dtdd-vivo   \n5     Realme        https://www.thegioididong.com/dtdd-realme   \n6      Nokia         https://www.thegioididong.com/dtdd-nokia   \n7    Masstel       https://www.thegioididong.com/dtdd-masstel   \n8       Itel          https://www.thegioididong.com/dtdd-itel   \n9     Mobell        https://www.thegioididong.com/dtdd-mobell   \n\n                                           link_logo  \n0  https://cdn.tgdd.vn/Brand/1/logo-iphone-220x48...  \n1  https://cdn.tgdd.vn/Brand/1/samsungnew-220x48-...  \n2         https://cdn.tgdd.vn/Brand/1/OPPO42-b_5.jpg  \n3  https://cdn.tgdd.vn/Brand/1/logo-xiaomi-220x48...  \n4  https://cdn.tgdd.vn/Brand/1/vivo-logo-220-220x...  \n5      https://cdn.tgdd.vn/Brand/1/Realme42-b_37.png  \n6       https://cdn.tgdd.vn/Brand/1/Nokia42-b_21.jpg  \n7      https://cdn.tgdd.vn/Brand/1/Masstel42-b_0.png  \n8        https://cdn.tgdd.vn/Brand/1/Itel42-b_54.jpg  \n9      https://cdn.tgdd.vn/Brand/1/Mobell42-b_19.jpg  ",
                        "text/html": "\n  <div id=\"df-51bd0688-1a58-4e59-b230-4222695adf15\">\n    <div class=\"colab-df-container\">\n      <div>\n<style scoped>\n    .dataframe tbody tr th:only-of-type {\n        vertical-align: middle;\n    }\n\n    .dataframe tbody tr th {\n        vertical-align: top;\n    }\n\n    .dataframe thead th {\n        text-align: right;\n    }\n</style>\n<table border=\"1\" class=\"dataframe\">\n  <thead>\n    <tr style=\"text-align: right;\">\n      <th></th>\n      <th>brand_name</th>\n      <th>link</th>\n      <th>link_logo</th>\n    </tr>\n  </thead>\n  <tbody>\n    <tr>\n      <th>0</th>\n      <td>Apple</td>\n      <td>https://www.thegioididong.com/dtdd-apple-iphone</td>\n      <td>https://cdn.tgdd.vn/Brand/1/logo-iphone-220x48...</td>\n    </tr>\n    <tr>\n      <th>1</th>\n      <td>Samsung</td>\n      <td>https://www.thegioididong.com/dtdd-samsung</td>\n      <td>https://cdn.tgdd.vn/Brand/1/samsungnew-220x48-...</td>\n    </tr>\n    <tr>\n      <th>2</th>\n      <td>Oppo</td>\n      <td>https://www.thegioididong.com/dtdd-oppo</td>\n      <td>https://cdn.tgdd.vn/Brand/1/OPPO42-b_5.jpg</td>\n    </tr>\n    <tr>\n      <th>3</th>\n      <td>Xiaomi</td>\n      <td>https://www.thegioididong.com/dtdd-xiaomi</td>\n      <td>https://cdn.tgdd.vn/Brand/1/logo-xiaomi-220x48...</td>\n    </tr>\n    <tr>\n      <th>4</th>\n      <td>Vivo</td>\n      <td>https://www.thegioididong.com/dtdd-vivo</td>\n      <td>https://cdn.tgdd.vn/Brand/1/vivo-logo-220-220x...</td>\n    </tr>\n    <tr>\n      <th>5</th>\n      <td>Realme</td>\n      <td>https://www.thegioididong.com/dtdd-realme</td>\n      <td>https://cdn.tgdd.vn/Brand/1/Realme42-b_37.png</td>\n    </tr>\n    <tr>\n      <th>6</th>\n      <td>Nokia</td>\n      <td>https://www.thegioididong.com/dtdd-nokia</td>\n      <td>https://cdn.tgdd.vn/Brand/1/Nokia42-b_21.jpg</td>\n    </tr>\n    <tr>\n      <th>7</th>\n      <td>Masstel</td>\n      <td>https://www.thegioididong.com/dtdd-masstel</td>\n      <td>https://cdn.tgdd.vn/Brand/1/Masstel42-b_0.png</td>\n    </tr>\n    <tr>\n      <th>8</th>\n      <td>Itel</td>\n      <td>https://www.thegioididong.com/dtdd-itel</td>\n      <td>https://cdn.tgdd.vn/Brand/1/Itel42-b_54.jpg</td>\n    </tr>\n    <tr>\n      <th>9</th>\n      <td>Mobell</td>\n      <td>https://www.thegioididong.com/dtdd-mobell</td>\n      <td>https://cdn.tgdd.vn/Brand/1/Mobell42-b_19.jpg</td>\n    </tr>\n  </tbody>\n</table>\n</div>\n      <button class=\"colab-df-convert\" onclick=\"convertToInteractive('df-51bd0688-1a58-4e59-b230-4222695adf15')\"\n              title=\"Convert this dataframe to an interactive table.\"\n              style=\"display:none;\">\n        \n  <svg xmlns=\"http://www.w3.org/2000/svg\" height=\"24px\"viewBox=\"0 0 24 24\"\n       width=\"24px\">\n    <path d=\"M0 0h24v24H0V0z\" fill=\"none\"/>\n    <path d=\"M18.56 5.44l.94 2.06.94-2.06 2.06-.94-2.06-.94-.94-2.06-.94 2.06-2.06.94zm-11 1L8.5 8.5l.94-2.06 2.06-.94-2.06-.94L8.5 2.5l-.94 2.06-2.06.94zm10 10l.94 2.06.94-2.06 2.06-.94-2.06-.94-.94-2.06-.94 2.06-2.06.94z\"/><path d=\"M17.41 7.96l-1.37-1.37c-.4-.4-.92-.59-1.43-.59-.52 0-1.04.2-1.43.59L10.3 9.45l-7.72 7.72c-.78.78-.78 2.05 0 2.83L4 21.41c.39.39.9.59 1.41.59.51 0 1.02-.2 1.41-.59l7.78-7.78 2.81-2.81c.8-.78.8-2.07 0-2.86zM5.41 20L4 18.59l7.72-7.72 1.47 1.35L5.41 20z\"/>\n  </svg>\n      </button>\n      \n  <style>\n    .colab-df-container {\n      display:flex;\n      flex-wrap:wrap;\n      gap: 12px;\n    }\n\n    .colab-df-convert {\n      background-color: #E8F0FE;\n      border: none;\n      border-radius: 50%;\n      cursor: pointer;\n      display: none;\n      fill: #1967D2;\n      height: 32px;\n      padding: 0 0 0 0;\n      width: 32px;\n    }\n\n    .colab-df-convert:hover {\n      background-color: #E2EBFA;\n      box-shadow: 0px 1px 2px rgba(60, 64, 67, 0.3), 0px 1px 3px 1px rgba(60, 64, 67, 0.15);\n      fill: #174EA6;\n    }\n\n    [theme=dark] .colab-df-convert {\n      background-color: #3B4455;\n      fill: #D2E3FC;\n    }\n\n    [theme=dark] .colab-df-convert:hover {\n      background-color: #434B5C;\n      box-shadow: 0px 1px 3px 1px rgba(0, 0, 0, 0.15);\n      filter: drop-shadow(0px 1px 2px rgba(0, 0, 0, 0.3));\n      fill: #FFFFFF;\n    }\n  </style>\n\n      <script>\n        const buttonEl =\n          document.querySelector('#df-51bd0688-1a58-4e59-b230-4222695adf15 button.colab-df-convert');\n        buttonEl.style.display =\n          google.colab.kernel.accessAllowed ? 'block' : 'none';\n\n        async function convertToInteractive(key) {\n          const element = document.querySelector('#df-51bd0688-1a58-4e59-b230-4222695adf15');\n          const dataTable =\n            await google.colab.kernel.invokeFunction('convertToInteractive',\n                                                     [key], {});\n          if (!dataTable) return;\n\n          const docLinkHtml = 'Like what you see? Visit the ' +\n            '<a target=\"_blank\" href=https://colab.research.google.com/notebooks/data_table.ipynb>data table notebook</a>'\n            + ' to learn more about interactive tables.';\n          element.innerHTML = '';\n          dataTable['output_type'] = 'display_data';\n          await google.colab.output.renderOutput(dataTable, element);\n          const docLink = document.createElement('div');\n          docLink.innerHTML = docLinkHtml;\n          element.appendChild(docLink);\n        }\n      </script>\n    </div>\n  </div>\n  "
                    },
                    "metadata": {}
                }
            ],
            "execution_count": null
        },
        {
            "cell_type": "markdown",
            "source": [
                "## **Mobile Phone**"
            ],
            "metadata": {
                "id": "8f77tNfEdSzl",
                "azdata_cell_guid": "b76f24b2-dd91-42a9-8260-c01cb603c1a3"
            }
        },
        {
            "cell_type": "code",
            "source": [
                "product = read_csv('/raw/product/mobile_phone.csv')"
            ],
            "metadata": {
                "language": "python",
                "azdata_cell_guid": "d08628e8-bcdf-4e54-8aa2-0eecbd7b1549",
                "id": "5XPwJtsGbA9D"
            },
            "outputs": [],
            "execution_count": null
        },
        {
            "cell_type": "code",
            "source": [
                "product.toPandas()"
            ],
            "metadata": {
                "language": "python",
                "azdata_cell_guid": "706512ef-0667-462c-a4ae-b5c4972f5bf0",
                "colab": {
                    "base_uri": "https://localhost:8080/",
                    "height": 424
                },
                "id": "iNvgdEa6bA9D",
                "executionInfo": {
                    "status": "ok",
                    "timestamp": 1687798562889,
                    "user_tz": -420,
                    "elapsed": 717,
                    "user": {
                        "displayName": "Cho Phan",
                        "userId": "15376299712231995454"
                    }
                },
                "outputId": "afe5a53f-caf8-401c-e226-1b69c316919f"
            },
            "outputs": [
                {
                    "output_type": "execute_result",
                    "execution_count": 24,
                    "data": {
                        "text/plain": "                product_name current_price        price percent_discount  \\\n0    iPhone 14 Pro Max 128GB   27.290.000₫  29.990.000₫              -9%   \n1        iPhone 14 Pro 128GB   25.490.000₫  27.990.000₫              -8%   \n2            iPhone 14 128GB   19.590.000₫  21.990.000₫             -10%   \n3       iPhone 14 Plus 128GB   21.990.000₫  24.990.000₫             -12%   \n4      iPhone 14 Pro Max 1TB   42.490.000₫  43.990.000₫              -3%   \n..                       ...           ...          ...              ...   \n124         Mobell Rock 4 4G      810.000₫         None             None   \n125           Mobell F309 4G      760.000₫         None             None   \n126           Mobell M539 4G      700.000₫         None             None   \n127           Mobell F209 4G      620.000₫         None             None   \n128           Mobell M239 4G      390.000₫     500.000₫             -22%   \n\n    rating                                               link brand_id  \\\n0      313  https://www.thegioididong.com/dtdd/iphone-14-p...       01   \n1      157   https://www.thegioididong.com/dtdd/iphone-14-pro       01   \n2       95       https://www.thegioididong.com/dtdd/iphone-14       01   \n3       83  https://www.thegioididong.com/dtdd/iphone-14-plus       01   \n4       36  https://www.thegioididong.com/dtdd/iphone-14-p...       01   \n..     ...                                                ...      ...   \n124     59   https://www.thegioididong.com/dtdd/mobell-rock-4       10   \n125     34     https://www.thegioididong.com/dtdd/mobell-f309       10   \n126     59     https://www.thegioididong.com/dtdd/mobell-m539       10   \n127     20     https://www.thegioididong.com/dtdd/mobell-f209       10   \n128    114     https://www.thegioididong.com/dtdd/mobell-m239       10   \n\n                             series        device  \n0    iPhone 14 (Plus, Pro, Pro Max)  Mobile Phone  \n1    iPhone 14 (Plus, Pro, Pro Max)  Mobile Phone  \n2    iPhone 14 (Plus, Pro, Pro Max)  Mobile Phone  \n3    iPhone 14 (Plus, Pro, Pro Max)  Mobile Phone  \n4    iPhone 14 (Plus, Pro, Pro Max)  Mobile Phone  \n..                              ...           ...  \n124                            None  Mobile Phone  \n125                            None  Mobile Phone  \n126                            None  Mobile Phone  \n127                            None  Mobile Phone  \n128                            None  Mobile Phone  \n\n[129 rows x 9 columns]",
                        "text/html": "\n  <div id=\"df-7881c44f-eb2b-4bed-9032-d76060e38dc5\">\n    <div class=\"colab-df-container\">\n      <div>\n<style scoped>\n    .dataframe tbody tr th:only-of-type {\n        vertical-align: middle;\n    }\n\n    .dataframe tbody tr th {\n        vertical-align: top;\n    }\n\n    .dataframe thead th {\n        text-align: right;\n    }\n</style>\n<table border=\"1\" class=\"dataframe\">\n  <thead>\n    <tr style=\"text-align: right;\">\n      <th></th>\n      <th>product_name</th>\n      <th>current_price</th>\n      <th>price</th>\n      <th>percent_discount</th>\n      <th>rating</th>\n      <th>link</th>\n      <th>brand_id</th>\n      <th>series</th>\n      <th>device</th>\n    </tr>\n  </thead>\n  <tbody>\n    <tr>\n      <th>0</th>\n      <td>iPhone 14 Pro Max 128GB</td>\n      <td>27.290.000₫</td>\n      <td>29.990.000₫</td>\n      <td>-9%</td>\n      <td>313</td>\n      <td>https://www.thegioididong.com/dtdd/iphone-14-p...</td>\n      <td>01</td>\n      <td>iPhone 14 (Plus, Pro, Pro Max)</td>\n      <td>Mobile Phone</td>\n    </tr>\n    <tr>\n      <th>1</th>\n      <td>iPhone 14 Pro 128GB</td>\n      <td>25.490.000₫</td>\n      <td>27.990.000₫</td>\n      <td>-8%</td>\n      <td>157</td>\n      <td>https://www.thegioididong.com/dtdd/iphone-14-pro</td>\n      <td>01</td>\n      <td>iPhone 14 (Plus, Pro, Pro Max)</td>\n      <td>Mobile Phone</td>\n    </tr>\n    <tr>\n      <th>2</th>\n      <td>iPhone 14 128GB</td>\n      <td>19.590.000₫</td>\n      <td>21.990.000₫</td>\n      <td>-10%</td>\n      <td>95</td>\n      <td>https://www.thegioididong.com/dtdd/iphone-14</td>\n      <td>01</td>\n      <td>iPhone 14 (Plus, Pro, Pro Max)</td>\n      <td>Mobile Phone</td>\n    </tr>\n    <tr>\n      <th>3</th>\n      <td>iPhone 14 Plus 128GB</td>\n      <td>21.990.000₫</td>\n      <td>24.990.000₫</td>\n      <td>-12%</td>\n      <td>83</td>\n      <td>https://www.thegioididong.com/dtdd/iphone-14-plus</td>\n      <td>01</td>\n      <td>iPhone 14 (Plus, Pro, Pro Max)</td>\n      <td>Mobile Phone</td>\n    </tr>\n    <tr>\n      <th>4</th>\n      <td>iPhone 14 Pro Max 1TB</td>\n      <td>42.490.000₫</td>\n      <td>43.990.000₫</td>\n      <td>-3%</td>\n      <td>36</td>\n      <td>https://www.thegioididong.com/dtdd/iphone-14-p...</td>\n      <td>01</td>\n      <td>iPhone 14 (Plus, Pro, Pro Max)</td>\n      <td>Mobile Phone</td>\n    </tr>\n    <tr>\n      <th>...</th>\n      <td>...</td>\n      <td>...</td>\n      <td>...</td>\n      <td>...</td>\n      <td>...</td>\n      <td>...</td>\n      <td>...</td>\n      <td>...</td>\n      <td>...</td>\n    </tr>\n    <tr>\n      <th>124</th>\n      <td>Mobell Rock 4 4G</td>\n      <td>810.000₫</td>\n      <td>None</td>\n      <td>None</td>\n      <td>59</td>\n      <td>https://www.thegioididong.com/dtdd/mobell-rock-4</td>\n      <td>10</td>\n      <td>None</td>\n      <td>Mobile Phone</td>\n    </tr>\n    <tr>\n      <th>125</th>\n      <td>Mobell F309 4G</td>\n      <td>760.000₫</td>\n      <td>None</td>\n      <td>None</td>\n      <td>34</td>\n      <td>https://www.thegioididong.com/dtdd/mobell-f309</td>\n      <td>10</td>\n      <td>None</td>\n      <td>Mobile Phone</td>\n    </tr>\n    <tr>\n      <th>126</th>\n      <td>Mobell M539 4G</td>\n      <td>700.000₫</td>\n      <td>None</td>\n      <td>None</td>\n      <td>59</td>\n      <td>https://www.thegioididong.com/dtdd/mobell-m539</td>\n      <td>10</td>\n      <td>None</td>\n      <td>Mobile Phone</td>\n    </tr>\n    <tr>\n      <th>127</th>\n      <td>Mobell F209 4G</td>\n      <td>620.000₫</td>\n      <td>None</td>\n      <td>None</td>\n      <td>20</td>\n      <td>https://www.thegioididong.com/dtdd/mobell-f209</td>\n      <td>10</td>\n      <td>None</td>\n      <td>Mobile Phone</td>\n    </tr>\n    <tr>\n      <th>128</th>\n      <td>Mobell M239 4G</td>\n      <td>390.000₫</td>\n      <td>500.000₫</td>\n      <td>-22%</td>\n      <td>114</td>\n      <td>https://www.thegioididong.com/dtdd/mobell-m239</td>\n      <td>10</td>\n      <td>None</td>\n      <td>Mobile Phone</td>\n    </tr>\n  </tbody>\n</table>\n<p>129 rows × 9 columns</p>\n</div>\n      <button class=\"colab-df-convert\" onclick=\"convertToInteractive('df-7881c44f-eb2b-4bed-9032-d76060e38dc5')\"\n              title=\"Convert this dataframe to an interactive table.\"\n              style=\"display:none;\">\n        \n  <svg xmlns=\"http://www.w3.org/2000/svg\" height=\"24px\"viewBox=\"0 0 24 24\"\n       width=\"24px\">\n    <path d=\"M0 0h24v24H0V0z\" fill=\"none\"/>\n    <path d=\"M18.56 5.44l.94 2.06.94-2.06 2.06-.94-2.06-.94-.94-2.06-.94 2.06-2.06.94zm-11 1L8.5 8.5l.94-2.06 2.06-.94-2.06-.94L8.5 2.5l-.94 2.06-2.06.94zm10 10l.94 2.06.94-2.06 2.06-.94-2.06-.94-.94-2.06-.94 2.06-2.06.94z\"/><path d=\"M17.41 7.96l-1.37-1.37c-.4-.4-.92-.59-1.43-.59-.52 0-1.04.2-1.43.59L10.3 9.45l-7.72 7.72c-.78.78-.78 2.05 0 2.83L4 21.41c.39.39.9.59 1.41.59.51 0 1.02-.2 1.41-.59l7.78-7.78 2.81-2.81c.8-.78.8-2.07 0-2.86zM5.41 20L4 18.59l7.72-7.72 1.47 1.35L5.41 20z\"/>\n  </svg>\n      </button>\n      \n  <style>\n    .colab-df-container {\n      display:flex;\n      flex-wrap:wrap;\n      gap: 12px;\n    }\n\n    .colab-df-convert {\n      background-color: #E8F0FE;\n      border: none;\n      border-radius: 50%;\n      cursor: pointer;\n      display: none;\n      fill: #1967D2;\n      height: 32px;\n      padding: 0 0 0 0;\n      width: 32px;\n    }\n\n    .colab-df-convert:hover {\n      background-color: #E2EBFA;\n      box-shadow: 0px 1px 2px rgba(60, 64, 67, 0.3), 0px 1px 3px 1px rgba(60, 64, 67, 0.15);\n      fill: #174EA6;\n    }\n\n    [theme=dark] .colab-df-convert {\n      background-color: #3B4455;\n      fill: #D2E3FC;\n    }\n\n    [theme=dark] .colab-df-convert:hover {\n      background-color: #434B5C;\n      box-shadow: 0px 1px 3px 1px rgba(0, 0, 0, 0.15);\n      filter: drop-shadow(0px 1px 2px rgba(0, 0, 0, 0.3));\n      fill: #FFFFFF;\n    }\n  </style>\n\n      <script>\n        const buttonEl =\n          document.querySelector('#df-7881c44f-eb2b-4bed-9032-d76060e38dc5 button.colab-df-convert');\n        buttonEl.style.display =\n          google.colab.kernel.accessAllowed ? 'block' : 'none';\n\n        async function convertToInteractive(key) {\n          const element = document.querySelector('#df-7881c44f-eb2b-4bed-9032-d76060e38dc5');\n          const dataTable =\n            await google.colab.kernel.invokeFunction('convertToInteractive',\n                                                     [key], {});\n          if (!dataTable) return;\n\n          const docLinkHtml = 'Like what you see? Visit the ' +\n            '<a target=\"_blank\" href=https://colab.research.google.com/notebooks/data_table.ipynb>data table notebook</a>'\n            + ' to learn more about interactive tables.';\n          element.innerHTML = '';\n          dataTable['output_type'] = 'display_data';\n          await google.colab.output.renderOutput(dataTable, element);\n          const docLink = document.createElement('div');\n          docLink.innerHTML = docLinkHtml;\n          element.appendChild(docLink);\n        }\n      </script>\n    </div>\n  </div>\n  "
                    },
                    "metadata": {}
                }
            ],
            "execution_count": null
        },
        {
            "cell_type": "markdown",
            "source": [
                "### **`current_price`**\n",
                "* regex: get number is column `current_price`, regex will remove not number `[^\\d+]`"
            ],
            "metadata": {
                "id": "sTVDm-PT2cbd",
                "azdata_cell_guid": "0311626e-d788-479f-beb7-3d4b73c3f5b8"
            }
        },
        {
            "cell_type": "code",
            "source": [
                "product = product.withColumn(\n",
                "    'current_price', regexp_replace(product.current_price, r'[^\\d+]', '').cast('integer')\n",
                ")\n",
                "product.toPandas()"
            ],
            "metadata": {
                "colab": {
                    "base_uri": "https://localhost:8080/",
                    "height": 424
                },
                "id": "wdTtljRfybie",
                "executionInfo": {
                    "status": "ok",
                    "timestamp": 1687798570206,
                    "user_tz": -420,
                    "elapsed": 1225,
                    "user": {
                        "displayName": "Cho Phan",
                        "userId": "15376299712231995454"
                    }
                },
                "outputId": "7d6e7a3b-ac74-419e-a199-07f68da64139",
                "azdata_cell_guid": "3e5778f6-670e-4e23-8786-445403ccd4c1",
                "language": "python"
            },
            "outputs": [
                {
                    "output_type": "execute_result",
                    "execution_count": 25,
                    "data": {
                        "text/plain": "                product_name  current_price        price percent_discount  \\\n0    iPhone 14 Pro Max 128GB       27290000  29.990.000₫              -9%   \n1        iPhone 14 Pro 128GB       25490000  27.990.000₫              -8%   \n2            iPhone 14 128GB       19590000  21.990.000₫             -10%   \n3       iPhone 14 Plus 128GB       21990000  24.990.000₫             -12%   \n4      iPhone 14 Pro Max 1TB       42490000  43.990.000₫              -3%   \n..                       ...            ...          ...              ...   \n124         Mobell Rock 4 4G         810000         None             None   \n125           Mobell F309 4G         760000         None             None   \n126           Mobell M539 4G         700000         None             None   \n127           Mobell F209 4G         620000         None             None   \n128           Mobell M239 4G         390000     500.000₫             -22%   \n\n    rating                                               link brand_id  \\\n0      313  https://www.thegioididong.com/dtdd/iphone-14-p...       01   \n1      157   https://www.thegioididong.com/dtdd/iphone-14-pro       01   \n2       95       https://www.thegioididong.com/dtdd/iphone-14       01   \n3       83  https://www.thegioididong.com/dtdd/iphone-14-plus       01   \n4       36  https://www.thegioididong.com/dtdd/iphone-14-p...       01   \n..     ...                                                ...      ...   \n124     59   https://www.thegioididong.com/dtdd/mobell-rock-4       10   \n125     34     https://www.thegioididong.com/dtdd/mobell-f309       10   \n126     59     https://www.thegioididong.com/dtdd/mobell-m539       10   \n127     20     https://www.thegioididong.com/dtdd/mobell-f209       10   \n128    114     https://www.thegioididong.com/dtdd/mobell-m239       10   \n\n                             series        device  \n0    iPhone 14 (Plus, Pro, Pro Max)  Mobile Phone  \n1    iPhone 14 (Plus, Pro, Pro Max)  Mobile Phone  \n2    iPhone 14 (Plus, Pro, Pro Max)  Mobile Phone  \n3    iPhone 14 (Plus, Pro, Pro Max)  Mobile Phone  \n4    iPhone 14 (Plus, Pro, Pro Max)  Mobile Phone  \n..                              ...           ...  \n124                            None  Mobile Phone  \n125                            None  Mobile Phone  \n126                            None  Mobile Phone  \n127                            None  Mobile Phone  \n128                            None  Mobile Phone  \n\n[129 rows x 9 columns]",
                        "text/html": "\n  <div id=\"df-487b4f52-c82a-4e6c-98ab-67275d54700e\">\n    <div class=\"colab-df-container\">\n      <div>\n<style scoped>\n    .dataframe tbody tr th:only-of-type {\n        vertical-align: middle;\n    }\n\n    .dataframe tbody tr th {\n        vertical-align: top;\n    }\n\n    .dataframe thead th {\n        text-align: right;\n    }\n</style>\n<table border=\"1\" class=\"dataframe\">\n  <thead>\n    <tr style=\"text-align: right;\">\n      <th></th>\n      <th>product_name</th>\n      <th>current_price</th>\n      <th>price</th>\n      <th>percent_discount</th>\n      <th>rating</th>\n      <th>link</th>\n      <th>brand_id</th>\n      <th>series</th>\n      <th>device</th>\n    </tr>\n  </thead>\n  <tbody>\n    <tr>\n      <th>0</th>\n      <td>iPhone 14 Pro Max 128GB</td>\n      <td>27290000</td>\n      <td>29.990.000₫</td>\n      <td>-9%</td>\n      <td>313</td>\n      <td>https://www.thegioididong.com/dtdd/iphone-14-p...</td>\n      <td>01</td>\n      <td>iPhone 14 (Plus, Pro, Pro Max)</td>\n      <td>Mobile Phone</td>\n    </tr>\n    <tr>\n      <th>1</th>\n      <td>iPhone 14 Pro 128GB</td>\n      <td>25490000</td>\n      <td>27.990.000₫</td>\n      <td>-8%</td>\n      <td>157</td>\n      <td>https://www.thegioididong.com/dtdd/iphone-14-pro</td>\n      <td>01</td>\n      <td>iPhone 14 (Plus, Pro, Pro Max)</td>\n      <td>Mobile Phone</td>\n    </tr>\n    <tr>\n      <th>2</th>\n      <td>iPhone 14 128GB</td>\n      <td>19590000</td>\n      <td>21.990.000₫</td>\n      <td>-10%</td>\n      <td>95</td>\n      <td>https://www.thegioididong.com/dtdd/iphone-14</td>\n      <td>01</td>\n      <td>iPhone 14 (Plus, Pro, Pro Max)</td>\n      <td>Mobile Phone</td>\n    </tr>\n    <tr>\n      <th>3</th>\n      <td>iPhone 14 Plus 128GB</td>\n      <td>21990000</td>\n      <td>24.990.000₫</td>\n      <td>-12%</td>\n      <td>83</td>\n      <td>https://www.thegioididong.com/dtdd/iphone-14-plus</td>\n      <td>01</td>\n      <td>iPhone 14 (Plus, Pro, Pro Max)</td>\n      <td>Mobile Phone</td>\n    </tr>\n    <tr>\n      <th>4</th>\n      <td>iPhone 14 Pro Max 1TB</td>\n      <td>42490000</td>\n      <td>43.990.000₫</td>\n      <td>-3%</td>\n      <td>36</td>\n      <td>https://www.thegioididong.com/dtdd/iphone-14-p...</td>\n      <td>01</td>\n      <td>iPhone 14 (Plus, Pro, Pro Max)</td>\n      <td>Mobile Phone</td>\n    </tr>\n    <tr>\n      <th>...</th>\n      <td>...</td>\n      <td>...</td>\n      <td>...</td>\n      <td>...</td>\n      <td>...</td>\n      <td>...</td>\n      <td>...</td>\n      <td>...</td>\n      <td>...</td>\n    </tr>\n    <tr>\n      <th>124</th>\n      <td>Mobell Rock 4 4G</td>\n      <td>810000</td>\n      <td>None</td>\n      <td>None</td>\n      <td>59</td>\n      <td>https://www.thegioididong.com/dtdd/mobell-rock-4</td>\n      <td>10</td>\n      <td>None</td>\n      <td>Mobile Phone</td>\n    </tr>\n    <tr>\n      <th>125</th>\n      <td>Mobell F309 4G</td>\n      <td>760000</td>\n      <td>None</td>\n      <td>None</td>\n      <td>34</td>\n      <td>https://www.thegioididong.com/dtdd/mobell-f309</td>\n      <td>10</td>\n      <td>None</td>\n      <td>Mobile Phone</td>\n    </tr>\n    <tr>\n      <th>126</th>\n      <td>Mobell M539 4G</td>\n      <td>700000</td>\n      <td>None</td>\n      <td>None</td>\n      <td>59</td>\n      <td>https://www.thegioididong.com/dtdd/mobell-m539</td>\n      <td>10</td>\n      <td>None</td>\n      <td>Mobile Phone</td>\n    </tr>\n    <tr>\n      <th>127</th>\n      <td>Mobell F209 4G</td>\n      <td>620000</td>\n      <td>None</td>\n      <td>None</td>\n      <td>20</td>\n      <td>https://www.thegioididong.com/dtdd/mobell-f209</td>\n      <td>10</td>\n      <td>None</td>\n      <td>Mobile Phone</td>\n    </tr>\n    <tr>\n      <th>128</th>\n      <td>Mobell M239 4G</td>\n      <td>390000</td>\n      <td>500.000₫</td>\n      <td>-22%</td>\n      <td>114</td>\n      <td>https://www.thegioididong.com/dtdd/mobell-m239</td>\n      <td>10</td>\n      <td>None</td>\n      <td>Mobile Phone</td>\n    </tr>\n  </tbody>\n</table>\n<p>129 rows × 9 columns</p>\n</div>\n      <button class=\"colab-df-convert\" onclick=\"convertToInteractive('df-487b4f52-c82a-4e6c-98ab-67275d54700e')\"\n              title=\"Convert this dataframe to an interactive table.\"\n              style=\"display:none;\">\n        \n  <svg xmlns=\"http://www.w3.org/2000/svg\" height=\"24px\"viewBox=\"0 0 24 24\"\n       width=\"24px\">\n    <path d=\"M0 0h24v24H0V0z\" fill=\"none\"/>\n    <path d=\"M18.56 5.44l.94 2.06.94-2.06 2.06-.94-2.06-.94-.94-2.06-.94 2.06-2.06.94zm-11 1L8.5 8.5l.94-2.06 2.06-.94-2.06-.94L8.5 2.5l-.94 2.06-2.06.94zm10 10l.94 2.06.94-2.06 2.06-.94-2.06-.94-.94-2.06-.94 2.06-2.06.94z\"/><path d=\"M17.41 7.96l-1.37-1.37c-.4-.4-.92-.59-1.43-.59-.52 0-1.04.2-1.43.59L10.3 9.45l-7.72 7.72c-.78.78-.78 2.05 0 2.83L4 21.41c.39.39.9.59 1.41.59.51 0 1.02-.2 1.41-.59l7.78-7.78 2.81-2.81c.8-.78.8-2.07 0-2.86zM5.41 20L4 18.59l7.72-7.72 1.47 1.35L5.41 20z\"/>\n  </svg>\n      </button>\n      \n  <style>\n    .colab-df-container {\n      display:flex;\n      flex-wrap:wrap;\n      gap: 12px;\n    }\n\n    .colab-df-convert {\n      background-color: #E8F0FE;\n      border: none;\n      border-radius: 50%;\n      cursor: pointer;\n      display: none;\n      fill: #1967D2;\n      height: 32px;\n      padding: 0 0 0 0;\n      width: 32px;\n    }\n\n    .colab-df-convert:hover {\n      background-color: #E2EBFA;\n      box-shadow: 0px 1px 2px rgba(60, 64, 67, 0.3), 0px 1px 3px 1px rgba(60, 64, 67, 0.15);\n      fill: #174EA6;\n    }\n\n    [theme=dark] .colab-df-convert {\n      background-color: #3B4455;\n      fill: #D2E3FC;\n    }\n\n    [theme=dark] .colab-df-convert:hover {\n      background-color: #434B5C;\n      box-shadow: 0px 1px 3px 1px rgba(0, 0, 0, 0.15);\n      filter: drop-shadow(0px 1px 2px rgba(0, 0, 0, 0.3));\n      fill: #FFFFFF;\n    }\n  </style>\n\n      <script>\n        const buttonEl =\n          document.querySelector('#df-487b4f52-c82a-4e6c-98ab-67275d54700e button.colab-df-convert');\n        buttonEl.style.display =\n          google.colab.kernel.accessAllowed ? 'block' : 'none';\n\n        async function convertToInteractive(key) {\n          const element = document.querySelector('#df-487b4f52-c82a-4e6c-98ab-67275d54700e');\n          const dataTable =\n            await google.colab.kernel.invokeFunction('convertToInteractive',\n                                                     [key], {});\n          if (!dataTable) return;\n\n          const docLinkHtml = 'Like what you see? Visit the ' +\n            '<a target=\"_blank\" href=https://colab.research.google.com/notebooks/data_table.ipynb>data table notebook</a>'\n            + ' to learn more about interactive tables.';\n          element.innerHTML = '';\n          dataTable['output_type'] = 'display_data';\n          await google.colab.output.renderOutput(dataTable, element);\n          const docLink = document.createElement('div');\n          docLink.innerHTML = docLinkHtml;\n          element.appendChild(docLink);\n        }\n      </script>\n    </div>\n  </div>\n  "
                    },
                    "metadata": {}
                }
            ],
            "execution_count": null
        },
        {
            "cell_type": "markdown",
            "source": [
                "### **`price`**\n",
                "* same as `current_price`\n",
                "* but `price` have value `NaN`\n",
                "  + if null: `price` will = `current_price`\n",
                "  + if not null: will transform"
            ],
            "metadata": {
                "id": "E1nghXiF25jj",
                "azdata_cell_guid": "1c39fe75-593b-4aed-891c-42193ebc2487"
            }
        },
        {
            "cell_type": "code",
            "source": [
                "product = product.withColumn(\n",
                "    'price', when(product.price.isNull(), product.current_price) \\\n",
                "    .otherwise(regexp_replace(product.price, r'[^\\d+]', '')).cast('integer')\n",
                ")\n",
                "\n",
                "product.toPandas()"
            ],
            "metadata": {
                "colab": {
                    "base_uri": "https://localhost:8080/",
                    "height": 424
                },
                "id": "0E5ogh0Z2_4A",
                "executionInfo": {
                    "status": "ok",
                    "timestamp": 1687798592122,
                    "user_tz": -420,
                    "elapsed": 1015,
                    "user": {
                        "displayName": "Cho Phan",
                        "userId": "15376299712231995454"
                    }
                },
                "outputId": "0a48c8a2-ffa1-41ab-9833-ef69df65c921",
                "azdata_cell_guid": "8d19d4f0-fcef-4ea3-8954-2b2cb2524369",
                "language": "python"
            },
            "outputs": [
                {
                    "output_type": "execute_result",
                    "execution_count": 26,
                    "data": {
                        "text/plain": "                product_name  current_price     price percent_discount rating  \\\n0    iPhone 14 Pro Max 128GB       27290000  29990000              -9%    313   \n1        iPhone 14 Pro 128GB       25490000  27990000              -8%    157   \n2            iPhone 14 128GB       19590000  21990000             -10%     95   \n3       iPhone 14 Plus 128GB       21990000  24990000             -12%     83   \n4      iPhone 14 Pro Max 1TB       42490000  43990000              -3%     36   \n..                       ...            ...       ...              ...    ...   \n124         Mobell Rock 4 4G         810000    810000             None     59   \n125           Mobell F309 4G         760000    760000             None     34   \n126           Mobell M539 4G         700000    700000             None     59   \n127           Mobell F209 4G         620000    620000             None     20   \n128           Mobell M239 4G         390000    500000             -22%    114   \n\n                                                  link brand_id  \\\n0    https://www.thegioididong.com/dtdd/iphone-14-p...       01   \n1     https://www.thegioididong.com/dtdd/iphone-14-pro       01   \n2         https://www.thegioididong.com/dtdd/iphone-14       01   \n3    https://www.thegioididong.com/dtdd/iphone-14-plus       01   \n4    https://www.thegioididong.com/dtdd/iphone-14-p...       01   \n..                                                 ...      ...   \n124   https://www.thegioididong.com/dtdd/mobell-rock-4       10   \n125     https://www.thegioididong.com/dtdd/mobell-f309       10   \n126     https://www.thegioididong.com/dtdd/mobell-m539       10   \n127     https://www.thegioididong.com/dtdd/mobell-f209       10   \n128     https://www.thegioididong.com/dtdd/mobell-m239       10   \n\n                             series        device  \n0    iPhone 14 (Plus, Pro, Pro Max)  Mobile Phone  \n1    iPhone 14 (Plus, Pro, Pro Max)  Mobile Phone  \n2    iPhone 14 (Plus, Pro, Pro Max)  Mobile Phone  \n3    iPhone 14 (Plus, Pro, Pro Max)  Mobile Phone  \n4    iPhone 14 (Plus, Pro, Pro Max)  Mobile Phone  \n..                              ...           ...  \n124                            None  Mobile Phone  \n125                            None  Mobile Phone  \n126                            None  Mobile Phone  \n127                            None  Mobile Phone  \n128                            None  Mobile Phone  \n\n[129 rows x 9 columns]",
                        "text/html": "\n  <div id=\"df-78ac029d-1575-40a8-8ecf-1b7a8e7df7bb\">\n    <div class=\"colab-df-container\">\n      <div>\n<style scoped>\n    .dataframe tbody tr th:only-of-type {\n        vertical-align: middle;\n    }\n\n    .dataframe tbody tr th {\n        vertical-align: top;\n    }\n\n    .dataframe thead th {\n        text-align: right;\n    }\n</style>\n<table border=\"1\" class=\"dataframe\">\n  <thead>\n    <tr style=\"text-align: right;\">\n      <th></th>\n      <th>product_name</th>\n      <th>current_price</th>\n      <th>price</th>\n      <th>percent_discount</th>\n      <th>rating</th>\n      <th>link</th>\n      <th>brand_id</th>\n      <th>series</th>\n      <th>device</th>\n    </tr>\n  </thead>\n  <tbody>\n    <tr>\n      <th>0</th>\n      <td>iPhone 14 Pro Max 128GB</td>\n      <td>27290000</td>\n      <td>29990000</td>\n      <td>-9%</td>\n      <td>313</td>\n      <td>https://www.thegioididong.com/dtdd/iphone-14-p...</td>\n      <td>01</td>\n      <td>iPhone 14 (Plus, Pro, Pro Max)</td>\n      <td>Mobile Phone</td>\n    </tr>\n    <tr>\n      <th>1</th>\n      <td>iPhone 14 Pro 128GB</td>\n      <td>25490000</td>\n      <td>27990000</td>\n      <td>-8%</td>\n      <td>157</td>\n      <td>https://www.thegioididong.com/dtdd/iphone-14-pro</td>\n      <td>01</td>\n      <td>iPhone 14 (Plus, Pro, Pro Max)</td>\n      <td>Mobile Phone</td>\n    </tr>\n    <tr>\n      <th>2</th>\n      <td>iPhone 14 128GB</td>\n      <td>19590000</td>\n      <td>21990000</td>\n      <td>-10%</td>\n      <td>95</td>\n      <td>https://www.thegioididong.com/dtdd/iphone-14</td>\n      <td>01</td>\n      <td>iPhone 14 (Plus, Pro, Pro Max)</td>\n      <td>Mobile Phone</td>\n    </tr>\n    <tr>\n      <th>3</th>\n      <td>iPhone 14 Plus 128GB</td>\n      <td>21990000</td>\n      <td>24990000</td>\n      <td>-12%</td>\n      <td>83</td>\n      <td>https://www.thegioididong.com/dtdd/iphone-14-plus</td>\n      <td>01</td>\n      <td>iPhone 14 (Plus, Pro, Pro Max)</td>\n      <td>Mobile Phone</td>\n    </tr>\n    <tr>\n      <th>4</th>\n      <td>iPhone 14 Pro Max 1TB</td>\n      <td>42490000</td>\n      <td>43990000</td>\n      <td>-3%</td>\n      <td>36</td>\n      <td>https://www.thegioididong.com/dtdd/iphone-14-p...</td>\n      <td>01</td>\n      <td>iPhone 14 (Plus, Pro, Pro Max)</td>\n      <td>Mobile Phone</td>\n    </tr>\n    <tr>\n      <th>...</th>\n      <td>...</td>\n      <td>...</td>\n      <td>...</td>\n      <td>...</td>\n      <td>...</td>\n      <td>...</td>\n      <td>...</td>\n      <td>...</td>\n      <td>...</td>\n    </tr>\n    <tr>\n      <th>124</th>\n      <td>Mobell Rock 4 4G</td>\n      <td>810000</td>\n      <td>810000</td>\n      <td>None</td>\n      <td>59</td>\n      <td>https://www.thegioididong.com/dtdd/mobell-rock-4</td>\n      <td>10</td>\n      <td>None</td>\n      <td>Mobile Phone</td>\n    </tr>\n    <tr>\n      <th>125</th>\n      <td>Mobell F309 4G</td>\n      <td>760000</td>\n      <td>760000</td>\n      <td>None</td>\n      <td>34</td>\n      <td>https://www.thegioididong.com/dtdd/mobell-f309</td>\n      <td>10</td>\n      <td>None</td>\n      <td>Mobile Phone</td>\n    </tr>\n    <tr>\n      <th>126</th>\n      <td>Mobell M539 4G</td>\n      <td>700000</td>\n      <td>700000</td>\n      <td>None</td>\n      <td>59</td>\n      <td>https://www.thegioididong.com/dtdd/mobell-m539</td>\n      <td>10</td>\n      <td>None</td>\n      <td>Mobile Phone</td>\n    </tr>\n    <tr>\n      <th>127</th>\n      <td>Mobell F209 4G</td>\n      <td>620000</td>\n      <td>620000</td>\n      <td>None</td>\n      <td>20</td>\n      <td>https://www.thegioididong.com/dtdd/mobell-f209</td>\n      <td>10</td>\n      <td>None</td>\n      <td>Mobile Phone</td>\n    </tr>\n    <tr>\n      <th>128</th>\n      <td>Mobell M239 4G</td>\n      <td>390000</td>\n      <td>500000</td>\n      <td>-22%</td>\n      <td>114</td>\n      <td>https://www.thegioididong.com/dtdd/mobell-m239</td>\n      <td>10</td>\n      <td>None</td>\n      <td>Mobile Phone</td>\n    </tr>\n  </tbody>\n</table>\n<p>129 rows × 9 columns</p>\n</div>\n      <button class=\"colab-df-convert\" onclick=\"convertToInteractive('df-78ac029d-1575-40a8-8ecf-1b7a8e7df7bb')\"\n              title=\"Convert this dataframe to an interactive table.\"\n              style=\"display:none;\">\n        \n  <svg xmlns=\"http://www.w3.org/2000/svg\" height=\"24px\"viewBox=\"0 0 24 24\"\n       width=\"24px\">\n    <path d=\"M0 0h24v24H0V0z\" fill=\"none\"/>\n    <path d=\"M18.56 5.44l.94 2.06.94-2.06 2.06-.94-2.06-.94-.94-2.06-.94 2.06-2.06.94zm-11 1L8.5 8.5l.94-2.06 2.06-.94-2.06-.94L8.5 2.5l-.94 2.06-2.06.94zm10 10l.94 2.06.94-2.06 2.06-.94-2.06-.94-.94-2.06-.94 2.06-2.06.94z\"/><path d=\"M17.41 7.96l-1.37-1.37c-.4-.4-.92-.59-1.43-.59-.52 0-1.04.2-1.43.59L10.3 9.45l-7.72 7.72c-.78.78-.78 2.05 0 2.83L4 21.41c.39.39.9.59 1.41.59.51 0 1.02-.2 1.41-.59l7.78-7.78 2.81-2.81c.8-.78.8-2.07 0-2.86zM5.41 20L4 18.59l7.72-7.72 1.47 1.35L5.41 20z\"/>\n  </svg>\n      </button>\n      \n  <style>\n    .colab-df-container {\n      display:flex;\n      flex-wrap:wrap;\n      gap: 12px;\n    }\n\n    .colab-df-convert {\n      background-color: #E8F0FE;\n      border: none;\n      border-radius: 50%;\n      cursor: pointer;\n      display: none;\n      fill: #1967D2;\n      height: 32px;\n      padding: 0 0 0 0;\n      width: 32px;\n    }\n\n    .colab-df-convert:hover {\n      background-color: #E2EBFA;\n      box-shadow: 0px 1px 2px rgba(60, 64, 67, 0.3), 0px 1px 3px 1px rgba(60, 64, 67, 0.15);\n      fill: #174EA6;\n    }\n\n    [theme=dark] .colab-df-convert {\n      background-color: #3B4455;\n      fill: #D2E3FC;\n    }\n\n    [theme=dark] .colab-df-convert:hover {\n      background-color: #434B5C;\n      box-shadow: 0px 1px 3px 1px rgba(0, 0, 0, 0.15);\n      filter: drop-shadow(0px 1px 2px rgba(0, 0, 0, 0.3));\n      fill: #FFFFFF;\n    }\n  </style>\n\n      <script>\n        const buttonEl =\n          document.querySelector('#df-78ac029d-1575-40a8-8ecf-1b7a8e7df7bb button.colab-df-convert');\n        buttonEl.style.display =\n          google.colab.kernel.accessAllowed ? 'block' : 'none';\n\n        async function convertToInteractive(key) {\n          const element = document.querySelector('#df-78ac029d-1575-40a8-8ecf-1b7a8e7df7bb');\n          const dataTable =\n            await google.colab.kernel.invokeFunction('convertToInteractive',\n                                                     [key], {});\n          if (!dataTable) return;\n\n          const docLinkHtml = 'Like what you see? Visit the ' +\n            '<a target=\"_blank\" href=https://colab.research.google.com/notebooks/data_table.ipynb>data table notebook</a>'\n            + ' to learn more about interactive tables.';\n          element.innerHTML = '';\n          dataTable['output_type'] = 'display_data';\n          await google.colab.output.renderOutput(dataTable, element);\n          const docLink = document.createElement('div');\n          docLink.innerHTML = docLinkHtml;\n          element.appendChild(docLink);\n        }\n      </script>\n    </div>\n  </div>\n  "
                    },
                    "metadata": {}
                }
            ],
            "execution_count": null
        },
        {
            "cell_type": "markdown",
            "source": [
                "### **`percent_discount`**\n",
                "* if `percent_discount` null: will = 0\n",
                "* else: will transfrom, get number `'\\d+'`"
            ],
            "metadata": {
                "id": "F6AMmbpx3rzW",
                "azdata_cell_guid": "84c8ff44-4ebb-47d4-9625-d6f75cce832b"
            }
        },
        {
            "cell_type": "code",
            "source": [
                "product = product.withColumn(\n",
                "    'percent_discount', when(product.percent_discount.isNull(), 0) \\\n",
                "    .otherwise(regexp_extract(product.percent_discount, '\\d+', 0)).cast('integer')\n",
                ")\n",
                "product.toPandas()"
            ],
            "metadata": {
                "colab": {
                    "base_uri": "https://localhost:8080/",
                    "height": 424
                },
                "id": "XA8dPiWoybgK",
                "executionInfo": {
                    "status": "ok",
                    "timestamp": 1687785790026,
                    "user_tz": -420,
                    "elapsed": 508,
                    "user": {
                        "displayName": "Cho Phan",
                        "userId": "15376299712231995454"
                    }
                },
                "outputId": "b9f02bf2-b052-4cfa-e7e5-d2fe3cce4cdb",
                "azdata_cell_guid": "8b78e991-8f3f-4fe5-be66-b2f23150d6b4",
                "language": "python"
            },
            "outputs": [
                {
                    "output_type": "execute_result",
                    "execution_count": 113,
                    "data": {
                        "text/plain": "                product_name  current_price     price  percent_discount  \\\n0    iPhone 14 Pro Max 128GB       27290000  29990000                 9   \n1        iPhone 14 Pro 128GB       25490000  27990000                 8   \n2            iPhone 14 128GB       19590000  21990000                10   \n3       iPhone 14 Plus 128GB       21990000  24990000                12   \n4      iPhone 14 Pro Max 1TB       42490000  43990000                 3   \n..                       ...            ...       ...               ...   \n124         Mobell Rock 4 4G         810000    810000                 0   \n125           Mobell F309 4G         760000    760000                 0   \n126           Mobell M539 4G         700000    700000                 0   \n127           Mobell F209 4G         620000    620000                 0   \n128           Mobell M239 4G         390000    500000                22   \n\n    rating                                               link brand_id  \\\n0      313  https://www.thegioididong.com/dtdd/iphone-14-p...       01   \n1      157   https://www.thegioididong.com/dtdd/iphone-14-pro       01   \n2       95       https://www.thegioididong.com/dtdd/iphone-14       01   \n3       83  https://www.thegioididong.com/dtdd/iphone-14-plus       01   \n4       36  https://www.thegioididong.com/dtdd/iphone-14-p...       01   \n..     ...                                                ...      ...   \n124     59   https://www.thegioididong.com/dtdd/mobell-rock-4       10   \n125     34     https://www.thegioididong.com/dtdd/mobell-f309       10   \n126     59     https://www.thegioididong.com/dtdd/mobell-m539       10   \n127     20     https://www.thegioididong.com/dtdd/mobell-f209       10   \n128    114     https://www.thegioididong.com/dtdd/mobell-m239       10   \n\n                             series        device  \n0    iPhone 14 (Plus, Pro, Pro Max)  Mobile Phone  \n1    iPhone 14 (Plus, Pro, Pro Max)  Mobile Phone  \n2    iPhone 14 (Plus, Pro, Pro Max)  Mobile Phone  \n3    iPhone 14 (Plus, Pro, Pro Max)  Mobile Phone  \n4    iPhone 14 (Plus, Pro, Pro Max)  Mobile Phone  \n..                              ...           ...  \n124                            None  Mobile Phone  \n125                            None  Mobile Phone  \n126                            None  Mobile Phone  \n127                            None  Mobile Phone  \n128                            None  Mobile Phone  \n\n[129 rows x 9 columns]",
                        "text/html": "\n  <div id=\"df-b0c66086-599f-4f34-a411-b091835fc6a8\">\n    <div class=\"colab-df-container\">\n      <div>\n<style scoped>\n    .dataframe tbody tr th:only-of-type {\n        vertical-align: middle;\n    }\n\n    .dataframe tbody tr th {\n        vertical-align: top;\n    }\n\n    .dataframe thead th {\n        text-align: right;\n    }\n</style>\n<table border=\"1\" class=\"dataframe\">\n  <thead>\n    <tr style=\"text-align: right;\">\n      <th></th>\n      <th>product_name</th>\n      <th>current_price</th>\n      <th>price</th>\n      <th>percent_discount</th>\n      <th>rating</th>\n      <th>link</th>\n      <th>brand_id</th>\n      <th>series</th>\n      <th>device</th>\n    </tr>\n  </thead>\n  <tbody>\n    <tr>\n      <th>0</th>\n      <td>iPhone 14 Pro Max 128GB</td>\n      <td>27290000</td>\n      <td>29990000</td>\n      <td>9</td>\n      <td>313</td>\n      <td>https://www.thegioididong.com/dtdd/iphone-14-p...</td>\n      <td>01</td>\n      <td>iPhone 14 (Plus, Pro, Pro Max)</td>\n      <td>Mobile Phone</td>\n    </tr>\n    <tr>\n      <th>1</th>\n      <td>iPhone 14 Pro 128GB</td>\n      <td>25490000</td>\n      <td>27990000</td>\n      <td>8</td>\n      <td>157</td>\n      <td>https://www.thegioididong.com/dtdd/iphone-14-pro</td>\n      <td>01</td>\n      <td>iPhone 14 (Plus, Pro, Pro Max)</td>\n      <td>Mobile Phone</td>\n    </tr>\n    <tr>\n      <th>2</th>\n      <td>iPhone 14 128GB</td>\n      <td>19590000</td>\n      <td>21990000</td>\n      <td>10</td>\n      <td>95</td>\n      <td>https://www.thegioididong.com/dtdd/iphone-14</td>\n      <td>01</td>\n      <td>iPhone 14 (Plus, Pro, Pro Max)</td>\n      <td>Mobile Phone</td>\n    </tr>\n    <tr>\n      <th>3</th>\n      <td>iPhone 14 Plus 128GB</td>\n      <td>21990000</td>\n      <td>24990000</td>\n      <td>12</td>\n      <td>83</td>\n      <td>https://www.thegioididong.com/dtdd/iphone-14-plus</td>\n      <td>01</td>\n      <td>iPhone 14 (Plus, Pro, Pro Max)</td>\n      <td>Mobile Phone</td>\n    </tr>\n    <tr>\n      <th>4</th>\n      <td>iPhone 14 Pro Max 1TB</td>\n      <td>42490000</td>\n      <td>43990000</td>\n      <td>3</td>\n      <td>36</td>\n      <td>https://www.thegioididong.com/dtdd/iphone-14-p...</td>\n      <td>01</td>\n      <td>iPhone 14 (Plus, Pro, Pro Max)</td>\n      <td>Mobile Phone</td>\n    </tr>\n    <tr>\n      <th>...</th>\n      <td>...</td>\n      <td>...</td>\n      <td>...</td>\n      <td>...</td>\n      <td>...</td>\n      <td>...</td>\n      <td>...</td>\n      <td>...</td>\n      <td>...</td>\n    </tr>\n    <tr>\n      <th>124</th>\n      <td>Mobell Rock 4 4G</td>\n      <td>810000</td>\n      <td>810000</td>\n      <td>0</td>\n      <td>59</td>\n      <td>https://www.thegioididong.com/dtdd/mobell-rock-4</td>\n      <td>10</td>\n      <td>None</td>\n      <td>Mobile Phone</td>\n    </tr>\n    <tr>\n      <th>125</th>\n      <td>Mobell F309 4G</td>\n      <td>760000</td>\n      <td>760000</td>\n      <td>0</td>\n      <td>34</td>\n      <td>https://www.thegioididong.com/dtdd/mobell-f309</td>\n      <td>10</td>\n      <td>None</td>\n      <td>Mobile Phone</td>\n    </tr>\n    <tr>\n      <th>126</th>\n      <td>Mobell M539 4G</td>\n      <td>700000</td>\n      <td>700000</td>\n      <td>0</td>\n      <td>59</td>\n      <td>https://www.thegioididong.com/dtdd/mobell-m539</td>\n      <td>10</td>\n      <td>None</td>\n      <td>Mobile Phone</td>\n    </tr>\n    <tr>\n      <th>127</th>\n      <td>Mobell F209 4G</td>\n      <td>620000</td>\n      <td>620000</td>\n      <td>0</td>\n      <td>20</td>\n      <td>https://www.thegioididong.com/dtdd/mobell-f209</td>\n      <td>10</td>\n      <td>None</td>\n      <td>Mobile Phone</td>\n    </tr>\n    <tr>\n      <th>128</th>\n      <td>Mobell M239 4G</td>\n      <td>390000</td>\n      <td>500000</td>\n      <td>22</td>\n      <td>114</td>\n      <td>https://www.thegioididong.com/dtdd/mobell-m239</td>\n      <td>10</td>\n      <td>None</td>\n      <td>Mobile Phone</td>\n    </tr>\n  </tbody>\n</table>\n<p>129 rows × 9 columns</p>\n</div>\n      <button class=\"colab-df-convert\" onclick=\"convertToInteractive('df-b0c66086-599f-4f34-a411-b091835fc6a8')\"\n              title=\"Convert this dataframe to an interactive table.\"\n              style=\"display:none;\">\n        \n  <svg xmlns=\"http://www.w3.org/2000/svg\" height=\"24px\"viewBox=\"0 0 24 24\"\n       width=\"24px\">\n    <path d=\"M0 0h24v24H0V0z\" fill=\"none\"/>\n    <path d=\"M18.56 5.44l.94 2.06.94-2.06 2.06-.94-2.06-.94-.94-2.06-.94 2.06-2.06.94zm-11 1L8.5 8.5l.94-2.06 2.06-.94-2.06-.94L8.5 2.5l-.94 2.06-2.06.94zm10 10l.94 2.06.94-2.06 2.06-.94-2.06-.94-.94-2.06-.94 2.06-2.06.94z\"/><path d=\"M17.41 7.96l-1.37-1.37c-.4-.4-.92-.59-1.43-.59-.52 0-1.04.2-1.43.59L10.3 9.45l-7.72 7.72c-.78.78-.78 2.05 0 2.83L4 21.41c.39.39.9.59 1.41.59.51 0 1.02-.2 1.41-.59l7.78-7.78 2.81-2.81c.8-.78.8-2.07 0-2.86zM5.41 20L4 18.59l7.72-7.72 1.47 1.35L5.41 20z\"/>\n  </svg>\n      </button>\n      \n  <style>\n    .colab-df-container {\n      display:flex;\n      flex-wrap:wrap;\n      gap: 12px;\n    }\n\n    .colab-df-convert {\n      background-color: #E8F0FE;\n      border: none;\n      border-radius: 50%;\n      cursor: pointer;\n      display: none;\n      fill: #1967D2;\n      height: 32px;\n      padding: 0 0 0 0;\n      width: 32px;\n    }\n\n    .colab-df-convert:hover {\n      background-color: #E2EBFA;\n      box-shadow: 0px 1px 2px rgba(60, 64, 67, 0.3), 0px 1px 3px 1px rgba(60, 64, 67, 0.15);\n      fill: #174EA6;\n    }\n\n    [theme=dark] .colab-df-convert {\n      background-color: #3B4455;\n      fill: #D2E3FC;\n    }\n\n    [theme=dark] .colab-df-convert:hover {\n      background-color: #434B5C;\n      box-shadow: 0px 1px 3px 1px rgba(0, 0, 0, 0.15);\n      filter: drop-shadow(0px 1px 2px rgba(0, 0, 0, 0.3));\n      fill: #FFFFFF;\n    }\n  </style>\n\n      <script>\n        const buttonEl =\n          document.querySelector('#df-b0c66086-599f-4f34-a411-b091835fc6a8 button.colab-df-convert');\n        buttonEl.style.display =\n          google.colab.kernel.accessAllowed ? 'block' : 'none';\n\n        async function convertToInteractive(key) {\n          const element = document.querySelector('#df-b0c66086-599f-4f34-a411-b091835fc6a8');\n          const dataTable =\n            await google.colab.kernel.invokeFunction('convertToInteractive',\n                                                     [key], {});\n          if (!dataTable) return;\n\n          const docLinkHtml = 'Like what you see? Visit the ' +\n            '<a target=\"_blank\" href=https://colab.research.google.com/notebooks/data_table.ipynb>data table notebook</a>'\n            + ' to learn more about interactive tables.';\n          element.innerHTML = '';\n          dataTable['output_type'] = 'display_data';\n          await google.colab.output.renderOutput(dataTable, element);\n          const docLink = document.createElement('div');\n          docLink.innerHTML = docLinkHtml;\n          element.appendChild(docLink);\n        }\n      </script>\n    </div>\n  </div>\n  "
                    },
                    "metadata": {}
                }
            ],
            "execution_count": null
        },
        {
            "cell_type": "markdown",
            "source": [
                "### **`rating`**\n",
                "* if null: fill 0\n",
                "* else: not change"
            ],
            "metadata": {
                "id": "asygb-Oj-mzU",
                "azdata_cell_guid": "89d35f58-0c3c-48c8-875c-5dae6adca4c1"
            }
        },
        {
            "cell_type": "code",
            "source": [
                "product = product.withColumn(\n",
                "    'rating', when(product.rating.isNull(), 0) \\\n",
                "    .otherwise(product.rating).cast('integer')\n",
                ")\n",
                "product.toPandas()"
            ],
            "metadata": {
                "colab": {
                    "base_uri": "https://localhost:8080/",
                    "height": 424
                },
                "id": "X1Sn2Y7oybn9",
                "executionInfo": {
                    "status": "ok",
                    "timestamp": 1687785798300,
                    "user_tz": -420,
                    "elapsed": 487,
                    "user": {
                        "displayName": "Cho Phan",
                        "userId": "15376299712231995454"
                    }
                },
                "outputId": "0940b4e7-f8da-4920-cf4c-2d754ca97343",
                "azdata_cell_guid": "832494f2-ba49-4eb2-b953-5968a8d8285c",
                "language": "python"
            },
            "outputs": [
                {
                    "output_type": "execute_result",
                    "execution_count": 114,
                    "data": {
                        "text/plain": "                product_name  current_price     price  percent_discount  \\\n0    iPhone 14 Pro Max 128GB       27290000  29990000                 9   \n1        iPhone 14 Pro 128GB       25490000  27990000                 8   \n2            iPhone 14 128GB       19590000  21990000                10   \n3       iPhone 14 Plus 128GB       21990000  24990000                12   \n4      iPhone 14 Pro Max 1TB       42490000  43990000                 3   \n..                       ...            ...       ...               ...   \n124         Mobell Rock 4 4G         810000    810000                 0   \n125           Mobell F309 4G         760000    760000                 0   \n126           Mobell M539 4G         700000    700000                 0   \n127           Mobell F209 4G         620000    620000                 0   \n128           Mobell M239 4G         390000    500000                22   \n\n     rating                                               link brand_id  \\\n0       313  https://www.thegioididong.com/dtdd/iphone-14-p...       01   \n1       157   https://www.thegioididong.com/dtdd/iphone-14-pro       01   \n2        95       https://www.thegioididong.com/dtdd/iphone-14       01   \n3        83  https://www.thegioididong.com/dtdd/iphone-14-plus       01   \n4        36  https://www.thegioididong.com/dtdd/iphone-14-p...       01   \n..      ...                                                ...      ...   \n124      59   https://www.thegioididong.com/dtdd/mobell-rock-4       10   \n125      34     https://www.thegioididong.com/dtdd/mobell-f309       10   \n126      59     https://www.thegioididong.com/dtdd/mobell-m539       10   \n127      20     https://www.thegioididong.com/dtdd/mobell-f209       10   \n128     114     https://www.thegioididong.com/dtdd/mobell-m239       10   \n\n                             series        device  \n0    iPhone 14 (Plus, Pro, Pro Max)  Mobile Phone  \n1    iPhone 14 (Plus, Pro, Pro Max)  Mobile Phone  \n2    iPhone 14 (Plus, Pro, Pro Max)  Mobile Phone  \n3    iPhone 14 (Plus, Pro, Pro Max)  Mobile Phone  \n4    iPhone 14 (Plus, Pro, Pro Max)  Mobile Phone  \n..                              ...           ...  \n124                            None  Mobile Phone  \n125                            None  Mobile Phone  \n126                            None  Mobile Phone  \n127                            None  Mobile Phone  \n128                            None  Mobile Phone  \n\n[129 rows x 9 columns]",
                        "text/html": "\n  <div id=\"df-1b27f476-0ede-4d8d-abd0-def9addd255a\">\n    <div class=\"colab-df-container\">\n      <div>\n<style scoped>\n    .dataframe tbody tr th:only-of-type {\n        vertical-align: middle;\n    }\n\n    .dataframe tbody tr th {\n        vertical-align: top;\n    }\n\n    .dataframe thead th {\n        text-align: right;\n    }\n</style>\n<table border=\"1\" class=\"dataframe\">\n  <thead>\n    <tr style=\"text-align: right;\">\n      <th></th>\n      <th>product_name</th>\n      <th>current_price</th>\n      <th>price</th>\n      <th>percent_discount</th>\n      <th>rating</th>\n      <th>link</th>\n      <th>brand_id</th>\n      <th>series</th>\n      <th>device</th>\n    </tr>\n  </thead>\n  <tbody>\n    <tr>\n      <th>0</th>\n      <td>iPhone 14 Pro Max 128GB</td>\n      <td>27290000</td>\n      <td>29990000</td>\n      <td>9</td>\n      <td>313</td>\n      <td>https://www.thegioididong.com/dtdd/iphone-14-p...</td>\n      <td>01</td>\n      <td>iPhone 14 (Plus, Pro, Pro Max)</td>\n      <td>Mobile Phone</td>\n    </tr>\n    <tr>\n      <th>1</th>\n      <td>iPhone 14 Pro 128GB</td>\n      <td>25490000</td>\n      <td>27990000</td>\n      <td>8</td>\n      <td>157</td>\n      <td>https://www.thegioididong.com/dtdd/iphone-14-pro</td>\n      <td>01</td>\n      <td>iPhone 14 (Plus, Pro, Pro Max)</td>\n      <td>Mobile Phone</td>\n    </tr>\n    <tr>\n      <th>2</th>\n      <td>iPhone 14 128GB</td>\n      <td>19590000</td>\n      <td>21990000</td>\n      <td>10</td>\n      <td>95</td>\n      <td>https://www.thegioididong.com/dtdd/iphone-14</td>\n      <td>01</td>\n      <td>iPhone 14 (Plus, Pro, Pro Max)</td>\n      <td>Mobile Phone</td>\n    </tr>\n    <tr>\n      <th>3</th>\n      <td>iPhone 14 Plus 128GB</td>\n      <td>21990000</td>\n      <td>24990000</td>\n      <td>12</td>\n      <td>83</td>\n      <td>https://www.thegioididong.com/dtdd/iphone-14-plus</td>\n      <td>01</td>\n      <td>iPhone 14 (Plus, Pro, Pro Max)</td>\n      <td>Mobile Phone</td>\n    </tr>\n    <tr>\n      <th>4</th>\n      <td>iPhone 14 Pro Max 1TB</td>\n      <td>42490000</td>\n      <td>43990000</td>\n      <td>3</td>\n      <td>36</td>\n      <td>https://www.thegioididong.com/dtdd/iphone-14-p...</td>\n      <td>01</td>\n      <td>iPhone 14 (Plus, Pro, Pro Max)</td>\n      <td>Mobile Phone</td>\n    </tr>\n    <tr>\n      <th>...</th>\n      <td>...</td>\n      <td>...</td>\n      <td>...</td>\n      <td>...</td>\n      <td>...</td>\n      <td>...</td>\n      <td>...</td>\n      <td>...</td>\n      <td>...</td>\n    </tr>\n    <tr>\n      <th>124</th>\n      <td>Mobell Rock 4 4G</td>\n      <td>810000</td>\n      <td>810000</td>\n      <td>0</td>\n      <td>59</td>\n      <td>https://www.thegioididong.com/dtdd/mobell-rock-4</td>\n      <td>10</td>\n      <td>None</td>\n      <td>Mobile Phone</td>\n    </tr>\n    <tr>\n      <th>125</th>\n      <td>Mobell F309 4G</td>\n      <td>760000</td>\n      <td>760000</td>\n      <td>0</td>\n      <td>34</td>\n      <td>https://www.thegioididong.com/dtdd/mobell-f309</td>\n      <td>10</td>\n      <td>None</td>\n      <td>Mobile Phone</td>\n    </tr>\n    <tr>\n      <th>126</th>\n      <td>Mobell M539 4G</td>\n      <td>700000</td>\n      <td>700000</td>\n      <td>0</td>\n      <td>59</td>\n      <td>https://www.thegioididong.com/dtdd/mobell-m539</td>\n      <td>10</td>\n      <td>None</td>\n      <td>Mobile Phone</td>\n    </tr>\n    <tr>\n      <th>127</th>\n      <td>Mobell F209 4G</td>\n      <td>620000</td>\n      <td>620000</td>\n      <td>0</td>\n      <td>20</td>\n      <td>https://www.thegioididong.com/dtdd/mobell-f209</td>\n      <td>10</td>\n      <td>None</td>\n      <td>Mobile Phone</td>\n    </tr>\n    <tr>\n      <th>128</th>\n      <td>Mobell M239 4G</td>\n      <td>390000</td>\n      <td>500000</td>\n      <td>22</td>\n      <td>114</td>\n      <td>https://www.thegioididong.com/dtdd/mobell-m239</td>\n      <td>10</td>\n      <td>None</td>\n      <td>Mobile Phone</td>\n    </tr>\n  </tbody>\n</table>\n<p>129 rows × 9 columns</p>\n</div>\n      <button class=\"colab-df-convert\" onclick=\"convertToInteractive('df-1b27f476-0ede-4d8d-abd0-def9addd255a')\"\n              title=\"Convert this dataframe to an interactive table.\"\n              style=\"display:none;\">\n        \n  <svg xmlns=\"http://www.w3.org/2000/svg\" height=\"24px\"viewBox=\"0 0 24 24\"\n       width=\"24px\">\n    <path d=\"M0 0h24v24H0V0z\" fill=\"none\"/>\n    <path d=\"M18.56 5.44l.94 2.06.94-2.06 2.06-.94-2.06-.94-.94-2.06-.94 2.06-2.06.94zm-11 1L8.5 8.5l.94-2.06 2.06-.94-2.06-.94L8.5 2.5l-.94 2.06-2.06.94zm10 10l.94 2.06.94-2.06 2.06-.94-2.06-.94-.94-2.06-.94 2.06-2.06.94z\"/><path d=\"M17.41 7.96l-1.37-1.37c-.4-.4-.92-.59-1.43-.59-.52 0-1.04.2-1.43.59L10.3 9.45l-7.72 7.72c-.78.78-.78 2.05 0 2.83L4 21.41c.39.39.9.59 1.41.59.51 0 1.02-.2 1.41-.59l7.78-7.78 2.81-2.81c.8-.78.8-2.07 0-2.86zM5.41 20L4 18.59l7.72-7.72 1.47 1.35L5.41 20z\"/>\n  </svg>\n      </button>\n      \n  <style>\n    .colab-df-container {\n      display:flex;\n      flex-wrap:wrap;\n      gap: 12px;\n    }\n\n    .colab-df-convert {\n      background-color: #E8F0FE;\n      border: none;\n      border-radius: 50%;\n      cursor: pointer;\n      display: none;\n      fill: #1967D2;\n      height: 32px;\n      padding: 0 0 0 0;\n      width: 32px;\n    }\n\n    .colab-df-convert:hover {\n      background-color: #E2EBFA;\n      box-shadow: 0px 1px 2px rgba(60, 64, 67, 0.3), 0px 1px 3px 1px rgba(60, 64, 67, 0.15);\n      fill: #174EA6;\n    }\n\n    [theme=dark] .colab-df-convert {\n      background-color: #3B4455;\n      fill: #D2E3FC;\n    }\n\n    [theme=dark] .colab-df-convert:hover {\n      background-color: #434B5C;\n      box-shadow: 0px 1px 3px 1px rgba(0, 0, 0, 0.15);\n      filter: drop-shadow(0px 1px 2px rgba(0, 0, 0, 0.3));\n      fill: #FFFFFF;\n    }\n  </style>\n\n      <script>\n        const buttonEl =\n          document.querySelector('#df-1b27f476-0ede-4d8d-abd0-def9addd255a button.colab-df-convert');\n        buttonEl.style.display =\n          google.colab.kernel.accessAllowed ? 'block' : 'none';\n\n        async function convertToInteractive(key) {\n          const element = document.querySelector('#df-1b27f476-0ede-4d8d-abd0-def9addd255a');\n          const dataTable =\n            await google.colab.kernel.invokeFunction('convertToInteractive',\n                                                     [key], {});\n          if (!dataTable) return;\n\n          const docLinkHtml = 'Like what you see? Visit the ' +\n            '<a target=\"_blank\" href=https://colab.research.google.com/notebooks/data_table.ipynb>data table notebook</a>'\n            + ' to learn more about interactive tables.';\n          element.innerHTML = '';\n          dataTable['output_type'] = 'display_data';\n          await google.colab.output.renderOutput(dataTable, element);\n          const docLink = document.createElement('div');\n          docLink.innerHTML = docLinkHtml;\n          element.appendChild(docLink);\n        }\n      </script>\n    </div>\n  </div>\n  "
                    },
                    "metadata": {}
                }
            ],
            "execution_count": null
        },
        {
            "cell_type": "code",
            "source": [
                "product.printSchema()"
            ],
            "metadata": {
                "colab": {
                    "base_uri": "https://localhost:8080/"
                },
                "id": "A173n6dZWPpc",
                "executionInfo": {
                    "status": "ok",
                    "timestamp": 1687785809414,
                    "user_tz": -420,
                    "elapsed": 513,
                    "user": {
                        "displayName": "Cho Phan",
                        "userId": "15376299712231995454"
                    }
                },
                "outputId": "6e693aa8-3a34-4919-fe9f-fbe3ea8ad89d",
                "azdata_cell_guid": "fdf36fa7-73ed-4eb8-be2a-ac0e56ec3529",
                "language": "python"
            },
            "outputs": [
                {
                    "output_type": "stream",
                    "name": "stdout",
                    "text": "root\n |-- product_name: string (nullable = true)\n |-- current_price: integer (nullable = true)\n |-- price: integer (nullable = true)\n |-- percent_discount: integer (nullable = true)\n |-- rating: integer (nullable = true)\n |-- link: string (nullable = true)\n |-- brand_id: string (nullable = true)\n |-- series: string (nullable = true)\n |-- device: string (nullable = true)\n\n"
                }
            ],
            "execution_count": null
        },
        {
            "cell_type": "code",
            "source": [
                "product = product.select('product_name', 'current_price', 'price', 'percent_discount', 'rating', 'series', 'link', 'device', 'brand_name')\n",
                "product.toPandas()"
            ],
            "metadata": {
                "colab": {
                    "base_uri": "https://localhost:8080/",
                    "height": 424
                },
                "id": "rntjogN6FQMj",
                "executionInfo": {
                    "status": "ok",
                    "timestamp": 1687785998765,
                    "user_tz": -420,
                    "elapsed": 453,
                    "user": {
                        "displayName": "Cho Phan",
                        "userId": "15376299712231995454"
                    }
                },
                "outputId": "60e053cf-a221-4ba4-d8af-6cf0011b75d3",
                "azdata_cell_guid": "d5198dc0-7475-46d6-b3f3-caad24d44917",
                "language": "python"
            },
            "outputs": [
                {
                    "output_type": "execute_result",
                    "execution_count": 117,
                    "data": {
                        "text/plain": "                product_name  current_price     price  percent_discount  \\\n0    iPhone 14 Pro Max 128GB       27290000  29990000                 9   \n1        iPhone 14 Pro 128GB       25490000  27990000                 8   \n2            iPhone 14 128GB       19590000  21990000                10   \n3       iPhone 14 Plus 128GB       21990000  24990000                12   \n4      iPhone 14 Pro Max 1TB       42490000  43990000                 3   \n..                       ...            ...       ...               ...   \n124         Mobell Rock 4 4G         810000    810000                 0   \n125           Mobell F309 4G         760000    760000                 0   \n126           Mobell M539 4G         700000    700000                 0   \n127           Mobell F209 4G         620000    620000                 0   \n128           Mobell M239 4G         390000    500000                22   \n\n     rating                          series  \\\n0       313  iPhone 14 (Plus, Pro, Pro Max)   \n1       157  iPhone 14 (Plus, Pro, Pro Max)   \n2        95  iPhone 14 (Plus, Pro, Pro Max)   \n3        83  iPhone 14 (Plus, Pro, Pro Max)   \n4        36  iPhone 14 (Plus, Pro, Pro Max)   \n..      ...                             ...   \n124      59                            None   \n125      34                            None   \n126      59                            None   \n127      20                            None   \n128     114                            None   \n\n                                                  link        device  \\\n0    https://www.thegioididong.com/dtdd/iphone-14-p...  Mobile Phone   \n1     https://www.thegioididong.com/dtdd/iphone-14-pro  Mobile Phone   \n2         https://www.thegioididong.com/dtdd/iphone-14  Mobile Phone   \n3    https://www.thegioididong.com/dtdd/iphone-14-plus  Mobile Phone   \n4    https://www.thegioididong.com/dtdd/iphone-14-p...  Mobile Phone   \n..                                                 ...           ...   \n124   https://www.thegioididong.com/dtdd/mobell-rock-4  Mobile Phone   \n125     https://www.thegioididong.com/dtdd/mobell-f309  Mobile Phone   \n126     https://www.thegioididong.com/dtdd/mobell-m539  Mobile Phone   \n127     https://www.thegioididong.com/dtdd/mobell-f209  Mobile Phone   \n128     https://www.thegioididong.com/dtdd/mobell-m239  Mobile Phone   \n\n    brand_name  \n0        Apple  \n1        Apple  \n2        Apple  \n3        Apple  \n4        Apple  \n..         ...  \n124     Mobell  \n125     Mobell  \n126     Mobell  \n127     Mobell  \n128     Mobell  \n\n[129 rows x 9 columns]",
                        "text/html": "\n  <div id=\"df-dc84ae55-b9b6-4644-9590-69c027a06306\">\n    <div class=\"colab-df-container\">\n      <div>\n<style scoped>\n    .dataframe tbody tr th:only-of-type {\n        vertical-align: middle;\n    }\n\n    .dataframe tbody tr th {\n        vertical-align: top;\n    }\n\n    .dataframe thead th {\n        text-align: right;\n    }\n</style>\n<table border=\"1\" class=\"dataframe\">\n  <thead>\n    <tr style=\"text-align: right;\">\n      <th></th>\n      <th>product_name</th>\n      <th>current_price</th>\n      <th>price</th>\n      <th>percent_discount</th>\n      <th>rating</th>\n      <th>series</th>\n      <th>link</th>\n      <th>device</th>\n      <th>brand_name</th>\n    </tr>\n  </thead>\n  <tbody>\n    <tr>\n      <th>0</th>\n      <td>iPhone 14 Pro Max 128GB</td>\n      <td>27290000</td>\n      <td>29990000</td>\n      <td>9</td>\n      <td>313</td>\n      <td>iPhone 14 (Plus, Pro, Pro Max)</td>\n      <td>https://www.thegioididong.com/dtdd/iphone-14-p...</td>\n      <td>Mobile Phone</td>\n      <td>Apple</td>\n    </tr>\n    <tr>\n      <th>1</th>\n      <td>iPhone 14 Pro 128GB</td>\n      <td>25490000</td>\n      <td>27990000</td>\n      <td>8</td>\n      <td>157</td>\n      <td>iPhone 14 (Plus, Pro, Pro Max)</td>\n      <td>https://www.thegioididong.com/dtdd/iphone-14-pro</td>\n      <td>Mobile Phone</td>\n      <td>Apple</td>\n    </tr>\n    <tr>\n      <th>2</th>\n      <td>iPhone 14 128GB</td>\n      <td>19590000</td>\n      <td>21990000</td>\n      <td>10</td>\n      <td>95</td>\n      <td>iPhone 14 (Plus, Pro, Pro Max)</td>\n      <td>https://www.thegioididong.com/dtdd/iphone-14</td>\n      <td>Mobile Phone</td>\n      <td>Apple</td>\n    </tr>\n    <tr>\n      <th>3</th>\n      <td>iPhone 14 Plus 128GB</td>\n      <td>21990000</td>\n      <td>24990000</td>\n      <td>12</td>\n      <td>83</td>\n      <td>iPhone 14 (Plus, Pro, Pro Max)</td>\n      <td>https://www.thegioididong.com/dtdd/iphone-14-plus</td>\n      <td>Mobile Phone</td>\n      <td>Apple</td>\n    </tr>\n    <tr>\n      <th>4</th>\n      <td>iPhone 14 Pro Max 1TB</td>\n      <td>42490000</td>\n      <td>43990000</td>\n      <td>3</td>\n      <td>36</td>\n      <td>iPhone 14 (Plus, Pro, Pro Max)</td>\n      <td>https://www.thegioididong.com/dtdd/iphone-14-p...</td>\n      <td>Mobile Phone</td>\n      <td>Apple</td>\n    </tr>\n    <tr>\n      <th>...</th>\n      <td>...</td>\n      <td>...</td>\n      <td>...</td>\n      <td>...</td>\n      <td>...</td>\n      <td>...</td>\n      <td>...</td>\n      <td>...</td>\n      <td>...</td>\n    </tr>\n    <tr>\n      <th>124</th>\n      <td>Mobell Rock 4 4G</td>\n      <td>810000</td>\n      <td>810000</td>\n      <td>0</td>\n      <td>59</td>\n      <td>None</td>\n      <td>https://www.thegioididong.com/dtdd/mobell-rock-4</td>\n      <td>Mobile Phone</td>\n      <td>Mobell</td>\n    </tr>\n    <tr>\n      <th>125</th>\n      <td>Mobell F309 4G</td>\n      <td>760000</td>\n      <td>760000</td>\n      <td>0</td>\n      <td>34</td>\n      <td>None</td>\n      <td>https://www.thegioididong.com/dtdd/mobell-f309</td>\n      <td>Mobile Phone</td>\n      <td>Mobell</td>\n    </tr>\n    <tr>\n      <th>126</th>\n      <td>Mobell M539 4G</td>\n      <td>700000</td>\n      <td>700000</td>\n      <td>0</td>\n      <td>59</td>\n      <td>None</td>\n      <td>https://www.thegioididong.com/dtdd/mobell-m539</td>\n      <td>Mobile Phone</td>\n      <td>Mobell</td>\n    </tr>\n    <tr>\n      <th>127</th>\n      <td>Mobell F209 4G</td>\n      <td>620000</td>\n      <td>620000</td>\n      <td>0</td>\n      <td>20</td>\n      <td>None</td>\n      <td>https://www.thegioididong.com/dtdd/mobell-f209</td>\n      <td>Mobile Phone</td>\n      <td>Mobell</td>\n    </tr>\n    <tr>\n      <th>128</th>\n      <td>Mobell M239 4G</td>\n      <td>390000</td>\n      <td>500000</td>\n      <td>22</td>\n      <td>114</td>\n      <td>None</td>\n      <td>https://www.thegioididong.com/dtdd/mobell-m239</td>\n      <td>Mobile Phone</td>\n      <td>Mobell</td>\n    </tr>\n  </tbody>\n</table>\n<p>129 rows × 9 columns</p>\n</div>\n      <button class=\"colab-df-convert\" onclick=\"convertToInteractive('df-dc84ae55-b9b6-4644-9590-69c027a06306')\"\n              title=\"Convert this dataframe to an interactive table.\"\n              style=\"display:none;\">\n        \n  <svg xmlns=\"http://www.w3.org/2000/svg\" height=\"24px\"viewBox=\"0 0 24 24\"\n       width=\"24px\">\n    <path d=\"M0 0h24v24H0V0z\" fill=\"none\"/>\n    <path d=\"M18.56 5.44l.94 2.06.94-2.06 2.06-.94-2.06-.94-.94-2.06-.94 2.06-2.06.94zm-11 1L8.5 8.5l.94-2.06 2.06-.94-2.06-.94L8.5 2.5l-.94 2.06-2.06.94zm10 10l.94 2.06.94-2.06 2.06-.94-2.06-.94-.94-2.06-.94 2.06-2.06.94z\"/><path d=\"M17.41 7.96l-1.37-1.37c-.4-.4-.92-.59-1.43-.59-.52 0-1.04.2-1.43.59L10.3 9.45l-7.72 7.72c-.78.78-.78 2.05 0 2.83L4 21.41c.39.39.9.59 1.41.59.51 0 1.02-.2 1.41-.59l7.78-7.78 2.81-2.81c.8-.78.8-2.07 0-2.86zM5.41 20L4 18.59l7.72-7.72 1.47 1.35L5.41 20z\"/>\n  </svg>\n      </button>\n      \n  <style>\n    .colab-df-container {\n      display:flex;\n      flex-wrap:wrap;\n      gap: 12px;\n    }\n\n    .colab-df-convert {\n      background-color: #E8F0FE;\n      border: none;\n      border-radius: 50%;\n      cursor: pointer;\n      display: none;\n      fill: #1967D2;\n      height: 32px;\n      padding: 0 0 0 0;\n      width: 32px;\n    }\n\n    .colab-df-convert:hover {\n      background-color: #E2EBFA;\n      box-shadow: 0px 1px 2px rgba(60, 64, 67, 0.3), 0px 1px 3px 1px rgba(60, 64, 67, 0.15);\n      fill: #174EA6;\n    }\n\n    [theme=dark] .colab-df-convert {\n      background-color: #3B4455;\n      fill: #D2E3FC;\n    }\n\n    [theme=dark] .colab-df-convert:hover {\n      background-color: #434B5C;\n      box-shadow: 0px 1px 3px 1px rgba(0, 0, 0, 0.15);\n      filter: drop-shadow(0px 1px 2px rgba(0, 0, 0, 0.3));\n      fill: #FFFFFF;\n    }\n  </style>\n\n      <script>\n        const buttonEl =\n          document.querySelector('#df-dc84ae55-b9b6-4644-9590-69c027a06306 button.colab-df-convert');\n        buttonEl.style.display =\n          google.colab.kernel.accessAllowed ? 'block' : 'none';\n\n        async function convertToInteractive(key) {\n          const element = document.querySelector('#df-dc84ae55-b9b6-4644-9590-69c027a06306');\n          const dataTable =\n            await google.colab.kernel.invokeFunction('convertToInteractive',\n                                                     [key], {});\n          if (!dataTable) return;\n\n          const docLinkHtml = 'Like what you see? Visit the ' +\n            '<a target=\"_blank\" href=https://colab.research.google.com/notebooks/data_table.ipynb>data table notebook</a>'\n            + ' to learn more about interactive tables.';\n          element.innerHTML = '';\n          dataTable['output_type'] = 'display_data';\n          await google.colab.output.renderOutput(dataTable, element);\n          const docLink = document.createElement('div');\n          docLink.innerHTML = docLinkHtml;\n          element.appendChild(docLink);\n        }\n      </script>\n    </div>\n  </div>\n  "
                    },
                    "metadata": {}
                }
            ],
            "execution_count": null
        },
        {
            "cell_type": "markdown",
            "source": [
                "# **Transform Multi Data**"
            ],
            "metadata": {
                "id": "MMxQkdYiYyXQ",
                "azdata_cell_guid": "a394d1f2-5b7b-411b-8ae9-192e1f5b54dc"
            }
        },
        {
            "cell_type": "markdown",
            "source": [
                "## **Write Function Transform Brand Multi Data**"
            ],
            "metadata": {
                "id": "eqVk-X3e0pjJ",
                "azdata_cell_guid": "a8c9652e-b664-4619-8d0b-2238de26553a"
            }
        },
        {
            "cell_type": "code",
            "source": [
                "def check_contains(brand, device):\n",
                "    return brand.filter(brand.link.contains(device)).count() > 0"
            ],
            "metadata": {
                "id": "0d77IRbOyEzo",
                "azdata_cell_guid": "e3d7f01d-fd59-4f46-8982-7dae09f6208b",
                "language": "python"
            },
            "outputs": [],
            "execution_count": null
        },
        {
            "cell_type": "code",
            "source": [
                "def brand_transform(dir_read, dir_to):\n",
                "    # read csv\n",
                "    brand = read_csv(dir_read)\n",
                "\n",
                "    # brand name\n",
                "    if check_contains(brand, 'adapter-sac') \\\n",
                "       or check_contains(brand, 'sac-dtdd') \\\n",
                "       or check_contains(brand, 'tai-nghe') \\\n",
                "       or check_contains(brand, 'loa-laptop'):\n",
                "        brand_for_product = brand.withColumn('b_o', initcap(split(brand.link, '-')[2]))\n",
                "        brand_for_product = brand_for_product.withColumn('b_t', initcap(split(brand_for_product.link, '-')[3]))\n",
                "        brand_for_product = brand_for_product.withColumn('brand_name', concat_ws(' ', brand_for_product.b_o, brand_for_product.b_t))\n",
                "    elif check_contains(brand, 'cap-dien-thoai'):\n",
                "        brand_for_product = brand.withColumn('b_o', initcap(split(brand.link, '-')[3]))\n",
                "        brand_for_product = brand_for_product.withColumn('b_t', initcap(split(brand_for_product.link, '-')[4]))\n",
                "        brand_for_product = brand_for_product.withColumn('brand_name', concat_ws(' ', brand_for_product.b_o, brand_for_product.b_t))\n",
                "    elif check_contains(brand, 'laptop') \\\n",
                "         or check_contains(brand, 'dtdd'):\n",
                "        brand_for_product = brand.withColumn('brand_name', initcap(split(brand.link, '-')[1]))\n",
                "    elif check_contains(brand, 'may-tinh-bang'):\n",
                "        brand_for_product = brand.withColumn('brand_name', initcap(split(brand.link, '-')[3]))\n",
                "\n",
                "    else:\n",
                "        brand_for_product = brand.withColumn('b_o', initcap(split(brand.link, '-')[4]))\n",
                "        brand_for_product = brand_for_product.withColumn('b_t', initcap(split(brand_for_product.link, '-')[5]))\n",
                "        brand_for_product = brand_for_product.withColumn('brand_name', concat_ws(' ', brand_for_product.b_o, brand_for_product.b_t))\n",
                "\n",
                "    brand_for_product = brand_for_product.select('brand_id', 'brand_name', 'link', 'link_logo')\n",
                "\n",
                "    # select column\n",
                "    brand = brand_for_product.select('brand_name')\n",
                "\n",
                "    # to csv brand\n",
                "    to_csv(brand.toPandas(), dir_to)\n",
                "\n",
                "    return brand_for_product"
            ],
            "metadata": {
                "id": "Os6Aw71WxlG8",
                "azdata_cell_guid": "1aac26fb-5a05-4326-8739-a29d48d8bdfb",
                "language": "python"
            },
            "outputs": [],
            "execution_count": null
        },
        {
            "cell_type": "code",
            "source": [
                "brand_adapter_charger = brand_transform('/raw/brand/brand_adapter_charger.csv', '/transformed/brand/brand_adapter_charger.csv')\n",
                "brand_backup_charger = brand_transform('/raw/brand/brand_backup_charger.csv', '/transformed/brand/brand_backup_charger.csv')\n",
                "brand_cables = brand_transform('/raw/brand/brand_cables.csv', '/transformed/brand/brand_cables.csv')\n",
                "brand_headphone = brand_transform('/raw/brand/brand_headphone.csv', '/transformed/brand/brand_headphone.csv')\n",
                "brand_laptop_speaker = brand_transform('/raw/brand/brand_laptop_speaker.csv', '/transformed/brand/brand_laptop_speaker.csv')\n",
                "brand_laptop = brand_transform('/raw/brand/brand_laptop.csv', '/transformed/brand/brand_laptop.csv')\n",
                "brand_mobile_phone = brand_transform('/raw/brand/brand_mobile_phone.csv', '/transformed/brand/brand_mobile_phone.csv')\n",
                "brand_smartwatch = brand_transform('/raw/brand/brand_smartwatch.csv', '/transformed/brand/brand_smartwatch.csv')\n",
                "brand_tablet = brand_transform('/raw/brand/brand_tablet.csv', '/transformed/brand/brand_tablet.csv')"
            ],
            "metadata": {
                "id": "1fjnlDE5lJMW",
                "azdata_cell_guid": "df686520-d4cf-4085-bd08-a04c6ad71c72",
                "language": "python"
            },
            "outputs": [],
            "execution_count": null
        },
        {
            "cell_type": "markdown",
            "source": [
                "## **Write Function Transform Product Multi Data**"
            ],
            "metadata": {
                "id": "7MaHbOD2Ol9X",
                "azdata_cell_guid": "db4fdf97-c689-42b9-85c4-d4a6105d11d5"
            }
        },
        {
            "cell_type": "code",
            "source": [
                "def product_tranform(dir_read, dir_to_product, dir_to_brand_d, brand_for_product):\n",
                "    # read csv\n",
                "    product = read_csv(dir_read)\n",
                "\n",
                "    # current price\n",
                "    product = product.withColumn(\n",
                "        'current_price', regexp_replace(product.current_price, r'[^\\d+]', '').cast('integer')\n",
                "    )\n",
                "\n",
                "    # price\n",
                "    product = product.withColumn(\n",
                "        'price', when(product.price.isNull(), product.current_price) \\\n",
                "        .otherwise(regexp_replace(product.price, r'[^\\d+]', '')).cast('integer')\n",
                "    )\n",
                "\n",
                "    # percent discount\n",
                "    product = product.withColumn(\n",
                "        'percent_discount', when(product.percent_discount.isNull(), 0) \\\n",
                "        .otherwise(regexp_extract(product.percent_discount, '\\d+', 0)).cast('integer')\n",
                "    )\n",
                "\n",
                "    # rating\n",
                "    product = product.withColumn(\n",
                "        'rating', when(product.rating.isNull(), 0) \\\n",
                "        .otherwise(product.rating).cast('integer')\n",
                "    )\n",
                "\n",
                "    # merge brand data\n",
                "    product = product.join(\n",
                "        brand_for_product.select('brand_id', 'brand_name'), on='brand_id', how='inner'\n",
                "    )\n",
                "\n",
                "    # rename\n",
                "    product = product.withColumnsRenamed({'device':'genre_name'})\n",
                "\n",
                "    '''brand details'''\n",
                "    product_for_brand = brand_for_product.join(\n",
                "        product.select('brand_id', 'genre_name'), on='brand_id', how='inner'\n",
                "    )\n",
                "\n",
                "    product_for_brand = product_for_brand.select('brand_name', 'genre_name', 'link', 'link_logo').distinct()\n",
                "\n",
                "\n",
                "    # select column\n",
                "    product = product.withColumnRenamed('device', 'genre_name')\n",
                "    product = product.select('product_name', 'current_price', 'price', 'percent_discount', 'rating', 'series', 'link', 'genre_name', 'brand_name')\n",
                "\n",
                "\n",
                "    # to csv product\n",
                "    to_csv(product.toPandas(), dir_to_product)\n",
                "\n",
                "    # to csv brand details\n",
                "    to_csv(product_for_brand.toPandas(), dir_to_brand_d)\n"
            ],
            "metadata": {
                "id": "e1IqJpuD0-ya",
                "azdata_cell_guid": "76f60d33-d852-449b-ad68-152d387dd4b5",
                "language": "python"
            },
            "outputs": [],
            "execution_count": null
        },
        {
            "cell_type": "code",
            "source": [
                "product_tranform('/raw/product/adapter_charger.csv', '/transformed/product/adapter_charger.csv', '/transformed/brand_details/brand_adapter_charger.csv', brand_adapter_charger)\n",
                "product_tranform('/raw/product/backup_charger.csv', '/transformed/product/backup_charger.csv', '/transformed/brand_details/brand_backup_charger.csv', brand_backup_charger)\n",
                "product_tranform('/raw/product/cables.csv', '/transformed/product/cables.csv', '/transformed/brand_details/brand_cables.csv', brand_cables)\n",
                "product_tranform('/raw/product/headphone.csv', '/transformed/product/headphone.csv', '/transformed/brand_details/brand_headphone.csv', brand_headphone)\n",
                "product_tranform('/raw/product/laptop_speaker.csv', '/transformed/product/laptop_speaker.csv', '/transformed/brand_details/brand_laptop_speaker.csv', brand_laptop_speaker)\n",
                "product_tranform('/raw/product/laptop.csv', '/transformed/product/laptop.csv', '/transformed/brand_details/brand_laptop.csv', brand_laptop)\n",
                "product_tranform('/raw/product/mobile_phone.csv', '/transformed/product/mobile_phone.csv', '/transformed/brand_details/brand_mobile_phone.csv', brand_mobile_phone)\n",
                "product_tranform('/raw/product/smartwatch.csv', '/transformed/product/smartwatch.csv', '/transformed/brand_details/brand_smartwatch.csv', brand_smartwatch)\n",
                "product_tranform('/raw/product/tablet.csv', '/transformed/product/tablet.csv', '/transformed/brand_details/brand_tablet.csv', brand_tablet)"
            ],
            "metadata": {
                "id": "Gm3YmrpvlJOx",
                "azdata_cell_guid": "b4110630-363c-444d-955e-f304d66d87a6",
                "language": "python"
            },
            "outputs": [],
            "execution_count": null
        },
        {
            "cell_type": "markdown",
            "source": [
                "## **Tables Companies**"
            ],
            "metadata": {
                "id": "XTJeRfLJYMT7",
                "azdata_cell_guid": "c7bb15de-0a1f-4db1-ac4b-0833bf542b94"
            }
        },
        {
            "cell_type": "code",
            "source": [
                "companies = read_csv('/companies.csv')\n",
                "companies.toPandas()"
            ],
            "metadata": {
                "colab": {
                    "base_uri": "https://localhost:8080/",
                    "height": 332
                },
                "id": "olh1LBZVYNQF",
                "executionInfo": {
                    "status": "ok",
                    "timestamp": 1687811229861,
                    "user_tz": -420,
                    "elapsed": 1167,
                    "user": {
                        "displayName": "Cho Phan",
                        "userId": "15376299712231995454"
                    }
                },
                "outputId": "f8979d57-5c1b-40b2-ccd6-7d00a1f09256",
                "azdata_cell_guid": "9b7f0648-7169-4e08-9d26-0304b847ea0a",
                "language": "python"
            },
            "outputs": [
                {
                    "output_type": "execute_result",
                    "execution_count": 166,
                    "data": {
                        "text/plain": "  company_id               company_name                                link  \\\n0         01           Thế Giới Di Động       https://www.thegioididong.com   \n1         02                    TopZone             https://www.topzone.vn/   \n2         03              Điện máy XANH        https://www.dienmayxanh.com/   \n3         04              Bách hóa XANH        https://www.bachhoaxanh.com/   \n4         05         Nhà thuốc An Khang    https://www.nhathuocankhang.com/   \n5         06                    AVAKids            https://www.avakids.com/   \n6         07            Dịch vụ Tận Tâm       https://www.dichvutantam.com/   \n7         08                     4KFarm             https://www.4kfarm.com/   \n8         09  Việc làm Thế Giới Di Động  https://vieclam.thegioididong.com/   \n\n                                         description  \n0                                               None  \n1                       Chuỗi cửa hàng cao cấp Apple  \n2                                               None  \n3                                               None  \n4                          Chuỗi nhà thuốc chuẩn GPP  \n5                            Chuỗi cửa hàng mẹ và bé  \n6  Dịch vụ vệ sinh máy lạnh, sửa chữa điện nước, ...  \n7                                 Nông trại rau sạch  \n8     Trang tuyển dụng của tập đoàn Thế Giới Di Động  ",
                        "text/html": "\n  <div id=\"df-a4f3c659-1885-46ba-854c-147cdc78a57a\">\n    <div class=\"colab-df-container\">\n      <div>\n<style scoped>\n    .dataframe tbody tr th:only-of-type {\n        vertical-align: middle;\n    }\n\n    .dataframe tbody tr th {\n        vertical-align: top;\n    }\n\n    .dataframe thead th {\n        text-align: right;\n    }\n</style>\n<table border=\"1\" class=\"dataframe\">\n  <thead>\n    <tr style=\"text-align: right;\">\n      <th></th>\n      <th>company_id</th>\n      <th>company_name</th>\n      <th>link</th>\n      <th>description</th>\n    </tr>\n  </thead>\n  <tbody>\n    <tr>\n      <th>0</th>\n      <td>01</td>\n      <td>Thế Giới Di Động</td>\n      <td>https://www.thegioididong.com</td>\n      <td>None</td>\n    </tr>\n    <tr>\n      <th>1</th>\n      <td>02</td>\n      <td>TopZone</td>\n      <td>https://www.topzone.vn/</td>\n      <td>Chuỗi cửa hàng cao cấp Apple</td>\n    </tr>\n    <tr>\n      <th>2</th>\n      <td>03</td>\n      <td>Điện máy XANH</td>\n      <td>https://www.dienmayxanh.com/</td>\n      <td>None</td>\n    </tr>\n    <tr>\n      <th>3</th>\n      <td>04</td>\n      <td>Bách hóa XANH</td>\n      <td>https://www.bachhoaxanh.com/</td>\n      <td>None</td>\n    </tr>\n    <tr>\n      <th>4</th>\n      <td>05</td>\n      <td>Nhà thuốc An Khang</td>\n      <td>https://www.nhathuocankhang.com/</td>\n      <td>Chuỗi nhà thuốc chuẩn GPP</td>\n    </tr>\n    <tr>\n      <th>5</th>\n      <td>06</td>\n      <td>AVAKids</td>\n      <td>https://www.avakids.com/</td>\n      <td>Chuỗi cửa hàng mẹ và bé</td>\n    </tr>\n    <tr>\n      <th>6</th>\n      <td>07</td>\n      <td>Dịch vụ Tận Tâm</td>\n      <td>https://www.dichvutantam.com/</td>\n      <td>Dịch vụ vệ sinh máy lạnh, sửa chữa điện nước, ...</td>\n    </tr>\n    <tr>\n      <th>7</th>\n      <td>08</td>\n      <td>4KFarm</td>\n      <td>https://www.4kfarm.com/</td>\n      <td>Nông trại rau sạch</td>\n    </tr>\n    <tr>\n      <th>8</th>\n      <td>09</td>\n      <td>Việc làm Thế Giới Di Động</td>\n      <td>https://vieclam.thegioididong.com/</td>\n      <td>Trang tuyển dụng của tập đoàn Thế Giới Di Động</td>\n    </tr>\n  </tbody>\n</table>\n</div>\n      <button class=\"colab-df-convert\" onclick=\"convertToInteractive('df-a4f3c659-1885-46ba-854c-147cdc78a57a')\"\n              title=\"Convert this dataframe to an interactive table.\"\n              style=\"display:none;\">\n        \n  <svg xmlns=\"http://www.w3.org/2000/svg\" height=\"24px\"viewBox=\"0 0 24 24\"\n       width=\"24px\">\n    <path d=\"M0 0h24v24H0V0z\" fill=\"none\"/>\n    <path d=\"M18.56 5.44l.94 2.06.94-2.06 2.06-.94-2.06-.94-.94-2.06-.94 2.06-2.06.94zm-11 1L8.5 8.5l.94-2.06 2.06-.94-2.06-.94L8.5 2.5l-.94 2.06-2.06.94zm10 10l.94 2.06.94-2.06 2.06-.94-2.06-.94-.94-2.06-.94 2.06-2.06.94z\"/><path d=\"M17.41 7.96l-1.37-1.37c-.4-.4-.92-.59-1.43-.59-.52 0-1.04.2-1.43.59L10.3 9.45l-7.72 7.72c-.78.78-.78 2.05 0 2.83L4 21.41c.39.39.9.59 1.41.59.51 0 1.02-.2 1.41-.59l7.78-7.78 2.81-2.81c.8-.78.8-2.07 0-2.86zM5.41 20L4 18.59l7.72-7.72 1.47 1.35L5.41 20z\"/>\n  </svg>\n      </button>\n      \n  <style>\n    .colab-df-container {\n      display:flex;\n      flex-wrap:wrap;\n      gap: 12px;\n    }\n\n    .colab-df-convert {\n      background-color: #E8F0FE;\n      border: none;\n      border-radius: 50%;\n      cursor: pointer;\n      display: none;\n      fill: #1967D2;\n      height: 32px;\n      padding: 0 0 0 0;\n      width: 32px;\n    }\n\n    .colab-df-convert:hover {\n      background-color: #E2EBFA;\n      box-shadow: 0px 1px 2px rgba(60, 64, 67, 0.3), 0px 1px 3px 1px rgba(60, 64, 67, 0.15);\n      fill: #174EA6;\n    }\n\n    [theme=dark] .colab-df-convert {\n      background-color: #3B4455;\n      fill: #D2E3FC;\n    }\n\n    [theme=dark] .colab-df-convert:hover {\n      background-color: #434B5C;\n      box-shadow: 0px 1px 3px 1px rgba(0, 0, 0, 0.15);\n      filter: drop-shadow(0px 1px 2px rgba(0, 0, 0, 0.3));\n      fill: #FFFFFF;\n    }\n  </style>\n\n      <script>\n        const buttonEl =\n          document.querySelector('#df-a4f3c659-1885-46ba-854c-147cdc78a57a button.colab-df-convert');\n        buttonEl.style.display =\n          google.colab.kernel.accessAllowed ? 'block' : 'none';\n\n        async function convertToInteractive(key) {\n          const element = document.querySelector('#df-a4f3c659-1885-46ba-854c-147cdc78a57a');\n          const dataTable =\n            await google.colab.kernel.invokeFunction('convertToInteractive',\n                                                     [key], {});\n          if (!dataTable) return;\n\n          const docLinkHtml = 'Like what you see? Visit the ' +\n            '<a target=\"_blank\" href=https://colab.research.google.com/notebooks/data_table.ipynb>data table notebook</a>'\n            + ' to learn more about interactive tables.';\n          element.innerHTML = '';\n          dataTable['output_type'] = 'display_data';\n          await google.colab.output.renderOutput(dataTable, element);\n          const docLink = document.createElement('div');\n          docLink.innerHTML = docLinkHtml;\n          element.appendChild(docLink);\n        }\n      </script>\n    </div>\n  </div>\n  "
                    },
                    "metadata": {}
                }
            ],
            "execution_count": null
        },
        {
            "cell_type": "markdown",
            "source": [
                "## **Table Brands**"
            ],
            "metadata": {
                "id": "4NcLRsqMWQJc",
                "azdata_cell_guid": "c99553a4-afed-459c-b002-4ee6ebef9c92"
            }
        },
        {
            "cell_type": "code",
            "source": [
                "brand_adapter_charger = read_csv('/transformed/brand/brand_adapter_charger.csv')\n",
                "brand_backup_charger = read_csv('/transformed/brand/brand_backup_charger.csv')\n",
                "brand_cables = read_csv('/transformed/brand/brand_cables.csv')\n",
                "brand_headphone = read_csv('/transformed/brand/brand_headphone.csv')\n",
                "brand_laptop_speaker = read_csv('/transformed/brand/brand_laptop_speaker.csv')\n",
                "brand_laptop = read_csv('/transformed/brand/brand_laptop.csv')\n",
                "brand_mobile_phone = read_csv('/transformed/brand/brand_mobile_phone.csv')\n",
                "brand_smartwatch = read_csv('/transformed/brand/brand_smartwatch.csv')\n",
                "brand_tablet = read_csv('/transformed/brand/brand_tablet.csv')"
            ],
            "metadata": {
                "id": "NvEPCsTZlJT1",
                "azdata_cell_guid": "d987c870-b552-4687-abaf-beac67269dce",
                "language": "python"
            },
            "outputs": [],
            "execution_count": null
        },
        {
            "cell_type": "code",
            "source": [
                "brands = brand_adapter_charger \\\n",
                "         .union(brand_backup_charger) \\\n",
                "         .union(brand_cables) \\\n",
                "         .union(brand_headphone) \\\n",
                "         .union(brand_laptop_speaker) \\\n",
                "         .union(brand_laptop) \\\n",
                "         .union(brand_mobile_phone) \\\n",
                "         .union(brand_smartwatch) \\\n",
                "         .union(brand_tablet) \\\n",
                "         .distinct()\n",
                "\n",
                "# brands = brands.sort(brands.brand_name.asc())\n",
                "\n",
                "brands = brands.toPandas()\n",
                "brands"
            ],
            "metadata": {
                "id": "uvgOVxwylJWl",
                "colab": {
                    "base_uri": "https://localhost:8080/",
                    "height": 424
                },
                "executionInfo": {
                    "status": "ok",
                    "timestamp": 1687807077759,
                    "user_tz": -420,
                    "elapsed": 665,
                    "user": {
                        "displayName": "Cho Phan",
                        "userId": "15376299712231995454"
                    }
                },
                "outputId": "371ed67b-6cd7-4245-8caa-fb33b7d02f60",
                "azdata_cell_guid": "984b3a8f-c3f2-4f29-9214-a0314c36e6b0",
                "language": "python"
            },
            "outputs": [
                {
                    "output_type": "execute_result",
                    "execution_count": 115,
                    "data": {
                        "text/plain": "       brand_name\n0          Belkin\n1           Mbest\n2          Mophie\n3             Ava\n4          Hydrus\n..            ...\n68         Garmin\n69        Kidcare\n70          Befit\n71          Honor\n72  Huami Amazfit\n\n[73 rows x 1 columns]",
                        "text/html": "\n  <div id=\"df-e648b812-be40-440d-9fb0-54500f6edd05\">\n    <div class=\"colab-df-container\">\n      <div>\n<style scoped>\n    .dataframe tbody tr th:only-of-type {\n        vertical-align: middle;\n    }\n\n    .dataframe tbody tr th {\n        vertical-align: top;\n    }\n\n    .dataframe thead th {\n        text-align: right;\n    }\n</style>\n<table border=\"1\" class=\"dataframe\">\n  <thead>\n    <tr style=\"text-align: right;\">\n      <th></th>\n      <th>brand_name</th>\n    </tr>\n  </thead>\n  <tbody>\n    <tr>\n      <th>0</th>\n      <td>Belkin</td>\n    </tr>\n    <tr>\n      <th>1</th>\n      <td>Mbest</td>\n    </tr>\n    <tr>\n      <th>2</th>\n      <td>Mophie</td>\n    </tr>\n    <tr>\n      <th>3</th>\n      <td>Ava</td>\n    </tr>\n    <tr>\n      <th>4</th>\n      <td>Hydrus</td>\n    </tr>\n    <tr>\n      <th>...</th>\n      <td>...</td>\n    </tr>\n    <tr>\n      <th>68</th>\n      <td>Garmin</td>\n    </tr>\n    <tr>\n      <th>69</th>\n      <td>Kidcare</td>\n    </tr>\n    <tr>\n      <th>70</th>\n      <td>Befit</td>\n    </tr>\n    <tr>\n      <th>71</th>\n      <td>Honor</td>\n    </tr>\n    <tr>\n      <th>72</th>\n      <td>Huami Amazfit</td>\n    </tr>\n  </tbody>\n</table>\n<p>73 rows × 1 columns</p>\n</div>\n      <button class=\"colab-df-convert\" onclick=\"convertToInteractive('df-e648b812-be40-440d-9fb0-54500f6edd05')\"\n              title=\"Convert this dataframe to an interactive table.\"\n              style=\"display:none;\">\n        \n  <svg xmlns=\"http://www.w3.org/2000/svg\" height=\"24px\"viewBox=\"0 0 24 24\"\n       width=\"24px\">\n    <path d=\"M0 0h24v24H0V0z\" fill=\"none\"/>\n    <path d=\"M18.56 5.44l.94 2.06.94-2.06 2.06-.94-2.06-.94-.94-2.06-.94 2.06-2.06.94zm-11 1L8.5 8.5l.94-2.06 2.06-.94-2.06-.94L8.5 2.5l-.94 2.06-2.06.94zm10 10l.94 2.06.94-2.06 2.06-.94-2.06-.94-.94-2.06-.94 2.06-2.06.94z\"/><path d=\"M17.41 7.96l-1.37-1.37c-.4-.4-.92-.59-1.43-.59-.52 0-1.04.2-1.43.59L10.3 9.45l-7.72 7.72c-.78.78-.78 2.05 0 2.83L4 21.41c.39.39.9.59 1.41.59.51 0 1.02-.2 1.41-.59l7.78-7.78 2.81-2.81c.8-.78.8-2.07 0-2.86zM5.41 20L4 18.59l7.72-7.72 1.47 1.35L5.41 20z\"/>\n  </svg>\n      </button>\n      \n  <style>\n    .colab-df-container {\n      display:flex;\n      flex-wrap:wrap;\n      gap: 12px;\n    }\n\n    .colab-df-convert {\n      background-color: #E8F0FE;\n      border: none;\n      border-radius: 50%;\n      cursor: pointer;\n      display: none;\n      fill: #1967D2;\n      height: 32px;\n      padding: 0 0 0 0;\n      width: 32px;\n    }\n\n    .colab-df-convert:hover {\n      background-color: #E2EBFA;\n      box-shadow: 0px 1px 2px rgba(60, 64, 67, 0.3), 0px 1px 3px 1px rgba(60, 64, 67, 0.15);\n      fill: #174EA6;\n    }\n\n    [theme=dark] .colab-df-convert {\n      background-color: #3B4455;\n      fill: #D2E3FC;\n    }\n\n    [theme=dark] .colab-df-convert:hover {\n      background-color: #434B5C;\n      box-shadow: 0px 1px 3px 1px rgba(0, 0, 0, 0.15);\n      filter: drop-shadow(0px 1px 2px rgba(0, 0, 0, 0.3));\n      fill: #FFFFFF;\n    }\n  </style>\n\n      <script>\n        const buttonEl =\n          document.querySelector('#df-e648b812-be40-440d-9fb0-54500f6edd05 button.colab-df-convert');\n        buttonEl.style.display =\n          google.colab.kernel.accessAllowed ? 'block' : 'none';\n\n        async function convertToInteractive(key) {\n          const element = document.querySelector('#df-e648b812-be40-440d-9fb0-54500f6edd05');\n          const dataTable =\n            await google.colab.kernel.invokeFunction('convertToInteractive',\n                                                     [key], {});\n          if (!dataTable) return;\n\n          const docLinkHtml = 'Like what you see? Visit the ' +\n            '<a target=\"_blank\" href=https://colab.research.google.com/notebooks/data_table.ipynb>data table notebook</a>'\n            + ' to learn more about interactive tables.';\n          element.innerHTML = '';\n          dataTable['output_type'] = 'display_data';\n          await google.colab.output.renderOutput(dataTable, element);\n          const docLink = document.createElement('div');\n          docLink.innerHTML = docLinkHtml;\n          element.appendChild(docLink);\n        }\n      </script>\n    </div>\n  </div>\n  "
                    },
                    "metadata": {}
                }
            ],
            "execution_count": null
        },
        {
            "cell_type": "code",
            "source": [
                "id = []\n",
                "for i in range(1, len(brands)+1):\n",
                "    if i < 10:\n",
                "        id.append('010' + str(i))\n",
                "    else:\n",
                "        id.append('01' + str(i))\n",
                "\n",
                "brands['brand_id'] = id\n",
                "\n",
                "# sort column\n",
                "brands = brands[['brand_id', 'brand_name']]\n",
                "\n",
                "brands"
            ],
            "metadata": {
                "id": "sqcip4iUmZLD",
                "colab": {
                    "base_uri": "https://localhost:8080/",
                    "height": 424
                },
                "executionInfo": {
                    "status": "ok",
                    "timestamp": 1687807082096,
                    "user_tz": -420,
                    "elapsed": 497,
                    "user": {
                        "displayName": "Cho Phan",
                        "userId": "15376299712231995454"
                    }
                },
                "outputId": "363a58ff-219a-4e21-f20d-607559fbe1cf",
                "azdata_cell_guid": "e293ee4d-ae2b-4a67-9526-cf0dbc588b7a",
                "language": "python"
            },
            "outputs": [
                {
                    "output_type": "execute_result",
                    "execution_count": 116,
                    "data": {
                        "text/plain": "   brand_id     brand_name\n0      0101         Belkin\n1      0102          Mbest\n2      0103         Mophie\n3      0104            Ava\n4      0105         Hydrus\n..      ...            ...\n68     0169         Garmin\n69     0170        Kidcare\n70     0171          Befit\n71     0172          Honor\n72     0173  Huami Amazfit\n\n[73 rows x 2 columns]",
                        "text/html": "\n  <div id=\"df-8c9cbd8c-2858-4d58-bc4a-87742507bcbf\">\n    <div class=\"colab-df-container\">\n      <div>\n<style scoped>\n    .dataframe tbody tr th:only-of-type {\n        vertical-align: middle;\n    }\n\n    .dataframe tbody tr th {\n        vertical-align: top;\n    }\n\n    .dataframe thead th {\n        text-align: right;\n    }\n</style>\n<table border=\"1\" class=\"dataframe\">\n  <thead>\n    <tr style=\"text-align: right;\">\n      <th></th>\n      <th>brand_id</th>\n      <th>brand_name</th>\n    </tr>\n  </thead>\n  <tbody>\n    <tr>\n      <th>0</th>\n      <td>0101</td>\n      <td>Belkin</td>\n    </tr>\n    <tr>\n      <th>1</th>\n      <td>0102</td>\n      <td>Mbest</td>\n    </tr>\n    <tr>\n      <th>2</th>\n      <td>0103</td>\n      <td>Mophie</td>\n    </tr>\n    <tr>\n      <th>3</th>\n      <td>0104</td>\n      <td>Ava</td>\n    </tr>\n    <tr>\n      <th>4</th>\n      <td>0105</td>\n      <td>Hydrus</td>\n    </tr>\n    <tr>\n      <th>...</th>\n      <td>...</td>\n      <td>...</td>\n    </tr>\n    <tr>\n      <th>68</th>\n      <td>0169</td>\n      <td>Garmin</td>\n    </tr>\n    <tr>\n      <th>69</th>\n      <td>0170</td>\n      <td>Kidcare</td>\n    </tr>\n    <tr>\n      <th>70</th>\n      <td>0171</td>\n      <td>Befit</td>\n    </tr>\n    <tr>\n      <th>71</th>\n      <td>0172</td>\n      <td>Honor</td>\n    </tr>\n    <tr>\n      <th>72</th>\n      <td>0173</td>\n      <td>Huami Amazfit</td>\n    </tr>\n  </tbody>\n</table>\n<p>73 rows × 2 columns</p>\n</div>\n      <button class=\"colab-df-convert\" onclick=\"convertToInteractive('df-8c9cbd8c-2858-4d58-bc4a-87742507bcbf')\"\n              title=\"Convert this dataframe to an interactive table.\"\n              style=\"display:none;\">\n        \n  <svg xmlns=\"http://www.w3.org/2000/svg\" height=\"24px\"viewBox=\"0 0 24 24\"\n       width=\"24px\">\n    <path d=\"M0 0h24v24H0V0z\" fill=\"none\"/>\n    <path d=\"M18.56 5.44l.94 2.06.94-2.06 2.06-.94-2.06-.94-.94-2.06-.94 2.06-2.06.94zm-11 1L8.5 8.5l.94-2.06 2.06-.94-2.06-.94L8.5 2.5l-.94 2.06-2.06.94zm10 10l.94 2.06.94-2.06 2.06-.94-2.06-.94-.94-2.06-.94 2.06-2.06.94z\"/><path d=\"M17.41 7.96l-1.37-1.37c-.4-.4-.92-.59-1.43-.59-.52 0-1.04.2-1.43.59L10.3 9.45l-7.72 7.72c-.78.78-.78 2.05 0 2.83L4 21.41c.39.39.9.59 1.41.59.51 0 1.02-.2 1.41-.59l7.78-7.78 2.81-2.81c.8-.78.8-2.07 0-2.86zM5.41 20L4 18.59l7.72-7.72 1.47 1.35L5.41 20z\"/>\n  </svg>\n      </button>\n      \n  <style>\n    .colab-df-container {\n      display:flex;\n      flex-wrap:wrap;\n      gap: 12px;\n    }\n\n    .colab-df-convert {\n      background-color: #E8F0FE;\n      border: none;\n      border-radius: 50%;\n      cursor: pointer;\n      display: none;\n      fill: #1967D2;\n      height: 32px;\n      padding: 0 0 0 0;\n      width: 32px;\n    }\n\n    .colab-df-convert:hover {\n      background-color: #E2EBFA;\n      box-shadow: 0px 1px 2px rgba(60, 64, 67, 0.3), 0px 1px 3px 1px rgba(60, 64, 67, 0.15);\n      fill: #174EA6;\n    }\n\n    [theme=dark] .colab-df-convert {\n      background-color: #3B4455;\n      fill: #D2E3FC;\n    }\n\n    [theme=dark] .colab-df-convert:hover {\n      background-color: #434B5C;\n      box-shadow: 0px 1px 3px 1px rgba(0, 0, 0, 0.15);\n      filter: drop-shadow(0px 1px 2px rgba(0, 0, 0, 0.3));\n      fill: #FFFFFF;\n    }\n  </style>\n\n      <script>\n        const buttonEl =\n          document.querySelector('#df-8c9cbd8c-2858-4d58-bc4a-87742507bcbf button.colab-df-convert');\n        buttonEl.style.display =\n          google.colab.kernel.accessAllowed ? 'block' : 'none';\n\n        async function convertToInteractive(key) {\n          const element = document.querySelector('#df-8c9cbd8c-2858-4d58-bc4a-87742507bcbf');\n          const dataTable =\n            await google.colab.kernel.invokeFunction('convertToInteractive',\n                                                     [key], {});\n          if (!dataTable) return;\n\n          const docLinkHtml = 'Like what you see? Visit the ' +\n            '<a target=\"_blank\" href=https://colab.research.google.com/notebooks/data_table.ipynb>data table notebook</a>'\n            + ' to learn more about interactive tables.';\n          element.innerHTML = '';\n          dataTable['output_type'] = 'display_data';\n          await google.colab.output.renderOutput(dataTable, element);\n          const docLink = document.createElement('div');\n          docLink.innerHTML = docLinkHtml;\n          element.appendChild(docLink);\n        }\n      </script>\n    </div>\n  </div>\n  "
                    },
                    "metadata": {}
                }
            ],
            "execution_count": null
        },
        {
            "cell_type": "code",
            "source": [
                "to_csv(brands, '/transformed/brand/brands.csv')"
            ],
            "metadata": {
                "id": "2Aet9PAbmZIO",
                "azdata_cell_guid": "00c27a1b-2942-4c90-8cba-283f7bba05b4",
                "language": "python"
            },
            "outputs": [],
            "execution_count": null
        },
        {
            "cell_type": "code",
            "source": [
                "brands = read_csv('/transformed/brand/brands.csv')\n",
                "brands.toPandas()"
            ],
            "metadata": {
                "id": "g3_olElhmZNz",
                "colab": {
                    "base_uri": "https://localhost:8080/",
                    "height": 424
                },
                "executionInfo": {
                    "status": "ok",
                    "timestamp": 1687807101809,
                    "user_tz": -420,
                    "elapsed": 468,
                    "user": {
                        "displayName": "Cho Phan",
                        "userId": "15376299712231995454"
                    }
                },
                "outputId": "543c4fae-1831-405c-f170-98b2fe8d1258",
                "azdata_cell_guid": "d86d6489-055f-47ab-a170-0fdf192a2960",
                "language": "python"
            },
            "outputs": [
                {
                    "output_type": "execute_result",
                    "execution_count": 118,
                    "data": {
                        "text/plain": "   brand_id     brand_name\n0      0101         Belkin\n1      0102          Mbest\n2      0103         Mophie\n3      0104            Ava\n4      0105         Hydrus\n..      ...            ...\n68     0169         Garmin\n69     0170        Kidcare\n70     0171          Befit\n71     0172          Honor\n72     0173  Huami Amazfit\n\n[73 rows x 2 columns]",
                        "text/html": "\n  <div id=\"df-f30ae4e7-5d40-4a36-bfde-f3dfca6189e1\">\n    <div class=\"colab-df-container\">\n      <div>\n<style scoped>\n    .dataframe tbody tr th:only-of-type {\n        vertical-align: middle;\n    }\n\n    .dataframe tbody tr th {\n        vertical-align: top;\n    }\n\n    .dataframe thead th {\n        text-align: right;\n    }\n</style>\n<table border=\"1\" class=\"dataframe\">\n  <thead>\n    <tr style=\"text-align: right;\">\n      <th></th>\n      <th>brand_id</th>\n      <th>brand_name</th>\n    </tr>\n  </thead>\n  <tbody>\n    <tr>\n      <th>0</th>\n      <td>0101</td>\n      <td>Belkin</td>\n    </tr>\n    <tr>\n      <th>1</th>\n      <td>0102</td>\n      <td>Mbest</td>\n    </tr>\n    <tr>\n      <th>2</th>\n      <td>0103</td>\n      <td>Mophie</td>\n    </tr>\n    <tr>\n      <th>3</th>\n      <td>0104</td>\n      <td>Ava</td>\n    </tr>\n    <tr>\n      <th>4</th>\n      <td>0105</td>\n      <td>Hydrus</td>\n    </tr>\n    <tr>\n      <th>...</th>\n      <td>...</td>\n      <td>...</td>\n    </tr>\n    <tr>\n      <th>68</th>\n      <td>0169</td>\n      <td>Garmin</td>\n    </tr>\n    <tr>\n      <th>69</th>\n      <td>0170</td>\n      <td>Kidcare</td>\n    </tr>\n    <tr>\n      <th>70</th>\n      <td>0171</td>\n      <td>Befit</td>\n    </tr>\n    <tr>\n      <th>71</th>\n      <td>0172</td>\n      <td>Honor</td>\n    </tr>\n    <tr>\n      <th>72</th>\n      <td>0173</td>\n      <td>Huami Amazfit</td>\n    </tr>\n  </tbody>\n</table>\n<p>73 rows × 2 columns</p>\n</div>\n      <button class=\"colab-df-convert\" onclick=\"convertToInteractive('df-f30ae4e7-5d40-4a36-bfde-f3dfca6189e1')\"\n              title=\"Convert this dataframe to an interactive table.\"\n              style=\"display:none;\">\n        \n  <svg xmlns=\"http://www.w3.org/2000/svg\" height=\"24px\"viewBox=\"0 0 24 24\"\n       width=\"24px\">\n    <path d=\"M0 0h24v24H0V0z\" fill=\"none\"/>\n    <path d=\"M18.56 5.44l.94 2.06.94-2.06 2.06-.94-2.06-.94-.94-2.06-.94 2.06-2.06.94zm-11 1L8.5 8.5l.94-2.06 2.06-.94-2.06-.94L8.5 2.5l-.94 2.06-2.06.94zm10 10l.94 2.06.94-2.06 2.06-.94-2.06-.94-.94-2.06-.94 2.06-2.06.94z\"/><path d=\"M17.41 7.96l-1.37-1.37c-.4-.4-.92-.59-1.43-.59-.52 0-1.04.2-1.43.59L10.3 9.45l-7.72 7.72c-.78.78-.78 2.05 0 2.83L4 21.41c.39.39.9.59 1.41.59.51 0 1.02-.2 1.41-.59l7.78-7.78 2.81-2.81c.8-.78.8-2.07 0-2.86zM5.41 20L4 18.59l7.72-7.72 1.47 1.35L5.41 20z\"/>\n  </svg>\n      </button>\n      \n  <style>\n    .colab-df-container {\n      display:flex;\n      flex-wrap:wrap;\n      gap: 12px;\n    }\n\n    .colab-df-convert {\n      background-color: #E8F0FE;\n      border: none;\n      border-radius: 50%;\n      cursor: pointer;\n      display: none;\n      fill: #1967D2;\n      height: 32px;\n      padding: 0 0 0 0;\n      width: 32px;\n    }\n\n    .colab-df-convert:hover {\n      background-color: #E2EBFA;\n      box-shadow: 0px 1px 2px rgba(60, 64, 67, 0.3), 0px 1px 3px 1px rgba(60, 64, 67, 0.15);\n      fill: #174EA6;\n    }\n\n    [theme=dark] .colab-df-convert {\n      background-color: #3B4455;\n      fill: #D2E3FC;\n    }\n\n    [theme=dark] .colab-df-convert:hover {\n      background-color: #434B5C;\n      box-shadow: 0px 1px 3px 1px rgba(0, 0, 0, 0.15);\n      filter: drop-shadow(0px 1px 2px rgba(0, 0, 0, 0.3));\n      fill: #FFFFFF;\n    }\n  </style>\n\n      <script>\n        const buttonEl =\n          document.querySelector('#df-f30ae4e7-5d40-4a36-bfde-f3dfca6189e1 button.colab-df-convert');\n        buttonEl.style.display =\n          google.colab.kernel.accessAllowed ? 'block' : 'none';\n\n        async function convertToInteractive(key) {\n          const element = document.querySelector('#df-f30ae4e7-5d40-4a36-bfde-f3dfca6189e1');\n          const dataTable =\n            await google.colab.kernel.invokeFunction('convertToInteractive',\n                                                     [key], {});\n          if (!dataTable) return;\n\n          const docLinkHtml = 'Like what you see? Visit the ' +\n            '<a target=\"_blank\" href=https://colab.research.google.com/notebooks/data_table.ipynb>data table notebook</a>'\n            + ' to learn more about interactive tables.';\n          element.innerHTML = '';\n          dataTable['output_type'] = 'display_data';\n          await google.colab.output.renderOutput(dataTable, element);\n          const docLink = document.createElement('div');\n          docLink.innerHTML = docLinkHtml;\n          element.appendChild(docLink);\n        }\n      </script>\n    </div>\n  </div>\n  "
                    },
                    "metadata": {}
                }
            ],
            "execution_count": null
        },
        {
            "cell_type": "markdown",
            "source": [
                "## **Table Genres**"
            ],
            "metadata": {
                "id": "9gVO4SkIKhds",
                "azdata_cell_guid": "01d87338-3cc4-4fd1-8d72-677e0808d1ca"
            }
        },
        {
            "cell_type": "code",
            "source": [
                "genres = pd.DataFrame()\n",
                "\n",
                "genre = [\n",
                "    'Adapter Charger',\n",
                "    'Backup Charger',\n",
                "    'Cables',\n",
                "    'Headphone',\n",
                "    'Laptop Speaker',\n",
                "    'Laptop',\n",
                "    'Mobile Phone',\n",
                "    'Smartwatch',\n",
                "    'Tablet'\n",
                "]\n",
                "\n",
                "id = []\n",
                "company_id = []\n",
                "for i in range(1, len(genre)+1):\n",
                "    if i < 10:\n",
                "        id.append('010' + str(i))\n",
                "    else:\n",
                "        id.append('01' + str(i))\n",
                "    company_id.append('01')\n",
                "\n",
                "genres['genre_id'] = id\n",
                "genres['genre_name'] = genre\n",
                "genres['company_id'] = company_id\n",
                "\n",
                "genres"
            ],
            "metadata": {
                "language": "python",
                "azdata_cell_guid": "aaf9f9e3-1e11-4907-936a-95949f5b4b23",
                "id": "O0E3zD0cbA9E",
                "colab": {
                    "base_uri": "https://localhost:8080/",
                    "height": 332
                },
                "executionInfo": {
                    "status": "ok",
                    "timestamp": 1687811390500,
                    "user_tz": -420,
                    "elapsed": 507,
                    "user": {
                        "displayName": "Cho Phan",
                        "userId": "15376299712231995454"
                    }
                },
                "outputId": "bd4cb696-8fdd-4836-e52c-ff1f6d76cb84"
            },
            "outputs": [
                {
                    "output_type": "execute_result",
                    "execution_count": 167,
                    "data": {
                        "text/plain": "  genre_id       genre_name company_id\n0     0101  Adapter Charger         01\n1     0102   Backup Charger         01\n2     0103           Cables         01\n3     0104        Headphone         01\n4     0105   Laptop Speaker         01\n5     0106           Laptop         01\n6     0107     Mobile Phone         01\n7     0108       Smartwatch         01\n8     0109           Tablet         01",
                        "text/html": "\n  <div id=\"df-2d56580e-9d16-46a8-99a7-17b5c50900da\">\n    <div class=\"colab-df-container\">\n      <div>\n<style scoped>\n    .dataframe tbody tr th:only-of-type {\n        vertical-align: middle;\n    }\n\n    .dataframe tbody tr th {\n        vertical-align: top;\n    }\n\n    .dataframe thead th {\n        text-align: right;\n    }\n</style>\n<table border=\"1\" class=\"dataframe\">\n  <thead>\n    <tr style=\"text-align: right;\">\n      <th></th>\n      <th>genre_id</th>\n      <th>genre_name</th>\n      <th>company_id</th>\n    </tr>\n  </thead>\n  <tbody>\n    <tr>\n      <th>0</th>\n      <td>0101</td>\n      <td>Adapter Charger</td>\n      <td>01</td>\n    </tr>\n    <tr>\n      <th>1</th>\n      <td>0102</td>\n      <td>Backup Charger</td>\n      <td>01</td>\n    </tr>\n    <tr>\n      <th>2</th>\n      <td>0103</td>\n      <td>Cables</td>\n      <td>01</td>\n    </tr>\n    <tr>\n      <th>3</th>\n      <td>0104</td>\n      <td>Headphone</td>\n      <td>01</td>\n    </tr>\n    <tr>\n      <th>4</th>\n      <td>0105</td>\n      <td>Laptop Speaker</td>\n      <td>01</td>\n    </tr>\n    <tr>\n      <th>5</th>\n      <td>0106</td>\n      <td>Laptop</td>\n      <td>01</td>\n    </tr>\n    <tr>\n      <th>6</th>\n      <td>0107</td>\n      <td>Mobile Phone</td>\n      <td>01</td>\n    </tr>\n    <tr>\n      <th>7</th>\n      <td>0108</td>\n      <td>Smartwatch</td>\n      <td>01</td>\n    </tr>\n    <tr>\n      <th>8</th>\n      <td>0109</td>\n      <td>Tablet</td>\n      <td>01</td>\n    </tr>\n  </tbody>\n</table>\n</div>\n      <button class=\"colab-df-convert\" onclick=\"convertToInteractive('df-2d56580e-9d16-46a8-99a7-17b5c50900da')\"\n              title=\"Convert this dataframe to an interactive table.\"\n              style=\"display:none;\">\n        \n  <svg xmlns=\"http://www.w3.org/2000/svg\" height=\"24px\"viewBox=\"0 0 24 24\"\n       width=\"24px\">\n    <path d=\"M0 0h24v24H0V0z\" fill=\"none\"/>\n    <path d=\"M18.56 5.44l.94 2.06.94-2.06 2.06-.94-2.06-.94-.94-2.06-.94 2.06-2.06.94zm-11 1L8.5 8.5l.94-2.06 2.06-.94-2.06-.94L8.5 2.5l-.94 2.06-2.06.94zm10 10l.94 2.06.94-2.06 2.06-.94-2.06-.94-.94-2.06-.94 2.06-2.06.94z\"/><path d=\"M17.41 7.96l-1.37-1.37c-.4-.4-.92-.59-1.43-.59-.52 0-1.04.2-1.43.59L10.3 9.45l-7.72 7.72c-.78.78-.78 2.05 0 2.83L4 21.41c.39.39.9.59 1.41.59.51 0 1.02-.2 1.41-.59l7.78-7.78 2.81-2.81c.8-.78.8-2.07 0-2.86zM5.41 20L4 18.59l7.72-7.72 1.47 1.35L5.41 20z\"/>\n  </svg>\n      </button>\n      \n  <style>\n    .colab-df-container {\n      display:flex;\n      flex-wrap:wrap;\n      gap: 12px;\n    }\n\n    .colab-df-convert {\n      background-color: #E8F0FE;\n      border: none;\n      border-radius: 50%;\n      cursor: pointer;\n      display: none;\n      fill: #1967D2;\n      height: 32px;\n      padding: 0 0 0 0;\n      width: 32px;\n    }\n\n    .colab-df-convert:hover {\n      background-color: #E2EBFA;\n      box-shadow: 0px 1px 2px rgba(60, 64, 67, 0.3), 0px 1px 3px 1px rgba(60, 64, 67, 0.15);\n      fill: #174EA6;\n    }\n\n    [theme=dark] .colab-df-convert {\n      background-color: #3B4455;\n      fill: #D2E3FC;\n    }\n\n    [theme=dark] .colab-df-convert:hover {\n      background-color: #434B5C;\n      box-shadow: 0px 1px 3px 1px rgba(0, 0, 0, 0.15);\n      filter: drop-shadow(0px 1px 2px rgba(0, 0, 0, 0.3));\n      fill: #FFFFFF;\n    }\n  </style>\n\n      <script>\n        const buttonEl =\n          document.querySelector('#df-2d56580e-9d16-46a8-99a7-17b5c50900da button.colab-df-convert');\n        buttonEl.style.display =\n          google.colab.kernel.accessAllowed ? 'block' : 'none';\n\n        async function convertToInteractive(key) {\n          const element = document.querySelector('#df-2d56580e-9d16-46a8-99a7-17b5c50900da');\n          const dataTable =\n            await google.colab.kernel.invokeFunction('convertToInteractive',\n                                                     [key], {});\n          if (!dataTable) return;\n\n          const docLinkHtml = 'Like what you see? Visit the ' +\n            '<a target=\"_blank\" href=https://colab.research.google.com/notebooks/data_table.ipynb>data table notebook</a>'\n            + ' to learn more about interactive tables.';\n          element.innerHTML = '';\n          dataTable['output_type'] = 'display_data';\n          await google.colab.output.renderOutput(dataTable, element);\n          const docLink = document.createElement('div');\n          docLink.innerHTML = docLinkHtml;\n          element.appendChild(docLink);\n        }\n      </script>\n    </div>\n  </div>\n  "
                    },
                    "metadata": {}
                }
            ],
            "execution_count": null
        },
        {
            "cell_type": "code",
            "source": [
                "to_csv(genres, '/transformed/genre/genres.csv')"
            ],
            "metadata": {
                "language": "python",
                "azdata_cell_guid": "966d6498-a2c3-4ba0-b01c-53751fd9cee0",
                "id": "jFwpYEusbA9F"
            },
            "outputs": [],
            "execution_count": null
        },
        {
            "cell_type": "markdown",
            "source": [
                "## **Table Brand Details**"
            ],
            "metadata": {
                "id": "kpgk-Xb0UuZv",
                "azdata_cell_guid": "e3b8abc8-439a-4027-8214-96ec9b63e166"
            }
        },
        {
            "cell_type": "code",
            "source": [
                "brand_adapter_charger = read_csv('/transformed/brand_details/brand_adapter_charger.csv')\n",
                "brand_backup_charger = read_csv('/transformed/brand_details/brand_backup_charger.csv')\n",
                "brand_cables = read_csv('/transformed/brand_details/brand_cables.csv')\n",
                "brand_headphone = read_csv('/transformed/brand_details/brand_headphone.csv')\n",
                "brand_laptop_speaker = read_csv('/transformed/brand_details/brand_laptop_speaker.csv')\n",
                "brand_laptop = read_csv('/transformed/brand_details/brand_laptop.csv')\n",
                "brand_mobile_phone = read_csv('/transformed/brand_details/brand_mobile_phone.csv')\n",
                "brand_smartwatch = read_csv('/transformed/brand_details/brand_smartwatch.csv')\n",
                "brand_tablet = read_csv('/transformed/brand_details/brand_tablet.csv')"
            ],
            "metadata": {
                "id": "6FTY6dufUoEG",
                "azdata_cell_guid": "58d79026-1bd4-4372-a397-da1100fa628d",
                "language": "python"
            },
            "outputs": [],
            "execution_count": null
        },
        {
            "cell_type": "code",
            "source": [
                "genres = read_csv('/transformed/genre/genres.csv')\n",
                "brands = read_csv('/transformed/brand/brands.csv')"
            ],
            "metadata": {
                "id": "UELdEOsfUoG3",
                "azdata_cell_guid": "2497772d-2028-4a84-937e-55fb445dbd0b",
                "language": "python"
            },
            "outputs": [],
            "execution_count": null
        },
        {
            "cell_type": "code",
            "source": [
                "brand_details = brand_adapter_charger \\\n",
                "                .union(brand_backup_charger) \\\n",
                "                .union(brand_cables) \\\n",
                "                .union(brand_headphone) \\\n",
                "                .union(brand_laptop_speaker) \\\n",
                "                .union(brand_laptop) \\\n",
                "                .union(brand_mobile_phone) \\\n",
                "                .union(brand_smartwatch) \\\n",
                "                .union(brand_tablet) \\\n",
                "                .distinct()\n",
                "\n",
                "brand_details.toPandas()"
            ],
            "metadata": {
                "colab": {
                    "base_uri": "https://localhost:8080/",
                    "height": 424
                },
                "id": "yBnXbVSeUoKA",
                "executionInfo": {
                    "status": "ok",
                    "timestamp": 1687810614617,
                    "user_tz": -420,
                    "elapsed": 1187,
                    "user": {
                        "displayName": "Cho Phan",
                        "userId": "15376299712231995454"
                    }
                },
                "outputId": "43fefeaa-0cc2-4e61-b998-5bcf038cbd85",
                "azdata_cell_guid": "1ca98cf8-2342-4ab0-a096-1c2d3956468d",
                "language": "python"
            },
            "outputs": [
                {
                    "output_type": "execute_result",
                    "execution_count": 151,
                    "data": {
                        "text/plain": "    brand_name       genre_name  \\\n0        Evalu  Adapter Charger   \n1        Apple  Adapter Charger   \n2     Ava Plus  Adapter Charger   \n3         Vcom  Adapter Charger   \n4      Xmobile  Adapter Charger   \n..         ...              ...   \n123       Oppo           Tablet   \n124      Apple           Tablet   \n125     Xiaomi           Tablet   \n126    Samsung           Tablet   \n127    Masstel           Tablet   \n\n                                                  link  \\\n0      https://www.thegioididong.com/adapter-sac-evalu   \n1      https://www.thegioididong.com/adapter-sac-apple   \n2    https://www.thegioididong.com/adapter-sac-ava-...   \n3       https://www.thegioididong.com/adapter-sac-vcom   \n4    https://www.thegioididong.com/adapter-sac-xmobile   \n..                                                 ...   \n123   https://www.thegioididong.com/may-tinh-bang-oppo   \n124  https://www.thegioididong.com/may-tinh-bang-ap...   \n125  https://www.thegioididong.com/may-tinh-bang-xi...   \n126  https://www.thegioididong.com/may-tinh-bang-sa...   \n127  https://www.thegioididong.com/may-tinh-bang-ma...   \n\n                                             link_logo  \n0        https://cdn.tgdd.vn/Brand/1/eValu9499-b_0.jpg  \n1       https://cdn.tgdd.vn/Brand/1/Apple9499-b_28.jpg  \n2     https://cdn.tgdd.vn/Brand/1/220-48-220x48-11.jpg  \n3    https://cdn.tgdd.vn/Brand/1/logovcom-220x48-1.png  \n4     https://cdn.tgdd.vn/Brand/1/Xmobile9499-b_10.jpg  \n..                                                 ...  \n123  https://cdn.tgdd.vn/Brand/1/OPPO-logo-lon-220x...  \n124  https://cdn.tgdd.vn/Brand/1/iPad-(Apple)522-b_...  \n125  https://cdn.tgdd.vn/Brand/1/Tablet-xiaomi-220x...  \n126  https://cdn.tgdd.vn/Brand/1/samsungnew-220x48-...  \n127     https://cdn.tgdd.vn/Brand/1/Masstel522-b_7.png  \n\n[128 rows x 4 columns]",
                        "text/html": "\n  <div id=\"df-c85a11d6-99a4-4aec-9aba-ab04b48692e8\">\n    <div class=\"colab-df-container\">\n      <div>\n<style scoped>\n    .dataframe tbody tr th:only-of-type {\n        vertical-align: middle;\n    }\n\n    .dataframe tbody tr th {\n        vertical-align: top;\n    }\n\n    .dataframe thead th {\n        text-align: right;\n    }\n</style>\n<table border=\"1\" class=\"dataframe\">\n  <thead>\n    <tr style=\"text-align: right;\">\n      <th></th>\n      <th>brand_name</th>\n      <th>genre_name</th>\n      <th>link</th>\n      <th>link_logo</th>\n    </tr>\n  </thead>\n  <tbody>\n    <tr>\n      <th>0</th>\n      <td>Evalu</td>\n      <td>Adapter Charger</td>\n      <td>https://www.thegioididong.com/adapter-sac-evalu</td>\n      <td>https://cdn.tgdd.vn/Brand/1/eValu9499-b_0.jpg</td>\n    </tr>\n    <tr>\n      <th>1</th>\n      <td>Apple</td>\n      <td>Adapter Charger</td>\n      <td>https://www.thegioididong.com/adapter-sac-apple</td>\n      <td>https://cdn.tgdd.vn/Brand/1/Apple9499-b_28.jpg</td>\n    </tr>\n    <tr>\n      <th>2</th>\n      <td>Ava Plus</td>\n      <td>Adapter Charger</td>\n      <td>https://www.thegioididong.com/adapter-sac-ava-...</td>\n      <td>https://cdn.tgdd.vn/Brand/1/220-48-220x48-11.jpg</td>\n    </tr>\n    <tr>\n      <th>3</th>\n      <td>Vcom</td>\n      <td>Adapter Charger</td>\n      <td>https://www.thegioididong.com/adapter-sac-vcom</td>\n      <td>https://cdn.tgdd.vn/Brand/1/logovcom-220x48-1.png</td>\n    </tr>\n    <tr>\n      <th>4</th>\n      <td>Xmobile</td>\n      <td>Adapter Charger</td>\n      <td>https://www.thegioididong.com/adapter-sac-xmobile</td>\n      <td>https://cdn.tgdd.vn/Brand/1/Xmobile9499-b_10.jpg</td>\n    </tr>\n    <tr>\n      <th>...</th>\n      <td>...</td>\n      <td>...</td>\n      <td>...</td>\n      <td>...</td>\n    </tr>\n    <tr>\n      <th>123</th>\n      <td>Oppo</td>\n      <td>Tablet</td>\n      <td>https://www.thegioididong.com/may-tinh-bang-oppo</td>\n      <td>https://cdn.tgdd.vn/Brand/1/OPPO-logo-lon-220x...</td>\n    </tr>\n    <tr>\n      <th>124</th>\n      <td>Apple</td>\n      <td>Tablet</td>\n      <td>https://www.thegioididong.com/may-tinh-bang-ap...</td>\n      <td>https://cdn.tgdd.vn/Brand/1/iPad-(Apple)522-b_...</td>\n    </tr>\n    <tr>\n      <th>125</th>\n      <td>Xiaomi</td>\n      <td>Tablet</td>\n      <td>https://www.thegioididong.com/may-tinh-bang-xi...</td>\n      <td>https://cdn.tgdd.vn/Brand/1/Tablet-xiaomi-220x...</td>\n    </tr>\n    <tr>\n      <th>126</th>\n      <td>Samsung</td>\n      <td>Tablet</td>\n      <td>https://www.thegioididong.com/may-tinh-bang-sa...</td>\n      <td>https://cdn.tgdd.vn/Brand/1/samsungnew-220x48-...</td>\n    </tr>\n    <tr>\n      <th>127</th>\n      <td>Masstel</td>\n      <td>Tablet</td>\n      <td>https://www.thegioididong.com/may-tinh-bang-ma...</td>\n      <td>https://cdn.tgdd.vn/Brand/1/Masstel522-b_7.png</td>\n    </tr>\n  </tbody>\n</table>\n<p>128 rows × 4 columns</p>\n</div>\n      <button class=\"colab-df-convert\" onclick=\"convertToInteractive('df-c85a11d6-99a4-4aec-9aba-ab04b48692e8')\"\n              title=\"Convert this dataframe to an interactive table.\"\n              style=\"display:none;\">\n        \n  <svg xmlns=\"http://www.w3.org/2000/svg\" height=\"24px\"viewBox=\"0 0 24 24\"\n       width=\"24px\">\n    <path d=\"M0 0h24v24H0V0z\" fill=\"none\"/>\n    <path d=\"M18.56 5.44l.94 2.06.94-2.06 2.06-.94-2.06-.94-.94-2.06-.94 2.06-2.06.94zm-11 1L8.5 8.5l.94-2.06 2.06-.94-2.06-.94L8.5 2.5l-.94 2.06-2.06.94zm10 10l.94 2.06.94-2.06 2.06-.94-2.06-.94-.94-2.06-.94 2.06-2.06.94z\"/><path d=\"M17.41 7.96l-1.37-1.37c-.4-.4-.92-.59-1.43-.59-.52 0-1.04.2-1.43.59L10.3 9.45l-7.72 7.72c-.78.78-.78 2.05 0 2.83L4 21.41c.39.39.9.59 1.41.59.51 0 1.02-.2 1.41-.59l7.78-7.78 2.81-2.81c.8-.78.8-2.07 0-2.86zM5.41 20L4 18.59l7.72-7.72 1.47 1.35L5.41 20z\"/>\n  </svg>\n      </button>\n      \n  <style>\n    .colab-df-container {\n      display:flex;\n      flex-wrap:wrap;\n      gap: 12px;\n    }\n\n    .colab-df-convert {\n      background-color: #E8F0FE;\n      border: none;\n      border-radius: 50%;\n      cursor: pointer;\n      display: none;\n      fill: #1967D2;\n      height: 32px;\n      padding: 0 0 0 0;\n      width: 32px;\n    }\n\n    .colab-df-convert:hover {\n      background-color: #E2EBFA;\n      box-shadow: 0px 1px 2px rgba(60, 64, 67, 0.3), 0px 1px 3px 1px rgba(60, 64, 67, 0.15);\n      fill: #174EA6;\n    }\n\n    [theme=dark] .colab-df-convert {\n      background-color: #3B4455;\n      fill: #D2E3FC;\n    }\n\n    [theme=dark] .colab-df-convert:hover {\n      background-color: #434B5C;\n      box-shadow: 0px 1px 3px 1px rgba(0, 0, 0, 0.15);\n      filter: drop-shadow(0px 1px 2px rgba(0, 0, 0, 0.3));\n      fill: #FFFFFF;\n    }\n  </style>\n\n      <script>\n        const buttonEl =\n          document.querySelector('#df-c85a11d6-99a4-4aec-9aba-ab04b48692e8 button.colab-df-convert');\n        buttonEl.style.display =\n          google.colab.kernel.accessAllowed ? 'block' : 'none';\n\n        async function convertToInteractive(key) {\n          const element = document.querySelector('#df-c85a11d6-99a4-4aec-9aba-ab04b48692e8');\n          const dataTable =\n            await google.colab.kernel.invokeFunction('convertToInteractive',\n                                                     [key], {});\n          if (!dataTable) return;\n\n          const docLinkHtml = 'Like what you see? Visit the ' +\n            '<a target=\"_blank\" href=https://colab.research.google.com/notebooks/data_table.ipynb>data table notebook</a>'\n            + ' to learn more about interactive tables.';\n          element.innerHTML = '';\n          dataTable['output_type'] = 'display_data';\n          await google.colab.output.renderOutput(dataTable, element);\n          const docLink = document.createElement('div');\n          docLink.innerHTML = docLinkHtml;\n          element.appendChild(docLink);\n        }\n      </script>\n    </div>\n  </div>\n  "
                    },
                    "metadata": {}
                }
            ],
            "execution_count": null
        },
        {
            "cell_type": "code",
            "source": [
                "brand_details = brand_details \\\n",
                "                .join(genres, on='genre_name', how='inner') \\\n",
                "                .join(brands, on='brand_name', how='inner')\n",
                "\n",
                "brand_details = brand_details.toPandas()\n",
                "brand_details"
            ],
            "metadata": {
                "colab": {
                    "base_uri": "https://localhost:8080/",
                    "height": 424
                },
                "id": "Xwgz4iYEWFHh",
                "executionInfo": {
                    "status": "ok",
                    "timestamp": 1687810649576,
                    "user_tz": -420,
                    "elapsed": 1992,
                    "user": {
                        "displayName": "Cho Phan",
                        "userId": "15376299712231995454"
                    }
                },
                "outputId": "d07bf466-5b29-41a3-ecdd-68ce3c491bbf",
                "azdata_cell_guid": "0c69f168-0393-4ed2-81dc-fc2b2906d349",
                "language": "python"
            },
            "outputs": [
                {
                    "output_type": "execute_result",
                    "execution_count": 152,
                    "data": {
                        "text/plain": "    brand_name       genre_name  \\\n0        Evalu  Adapter Charger   \n1        Apple  Adapter Charger   \n2     Ava Plus  Adapter Charger   \n3         Vcom  Adapter Charger   \n4      Xmobile  Adapter Charger   \n..         ...              ...   \n123       Oppo           Tablet   \n124      Apple           Tablet   \n125     Xiaomi           Tablet   \n126    Samsung           Tablet   \n127    Masstel           Tablet   \n\n                                                  link  \\\n0      https://www.thegioididong.com/adapter-sac-evalu   \n1      https://www.thegioididong.com/adapter-sac-apple   \n2    https://www.thegioididong.com/adapter-sac-ava-...   \n3       https://www.thegioididong.com/adapter-sac-vcom   \n4    https://www.thegioididong.com/adapter-sac-xmobile   \n..                                                 ...   \n123   https://www.thegioididong.com/may-tinh-bang-oppo   \n124  https://www.thegioididong.com/may-tinh-bang-ap...   \n125  https://www.thegioididong.com/may-tinh-bang-xi...   \n126  https://www.thegioididong.com/may-tinh-bang-sa...   \n127  https://www.thegioididong.com/may-tinh-bang-ma...   \n\n                                             link_logo genre_id brand_id  \n0        https://cdn.tgdd.vn/Brand/1/eValu9499-b_0.jpg     0101     0112  \n1       https://cdn.tgdd.vn/Brand/1/Apple9499-b_28.jpg     0101     0115  \n2     https://cdn.tgdd.vn/Brand/1/220-48-220x48-11.jpg     0101     0116  \n3    https://cdn.tgdd.vn/Brand/1/logovcom-220x48-1.png     0101     0107  \n4     https://cdn.tgdd.vn/Brand/1/Xmobile9499-b_10.jpg     0101     0114  \n..                                                 ...      ...      ...  \n123  https://cdn.tgdd.vn/Brand/1/OPPO-logo-lon-220x...     0109     0109  \n124  https://cdn.tgdd.vn/Brand/1/iPad-(Apple)522-b_...     0109     0115  \n125  https://cdn.tgdd.vn/Brand/1/Tablet-xiaomi-220x...     0109     0127  \n126  https://cdn.tgdd.vn/Brand/1/samsungnew-220x48-...     0109     0110  \n127     https://cdn.tgdd.vn/Brand/1/Masstel522-b_7.png     0109     0158  \n\n[128 rows x 6 columns]",
                        "text/html": "\n  <div id=\"df-7c07e919-9e46-46ca-a228-ea8d13e0dd71\">\n    <div class=\"colab-df-container\">\n      <div>\n<style scoped>\n    .dataframe tbody tr th:only-of-type {\n        vertical-align: middle;\n    }\n\n    .dataframe tbody tr th {\n        vertical-align: top;\n    }\n\n    .dataframe thead th {\n        text-align: right;\n    }\n</style>\n<table border=\"1\" class=\"dataframe\">\n  <thead>\n    <tr style=\"text-align: right;\">\n      <th></th>\n      <th>brand_name</th>\n      <th>genre_name</th>\n      <th>link</th>\n      <th>link_logo</th>\n      <th>genre_id</th>\n      <th>brand_id</th>\n    </tr>\n  </thead>\n  <tbody>\n    <tr>\n      <th>0</th>\n      <td>Evalu</td>\n      <td>Adapter Charger</td>\n      <td>https://www.thegioididong.com/adapter-sac-evalu</td>\n      <td>https://cdn.tgdd.vn/Brand/1/eValu9499-b_0.jpg</td>\n      <td>0101</td>\n      <td>0112</td>\n    </tr>\n    <tr>\n      <th>1</th>\n      <td>Apple</td>\n      <td>Adapter Charger</td>\n      <td>https://www.thegioididong.com/adapter-sac-apple</td>\n      <td>https://cdn.tgdd.vn/Brand/1/Apple9499-b_28.jpg</td>\n      <td>0101</td>\n      <td>0115</td>\n    </tr>\n    <tr>\n      <th>2</th>\n      <td>Ava Plus</td>\n      <td>Adapter Charger</td>\n      <td>https://www.thegioididong.com/adapter-sac-ava-...</td>\n      <td>https://cdn.tgdd.vn/Brand/1/220-48-220x48-11.jpg</td>\n      <td>0101</td>\n      <td>0116</td>\n    </tr>\n    <tr>\n      <th>3</th>\n      <td>Vcom</td>\n      <td>Adapter Charger</td>\n      <td>https://www.thegioididong.com/adapter-sac-vcom</td>\n      <td>https://cdn.tgdd.vn/Brand/1/logovcom-220x48-1.png</td>\n      <td>0101</td>\n      <td>0107</td>\n    </tr>\n    <tr>\n      <th>4</th>\n      <td>Xmobile</td>\n      <td>Adapter Charger</td>\n      <td>https://www.thegioididong.com/adapter-sac-xmobile</td>\n      <td>https://cdn.tgdd.vn/Brand/1/Xmobile9499-b_10.jpg</td>\n      <td>0101</td>\n      <td>0114</td>\n    </tr>\n    <tr>\n      <th>...</th>\n      <td>...</td>\n      <td>...</td>\n      <td>...</td>\n      <td>...</td>\n      <td>...</td>\n      <td>...</td>\n    </tr>\n    <tr>\n      <th>123</th>\n      <td>Oppo</td>\n      <td>Tablet</td>\n      <td>https://www.thegioididong.com/may-tinh-bang-oppo</td>\n      <td>https://cdn.tgdd.vn/Brand/1/OPPO-logo-lon-220x...</td>\n      <td>0109</td>\n      <td>0109</td>\n    </tr>\n    <tr>\n      <th>124</th>\n      <td>Apple</td>\n      <td>Tablet</td>\n      <td>https://www.thegioididong.com/may-tinh-bang-ap...</td>\n      <td>https://cdn.tgdd.vn/Brand/1/iPad-(Apple)522-b_...</td>\n      <td>0109</td>\n      <td>0115</td>\n    </tr>\n    <tr>\n      <th>125</th>\n      <td>Xiaomi</td>\n      <td>Tablet</td>\n      <td>https://www.thegioididong.com/may-tinh-bang-xi...</td>\n      <td>https://cdn.tgdd.vn/Brand/1/Tablet-xiaomi-220x...</td>\n      <td>0109</td>\n      <td>0127</td>\n    </tr>\n    <tr>\n      <th>126</th>\n      <td>Samsung</td>\n      <td>Tablet</td>\n      <td>https://www.thegioididong.com/may-tinh-bang-sa...</td>\n      <td>https://cdn.tgdd.vn/Brand/1/samsungnew-220x48-...</td>\n      <td>0109</td>\n      <td>0110</td>\n    </tr>\n    <tr>\n      <th>127</th>\n      <td>Masstel</td>\n      <td>Tablet</td>\n      <td>https://www.thegioididong.com/may-tinh-bang-ma...</td>\n      <td>https://cdn.tgdd.vn/Brand/1/Masstel522-b_7.png</td>\n      <td>0109</td>\n      <td>0158</td>\n    </tr>\n  </tbody>\n</table>\n<p>128 rows × 6 columns</p>\n</div>\n      <button class=\"colab-df-convert\" onclick=\"convertToInteractive('df-7c07e919-9e46-46ca-a228-ea8d13e0dd71')\"\n              title=\"Convert this dataframe to an interactive table.\"\n              style=\"display:none;\">\n        \n  <svg xmlns=\"http://www.w3.org/2000/svg\" height=\"24px\"viewBox=\"0 0 24 24\"\n       width=\"24px\">\n    <path d=\"M0 0h24v24H0V0z\" fill=\"none\"/>\n    <path d=\"M18.56 5.44l.94 2.06.94-2.06 2.06-.94-2.06-.94-.94-2.06-.94 2.06-2.06.94zm-11 1L8.5 8.5l.94-2.06 2.06-.94-2.06-.94L8.5 2.5l-.94 2.06-2.06.94zm10 10l.94 2.06.94-2.06 2.06-.94-2.06-.94-.94-2.06-.94 2.06-2.06.94z\"/><path d=\"M17.41 7.96l-1.37-1.37c-.4-.4-.92-.59-1.43-.59-.52 0-1.04.2-1.43.59L10.3 9.45l-7.72 7.72c-.78.78-.78 2.05 0 2.83L4 21.41c.39.39.9.59 1.41.59.51 0 1.02-.2 1.41-.59l7.78-7.78 2.81-2.81c.8-.78.8-2.07 0-2.86zM5.41 20L4 18.59l7.72-7.72 1.47 1.35L5.41 20z\"/>\n  </svg>\n      </button>\n      \n  <style>\n    .colab-df-container {\n      display:flex;\n      flex-wrap:wrap;\n      gap: 12px;\n    }\n\n    .colab-df-convert {\n      background-color: #E8F0FE;\n      border: none;\n      border-radius: 50%;\n      cursor: pointer;\n      display: none;\n      fill: #1967D2;\n      height: 32px;\n      padding: 0 0 0 0;\n      width: 32px;\n    }\n\n    .colab-df-convert:hover {\n      background-color: #E2EBFA;\n      box-shadow: 0px 1px 2px rgba(60, 64, 67, 0.3), 0px 1px 3px 1px rgba(60, 64, 67, 0.15);\n      fill: #174EA6;\n    }\n\n    [theme=dark] .colab-df-convert {\n      background-color: #3B4455;\n      fill: #D2E3FC;\n    }\n\n    [theme=dark] .colab-df-convert:hover {\n      background-color: #434B5C;\n      box-shadow: 0px 1px 3px 1px rgba(0, 0, 0, 0.15);\n      filter: drop-shadow(0px 1px 2px rgba(0, 0, 0, 0.3));\n      fill: #FFFFFF;\n    }\n  </style>\n\n      <script>\n        const buttonEl =\n          document.querySelector('#df-7c07e919-9e46-46ca-a228-ea8d13e0dd71 button.colab-df-convert');\n        buttonEl.style.display =\n          google.colab.kernel.accessAllowed ? 'block' : 'none';\n\n        async function convertToInteractive(key) {\n          const element = document.querySelector('#df-7c07e919-9e46-46ca-a228-ea8d13e0dd71');\n          const dataTable =\n            await google.colab.kernel.invokeFunction('convertToInteractive',\n                                                     [key], {});\n          if (!dataTable) return;\n\n          const docLinkHtml = 'Like what you see? Visit the ' +\n            '<a target=\"_blank\" href=https://colab.research.google.com/notebooks/data_table.ipynb>data table notebook</a>'\n            + ' to learn more about interactive tables.';\n          element.innerHTML = '';\n          dataTable['output_type'] = 'display_data';\n          await google.colab.output.renderOutput(dataTable, element);\n          const docLink = document.createElement('div');\n          docLink.innerHTML = docLinkHtml;\n          element.appendChild(docLink);\n        }\n      </script>\n    </div>\n  </div>\n  "
                    },
                    "metadata": {}
                }
            ],
            "execution_count": null
        },
        {
            "cell_type": "code",
            "source": [
                "brand_details = brand_details[['brand_id', 'genre_id', 'link', 'link_logo']]"
            ],
            "metadata": {
                "id": "zUWF_InlWFKS",
                "azdata_cell_guid": "e3ec3288-14af-4fb4-a949-c4f8bf6ac518",
                "language": "python"
            },
            "outputs": [],
            "execution_count": null
        },
        {
            "cell_type": "code",
            "source": [
                "to_csv(brand_details, '/transformed/brand_details/brand_details.csv')"
            ],
            "metadata": {
                "id": "lprVLs68UoM2",
                "azdata_cell_guid": "6672ec91-6c1a-4688-84ed-ae9221008cb0",
                "language": "python"
            },
            "outputs": [],
            "execution_count": null
        },
        {
            "cell_type": "markdown",
            "source": [
                "## **Tables Products**"
            ],
            "metadata": {
                "id": "tgFaLNtKLnc2",
                "azdata_cell_guid": "aa832e25-0190-4eb7-8927-26664a0bf05f"
            }
        },
        {
            "cell_type": "code",
            "source": [
                "adapter_charger = read_csv('/transformed/product/adapter_charger.csv')\n",
                "backup_charger = read_csv('/transformed/product/backup_charger.csv')\n",
                "cables = read_csv('/transformed/product/cables.csv')\n",
                "headphone = read_csv('/transformed/product/headphone.csv')\n",
                "laptop_speaker = read_csv('/transformed/product/laptop_speaker.csv')\n",
                "laptop = read_csv('/transformed/product/laptop.csv')\n",
                "mobile_phone = read_csv('/transformed/product/mobile_phone.csv')\n",
                "smartwatch = read_csv('/transformed/product/smartwatch.csv')\n",
                "tablet = read_csv('/transformed/product/tablet.csv')"
            ],
            "metadata": {
                "id": "7Vvi_Dn-Lmbx",
                "azdata_cell_guid": "7dcbf74c-e5c4-4b36-bc14-c19a5e7fbe2f",
                "language": "python"
            },
            "outputs": [],
            "execution_count": null
        },
        {
            "cell_type": "code",
            "source": [
                "genres = read_csv('/transformed/genre/genres.csv')\n",
                "brands = read_csv('/transformed/brand/brands.csv')"
            ],
            "metadata": {
                "id": "Rhu6LU7DPj3P",
                "azdata_cell_guid": "6c777de3-5c31-40b4-8437-46f6fe24eccf",
                "language": "python"
            },
            "outputs": [],
            "execution_count": null
        },
        {
            "cell_type": "code",
            "source": [
                "products = adapter_charger \\\n",
                "           .union(backup_charger) \\\n",
                "           .union(cables) \\\n",
                "           .union(headphone) \\\n",
                "           .union(laptop_speaker) \\\n",
                "           .union(laptop) \\\n",
                "           .union(mobile_phone) \\\n",
                "           .union(smartwatch) \\\n",
                "           .union(tablet)\n",
                "\n",
                "products.toPandas()"
            ],
            "metadata": {
                "colab": {
                    "base_uri": "https://localhost:8080/",
                    "height": 607
                },
                "id": "j6CqubwdLmeY",
                "executionInfo": {
                    "status": "ok",
                    "timestamp": 1687810829647,
                    "user_tz": -420,
                    "elapsed": 1637,
                    "user": {
                        "displayName": "Cho Phan",
                        "userId": "15376299712231995454"
                    }
                },
                "outputId": "65ef5c66-c6e7-4366-fddf-a145a07fc6ec",
                "azdata_cell_guid": "4ecd93fc-e6ef-4833-8c87-78d72bed0abd",
                "language": "python"
            },
            "outputs": [
                {
                    "output_type": "execute_result",
                    "execution_count": 157,
                    "data": {
                        "text/plain": "                                           product_name current_price  \\\n0                                   Sạc Apple 20W MHJE3      520000.0   \n1        Bộ chuyển đổi chân sạc Adapter Kit Apple MD837      870000.0   \n2                                       Sạc Apple MGN13      225000.0   \n3                                   Sạc Apple MD813ZM-A      405000.0   \n4     Bộ Adapter sạc kèm cáp Type C - Type C Samsung...      650000.0   \n...                                                 ...           ...   \n1048                                 OPPO Pad Air 128GB       7790000   \n1049                                  OPPO Pad Air 64GB       6490000   \n1050                                    Masstel Tab 10A       2790000   \n1051                                    Masstel Tab 10S       2690000   \n1052                                    Masstel Tab 8.2       2390000   \n\n          price percent_discount rating series  \\\n0      690000.0               24    433   None   \n1     1090000.0               20      0   None   \n2      450000.0               50     52   None   \n3      450000.0               10      8   None   \n4     1190000.0               45     67   None   \n...         ...              ...    ...    ...   \n1048    7990000                0      9   None   \n1049    6690000                0     53   None   \n1050    2790000                0     40   None   \n1051    2890000                6     91   None   \n1052    2490000                4     43   None   \n\n                                                   link       genre_name  \\\n0     https://www.thegioididong.com/adapter-sac/adap...  Adapter Charger   \n1     https://www.thegioididong.com/adapter-sac/chan...  Adapter Charger   \n2     https://www.thegioididong.com/adapter-sac/adap...  Adapter Charger   \n3     https://www.thegioididong.com/adapter-sac/adap...  Adapter Charger   \n4     https://www.thegioididong.com/adapter-sac/bo-a...  Adapter Charger   \n...                                                 ...              ...   \n1048  https://www.thegioididong.com/may-tinh-bang/op...           Tablet   \n1049  https://www.thegioididong.com/may-tinh-bang/op...           Tablet   \n1050  https://www.thegioididong.com/may-tinh-bang/ma...           Tablet   \n1051  https://www.thegioididong.com/may-tinh-bang/ma...           Tablet   \n1052  https://www.thegioididong.com/may-tinh-bang/ma...           Tablet   \n\n     brand_name  \n0         Apple  \n1         Apple  \n2         Apple  \n3         Apple  \n4       Samsung  \n...         ...  \n1048       Oppo  \n1049       Oppo  \n1050    Masstel  \n1051    Masstel  \n1052    Masstel  \n\n[1053 rows x 9 columns]",
                        "text/html": "\n  <div id=\"df-e04898d5-9d4f-4304-b2a1-267c4d95cce6\">\n    <div class=\"colab-df-container\">\n      <div>\n<style scoped>\n    .dataframe tbody tr th:only-of-type {\n        vertical-align: middle;\n    }\n\n    .dataframe tbody tr th {\n        vertical-align: top;\n    }\n\n    .dataframe thead th {\n        text-align: right;\n    }\n</style>\n<table border=\"1\" class=\"dataframe\">\n  <thead>\n    <tr style=\"text-align: right;\">\n      <th></th>\n      <th>product_name</th>\n      <th>current_price</th>\n      <th>price</th>\n      <th>percent_discount</th>\n      <th>rating</th>\n      <th>series</th>\n      <th>link</th>\n      <th>genre_name</th>\n      <th>brand_name</th>\n    </tr>\n  </thead>\n  <tbody>\n    <tr>\n      <th>0</th>\n      <td>Sạc Apple 20W MHJE3</td>\n      <td>520000.0</td>\n      <td>690000.0</td>\n      <td>24</td>\n      <td>433</td>\n      <td>None</td>\n      <td>https://www.thegioididong.com/adapter-sac/adap...</td>\n      <td>Adapter Charger</td>\n      <td>Apple</td>\n    </tr>\n    <tr>\n      <th>1</th>\n      <td>Bộ chuyển đổi chân sạc Adapter Kit Apple MD837</td>\n      <td>870000.0</td>\n      <td>1090000.0</td>\n      <td>20</td>\n      <td>0</td>\n      <td>None</td>\n      <td>https://www.thegioididong.com/adapter-sac/chan...</td>\n      <td>Adapter Charger</td>\n      <td>Apple</td>\n    </tr>\n    <tr>\n      <th>2</th>\n      <td>Sạc Apple MGN13</td>\n      <td>225000.0</td>\n      <td>450000.0</td>\n      <td>50</td>\n      <td>52</td>\n      <td>None</td>\n      <td>https://www.thegioididong.com/adapter-sac/adap...</td>\n      <td>Adapter Charger</td>\n      <td>Apple</td>\n    </tr>\n    <tr>\n      <th>3</th>\n      <td>Sạc Apple MD813ZM-A</td>\n      <td>405000.0</td>\n      <td>450000.0</td>\n      <td>10</td>\n      <td>8</td>\n      <td>None</td>\n      <td>https://www.thegioididong.com/adapter-sac/adap...</td>\n      <td>Adapter Charger</td>\n      <td>Apple</td>\n    </tr>\n    <tr>\n      <th>4</th>\n      <td>Bộ Adapter sạc kèm cáp Type C - Type C Samsung...</td>\n      <td>650000.0</td>\n      <td>1190000.0</td>\n      <td>45</td>\n      <td>67</td>\n      <td>None</td>\n      <td>https://www.thegioididong.com/adapter-sac/bo-a...</td>\n      <td>Adapter Charger</td>\n      <td>Samsung</td>\n    </tr>\n    <tr>\n      <th>...</th>\n      <td>...</td>\n      <td>...</td>\n      <td>...</td>\n      <td>...</td>\n      <td>...</td>\n      <td>...</td>\n      <td>...</td>\n      <td>...</td>\n      <td>...</td>\n    </tr>\n    <tr>\n      <th>1048</th>\n      <td>OPPO Pad Air 128GB</td>\n      <td>7790000</td>\n      <td>7990000</td>\n      <td>0</td>\n      <td>9</td>\n      <td>None</td>\n      <td>https://www.thegioididong.com/may-tinh-bang/op...</td>\n      <td>Tablet</td>\n      <td>Oppo</td>\n    </tr>\n    <tr>\n      <th>1049</th>\n      <td>OPPO Pad Air 64GB</td>\n      <td>6490000</td>\n      <td>6690000</td>\n      <td>0</td>\n      <td>53</td>\n      <td>None</td>\n      <td>https://www.thegioididong.com/may-tinh-bang/op...</td>\n      <td>Tablet</td>\n      <td>Oppo</td>\n    </tr>\n    <tr>\n      <th>1050</th>\n      <td>Masstel Tab 10A</td>\n      <td>2790000</td>\n      <td>2790000</td>\n      <td>0</td>\n      <td>40</td>\n      <td>None</td>\n      <td>https://www.thegioididong.com/may-tinh-bang/ma...</td>\n      <td>Tablet</td>\n      <td>Masstel</td>\n    </tr>\n    <tr>\n      <th>1051</th>\n      <td>Masstel Tab 10S</td>\n      <td>2690000</td>\n      <td>2890000</td>\n      <td>6</td>\n      <td>91</td>\n      <td>None</td>\n      <td>https://www.thegioididong.com/may-tinh-bang/ma...</td>\n      <td>Tablet</td>\n      <td>Masstel</td>\n    </tr>\n    <tr>\n      <th>1052</th>\n      <td>Masstel Tab 8.2</td>\n      <td>2390000</td>\n      <td>2490000</td>\n      <td>4</td>\n      <td>43</td>\n      <td>None</td>\n      <td>https://www.thegioididong.com/may-tinh-bang/ma...</td>\n      <td>Tablet</td>\n      <td>Masstel</td>\n    </tr>\n  </tbody>\n</table>\n<p>1053 rows × 9 columns</p>\n</div>\n      <button class=\"colab-df-convert\" onclick=\"convertToInteractive('df-e04898d5-9d4f-4304-b2a1-267c4d95cce6')\"\n              title=\"Convert this dataframe to an interactive table.\"\n              style=\"display:none;\">\n        \n  <svg xmlns=\"http://www.w3.org/2000/svg\" height=\"24px\"viewBox=\"0 0 24 24\"\n       width=\"24px\">\n    <path d=\"M0 0h24v24H0V0z\" fill=\"none\"/>\n    <path d=\"M18.56 5.44l.94 2.06.94-2.06 2.06-.94-2.06-.94-.94-2.06-.94 2.06-2.06.94zm-11 1L8.5 8.5l.94-2.06 2.06-.94-2.06-.94L8.5 2.5l-.94 2.06-2.06.94zm10 10l.94 2.06.94-2.06 2.06-.94-2.06-.94-.94-2.06-.94 2.06-2.06.94z\"/><path d=\"M17.41 7.96l-1.37-1.37c-.4-.4-.92-.59-1.43-.59-.52 0-1.04.2-1.43.59L10.3 9.45l-7.72 7.72c-.78.78-.78 2.05 0 2.83L4 21.41c.39.39.9.59 1.41.59.51 0 1.02-.2 1.41-.59l7.78-7.78 2.81-2.81c.8-.78.8-2.07 0-2.86zM5.41 20L4 18.59l7.72-7.72 1.47 1.35L5.41 20z\"/>\n  </svg>\n      </button>\n      \n  <style>\n    .colab-df-container {\n      display:flex;\n      flex-wrap:wrap;\n      gap: 12px;\n    }\n\n    .colab-df-convert {\n      background-color: #E8F0FE;\n      border: none;\n      border-radius: 50%;\n      cursor: pointer;\n      display: none;\n      fill: #1967D2;\n      height: 32px;\n      padding: 0 0 0 0;\n      width: 32px;\n    }\n\n    .colab-df-convert:hover {\n      background-color: #E2EBFA;\n      box-shadow: 0px 1px 2px rgba(60, 64, 67, 0.3), 0px 1px 3px 1px rgba(60, 64, 67, 0.15);\n      fill: #174EA6;\n    }\n\n    [theme=dark] .colab-df-convert {\n      background-color: #3B4455;\n      fill: #D2E3FC;\n    }\n\n    [theme=dark] .colab-df-convert:hover {\n      background-color: #434B5C;\n      box-shadow: 0px 1px 3px 1px rgba(0, 0, 0, 0.15);\n      filter: drop-shadow(0px 1px 2px rgba(0, 0, 0, 0.3));\n      fill: #FFFFFF;\n    }\n  </style>\n\n      <script>\n        const buttonEl =\n          document.querySelector('#df-e04898d5-9d4f-4304-b2a1-267c4d95cce6 button.colab-df-convert');\n        buttonEl.style.display =\n          google.colab.kernel.accessAllowed ? 'block' : 'none';\n\n        async function convertToInteractive(key) {\n          const element = document.querySelector('#df-e04898d5-9d4f-4304-b2a1-267c4d95cce6');\n          const dataTable =\n            await google.colab.kernel.invokeFunction('convertToInteractive',\n                                                     [key], {});\n          if (!dataTable) return;\n\n          const docLinkHtml = 'Like what you see? Visit the ' +\n            '<a target=\"_blank\" href=https://colab.research.google.com/notebooks/data_table.ipynb>data table notebook</a>'\n            + ' to learn more about interactive tables.';\n          element.innerHTML = '';\n          dataTable['output_type'] = 'display_data';\n          await google.colab.output.renderOutput(dataTable, element);\n          const docLink = document.createElement('div');\n          docLink.innerHTML = docLinkHtml;\n          element.appendChild(docLink);\n        }\n      </script>\n    </div>\n  </div>\n  "
                    },
                    "metadata": {}
                }
            ],
            "execution_count": null
        },
        {
            "cell_type": "code",
            "source": [
                "products = products \\\n",
                "           .join(genres, on='genre_name', how='inner') \\\n",
                "           .join(brands, on='brand_name', how='inner')\n",
                "products = products.toPandas()\n",
                "products"
            ],
            "metadata": {
                "colab": {
                    "base_uri": "https://localhost:8080/",
                    "height": 641
                },
                "id": "4x3BlKZqLmhN",
                "executionInfo": {
                    "status": "ok",
                    "timestamp": 1687810858862,
                    "user_tz": -420,
                    "elapsed": 1522,
                    "user": {
                        "displayName": "Cho Phan",
                        "userId": "15376299712231995454"
                    }
                },
                "outputId": "12145e17-0792-4037-ec67-0d11dd977d4f",
                "azdata_cell_guid": "93713e3a-62c0-458d-b7d6-936241a19e8f",
                "language": "python"
            },
            "outputs": [
                {
                    "output_type": "execute_result",
                    "execution_count": 158,
                    "data": {
                        "text/plain": "     brand_name       genre_name  \\\n0         Apple  Adapter Charger   \n1         Apple  Adapter Charger   \n2         Apple  Adapter Charger   \n3         Apple  Adapter Charger   \n4       Samsung  Adapter Charger   \n...         ...              ...   \n1048       Oppo           Tablet   \n1049       Oppo           Tablet   \n1050    Masstel           Tablet   \n1051    Masstel           Tablet   \n1052    Masstel           Tablet   \n\n                                           product_name current_price  \\\n0                                   Sạc Apple 20W MHJE3      520000.0   \n1        Bộ chuyển đổi chân sạc Adapter Kit Apple MD837      870000.0   \n2                                       Sạc Apple MGN13      225000.0   \n3                                   Sạc Apple MD813ZM-A      405000.0   \n4     Bộ Adapter sạc kèm cáp Type C - Type C Samsung...      650000.0   \n...                                                 ...           ...   \n1048                                 OPPO Pad Air 128GB       7790000   \n1049                                  OPPO Pad Air 64GB       6490000   \n1050                                    Masstel Tab 10A       2790000   \n1051                                    Masstel Tab 10S       2690000   \n1052                                    Masstel Tab 8.2       2390000   \n\n          price percent_discount rating series  \\\n0      690000.0               24    433   None   \n1     1090000.0               20      0   None   \n2      450000.0               50     52   None   \n3      450000.0               10      8   None   \n4     1190000.0               45     67   None   \n...         ...              ...    ...    ...   \n1048    7990000                0      9   None   \n1049    6690000                0     53   None   \n1050    2790000                0     40   None   \n1051    2890000                6     91   None   \n1052    2490000                4     43   None   \n\n                                                   link genre_id brand_id  \n0     https://www.thegioididong.com/adapter-sac/adap...     0101     0115  \n1     https://www.thegioididong.com/adapter-sac/chan...     0101     0115  \n2     https://www.thegioididong.com/adapter-sac/adap...     0101     0115  \n3     https://www.thegioididong.com/adapter-sac/adap...     0101     0115  \n4     https://www.thegioididong.com/adapter-sac/bo-a...     0101     0110  \n...                                                 ...      ...      ...  \n1048  https://www.thegioididong.com/may-tinh-bang/op...     0109     0109  \n1049  https://www.thegioididong.com/may-tinh-bang/op...     0109     0109  \n1050  https://www.thegioididong.com/may-tinh-bang/ma...     0109     0158  \n1051  https://www.thegioididong.com/may-tinh-bang/ma...     0109     0158  \n1052  https://www.thegioididong.com/may-tinh-bang/ma...     0109     0158  \n\n[1053 rows x 11 columns]",
                        "text/html": "\n  <div id=\"df-ea940410-e600-4764-90e4-10720f28674f\">\n    <div class=\"colab-df-container\">\n      <div>\n<style scoped>\n    .dataframe tbody tr th:only-of-type {\n        vertical-align: middle;\n    }\n\n    .dataframe tbody tr th {\n        vertical-align: top;\n    }\n\n    .dataframe thead th {\n        text-align: right;\n    }\n</style>\n<table border=\"1\" class=\"dataframe\">\n  <thead>\n    <tr style=\"text-align: right;\">\n      <th></th>\n      <th>brand_name</th>\n      <th>genre_name</th>\n      <th>product_name</th>\n      <th>current_price</th>\n      <th>price</th>\n      <th>percent_discount</th>\n      <th>rating</th>\n      <th>series</th>\n      <th>link</th>\n      <th>genre_id</th>\n      <th>brand_id</th>\n    </tr>\n  </thead>\n  <tbody>\n    <tr>\n      <th>0</th>\n      <td>Apple</td>\n      <td>Adapter Charger</td>\n      <td>Sạc Apple 20W MHJE3</td>\n      <td>520000.0</td>\n      <td>690000.0</td>\n      <td>24</td>\n      <td>433</td>\n      <td>None</td>\n      <td>https://www.thegioididong.com/adapter-sac/adap...</td>\n      <td>0101</td>\n      <td>0115</td>\n    </tr>\n    <tr>\n      <th>1</th>\n      <td>Apple</td>\n      <td>Adapter Charger</td>\n      <td>Bộ chuyển đổi chân sạc Adapter Kit Apple MD837</td>\n      <td>870000.0</td>\n      <td>1090000.0</td>\n      <td>20</td>\n      <td>0</td>\n      <td>None</td>\n      <td>https://www.thegioididong.com/adapter-sac/chan...</td>\n      <td>0101</td>\n      <td>0115</td>\n    </tr>\n    <tr>\n      <th>2</th>\n      <td>Apple</td>\n      <td>Adapter Charger</td>\n      <td>Sạc Apple MGN13</td>\n      <td>225000.0</td>\n      <td>450000.0</td>\n      <td>50</td>\n      <td>52</td>\n      <td>None</td>\n      <td>https://www.thegioididong.com/adapter-sac/adap...</td>\n      <td>0101</td>\n      <td>0115</td>\n    </tr>\n    <tr>\n      <th>3</th>\n      <td>Apple</td>\n      <td>Adapter Charger</td>\n      <td>Sạc Apple MD813ZM-A</td>\n      <td>405000.0</td>\n      <td>450000.0</td>\n      <td>10</td>\n      <td>8</td>\n      <td>None</td>\n      <td>https://www.thegioididong.com/adapter-sac/adap...</td>\n      <td>0101</td>\n      <td>0115</td>\n    </tr>\n    <tr>\n      <th>4</th>\n      <td>Samsung</td>\n      <td>Adapter Charger</td>\n      <td>Bộ Adapter sạc kèm cáp Type C - Type C Samsung...</td>\n      <td>650000.0</td>\n      <td>1190000.0</td>\n      <td>45</td>\n      <td>67</td>\n      <td>None</td>\n      <td>https://www.thegioididong.com/adapter-sac/bo-a...</td>\n      <td>0101</td>\n      <td>0110</td>\n    </tr>\n    <tr>\n      <th>...</th>\n      <td>...</td>\n      <td>...</td>\n      <td>...</td>\n      <td>...</td>\n      <td>...</td>\n      <td>...</td>\n      <td>...</td>\n      <td>...</td>\n      <td>...</td>\n      <td>...</td>\n      <td>...</td>\n    </tr>\n    <tr>\n      <th>1048</th>\n      <td>Oppo</td>\n      <td>Tablet</td>\n      <td>OPPO Pad Air 128GB</td>\n      <td>7790000</td>\n      <td>7990000</td>\n      <td>0</td>\n      <td>9</td>\n      <td>None</td>\n      <td>https://www.thegioididong.com/may-tinh-bang/op...</td>\n      <td>0109</td>\n      <td>0109</td>\n    </tr>\n    <tr>\n      <th>1049</th>\n      <td>Oppo</td>\n      <td>Tablet</td>\n      <td>OPPO Pad Air 64GB</td>\n      <td>6490000</td>\n      <td>6690000</td>\n      <td>0</td>\n      <td>53</td>\n      <td>None</td>\n      <td>https://www.thegioididong.com/may-tinh-bang/op...</td>\n      <td>0109</td>\n      <td>0109</td>\n    </tr>\n    <tr>\n      <th>1050</th>\n      <td>Masstel</td>\n      <td>Tablet</td>\n      <td>Masstel Tab 10A</td>\n      <td>2790000</td>\n      <td>2790000</td>\n      <td>0</td>\n      <td>40</td>\n      <td>None</td>\n      <td>https://www.thegioididong.com/may-tinh-bang/ma...</td>\n      <td>0109</td>\n      <td>0158</td>\n    </tr>\n    <tr>\n      <th>1051</th>\n      <td>Masstel</td>\n      <td>Tablet</td>\n      <td>Masstel Tab 10S</td>\n      <td>2690000</td>\n      <td>2890000</td>\n      <td>6</td>\n      <td>91</td>\n      <td>None</td>\n      <td>https://www.thegioididong.com/may-tinh-bang/ma...</td>\n      <td>0109</td>\n      <td>0158</td>\n    </tr>\n    <tr>\n      <th>1052</th>\n      <td>Masstel</td>\n      <td>Tablet</td>\n      <td>Masstel Tab 8.2</td>\n      <td>2390000</td>\n      <td>2490000</td>\n      <td>4</td>\n      <td>43</td>\n      <td>None</td>\n      <td>https://www.thegioididong.com/may-tinh-bang/ma...</td>\n      <td>0109</td>\n      <td>0158</td>\n    </tr>\n  </tbody>\n</table>\n<p>1053 rows × 11 columns</p>\n</div>\n      <button class=\"colab-df-convert\" onclick=\"convertToInteractive('df-ea940410-e600-4764-90e4-10720f28674f')\"\n              title=\"Convert this dataframe to an interactive table.\"\n              style=\"display:none;\">\n        \n  <svg xmlns=\"http://www.w3.org/2000/svg\" height=\"24px\"viewBox=\"0 0 24 24\"\n       width=\"24px\">\n    <path d=\"M0 0h24v24H0V0z\" fill=\"none\"/>\n    <path d=\"M18.56 5.44l.94 2.06.94-2.06 2.06-.94-2.06-.94-.94-2.06-.94 2.06-2.06.94zm-11 1L8.5 8.5l.94-2.06 2.06-.94-2.06-.94L8.5 2.5l-.94 2.06-2.06.94zm10 10l.94 2.06.94-2.06 2.06-.94-2.06-.94-.94-2.06-.94 2.06-2.06.94z\"/><path d=\"M17.41 7.96l-1.37-1.37c-.4-.4-.92-.59-1.43-.59-.52 0-1.04.2-1.43.59L10.3 9.45l-7.72 7.72c-.78.78-.78 2.05 0 2.83L4 21.41c.39.39.9.59 1.41.59.51 0 1.02-.2 1.41-.59l7.78-7.78 2.81-2.81c.8-.78.8-2.07 0-2.86zM5.41 20L4 18.59l7.72-7.72 1.47 1.35L5.41 20z\"/>\n  </svg>\n      </button>\n      \n  <style>\n    .colab-df-container {\n      display:flex;\n      flex-wrap:wrap;\n      gap: 12px;\n    }\n\n    .colab-df-convert {\n      background-color: #E8F0FE;\n      border: none;\n      border-radius: 50%;\n      cursor: pointer;\n      display: none;\n      fill: #1967D2;\n      height: 32px;\n      padding: 0 0 0 0;\n      width: 32px;\n    }\n\n    .colab-df-convert:hover {\n      background-color: #E2EBFA;\n      box-shadow: 0px 1px 2px rgba(60, 64, 67, 0.3), 0px 1px 3px 1px rgba(60, 64, 67, 0.15);\n      fill: #174EA6;\n    }\n\n    [theme=dark] .colab-df-convert {\n      background-color: #3B4455;\n      fill: #D2E3FC;\n    }\n\n    [theme=dark] .colab-df-convert:hover {\n      background-color: #434B5C;\n      box-shadow: 0px 1px 3px 1px rgba(0, 0, 0, 0.15);\n      filter: drop-shadow(0px 1px 2px rgba(0, 0, 0, 0.3));\n      fill: #FFFFFF;\n    }\n  </style>\n\n      <script>\n        const buttonEl =\n          document.querySelector('#df-ea940410-e600-4764-90e4-10720f28674f button.colab-df-convert');\n        buttonEl.style.display =\n          google.colab.kernel.accessAllowed ? 'block' : 'none';\n\n        async function convertToInteractive(key) {\n          const element = document.querySelector('#df-ea940410-e600-4764-90e4-10720f28674f');\n          const dataTable =\n            await google.colab.kernel.invokeFunction('convertToInteractive',\n                                                     [key], {});\n          if (!dataTable) return;\n\n          const docLinkHtml = 'Like what you see? Visit the ' +\n            '<a target=\"_blank\" href=https://colab.research.google.com/notebooks/data_table.ipynb>data table notebook</a>'\n            + ' to learn more about interactive tables.';\n          element.innerHTML = '';\n          dataTable['output_type'] = 'display_data';\n          await google.colab.output.renderOutput(dataTable, element);\n          const docLink = document.createElement('div');\n          docLink.innerHTML = docLinkHtml;\n          element.appendChild(docLink);\n        }\n      </script>\n    </div>\n  </div>\n  "
                    },
                    "metadata": {}
                }
            ],
            "execution_count": null
        },
        {
            "cell_type": "code",
            "source": [
                "id = []\n",
                "for i in range(1, len(products)+1):\n",
                "    if i < 10:\n",
                "        id.append('01000' + str(i))\n",
                "    elif i < 100:\n",
                "        id.append('0100' + str(i))\n",
                "    elif i < 1000:\n",
                "        id.append('010' + str(i))\n",
                "    else:\n",
                "        id.append('01' + str(i))\n",
                "\n",
                "products['product_id'] = id\n",
                "\n",
                "products"
            ],
            "metadata": {
                "colab": {
                    "base_uri": "https://localhost:8080/",
                    "height": 676
                },
                "id": "4Zenhb7FLmkK",
                "executionInfo": {
                    "status": "ok",
                    "timestamp": 1687810865258,
                    "user_tz": -420,
                    "elapsed": 4,
                    "user": {
                        "displayName": "Cho Phan",
                        "userId": "15376299712231995454"
                    }
                },
                "outputId": "a610b541-4bce-4f56-ab6e-af42341d4c0b",
                "azdata_cell_guid": "c70fc88d-9805-442c-8dc6-91cbbdb0cd57",
                "language": "python"
            },
            "outputs": [
                {
                    "output_type": "execute_result",
                    "execution_count": 159,
                    "data": {
                        "text/plain": "     brand_name       genre_name  \\\n0         Apple  Adapter Charger   \n1         Apple  Adapter Charger   \n2         Apple  Adapter Charger   \n3         Apple  Adapter Charger   \n4       Samsung  Adapter Charger   \n...         ...              ...   \n1048       Oppo           Tablet   \n1049       Oppo           Tablet   \n1050    Masstel           Tablet   \n1051    Masstel           Tablet   \n1052    Masstel           Tablet   \n\n                                           product_name current_price  \\\n0                                   Sạc Apple 20W MHJE3      520000.0   \n1        Bộ chuyển đổi chân sạc Adapter Kit Apple MD837      870000.0   \n2                                       Sạc Apple MGN13      225000.0   \n3                                   Sạc Apple MD813ZM-A      405000.0   \n4     Bộ Adapter sạc kèm cáp Type C - Type C Samsung...      650000.0   \n...                                                 ...           ...   \n1048                                 OPPO Pad Air 128GB       7790000   \n1049                                  OPPO Pad Air 64GB       6490000   \n1050                                    Masstel Tab 10A       2790000   \n1051                                    Masstel Tab 10S       2690000   \n1052                                    Masstel Tab 8.2       2390000   \n\n          price percent_discount rating series  \\\n0      690000.0               24    433   None   \n1     1090000.0               20      0   None   \n2      450000.0               50     52   None   \n3      450000.0               10      8   None   \n4     1190000.0               45     67   None   \n...         ...              ...    ...    ...   \n1048    7990000                0      9   None   \n1049    6690000                0     53   None   \n1050    2790000                0     40   None   \n1051    2890000                6     91   None   \n1052    2490000                4     43   None   \n\n                                                   link genre_id brand_id  \\\n0     https://www.thegioididong.com/adapter-sac/adap...     0101     0115   \n1     https://www.thegioididong.com/adapter-sac/chan...     0101     0115   \n2     https://www.thegioididong.com/adapter-sac/adap...     0101     0115   \n3     https://www.thegioididong.com/adapter-sac/adap...     0101     0115   \n4     https://www.thegioididong.com/adapter-sac/bo-a...     0101     0110   \n...                                                 ...      ...      ...   \n1048  https://www.thegioididong.com/may-tinh-bang/op...     0109     0109   \n1049  https://www.thegioididong.com/may-tinh-bang/op...     0109     0109   \n1050  https://www.thegioididong.com/may-tinh-bang/ma...     0109     0158   \n1051  https://www.thegioididong.com/may-tinh-bang/ma...     0109     0158   \n1052  https://www.thegioididong.com/may-tinh-bang/ma...     0109     0158   \n\n     product_id  \n0        010001  \n1        010002  \n2        010003  \n3        010004  \n4        010005  \n...         ...  \n1048     011049  \n1049     011050  \n1050     011051  \n1051     011052  \n1052     011053  \n\n[1053 rows x 12 columns]",
                        "text/html": "\n  <div id=\"df-ef3ccca5-6d27-4289-8f86-cf53912ab728\">\n    <div class=\"colab-df-container\">\n      <div>\n<style scoped>\n    .dataframe tbody tr th:only-of-type {\n        vertical-align: middle;\n    }\n\n    .dataframe tbody tr th {\n        vertical-align: top;\n    }\n\n    .dataframe thead th {\n        text-align: right;\n    }\n</style>\n<table border=\"1\" class=\"dataframe\">\n  <thead>\n    <tr style=\"text-align: right;\">\n      <th></th>\n      <th>brand_name</th>\n      <th>genre_name</th>\n      <th>product_name</th>\n      <th>current_price</th>\n      <th>price</th>\n      <th>percent_discount</th>\n      <th>rating</th>\n      <th>series</th>\n      <th>link</th>\n      <th>genre_id</th>\n      <th>brand_id</th>\n      <th>product_id</th>\n    </tr>\n  </thead>\n  <tbody>\n    <tr>\n      <th>0</th>\n      <td>Apple</td>\n      <td>Adapter Charger</td>\n      <td>Sạc Apple 20W MHJE3</td>\n      <td>520000.0</td>\n      <td>690000.0</td>\n      <td>24</td>\n      <td>433</td>\n      <td>None</td>\n      <td>https://www.thegioididong.com/adapter-sac/adap...</td>\n      <td>0101</td>\n      <td>0115</td>\n      <td>010001</td>\n    </tr>\n    <tr>\n      <th>1</th>\n      <td>Apple</td>\n      <td>Adapter Charger</td>\n      <td>Bộ chuyển đổi chân sạc Adapter Kit Apple MD837</td>\n      <td>870000.0</td>\n      <td>1090000.0</td>\n      <td>20</td>\n      <td>0</td>\n      <td>None</td>\n      <td>https://www.thegioididong.com/adapter-sac/chan...</td>\n      <td>0101</td>\n      <td>0115</td>\n      <td>010002</td>\n    </tr>\n    <tr>\n      <th>2</th>\n      <td>Apple</td>\n      <td>Adapter Charger</td>\n      <td>Sạc Apple MGN13</td>\n      <td>225000.0</td>\n      <td>450000.0</td>\n      <td>50</td>\n      <td>52</td>\n      <td>None</td>\n      <td>https://www.thegioididong.com/adapter-sac/adap...</td>\n      <td>0101</td>\n      <td>0115</td>\n      <td>010003</td>\n    </tr>\n    <tr>\n      <th>3</th>\n      <td>Apple</td>\n      <td>Adapter Charger</td>\n      <td>Sạc Apple MD813ZM-A</td>\n      <td>405000.0</td>\n      <td>450000.0</td>\n      <td>10</td>\n      <td>8</td>\n      <td>None</td>\n      <td>https://www.thegioididong.com/adapter-sac/adap...</td>\n      <td>0101</td>\n      <td>0115</td>\n      <td>010004</td>\n    </tr>\n    <tr>\n      <th>4</th>\n      <td>Samsung</td>\n      <td>Adapter Charger</td>\n      <td>Bộ Adapter sạc kèm cáp Type C - Type C Samsung...</td>\n      <td>650000.0</td>\n      <td>1190000.0</td>\n      <td>45</td>\n      <td>67</td>\n      <td>None</td>\n      <td>https://www.thegioididong.com/adapter-sac/bo-a...</td>\n      <td>0101</td>\n      <td>0110</td>\n      <td>010005</td>\n    </tr>\n    <tr>\n      <th>...</th>\n      <td>...</td>\n      <td>...</td>\n      <td>...</td>\n      <td>...</td>\n      <td>...</td>\n      <td>...</td>\n      <td>...</td>\n      <td>...</td>\n      <td>...</td>\n      <td>...</td>\n      <td>...</td>\n      <td>...</td>\n    </tr>\n    <tr>\n      <th>1048</th>\n      <td>Oppo</td>\n      <td>Tablet</td>\n      <td>OPPO Pad Air 128GB</td>\n      <td>7790000</td>\n      <td>7990000</td>\n      <td>0</td>\n      <td>9</td>\n      <td>None</td>\n      <td>https://www.thegioididong.com/may-tinh-bang/op...</td>\n      <td>0109</td>\n      <td>0109</td>\n      <td>011049</td>\n    </tr>\n    <tr>\n      <th>1049</th>\n      <td>Oppo</td>\n      <td>Tablet</td>\n      <td>OPPO Pad Air 64GB</td>\n      <td>6490000</td>\n      <td>6690000</td>\n      <td>0</td>\n      <td>53</td>\n      <td>None</td>\n      <td>https://www.thegioididong.com/may-tinh-bang/op...</td>\n      <td>0109</td>\n      <td>0109</td>\n      <td>011050</td>\n    </tr>\n    <tr>\n      <th>1050</th>\n      <td>Masstel</td>\n      <td>Tablet</td>\n      <td>Masstel Tab 10A</td>\n      <td>2790000</td>\n      <td>2790000</td>\n      <td>0</td>\n      <td>40</td>\n      <td>None</td>\n      <td>https://www.thegioididong.com/may-tinh-bang/ma...</td>\n      <td>0109</td>\n      <td>0158</td>\n      <td>011051</td>\n    </tr>\n    <tr>\n      <th>1051</th>\n      <td>Masstel</td>\n      <td>Tablet</td>\n      <td>Masstel Tab 10S</td>\n      <td>2690000</td>\n      <td>2890000</td>\n      <td>6</td>\n      <td>91</td>\n      <td>None</td>\n      <td>https://www.thegioididong.com/may-tinh-bang/ma...</td>\n      <td>0109</td>\n      <td>0158</td>\n      <td>011052</td>\n    </tr>\n    <tr>\n      <th>1052</th>\n      <td>Masstel</td>\n      <td>Tablet</td>\n      <td>Masstel Tab 8.2</td>\n      <td>2390000</td>\n      <td>2490000</td>\n      <td>4</td>\n      <td>43</td>\n      <td>None</td>\n      <td>https://www.thegioididong.com/may-tinh-bang/ma...</td>\n      <td>0109</td>\n      <td>0158</td>\n      <td>011053</td>\n    </tr>\n  </tbody>\n</table>\n<p>1053 rows × 12 columns</p>\n</div>\n      <button class=\"colab-df-convert\" onclick=\"convertToInteractive('df-ef3ccca5-6d27-4289-8f86-cf53912ab728')\"\n              title=\"Convert this dataframe to an interactive table.\"\n              style=\"display:none;\">\n        \n  <svg xmlns=\"http://www.w3.org/2000/svg\" height=\"24px\"viewBox=\"0 0 24 24\"\n       width=\"24px\">\n    <path d=\"M0 0h24v24H0V0z\" fill=\"none\"/>\n    <path d=\"M18.56 5.44l.94 2.06.94-2.06 2.06-.94-2.06-.94-.94-2.06-.94 2.06-2.06.94zm-11 1L8.5 8.5l.94-2.06 2.06-.94-2.06-.94L8.5 2.5l-.94 2.06-2.06.94zm10 10l.94 2.06.94-2.06 2.06-.94-2.06-.94-.94-2.06-.94 2.06-2.06.94z\"/><path d=\"M17.41 7.96l-1.37-1.37c-.4-.4-.92-.59-1.43-.59-.52 0-1.04.2-1.43.59L10.3 9.45l-7.72 7.72c-.78.78-.78 2.05 0 2.83L4 21.41c.39.39.9.59 1.41.59.51 0 1.02-.2 1.41-.59l7.78-7.78 2.81-2.81c.8-.78.8-2.07 0-2.86zM5.41 20L4 18.59l7.72-7.72 1.47 1.35L5.41 20z\"/>\n  </svg>\n      </button>\n      \n  <style>\n    .colab-df-container {\n      display:flex;\n      flex-wrap:wrap;\n      gap: 12px;\n    }\n\n    .colab-df-convert {\n      background-color: #E8F0FE;\n      border: none;\n      border-radius: 50%;\n      cursor: pointer;\n      display: none;\n      fill: #1967D2;\n      height: 32px;\n      padding: 0 0 0 0;\n      width: 32px;\n    }\n\n    .colab-df-convert:hover {\n      background-color: #E2EBFA;\n      box-shadow: 0px 1px 2px rgba(60, 64, 67, 0.3), 0px 1px 3px 1px rgba(60, 64, 67, 0.15);\n      fill: #174EA6;\n    }\n\n    [theme=dark] .colab-df-convert {\n      background-color: #3B4455;\n      fill: #D2E3FC;\n    }\n\n    [theme=dark] .colab-df-convert:hover {\n      background-color: #434B5C;\n      box-shadow: 0px 1px 3px 1px rgba(0, 0, 0, 0.15);\n      filter: drop-shadow(0px 1px 2px rgba(0, 0, 0, 0.3));\n      fill: #FFFFFF;\n    }\n  </style>\n\n      <script>\n        const buttonEl =\n          document.querySelector('#df-ef3ccca5-6d27-4289-8f86-cf53912ab728 button.colab-df-convert');\n        buttonEl.style.display =\n          google.colab.kernel.accessAllowed ? 'block' : 'none';\n\n        async function convertToInteractive(key) {\n          const element = document.querySelector('#df-ef3ccca5-6d27-4289-8f86-cf53912ab728');\n          const dataTable =\n            await google.colab.kernel.invokeFunction('convertToInteractive',\n                                                     [key], {});\n          if (!dataTable) return;\n\n          const docLinkHtml = 'Like what you see? Visit the ' +\n            '<a target=\"_blank\" href=https://colab.research.google.com/notebooks/data_table.ipynb>data table notebook</a>'\n            + ' to learn more about interactive tables.';\n          element.innerHTML = '';\n          dataTable['output_type'] = 'display_data';\n          await google.colab.output.renderOutput(dataTable, element);\n          const docLink = document.createElement('div');\n          docLink.innerHTML = docLinkHtml;\n          element.appendChild(docLink);\n        }\n      </script>\n    </div>\n  </div>\n  "
                    },
                    "metadata": {}
                }
            ],
            "execution_count": null
        },
        {
            "cell_type": "code",
            "source": [
                "# select column\n",
                "products = products[['product_id', 'product_name', 'current_price', 'price', 'percent_discount', 'rating', 'series', 'link', 'brand_id', 'genre_id']]"
            ],
            "metadata": {
                "id": "2rZkuBnFLmmw",
                "azdata_cell_guid": "96d782f6-28fc-4e72-ab35-4bdc38cbac73",
                "language": "python"
            },
            "outputs": [],
            "execution_count": null
        },
        {
            "cell_type": "code",
            "source": [
                "to_csv(products, '/transformed/product/products.csv')"
            ],
            "metadata": {
                "id": "ZkCJ9Od6Lmpg",
                "azdata_cell_guid": "6f740a25-6f96-43b3-b9da-c57c016ff769",
                "language": "python"
            },
            "outputs": [],
            "execution_count": null
        },
        {
            "cell_type": "code",
            "source": [
                "products = read_csv('/transformed/product/products.csv')"
            ],
            "metadata": {
                "id": "udTzgkX-LmsP",
                "azdata_cell_guid": "9c85e088-eb42-4cb2-8824-5ebbaeace037",
                "language": "python"
            },
            "outputs": [],
            "execution_count": null
        },
        {
            "cell_type": "code",
            "source": [
                "products = products \\\n",
                "           .join(genres, on='genre_id', how='inner') \\\n",
                "           .join(brands, on='brand_id', how='inner')\n",
                "products.toPandas()"
            ],
            "metadata": {
                "colab": {
                    "base_uri": "https://localhost:8080/",
                    "height": 676
                },
                "id": "UhYSQEQkLmu_",
                "executionInfo": {
                    "status": "ok",
                    "timestamp": 1687810888667,
                    "user_tz": -420,
                    "elapsed": 558,
                    "user": {
                        "displayName": "Cho Phan",
                        "userId": "15376299712231995454"
                    }
                },
                "outputId": "931824a1-46eb-433b-df00-a9f3bbcf9b04",
                "azdata_cell_guid": "1d55d7a1-e94e-4ff1-b967-258e7678ed06",
                "language": "python"
            },
            "outputs": [
                {
                    "output_type": "execute_result",
                    "execution_count": 163,
                    "data": {
                        "text/plain": "     brand_id genre_id product_id  \\\n0        0115     0101     010001   \n1        0115     0101     010002   \n2        0115     0101     010003   \n3        0115     0101     010004   \n4        0110     0101     010005   \n...       ...      ...        ...   \n1048     0109     0109     011049   \n1049     0109     0109     011050   \n1050     0158     0109     011051   \n1051     0158     0109     011052   \n1052     0158     0109     011053   \n\n                                           product_name current_price  \\\n0                                   Sạc Apple 20W MHJE3      520000.0   \n1        Bộ chuyển đổi chân sạc Adapter Kit Apple MD837      870000.0   \n2                                       Sạc Apple MGN13      225000.0   \n3                                   Sạc Apple MD813ZM-A      405000.0   \n4     Bộ Adapter sạc kèm cáp Type C - Type C Samsung...      650000.0   \n...                                                 ...           ...   \n1048                                 OPPO Pad Air 128GB       7790000   \n1049                                  OPPO Pad Air 64GB       6490000   \n1050                                    Masstel Tab 10A       2790000   \n1051                                    Masstel Tab 10S       2690000   \n1052                                    Masstel Tab 8.2       2390000   \n\n          price percent_discount rating series  \\\n0      690000.0               24    433   None   \n1     1090000.0               20      0   None   \n2      450000.0               50     52   None   \n3      450000.0               10      8   None   \n4     1190000.0               45     67   None   \n...         ...              ...    ...    ...   \n1048    7990000                0      9   None   \n1049    6690000                0     53   None   \n1050    2790000                0     40   None   \n1051    2890000                6     91   None   \n1052    2490000                4     43   None   \n\n                                                   link       genre_name  \\\n0     https://www.thegioididong.com/adapter-sac/adap...  Adapter Charger   \n1     https://www.thegioididong.com/adapter-sac/chan...  Adapter Charger   \n2     https://www.thegioididong.com/adapter-sac/adap...  Adapter Charger   \n3     https://www.thegioididong.com/adapter-sac/adap...  Adapter Charger   \n4     https://www.thegioididong.com/adapter-sac/bo-a...  Adapter Charger   \n...                                                 ...              ...   \n1048  https://www.thegioididong.com/may-tinh-bang/op...           Tablet   \n1049  https://www.thegioididong.com/may-tinh-bang/op...           Tablet   \n1050  https://www.thegioididong.com/may-tinh-bang/ma...           Tablet   \n1051  https://www.thegioididong.com/may-tinh-bang/ma...           Tablet   \n1052  https://www.thegioididong.com/may-tinh-bang/ma...           Tablet   \n\n     brand_name  \n0         Apple  \n1         Apple  \n2         Apple  \n3         Apple  \n4       Samsung  \n...         ...  \n1048       Oppo  \n1049       Oppo  \n1050    Masstel  \n1051    Masstel  \n1052    Masstel  \n\n[1053 rows x 12 columns]",
                        "text/html": "\n  <div id=\"df-9ec46fbf-22b9-4158-8559-d1c3c1868937\">\n    <div class=\"colab-df-container\">\n      <div>\n<style scoped>\n    .dataframe tbody tr th:only-of-type {\n        vertical-align: middle;\n    }\n\n    .dataframe tbody tr th {\n        vertical-align: top;\n    }\n\n    .dataframe thead th {\n        text-align: right;\n    }\n</style>\n<table border=\"1\" class=\"dataframe\">\n  <thead>\n    <tr style=\"text-align: right;\">\n      <th></th>\n      <th>brand_id</th>\n      <th>genre_id</th>\n      <th>product_id</th>\n      <th>product_name</th>\n      <th>current_price</th>\n      <th>price</th>\n      <th>percent_discount</th>\n      <th>rating</th>\n      <th>series</th>\n      <th>link</th>\n      <th>genre_name</th>\n      <th>brand_name</th>\n    </tr>\n  </thead>\n  <tbody>\n    <tr>\n      <th>0</th>\n      <td>0115</td>\n      <td>0101</td>\n      <td>010001</td>\n      <td>Sạc Apple 20W MHJE3</td>\n      <td>520000.0</td>\n      <td>690000.0</td>\n      <td>24</td>\n      <td>433</td>\n      <td>None</td>\n      <td>https://www.thegioididong.com/adapter-sac/adap...</td>\n      <td>Adapter Charger</td>\n      <td>Apple</td>\n    </tr>\n    <tr>\n      <th>1</th>\n      <td>0115</td>\n      <td>0101</td>\n      <td>010002</td>\n      <td>Bộ chuyển đổi chân sạc Adapter Kit Apple MD837</td>\n      <td>870000.0</td>\n      <td>1090000.0</td>\n      <td>20</td>\n      <td>0</td>\n      <td>None</td>\n      <td>https://www.thegioididong.com/adapter-sac/chan...</td>\n      <td>Adapter Charger</td>\n      <td>Apple</td>\n    </tr>\n    <tr>\n      <th>2</th>\n      <td>0115</td>\n      <td>0101</td>\n      <td>010003</td>\n      <td>Sạc Apple MGN13</td>\n      <td>225000.0</td>\n      <td>450000.0</td>\n      <td>50</td>\n      <td>52</td>\n      <td>None</td>\n      <td>https://www.thegioididong.com/adapter-sac/adap...</td>\n      <td>Adapter Charger</td>\n      <td>Apple</td>\n    </tr>\n    <tr>\n      <th>3</th>\n      <td>0115</td>\n      <td>0101</td>\n      <td>010004</td>\n      <td>Sạc Apple MD813ZM-A</td>\n      <td>405000.0</td>\n      <td>450000.0</td>\n      <td>10</td>\n      <td>8</td>\n      <td>None</td>\n      <td>https://www.thegioididong.com/adapter-sac/adap...</td>\n      <td>Adapter Charger</td>\n      <td>Apple</td>\n    </tr>\n    <tr>\n      <th>4</th>\n      <td>0110</td>\n      <td>0101</td>\n      <td>010005</td>\n      <td>Bộ Adapter sạc kèm cáp Type C - Type C Samsung...</td>\n      <td>650000.0</td>\n      <td>1190000.0</td>\n      <td>45</td>\n      <td>67</td>\n      <td>None</td>\n      <td>https://www.thegioididong.com/adapter-sac/bo-a...</td>\n      <td>Adapter Charger</td>\n      <td>Samsung</td>\n    </tr>\n    <tr>\n      <th>...</th>\n      <td>...</td>\n      <td>...</td>\n      <td>...</td>\n      <td>...</td>\n      <td>...</td>\n      <td>...</td>\n      <td>...</td>\n      <td>...</td>\n      <td>...</td>\n      <td>...</td>\n      <td>...</td>\n      <td>...</td>\n    </tr>\n    <tr>\n      <th>1048</th>\n      <td>0109</td>\n      <td>0109</td>\n      <td>011049</td>\n      <td>OPPO Pad Air 128GB</td>\n      <td>7790000</td>\n      <td>7990000</td>\n      <td>0</td>\n      <td>9</td>\n      <td>None</td>\n      <td>https://www.thegioididong.com/may-tinh-bang/op...</td>\n      <td>Tablet</td>\n      <td>Oppo</td>\n    </tr>\n    <tr>\n      <th>1049</th>\n      <td>0109</td>\n      <td>0109</td>\n      <td>011050</td>\n      <td>OPPO Pad Air 64GB</td>\n      <td>6490000</td>\n      <td>6690000</td>\n      <td>0</td>\n      <td>53</td>\n      <td>None</td>\n      <td>https://www.thegioididong.com/may-tinh-bang/op...</td>\n      <td>Tablet</td>\n      <td>Oppo</td>\n    </tr>\n    <tr>\n      <th>1050</th>\n      <td>0158</td>\n      <td>0109</td>\n      <td>011051</td>\n      <td>Masstel Tab 10A</td>\n      <td>2790000</td>\n      <td>2790000</td>\n      <td>0</td>\n      <td>40</td>\n      <td>None</td>\n      <td>https://www.thegioididong.com/may-tinh-bang/ma...</td>\n      <td>Tablet</td>\n      <td>Masstel</td>\n    </tr>\n    <tr>\n      <th>1051</th>\n      <td>0158</td>\n      <td>0109</td>\n      <td>011052</td>\n      <td>Masstel Tab 10S</td>\n      <td>2690000</td>\n      <td>2890000</td>\n      <td>6</td>\n      <td>91</td>\n      <td>None</td>\n      <td>https://www.thegioididong.com/may-tinh-bang/ma...</td>\n      <td>Tablet</td>\n      <td>Masstel</td>\n    </tr>\n    <tr>\n      <th>1052</th>\n      <td>0158</td>\n      <td>0109</td>\n      <td>011053</td>\n      <td>Masstel Tab 8.2</td>\n      <td>2390000</td>\n      <td>2490000</td>\n      <td>4</td>\n      <td>43</td>\n      <td>None</td>\n      <td>https://www.thegioididong.com/may-tinh-bang/ma...</td>\n      <td>Tablet</td>\n      <td>Masstel</td>\n    </tr>\n  </tbody>\n</table>\n<p>1053 rows × 12 columns</p>\n</div>\n      <button class=\"colab-df-convert\" onclick=\"convertToInteractive('df-9ec46fbf-22b9-4158-8559-d1c3c1868937')\"\n              title=\"Convert this dataframe to an interactive table.\"\n              style=\"display:none;\">\n        \n  <svg xmlns=\"http://www.w3.org/2000/svg\" height=\"24px\"viewBox=\"0 0 24 24\"\n       width=\"24px\">\n    <path d=\"M0 0h24v24H0V0z\" fill=\"none\"/>\n    <path d=\"M18.56 5.44l.94 2.06.94-2.06 2.06-.94-2.06-.94-.94-2.06-.94 2.06-2.06.94zm-11 1L8.5 8.5l.94-2.06 2.06-.94-2.06-.94L8.5 2.5l-.94 2.06-2.06.94zm10 10l.94 2.06.94-2.06 2.06-.94-2.06-.94-.94-2.06-.94 2.06-2.06.94z\"/><path d=\"M17.41 7.96l-1.37-1.37c-.4-.4-.92-.59-1.43-.59-.52 0-1.04.2-1.43.59L10.3 9.45l-7.72 7.72c-.78.78-.78 2.05 0 2.83L4 21.41c.39.39.9.59 1.41.59.51 0 1.02-.2 1.41-.59l7.78-7.78 2.81-2.81c.8-.78.8-2.07 0-2.86zM5.41 20L4 18.59l7.72-7.72 1.47 1.35L5.41 20z\"/>\n  </svg>\n      </button>\n      \n  <style>\n    .colab-df-container {\n      display:flex;\n      flex-wrap:wrap;\n      gap: 12px;\n    }\n\n    .colab-df-convert {\n      background-color: #E8F0FE;\n      border: none;\n      border-radius: 50%;\n      cursor: pointer;\n      display: none;\n      fill: #1967D2;\n      height: 32px;\n      padding: 0 0 0 0;\n      width: 32px;\n    }\n\n    .colab-df-convert:hover {\n      background-color: #E2EBFA;\n      box-shadow: 0px 1px 2px rgba(60, 64, 67, 0.3), 0px 1px 3px 1px rgba(60, 64, 67, 0.15);\n      fill: #174EA6;\n    }\n\n    [theme=dark] .colab-df-convert {\n      background-color: #3B4455;\n      fill: #D2E3FC;\n    }\n\n    [theme=dark] .colab-df-convert:hover {\n      background-color: #434B5C;\n      box-shadow: 0px 1px 3px 1px rgba(0, 0, 0, 0.15);\n      filter: drop-shadow(0px 1px 2px rgba(0, 0, 0, 0.3));\n      fill: #FFFFFF;\n    }\n  </style>\n\n      <script>\n        const buttonEl =\n          document.querySelector('#df-9ec46fbf-22b9-4158-8559-d1c3c1868937 button.colab-df-convert');\n        buttonEl.style.display =\n          google.colab.kernel.accessAllowed ? 'block' : 'none';\n\n        async function convertToInteractive(key) {\n          const element = document.querySelector('#df-9ec46fbf-22b9-4158-8559-d1c3c1868937');\n          const dataTable =\n            await google.colab.kernel.invokeFunction('convertToInteractive',\n                                                     [key], {});\n          if (!dataTable) return;\n\n          const docLinkHtml = 'Like what you see? Visit the ' +\n            '<a target=\"_blank\" href=https://colab.research.google.com/notebooks/data_table.ipynb>data table notebook</a>'\n            + ' to learn more about interactive tables.';\n          element.innerHTML = '';\n          dataTable['output_type'] = 'display_data';\n          await google.colab.output.renderOutput(dataTable, element);\n          const docLink = document.createElement('div');\n          docLink.innerHTML = docLinkHtml;\n          element.appendChild(docLink);\n        }\n      </script>\n    </div>\n  </div>\n  "
                    },
                    "metadata": {}
                }
            ],
            "execution_count": null
        },
        {
            "cell_type": "markdown",
            "source": [
                "# **`dienmayxanh`**"
            ],
            "metadata": {
                "id": "5tIi9Duf3VtJ",
                "azdata_cell_guid": "b970e9ec-16a5-4127-8b28-de7b750087da"
            }
        },
        {
            "cell_type": "code",
            "source": [
                "def check_contains(brand, device):\n",
                "    return brand.filter(brand.link.contains(device)).count() > 0"
            ],
            "metadata": {
                "id": "BQx9W-793VHD",
                "azdata_cell_guid": "96c57827-a372-4f40-bab8-6a2883aaa738",
                "language": "python"
            },
            "outputs": [],
            "execution_count": null
        },
        {
            "cell_type": "code",
            "source": [
                "def brand_transform(dir_read, dir_to):\n",
                "    # read csv\n",
                "    brand = read_csv(dir_read)\n",
                "\n",
                "    # brand name\n",
                "    if check_contains(brand, 'tivi'):\n",
                "        brand_for_product = brand.withColumn('brand_name', initcap(split(brand.link, '-')[1]))\n",
                "    elif check_contains(brand, 'may-lanh'):\n",
                "        brand_for_product = brand.withColumn('brand_name', initcap(split(brand.link, '-')[2]))\n",
                "    else:\n",
                "        brand_for_product = brand.withColumn('b_o', initcap(split(brand.link, '-')[2]))\n",
                "        brand_for_product = brand_for_product.withColumn('b_t', initcap(split(brand_for_product.link, '-')[3]))\n",
                "        brand_for_product = brand_for_product.withColumn('brand_name', concat_ws(' ', brand_for_product.b_o, brand_for_product.b_t))\n",
                "\n",
                "    brand_for_product = brand_for_product.select('brand_id', 'brand_name', 'link', 'link_logo')\n",
                "\n",
                "    # select column\n",
                "    brand = brand_for_product.select('brand_name')\n",
                "\n",
                "    # to csv brand\n",
                "    to_csv(brand.toPandas(), dir_to)\n",
                "\n",
                "    return brand_for_product"
            ],
            "metadata": {
                "id": "x_7tvoaO3VKH",
                "azdata_cell_guid": "3829187e-2bf8-45a6-999d-6e81f1fbf9eb",
                "language": "python"
            },
            "outputs": [],
            "execution_count": null
        },
        {
            "cell_type": "code",
            "source": [
                "brand_air_conditioner = brand_transform('/raw/brand/brand_air_conditioner.csv', '/transformed/brand/brand_air_conditioner.csv')\n",
                "brand_fridge = brand_transform('/raw/brand/brand_fridge.csv', '/transformed/brand/brand_fridge.csv')\n",
                "brand_tivi = brand_transform('/raw/brand/brand_tivi.csv', '/transformed/brand/brand_tivi.csv')\n",
                "brand_washing_machine = brand_transform('/raw/brand/brand_washing_machine.csv', '/transformed/brand/brand_washing_machine.csv')"
            ],
            "metadata": {
                "id": "-MrDphtJ3VM4",
                "azdata_cell_guid": "443f9d92-3167-4b5d-a756-b9e675f20b5f",
                "language": "python"
            },
            "outputs": [],
            "execution_count": null
        },
        {
            "cell_type": "code",
            "source": [
                "def product_tranform(dir_read, dir_to_product, dir_to_brand_d, brand_for_product):\n",
                "    # read csv\n",
                "    product = read_csv(dir_read)\n",
                "\n",
                "    # current price\n",
                "    product = product.withColumn(\n",
                "        'current_price', regexp_replace(product.current_price, r'[^\\d+]', '').cast('integer')\n",
                "    )\n",
                "\n",
                "    # price\n",
                "    product = product.withColumn(\n",
                "        'price', when(product.price.isNull(), product.current_price) \\\n",
                "        .otherwise(regexp_replace(product.price, r'[^\\d+]', '')).cast('integer')\n",
                "    )\n",
                "\n",
                "    # percent discount\n",
                "    product = product.withColumn(\n",
                "        'percent_discount', when(product.percent_discount.isNull(), 0) \\\n",
                "        .otherwise(regexp_extract(product.percent_discount, '\\d+', 0)).cast('integer')\n",
                "    )\n",
                "\n",
                "    # rating\n",
                "    product = product.withColumn(\n",
                "        'rating', when(product.rating.isNull(), 0) \\\n",
                "        .otherwise(product.rating).cast('integer')\n",
                "    )\n",
                "\n",
                "    # merge brand data\n",
                "    product = product.join(\n",
                "        brand_for_product.select('brand_id', 'brand_name'), on='brand_id', how='inner'\n",
                "    )\n",
                "\n",
                "    # rename\n",
                "    product = product.withColumnsRenamed({'device':'genre_name'})\n",
                "\n",
                "    '''brand details'''\n",
                "    product_for_brand = brand_for_product.join(\n",
                "        product.select('brand_id', 'genre_name'), on='brand_id', how='inner'\n",
                "    )\n",
                "\n",
                "    product_for_brand = product_for_brand.select('brand_name', 'genre_name', 'link', 'link_logo').distinct()\n",
                "\n",
                "\n",
                "    # select column\n",
                "    product = product.withColumnRenamed('device', 'genre_name')\n",
                "    product = product.select('product_name', 'current_price', 'price', 'percent_discount', 'rating', 'series', 'link', 'genre_name', 'brand_name')\n",
                "\n",
                "\n",
                "    # to csv product\n",
                "    to_csv(product.toPandas(), dir_to_product)\n",
                "\n",
                "    # to csv brand details\n",
                "    to_csv(product_for_brand.toPandas(), dir_to_brand_d)\n"
            ],
            "metadata": {
                "id": "NW0Vy63v31B8",
                "azdata_cell_guid": "719f13ec-85cf-4454-8156-811a055a92d2",
                "language": "python"
            },
            "outputs": [],
            "execution_count": null
        },
        {
            "cell_type": "code",
            "source": [
                "product_tranform('/raw/product/air_conditioner.csv', '/transformed/product/air_conditioner.csv', '/transformed/brand_details/brand_air_conditioner.csv', brand_air_conditioner)\n",
                "product_tranform('/raw/product/fridge.csv', '/transformed/product/fridge.csv', '/transformed/brand_details/brand_fridge.csv', brand_fridge)\n",
                "product_tranform('/raw/product/tivi.csv', '/transformed/product/tivi.csv', '/transformed/brand_details/brand_tivi.csv', brand_tivi)\n",
                "product_tranform('/raw/product/washing_machine.csv', '/transformed/product/washing_machine.csv', '/transformed/brand_details/brand_washing_machine.csv', brand_washing_machine)"
            ],
            "metadata": {
                "id": "0vuyHL7X31En",
                "azdata_cell_guid": "ee3601b3-001a-4e6a-b1ae-904b71a086dc",
                "language": "python"
            },
            "outputs": [],
            "execution_count": null
        },
        {
            "cell_type": "markdown",
            "source": [
                "## **Table Brands**"
            ],
            "metadata": {
                "id": "QDAA3KlB7cy0",
                "azdata_cell_guid": "14d0b49c-1fed-408e-a6e1-491f8afcf86c"
            }
        },
        {
            "cell_type": "code",
            "source": [
                "brand_air_conditioner = read_csv('/transformed/brand/brand_air_conditioner.csv')\n",
                "brand_fridge = read_csv('/transformed/brand/brand_fridge.csv')\n",
                "brand_tivi = read_csv('/transformed/brand/brand_tivi.csv')\n",
                "brand_washing_machine = read_csv('/transformed/brand/brand_washing_machine.csv')"
            ],
            "metadata": {
                "id": "tDJTaVHI31KE",
                "azdata_cell_guid": "f324cab8-d4b3-4fe9-a9d5-ea66b14931b3",
                "language": "python"
            },
            "outputs": [],
            "execution_count": null
        },
        {
            "cell_type": "code",
            "source": [
                "brands = brand_air_conditioner \\\n",
                "         .union(brand_fridge) \\\n",
                "         .union(brand_tivi) \\\n",
                "         .union(brand_washing_machine) \\\n",
                "         .distinct()\n",
                "\n",
                "# brands = brands.sort(brands.brand_name.asc())\n",
                "\n",
                "brands = brands.toPandas()\n",
                "brands"
            ],
            "metadata": {
                "colab": {
                    "base_uri": "https://localhost:8080/",
                    "height": 708
                },
                "id": "5tYXbTOn396Y",
                "executionInfo": {
                    "status": "ok",
                    "timestamp": 1687820375852,
                    "user_tz": -420,
                    "elapsed": 1221,
                    "user": {
                        "displayName": "Cho Phan",
                        "userId": "15376299712231995454"
                    }
                },
                "outputId": "35f4a6c1-fa2f-4fc3-8776-1d6bee62b62c",
                "azdata_cell_guid": "37801889-c2c4-41d3-9576-c331ad54a155",
                "language": "python"
            },
            "outputs": [
                {
                    "output_type": "execute_result",
                    "execution_count": 15,
                    "data": {
                        "text/plain": "    brand_name\n0        Midea\n1         Aqua\n2       Funiki\n3       Daikin\n4          Tcl\n5           Lg\n6      Samsung\n7         Gree\n8     Nagakawa\n9       Casper\n10      Comfee\n11       Sharp\n12     Toshiba\n13   Panasonic\n14        Beko\n15  Aqua Sanyo\n16     Hitachi\n17  Electrolux\n18        Sony\n19    Iffalcon\n20   Whirlpool",
                        "text/html": "\n  <div id=\"df-9a1de9f7-8fc0-4667-b174-d34db6776e58\">\n    <div class=\"colab-df-container\">\n      <div>\n<style scoped>\n    .dataframe tbody tr th:only-of-type {\n        vertical-align: middle;\n    }\n\n    .dataframe tbody tr th {\n        vertical-align: top;\n    }\n\n    .dataframe thead th {\n        text-align: right;\n    }\n</style>\n<table border=\"1\" class=\"dataframe\">\n  <thead>\n    <tr style=\"text-align: right;\">\n      <th></th>\n      <th>brand_name</th>\n    </tr>\n  </thead>\n  <tbody>\n    <tr>\n      <th>0</th>\n      <td>Midea</td>\n    </tr>\n    <tr>\n      <th>1</th>\n      <td>Aqua</td>\n    </tr>\n    <tr>\n      <th>2</th>\n      <td>Funiki</td>\n    </tr>\n    <tr>\n      <th>3</th>\n      <td>Daikin</td>\n    </tr>\n    <tr>\n      <th>4</th>\n      <td>Tcl</td>\n    </tr>\n    <tr>\n      <th>5</th>\n      <td>Lg</td>\n    </tr>\n    <tr>\n      <th>6</th>\n      <td>Samsung</td>\n    </tr>\n    <tr>\n      <th>7</th>\n      <td>Gree</td>\n    </tr>\n    <tr>\n      <th>8</th>\n      <td>Nagakawa</td>\n    </tr>\n    <tr>\n      <th>9</th>\n      <td>Casper</td>\n    </tr>\n    <tr>\n      <th>10</th>\n      <td>Comfee</td>\n    </tr>\n    <tr>\n      <th>11</th>\n      <td>Sharp</td>\n    </tr>\n    <tr>\n      <th>12</th>\n      <td>Toshiba</td>\n    </tr>\n    <tr>\n      <th>13</th>\n      <td>Panasonic</td>\n    </tr>\n    <tr>\n      <th>14</th>\n      <td>Beko</td>\n    </tr>\n    <tr>\n      <th>15</th>\n      <td>Aqua Sanyo</td>\n    </tr>\n    <tr>\n      <th>16</th>\n      <td>Hitachi</td>\n    </tr>\n    <tr>\n      <th>17</th>\n      <td>Electrolux</td>\n    </tr>\n    <tr>\n      <th>18</th>\n      <td>Sony</td>\n    </tr>\n    <tr>\n      <th>19</th>\n      <td>Iffalcon</td>\n    </tr>\n    <tr>\n      <th>20</th>\n      <td>Whirlpool</td>\n    </tr>\n  </tbody>\n</table>\n</div>\n      <button class=\"colab-df-convert\" onclick=\"convertToInteractive('df-9a1de9f7-8fc0-4667-b174-d34db6776e58')\"\n              title=\"Convert this dataframe to an interactive table.\"\n              style=\"display:none;\">\n        \n  <svg xmlns=\"http://www.w3.org/2000/svg\" height=\"24px\"viewBox=\"0 0 24 24\"\n       width=\"24px\">\n    <path d=\"M0 0h24v24H0V0z\" fill=\"none\"/>\n    <path d=\"M18.56 5.44l.94 2.06.94-2.06 2.06-.94-2.06-.94-.94-2.06-.94 2.06-2.06.94zm-11 1L8.5 8.5l.94-2.06 2.06-.94-2.06-.94L8.5 2.5l-.94 2.06-2.06.94zm10 10l.94 2.06.94-2.06 2.06-.94-2.06-.94-.94-2.06-.94 2.06-2.06.94z\"/><path d=\"M17.41 7.96l-1.37-1.37c-.4-.4-.92-.59-1.43-.59-.52 0-1.04.2-1.43.59L10.3 9.45l-7.72 7.72c-.78.78-.78 2.05 0 2.83L4 21.41c.39.39.9.59 1.41.59.51 0 1.02-.2 1.41-.59l7.78-7.78 2.81-2.81c.8-.78.8-2.07 0-2.86zM5.41 20L4 18.59l7.72-7.72 1.47 1.35L5.41 20z\"/>\n  </svg>\n      </button>\n      \n  <style>\n    .colab-df-container {\n      display:flex;\n      flex-wrap:wrap;\n      gap: 12px;\n    }\n\n    .colab-df-convert {\n      background-color: #E8F0FE;\n      border: none;\n      border-radius: 50%;\n      cursor: pointer;\n      display: none;\n      fill: #1967D2;\n      height: 32px;\n      padding: 0 0 0 0;\n      width: 32px;\n    }\n\n    .colab-df-convert:hover {\n      background-color: #E2EBFA;\n      box-shadow: 0px 1px 2px rgba(60, 64, 67, 0.3), 0px 1px 3px 1px rgba(60, 64, 67, 0.15);\n      fill: #174EA6;\n    }\n\n    [theme=dark] .colab-df-convert {\n      background-color: #3B4455;\n      fill: #D2E3FC;\n    }\n\n    [theme=dark] .colab-df-convert:hover {\n      background-color: #434B5C;\n      box-shadow: 0px 1px 3px 1px rgba(0, 0, 0, 0.15);\n      filter: drop-shadow(0px 1px 2px rgba(0, 0, 0, 0.3));\n      fill: #FFFFFF;\n    }\n  </style>\n\n      <script>\n        const buttonEl =\n          document.querySelector('#df-9a1de9f7-8fc0-4667-b174-d34db6776e58 button.colab-df-convert');\n        buttonEl.style.display =\n          google.colab.kernel.accessAllowed ? 'block' : 'none';\n\n        async function convertToInteractive(key) {\n          const element = document.querySelector('#df-9a1de9f7-8fc0-4667-b174-d34db6776e58');\n          const dataTable =\n            await google.colab.kernel.invokeFunction('convertToInteractive',\n                                                     [key], {});\n          if (!dataTable) return;\n\n          const docLinkHtml = 'Like what you see? Visit the ' +\n            '<a target=\"_blank\" href=https://colab.research.google.com/notebooks/data_table.ipynb>data table notebook</a>'\n            + ' to learn more about interactive tables.';\n          element.innerHTML = '';\n          dataTable['output_type'] = 'display_data';\n          await google.colab.output.renderOutput(dataTable, element);\n          const docLink = document.createElement('div');\n          docLink.innerHTML = docLinkHtml;\n          element.appendChild(docLink);\n        }\n      </script>\n    </div>\n  </div>\n  "
                    },
                    "metadata": {}
                }
            ],
            "execution_count": null
        },
        {
            "cell_type": "code",
            "source": [
                "id = []\n",
                "for i in range(1, len(brands)+1):\n",
                "    if i < 10:\n",
                "        id.append('030' + str(i))\n",
                "    else:\n",
                "        id.append('03' + str(i))\n",
                "\n",
                "brands['brand_id'] = id\n",
                "\n",
                "# sort column\n",
                "brands = brands[['brand_id', 'brand_name']]\n",
                "\n",
                "brands"
            ],
            "metadata": {
                "colab": {
                    "base_uri": "https://localhost:8080/",
                    "height": 708
                },
                "id": "jR6c7h-Y399f",
                "executionInfo": {
                    "status": "ok",
                    "timestamp": 1687820427267,
                    "user_tz": -420,
                    "elapsed": 355,
                    "user": {
                        "displayName": "Cho Phan",
                        "userId": "15376299712231995454"
                    }
                },
                "outputId": "f235e324-cb0e-4dbe-8074-9b1eeaa26100",
                "azdata_cell_guid": "bc06d130-a188-46f1-b70e-43c234921a09",
                "language": "python"
            },
            "outputs": [
                {
                    "output_type": "execute_result",
                    "execution_count": 17,
                    "data": {
                        "text/plain": "   brand_id  brand_name\n0      0301       Midea\n1      0302        Aqua\n2      0303      Funiki\n3      0304      Daikin\n4      0305         Tcl\n5      0306          Lg\n6      0307     Samsung\n7      0308        Gree\n8      0309    Nagakawa\n9      0310      Casper\n10     0311      Comfee\n11     0312       Sharp\n12     0313     Toshiba\n13     0314   Panasonic\n14     0315        Beko\n15     0316  Aqua Sanyo\n16     0317     Hitachi\n17     0318  Electrolux\n18     0319        Sony\n19     0320    Iffalcon\n20     0321   Whirlpool",
                        "text/html": "\n  <div id=\"df-7de3919a-b0d5-4c83-bdfb-a7cefcbbd261\">\n    <div class=\"colab-df-container\">\n      <div>\n<style scoped>\n    .dataframe tbody tr th:only-of-type {\n        vertical-align: middle;\n    }\n\n    .dataframe tbody tr th {\n        vertical-align: top;\n    }\n\n    .dataframe thead th {\n        text-align: right;\n    }\n</style>\n<table border=\"1\" class=\"dataframe\">\n  <thead>\n    <tr style=\"text-align: right;\">\n      <th></th>\n      <th>brand_id</th>\n      <th>brand_name</th>\n    </tr>\n  </thead>\n  <tbody>\n    <tr>\n      <th>0</th>\n      <td>0301</td>\n      <td>Midea</td>\n    </tr>\n    <tr>\n      <th>1</th>\n      <td>0302</td>\n      <td>Aqua</td>\n    </tr>\n    <tr>\n      <th>2</th>\n      <td>0303</td>\n      <td>Funiki</td>\n    </tr>\n    <tr>\n      <th>3</th>\n      <td>0304</td>\n      <td>Daikin</td>\n    </tr>\n    <tr>\n      <th>4</th>\n      <td>0305</td>\n      <td>Tcl</td>\n    </tr>\n    <tr>\n      <th>5</th>\n      <td>0306</td>\n      <td>Lg</td>\n    </tr>\n    <tr>\n      <th>6</th>\n      <td>0307</td>\n      <td>Samsung</td>\n    </tr>\n    <tr>\n      <th>7</th>\n      <td>0308</td>\n      <td>Gree</td>\n    </tr>\n    <tr>\n      <th>8</th>\n      <td>0309</td>\n      <td>Nagakawa</td>\n    </tr>\n    <tr>\n      <th>9</th>\n      <td>0310</td>\n      <td>Casper</td>\n    </tr>\n    <tr>\n      <th>10</th>\n      <td>0311</td>\n      <td>Comfee</td>\n    </tr>\n    <tr>\n      <th>11</th>\n      <td>0312</td>\n      <td>Sharp</td>\n    </tr>\n    <tr>\n      <th>12</th>\n      <td>0313</td>\n      <td>Toshiba</td>\n    </tr>\n    <tr>\n      <th>13</th>\n      <td>0314</td>\n      <td>Panasonic</td>\n    </tr>\n    <tr>\n      <th>14</th>\n      <td>0315</td>\n      <td>Beko</td>\n    </tr>\n    <tr>\n      <th>15</th>\n      <td>0316</td>\n      <td>Aqua Sanyo</td>\n    </tr>\n    <tr>\n      <th>16</th>\n      <td>0317</td>\n      <td>Hitachi</td>\n    </tr>\n    <tr>\n      <th>17</th>\n      <td>0318</td>\n      <td>Electrolux</td>\n    </tr>\n    <tr>\n      <th>18</th>\n      <td>0319</td>\n      <td>Sony</td>\n    </tr>\n    <tr>\n      <th>19</th>\n      <td>0320</td>\n      <td>Iffalcon</td>\n    </tr>\n    <tr>\n      <th>20</th>\n      <td>0321</td>\n      <td>Whirlpool</td>\n    </tr>\n  </tbody>\n</table>\n</div>\n      <button class=\"colab-df-convert\" onclick=\"convertToInteractive('df-7de3919a-b0d5-4c83-bdfb-a7cefcbbd261')\"\n              title=\"Convert this dataframe to an interactive table.\"\n              style=\"display:none;\">\n        \n  <svg xmlns=\"http://www.w3.org/2000/svg\" height=\"24px\"viewBox=\"0 0 24 24\"\n       width=\"24px\">\n    <path d=\"M0 0h24v24H0V0z\" fill=\"none\"/>\n    <path d=\"M18.56 5.44l.94 2.06.94-2.06 2.06-.94-2.06-.94-.94-2.06-.94 2.06-2.06.94zm-11 1L8.5 8.5l.94-2.06 2.06-.94-2.06-.94L8.5 2.5l-.94 2.06-2.06.94zm10 10l.94 2.06.94-2.06 2.06-.94-2.06-.94-.94-2.06-.94 2.06-2.06.94z\"/><path d=\"M17.41 7.96l-1.37-1.37c-.4-.4-.92-.59-1.43-.59-.52 0-1.04.2-1.43.59L10.3 9.45l-7.72 7.72c-.78.78-.78 2.05 0 2.83L4 21.41c.39.39.9.59 1.41.59.51 0 1.02-.2 1.41-.59l7.78-7.78 2.81-2.81c.8-.78.8-2.07 0-2.86zM5.41 20L4 18.59l7.72-7.72 1.47 1.35L5.41 20z\"/>\n  </svg>\n      </button>\n      \n  <style>\n    .colab-df-container {\n      display:flex;\n      flex-wrap:wrap;\n      gap: 12px;\n    }\n\n    .colab-df-convert {\n      background-color: #E8F0FE;\n      border: none;\n      border-radius: 50%;\n      cursor: pointer;\n      display: none;\n      fill: #1967D2;\n      height: 32px;\n      padding: 0 0 0 0;\n      width: 32px;\n    }\n\n    .colab-df-convert:hover {\n      background-color: #E2EBFA;\n      box-shadow: 0px 1px 2px rgba(60, 64, 67, 0.3), 0px 1px 3px 1px rgba(60, 64, 67, 0.15);\n      fill: #174EA6;\n    }\n\n    [theme=dark] .colab-df-convert {\n      background-color: #3B4455;\n      fill: #D2E3FC;\n    }\n\n    [theme=dark] .colab-df-convert:hover {\n      background-color: #434B5C;\n      box-shadow: 0px 1px 3px 1px rgba(0, 0, 0, 0.15);\n      filter: drop-shadow(0px 1px 2px rgba(0, 0, 0, 0.3));\n      fill: #FFFFFF;\n    }\n  </style>\n\n      <script>\n        const buttonEl =\n          document.querySelector('#df-7de3919a-b0d5-4c83-bdfb-a7cefcbbd261 button.colab-df-convert');\n        buttonEl.style.display =\n          google.colab.kernel.accessAllowed ? 'block' : 'none';\n\n        async function convertToInteractive(key) {\n          const element = document.querySelector('#df-7de3919a-b0d5-4c83-bdfb-a7cefcbbd261');\n          const dataTable =\n            await google.colab.kernel.invokeFunction('convertToInteractive',\n                                                     [key], {});\n          if (!dataTable) return;\n\n          const docLinkHtml = 'Like what you see? Visit the ' +\n            '<a target=\"_blank\" href=https://colab.research.google.com/notebooks/data_table.ipynb>data table notebook</a>'\n            + ' to learn more about interactive tables.';\n          element.innerHTML = '';\n          dataTable['output_type'] = 'display_data';\n          await google.colab.output.renderOutput(dataTable, element);\n          const docLink = document.createElement('div');\n          docLink.innerHTML = docLinkHtml;\n          element.appendChild(docLink);\n        }\n      </script>\n    </div>\n  </div>\n  "
                    },
                    "metadata": {}
                }
            ],
            "execution_count": null
        },
        {
            "cell_type": "code",
            "source": [
                "to_csv(brands, '/transformed/brand/brands.csv')"
            ],
            "metadata": {
                "id": "cIthqkZP3-AR",
                "azdata_cell_guid": "2212fe18-22e9-49b7-a755-f38517c90cae",
                "language": "python"
            },
            "outputs": [],
            "execution_count": null
        },
        {
            "cell_type": "markdown",
            "source": [
                "## **Table Genres**"
            ],
            "metadata": {
                "id": "YnrYzpVN8N4R",
                "azdata_cell_guid": "61cc59bc-10fc-4d65-881f-528f3e8024d2"
            }
        },
        {
            "cell_type": "code",
            "source": [
                "genres = pd.DataFrame()\n",
                "\n",
                "genre = [\n",
                "    'Air Conditioner',\n",
                "    'Fridge',\n",
                "    'Tivi',\n",
                "    'Washing Machine'\n",
                "]\n",
                "\n",
                "id = []\n",
                "company_id = []\n",
                "for i in range(1, len(genre)+1):\n",
                "    if i < 10:\n",
                "        id.append('030' + str(i))\n",
                "    else:\n",
                "        id.append('03' + str(i))\n",
                "    company_id.append('03')\n",
                "\n",
                "genres['genre_id'] = id\n",
                "genres['genre_name'] = genre\n",
                "genres['company_id'] = company_id\n",
                "\n",
                "genres"
            ],
            "metadata": {
                "colab": {
                    "base_uri": "https://localhost:8080/",
                    "height": 175
                },
                "id": "8sGE-bXx4D7l",
                "executionInfo": {
                    "status": "ok",
                    "timestamp": 1687820593825,
                    "user_tz": -420,
                    "elapsed": 12,
                    "user": {
                        "displayName": "Cho Phan",
                        "userId": "15376299712231995454"
                    }
                },
                "outputId": "90f61776-786e-41d7-cbf3-42a696fee769",
                "azdata_cell_guid": "d7e1b918-8bbf-4404-bbe2-8665d5341a05",
                "language": "python"
            },
            "outputs": [
                {
                    "output_type": "execute_result",
                    "execution_count": 19,
                    "data": {
                        "text/plain": "  genre_id       genre_name company_id\n0     0301  Air Conditioner         03\n1     0302           Fridge         03\n2     0303             Tivi         03\n3     0304  Washing Machine         03",
                        "text/html": "\n  <div id=\"df-eae8d024-c290-45d1-8789-3aa864d1cfbc\">\n    <div class=\"colab-df-container\">\n      <div>\n<style scoped>\n    .dataframe tbody tr th:only-of-type {\n        vertical-align: middle;\n    }\n\n    .dataframe tbody tr th {\n        vertical-align: top;\n    }\n\n    .dataframe thead th {\n        text-align: right;\n    }\n</style>\n<table border=\"1\" class=\"dataframe\">\n  <thead>\n    <tr style=\"text-align: right;\">\n      <th></th>\n      <th>genre_id</th>\n      <th>genre_name</th>\n      <th>company_id</th>\n    </tr>\n  </thead>\n  <tbody>\n    <tr>\n      <th>0</th>\n      <td>0301</td>\n      <td>Air Conditioner</td>\n      <td>03</td>\n    </tr>\n    <tr>\n      <th>1</th>\n      <td>0302</td>\n      <td>Fridge</td>\n      <td>03</td>\n    </tr>\n    <tr>\n      <th>2</th>\n      <td>0303</td>\n      <td>Tivi</td>\n      <td>03</td>\n    </tr>\n    <tr>\n      <th>3</th>\n      <td>0304</td>\n      <td>Washing Machine</td>\n      <td>03</td>\n    </tr>\n  </tbody>\n</table>\n</div>\n      <button class=\"colab-df-convert\" onclick=\"convertToInteractive('df-eae8d024-c290-45d1-8789-3aa864d1cfbc')\"\n              title=\"Convert this dataframe to an interactive table.\"\n              style=\"display:none;\">\n        \n  <svg xmlns=\"http://www.w3.org/2000/svg\" height=\"24px\"viewBox=\"0 0 24 24\"\n       width=\"24px\">\n    <path d=\"M0 0h24v24H0V0z\" fill=\"none\"/>\n    <path d=\"M18.56 5.44l.94 2.06.94-2.06 2.06-.94-2.06-.94-.94-2.06-.94 2.06-2.06.94zm-11 1L8.5 8.5l.94-2.06 2.06-.94-2.06-.94L8.5 2.5l-.94 2.06-2.06.94zm10 10l.94 2.06.94-2.06 2.06-.94-2.06-.94-.94-2.06-.94 2.06-2.06.94z\"/><path d=\"M17.41 7.96l-1.37-1.37c-.4-.4-.92-.59-1.43-.59-.52 0-1.04.2-1.43.59L10.3 9.45l-7.72 7.72c-.78.78-.78 2.05 0 2.83L4 21.41c.39.39.9.59 1.41.59.51 0 1.02-.2 1.41-.59l7.78-7.78 2.81-2.81c.8-.78.8-2.07 0-2.86zM5.41 20L4 18.59l7.72-7.72 1.47 1.35L5.41 20z\"/>\n  </svg>\n      </button>\n      \n  <style>\n    .colab-df-container {\n      display:flex;\n      flex-wrap:wrap;\n      gap: 12px;\n    }\n\n    .colab-df-convert {\n      background-color: #E8F0FE;\n      border: none;\n      border-radius: 50%;\n      cursor: pointer;\n      display: none;\n      fill: #1967D2;\n      height: 32px;\n      padding: 0 0 0 0;\n      width: 32px;\n    }\n\n    .colab-df-convert:hover {\n      background-color: #E2EBFA;\n      box-shadow: 0px 1px 2px rgba(60, 64, 67, 0.3), 0px 1px 3px 1px rgba(60, 64, 67, 0.15);\n      fill: #174EA6;\n    }\n\n    [theme=dark] .colab-df-convert {\n      background-color: #3B4455;\n      fill: #D2E3FC;\n    }\n\n    [theme=dark] .colab-df-convert:hover {\n      background-color: #434B5C;\n      box-shadow: 0px 1px 3px 1px rgba(0, 0, 0, 0.15);\n      filter: drop-shadow(0px 1px 2px rgba(0, 0, 0, 0.3));\n      fill: #FFFFFF;\n    }\n  </style>\n\n      <script>\n        const buttonEl =\n          document.querySelector('#df-eae8d024-c290-45d1-8789-3aa864d1cfbc button.colab-df-convert');\n        buttonEl.style.display =\n          google.colab.kernel.accessAllowed ? 'block' : 'none';\n\n        async function convertToInteractive(key) {\n          const element = document.querySelector('#df-eae8d024-c290-45d1-8789-3aa864d1cfbc');\n          const dataTable =\n            await google.colab.kernel.invokeFunction('convertToInteractive',\n                                                     [key], {});\n          if (!dataTable) return;\n\n          const docLinkHtml = 'Like what you see? Visit the ' +\n            '<a target=\"_blank\" href=https://colab.research.google.com/notebooks/data_table.ipynb>data table notebook</a>'\n            + ' to learn more about interactive tables.';\n          element.innerHTML = '';\n          dataTable['output_type'] = 'display_data';\n          await google.colab.output.renderOutput(dataTable, element);\n          const docLink = document.createElement('div');\n          docLink.innerHTML = docLinkHtml;\n          element.appendChild(docLink);\n        }\n      </script>\n    </div>\n  </div>\n  "
                    },
                    "metadata": {}
                }
            ],
            "execution_count": null
        },
        {
            "cell_type": "code",
            "source": [
                "to_csv(genres, '/transformed/genre/genres.csv')"
            ],
            "metadata": {
                "id": "GZcarhqi_cL-",
                "azdata_cell_guid": "780145d2-d232-4687-9fe5-0e60290f66ae",
                "language": "python"
            },
            "outputs": [],
            "execution_count": null
        },
        {
            "cell_type": "markdown",
            "source": [
                "## **Table Brand Details**"
            ],
            "metadata": {
                "id": "bkbBYld5-gqs",
                "azdata_cell_guid": "2d0e531b-7db8-41cd-9421-a187dcf14bdc"
            }
        },
        {
            "cell_type": "code",
            "source": [
                "brand_air_conditioner = read_csv('/transformed/brand_details/brand_air_conditioner.csv')\n",
                "brand_fridge = read_csv('/transformed/brand_details/brand_fridge.csv')\n",
                "brand_tivi = read_csv('/transformed/brand_details/brand_tivi.csv')\n",
                "brand_washing_machine = read_csv('/transformed/brand_details/brand_washing_machine.csv')"
            ],
            "metadata": {
                "id": "ikKMQBww-g20",
                "azdata_cell_guid": "61e8ae23-8048-4c79-9aff-cb6636ed2412",
                "language": "python"
            },
            "outputs": [],
            "execution_count": null
        },
        {
            "cell_type": "code",
            "source": [
                "genres = read_csv('/transformed/genre/genres.csv')\n",
                "brands = read_csv('/transformed/brand/brands.csv')"
            ],
            "metadata": {
                "id": "1PS7HqY8-g5g",
                "azdata_cell_guid": "d3ec931a-708d-41c8-b446-7571c3c306bf",
                "language": "python"
            },
            "outputs": [],
            "execution_count": null
        },
        {
            "cell_type": "code",
            "source": [
                "brand_details = brand_air_conditioner \\\n",
                "                .union(brand_fridge) \\\n",
                "                .union(brand_tivi) \\\n",
                "                .union(brand_washing_machine) \\\n",
                "                .distinct()\n",
                "\n",
                "# brands = brands.sort(brands.brand_name.asc())\n",
                "\n",
                "brand_details.toPandas()"
            ],
            "metadata": {
                "colab": {
                    "base_uri": "https://localhost:8080/",
                    "height": 1000
                },
                "id": "rsBsoe2A-g8I",
                "executionInfo": {
                    "status": "ok",
                    "timestamp": 1687821284006,
                    "user_tz": -420,
                    "elapsed": 1233,
                    "user": {
                        "displayName": "Cho Phan",
                        "userId": "15376299712231995454"
                    }
                },
                "outputId": "a0e916c1-c513-43aa-99f8-a91e32e1d2c0",
                "azdata_cell_guid": "ab9b5f7b-88cd-4b8f-879c-9701952db7ee",
                "language": "python"
            },
            "outputs": [
                {
                    "output_type": "execute_result",
                    "execution_count": 33,
                    "data": {
                        "text/plain": "    brand_name       genre_name  \\\n0    Panasonic  Air Conditioner   \n1      Samsung  Air Conditioner   \n2           Lg  Air Conditioner   \n3       Casper  Air Conditioner   \n4        Midea  Air Conditioner   \n5         Gree  Air Conditioner   \n6       Comfee  Air Conditioner   \n7     Nagakawa  Air Conditioner   \n8       Daikin  Air Conditioner   \n9         Aqua  Air Conditioner   \n10      Funiki  Air Conditioner   \n11         Tcl  Air Conditioner   \n12       Sharp  Air Conditioner   \n13     Toshiba  Air Conditioner   \n14       Sharp           Fridge   \n15  Aqua Sanyo           Fridge   \n16        Beko           Fridge   \n17     Toshiba           Fridge   \n18          Lg           Fridge   \n19     Hitachi           Fridge   \n20     Samsung           Fridge   \n21      Casper           Fridge   \n22  Electrolux           Fridge   \n23   Panasonic           Fridge   \n24        Sony             Tivi   \n25    Iffalcon             Tivi   \n26      Casper             Tivi   \n27     Toshiba             Tivi   \n28          Lg             Tivi   \n29         Tcl             Tivi   \n30     Samsung             Tivi   \n31        Aqua             Tivi   \n32       Sharp             Tivi   \n33          Lg  Washing Machine   \n34  Aqua Sanyo  Washing Machine   \n35        Beko  Washing Machine   \n36   Whirlpool  Washing Machine   \n37     Toshiba  Washing Machine   \n38  Electrolux  Washing Machine   \n39       Sharp  Washing Machine   \n40         Tcl  Washing Machine   \n41      Casper  Washing Machine   \n42     Samsung  Washing Machine   \n43   Panasonic  Washing Machine   \n\n                                               link  \\\n0    https://www.dienmayxanh.com/may-lanh-panasonic   \n1      https://www.dienmayxanh.com/may-lanh-samsung   \n2           https://www.dienmayxanh.com/may-lanh-lg   \n3       https://www.dienmayxanh.com/may-lanh-casper   \n4        https://www.dienmayxanh.com/may-lanh-midea   \n5         https://www.dienmayxanh.com/may-lanh-gree   \n6       https://www.dienmayxanh.com/may-lanh-comfee   \n7     https://www.dienmayxanh.com/may-lanh-nagakawa   \n8       https://www.dienmayxanh.com/may-lanh-daikin   \n9         https://www.dienmayxanh.com/may-lanh-aqua   \n10      https://www.dienmayxanh.com/may-lanh-funiki   \n11         https://www.dienmayxanh.com/may-lanh-tcl   \n12       https://www.dienmayxanh.com/may-lanh-sharp   \n13     https://www.dienmayxanh.com/may-lanh-toshiba   \n14        https://www.dienmayxanh.com/tu-lanh-sharp   \n15   https://www.dienmayxanh.com/tu-lanh-aqua-sanyo   \n16         https://www.dienmayxanh.com/tu-lanh-beko   \n17      https://www.dienmayxanh.com/tu-lanh-toshiba   \n18           https://www.dienmayxanh.com/tu-lanh-lg   \n19      https://www.dienmayxanh.com/tu-lanh-hitachi   \n20      https://www.dienmayxanh.com/tu-lanh-samsung   \n21       https://www.dienmayxanh.com/tu-lanh-casper   \n22   https://www.dienmayxanh.com/tu-lanh-electrolux   \n23    https://www.dienmayxanh.com/tu-lanh-panasonic   \n24            https://www.dienmayxanh.com/tivi-sony   \n25        https://www.dienmayxanh.com/tivi-iffalcon   \n26          https://www.dienmayxanh.com/tivi-casper   \n27         https://www.dienmayxanh.com/tivi-toshiba   \n28              https://www.dienmayxanh.com/tivi-lg   \n29             https://www.dienmayxanh.com/tivi-tcl   \n30         https://www.dienmayxanh.com/tivi-samsung   \n31            https://www.dienmayxanh.com/tivi-aqua   \n32           https://www.dienmayxanh.com/tivi-sharp   \n33          https://www.dienmayxanh.com/may-giat-lg   \n34  https://www.dienmayxanh.com/may-giat-aqua-sanyo   \n35        https://www.dienmayxanh.com/may-giat-beko   \n36   https://www.dienmayxanh.com/may-giat-whirlpool   \n37     https://www.dienmayxanh.com/may-giat-toshiba   \n38  https://www.dienmayxanh.com/may-giat-electrolux   \n39       https://www.dienmayxanh.com/may-giat-sharp   \n40         https://www.dienmayxanh.com/may-giat-tcl   \n41      https://www.dienmayxanh.com/may-giat-casper   \n42     https://www.dienmayxanh.com/may-giat-samsung   \n43   https://www.dienmayxanh.com/may-giat-panasonic   \n\n                                            link_logo  \n0     https://cdn.tgdd.vn/Brand/2/Panasonic2002-b.png  \n1     https://cdn.tgdd.vn/Brand/2/Samsung2002-b_1.png  \n2         https://cdn.tgdd.vn/Brand/2/LG2002-b_13.png  \n3     https://cdn.tgdd.vn/Brand/2/casper-200x80-1.png  \n4       https://cdn.tgdd.vn/Brand/2/idea-200x80-1.png  \n5       https://cdn.tgdd.vn/Brand/2/Gree2002-b_52.png  \n6     https://cdn.tgdd.vn/Brand/2/Comfee2002-b_19.png  \n7   https://cdn.tgdd.vn/Brand/2/Untitled-3-min-200...  \n8     https://cdn.tgdd.vn/Brand/2/Daikin2002-b_34.png  \n9       https://cdn.tgdd.vn/Brand/2/Aqua2002-b_36.png  \n10                                               None  \n11       https://cdn.tgdd.vn/Brand/2/TCL2002-b_24.png  \n12     https://cdn.tgdd.vn/Brand/2/Sharp2002-b_15.png  \n13   https://cdn.tgdd.vn/Brand/2/Toshiba2002-b_12.png  \n14     https://cdn.tgdd.vn/Brand/2/Sharp1943-b_53.png  \n15      https://cdn.tgdd.vn/Brand/2/Aqua1943-b_34.png  \n16       https://cdn.tgdd.vn/Brand/2/Beko1943-b_0.png  \n17   https://cdn.tgdd.vn/Brand/2/Toshiba1943-b_52.png  \n18        https://cdn.tgdd.vn/Brand/2/LG1943-b_10.png  \n19   https://cdn.tgdd.vn/Brand/2/Hitachi1943-b_11.png  \n20   https://cdn.tgdd.vn/Brand/2/Samsung1943-b_53.png  \n21        https://cdn.tgdd.vn/Brand/2/10-200x80-1.png  \n22  https://cdn.tgdd.vn/Brand/2/Electrolux1943-b_5...  \n23  https://cdn.tgdd.vn/Brand/2/Panasonic1943-b_52...  \n24      https://cdn.tgdd.vn/Brand/2/Sony1942-b_57.png  \n25  https://cdn.tgdd.vn/Brand/2/iFFALCON-logo-200x...  \n26  https://cdn.tgdd.vn/Brand/2/Untitled-1-92x40-1...  \n27   https://cdn.tgdd.vn/Brand/2/TOSHIBA-200x80-1.png  \n28        https://cdn.tgdd.vn/Brand/2/LG1942-b_16.png  \n29       https://cdn.tgdd.vn/Brand/2/TCL1942-b_57.png  \n30   https://cdn.tgdd.vn/Brand/2/Samsung1942-b_51.png  \n31  https://cdn.tgdd.vn/Brand/2/Aqua1943-s34-135x8...  \n32     https://cdn.tgdd.vn/Brand/2/Sharp1942-b_48.png  \n33        https://cdn.tgdd.vn/Brand/2/LG1944-b_14.png  \n34      https://cdn.tgdd.vn/Brand/2/Aqua1944-b_31.png  \n35       https://cdn.tgdd.vn/Brand/2/Beko1944-b_1.png  \n36  https://cdn.tgdd.vn/Brand/2/Artboard2-180x80-3...  \n37   https://cdn.tgdd.vn/Brand/2/Toshiba1944-b_17.png  \n38  https://cdn.tgdd.vn/Brand/2/Electrolux1944-b_6...  \n39      https://cdn.tgdd.vn/Brand/2/Sharp1944-b_7.png  \n40        https://cdn.tgdd.vn/Brand/2/TCL1944-b_9.png  \n41         https://cdn.tgdd.vn/Brand/2/1-200x90-3.png  \n42    https://cdn.tgdd.vn/Brand/2/Samsung1944-b_5.png  \n43    https://cdn.tgdd.vn/Brand/2/Panasonic1944-b.png  ",
                        "text/html": "\n  <div id=\"df-509fd732-cdbd-4a06-834a-37b43f468a74\">\n    <div class=\"colab-df-container\">\n      <div>\n<style scoped>\n    .dataframe tbody tr th:only-of-type {\n        vertical-align: middle;\n    }\n\n    .dataframe tbody tr th {\n        vertical-align: top;\n    }\n\n    .dataframe thead th {\n        text-align: right;\n    }\n</style>\n<table border=\"1\" class=\"dataframe\">\n  <thead>\n    <tr style=\"text-align: right;\">\n      <th></th>\n      <th>brand_name</th>\n      <th>genre_name</th>\n      <th>link</th>\n      <th>link_logo</th>\n    </tr>\n  </thead>\n  <tbody>\n    <tr>\n      <th>0</th>\n      <td>Panasonic</td>\n      <td>Air Conditioner</td>\n      <td>https://www.dienmayxanh.com/may-lanh-panasonic</td>\n      <td>https://cdn.tgdd.vn/Brand/2/Panasonic2002-b.png</td>\n    </tr>\n    <tr>\n      <th>1</th>\n      <td>Samsung</td>\n      <td>Air Conditioner</td>\n      <td>https://www.dienmayxanh.com/may-lanh-samsung</td>\n      <td>https://cdn.tgdd.vn/Brand/2/Samsung2002-b_1.png</td>\n    </tr>\n    <tr>\n      <th>2</th>\n      <td>Lg</td>\n      <td>Air Conditioner</td>\n      <td>https://www.dienmayxanh.com/may-lanh-lg</td>\n      <td>https://cdn.tgdd.vn/Brand/2/LG2002-b_13.png</td>\n    </tr>\n    <tr>\n      <th>3</th>\n      <td>Casper</td>\n      <td>Air Conditioner</td>\n      <td>https://www.dienmayxanh.com/may-lanh-casper</td>\n      <td>https://cdn.tgdd.vn/Brand/2/casper-200x80-1.png</td>\n    </tr>\n    <tr>\n      <th>4</th>\n      <td>Midea</td>\n      <td>Air Conditioner</td>\n      <td>https://www.dienmayxanh.com/may-lanh-midea</td>\n      <td>https://cdn.tgdd.vn/Brand/2/idea-200x80-1.png</td>\n    </tr>\n    <tr>\n      <th>5</th>\n      <td>Gree</td>\n      <td>Air Conditioner</td>\n      <td>https://www.dienmayxanh.com/may-lanh-gree</td>\n      <td>https://cdn.tgdd.vn/Brand/2/Gree2002-b_52.png</td>\n    </tr>\n    <tr>\n      <th>6</th>\n      <td>Comfee</td>\n      <td>Air Conditioner</td>\n      <td>https://www.dienmayxanh.com/may-lanh-comfee</td>\n      <td>https://cdn.tgdd.vn/Brand/2/Comfee2002-b_19.png</td>\n    </tr>\n    <tr>\n      <th>7</th>\n      <td>Nagakawa</td>\n      <td>Air Conditioner</td>\n      <td>https://www.dienmayxanh.com/may-lanh-nagakawa</td>\n      <td>https://cdn.tgdd.vn/Brand/2/Untitled-3-min-200...</td>\n    </tr>\n    <tr>\n      <th>8</th>\n      <td>Daikin</td>\n      <td>Air Conditioner</td>\n      <td>https://www.dienmayxanh.com/may-lanh-daikin</td>\n      <td>https://cdn.tgdd.vn/Brand/2/Daikin2002-b_34.png</td>\n    </tr>\n    <tr>\n      <th>9</th>\n      <td>Aqua</td>\n      <td>Air Conditioner</td>\n      <td>https://www.dienmayxanh.com/may-lanh-aqua</td>\n      <td>https://cdn.tgdd.vn/Brand/2/Aqua2002-b_36.png</td>\n    </tr>\n    <tr>\n      <th>10</th>\n      <td>Funiki</td>\n      <td>Air Conditioner</td>\n      <td>https://www.dienmayxanh.com/may-lanh-funiki</td>\n      <td>None</td>\n    </tr>\n    <tr>\n      <th>11</th>\n      <td>Tcl</td>\n      <td>Air Conditioner</td>\n      <td>https://www.dienmayxanh.com/may-lanh-tcl</td>\n      <td>https://cdn.tgdd.vn/Brand/2/TCL2002-b_24.png</td>\n    </tr>\n    <tr>\n      <th>12</th>\n      <td>Sharp</td>\n      <td>Air Conditioner</td>\n      <td>https://www.dienmayxanh.com/may-lanh-sharp</td>\n      <td>https://cdn.tgdd.vn/Brand/2/Sharp2002-b_15.png</td>\n    </tr>\n    <tr>\n      <th>13</th>\n      <td>Toshiba</td>\n      <td>Air Conditioner</td>\n      <td>https://www.dienmayxanh.com/may-lanh-toshiba</td>\n      <td>https://cdn.tgdd.vn/Brand/2/Toshiba2002-b_12.png</td>\n    </tr>\n    <tr>\n      <th>14</th>\n      <td>Sharp</td>\n      <td>Fridge</td>\n      <td>https://www.dienmayxanh.com/tu-lanh-sharp</td>\n      <td>https://cdn.tgdd.vn/Brand/2/Sharp1943-b_53.png</td>\n    </tr>\n    <tr>\n      <th>15</th>\n      <td>Aqua Sanyo</td>\n      <td>Fridge</td>\n      <td>https://www.dienmayxanh.com/tu-lanh-aqua-sanyo</td>\n      <td>https://cdn.tgdd.vn/Brand/2/Aqua1943-b_34.png</td>\n    </tr>\n    <tr>\n      <th>16</th>\n      <td>Beko</td>\n      <td>Fridge</td>\n      <td>https://www.dienmayxanh.com/tu-lanh-beko</td>\n      <td>https://cdn.tgdd.vn/Brand/2/Beko1943-b_0.png</td>\n    </tr>\n    <tr>\n      <th>17</th>\n      <td>Toshiba</td>\n      <td>Fridge</td>\n      <td>https://www.dienmayxanh.com/tu-lanh-toshiba</td>\n      <td>https://cdn.tgdd.vn/Brand/2/Toshiba1943-b_52.png</td>\n    </tr>\n    <tr>\n      <th>18</th>\n      <td>Lg</td>\n      <td>Fridge</td>\n      <td>https://www.dienmayxanh.com/tu-lanh-lg</td>\n      <td>https://cdn.tgdd.vn/Brand/2/LG1943-b_10.png</td>\n    </tr>\n    <tr>\n      <th>19</th>\n      <td>Hitachi</td>\n      <td>Fridge</td>\n      <td>https://www.dienmayxanh.com/tu-lanh-hitachi</td>\n      <td>https://cdn.tgdd.vn/Brand/2/Hitachi1943-b_11.png</td>\n    </tr>\n    <tr>\n      <th>20</th>\n      <td>Samsung</td>\n      <td>Fridge</td>\n      <td>https://www.dienmayxanh.com/tu-lanh-samsung</td>\n      <td>https://cdn.tgdd.vn/Brand/2/Samsung1943-b_53.png</td>\n    </tr>\n    <tr>\n      <th>21</th>\n      <td>Casper</td>\n      <td>Fridge</td>\n      <td>https://www.dienmayxanh.com/tu-lanh-casper</td>\n      <td>https://cdn.tgdd.vn/Brand/2/10-200x80-1.png</td>\n    </tr>\n    <tr>\n      <th>22</th>\n      <td>Electrolux</td>\n      <td>Fridge</td>\n      <td>https://www.dienmayxanh.com/tu-lanh-electrolux</td>\n      <td>https://cdn.tgdd.vn/Brand/2/Electrolux1943-b_5...</td>\n    </tr>\n    <tr>\n      <th>23</th>\n      <td>Panasonic</td>\n      <td>Fridge</td>\n      <td>https://www.dienmayxanh.com/tu-lanh-panasonic</td>\n      <td>https://cdn.tgdd.vn/Brand/2/Panasonic1943-b_52...</td>\n    </tr>\n    <tr>\n      <th>24</th>\n      <td>Sony</td>\n      <td>Tivi</td>\n      <td>https://www.dienmayxanh.com/tivi-sony</td>\n      <td>https://cdn.tgdd.vn/Brand/2/Sony1942-b_57.png</td>\n    </tr>\n    <tr>\n      <th>25</th>\n      <td>Iffalcon</td>\n      <td>Tivi</td>\n      <td>https://www.dienmayxanh.com/tivi-iffalcon</td>\n      <td>https://cdn.tgdd.vn/Brand/2/iFFALCON-logo-200x...</td>\n    </tr>\n    <tr>\n      <th>26</th>\n      <td>Casper</td>\n      <td>Tivi</td>\n      <td>https://www.dienmayxanh.com/tivi-casper</td>\n      <td>https://cdn.tgdd.vn/Brand/2/Untitled-1-92x40-1...</td>\n    </tr>\n    <tr>\n      <th>27</th>\n      <td>Toshiba</td>\n      <td>Tivi</td>\n      <td>https://www.dienmayxanh.com/tivi-toshiba</td>\n      <td>https://cdn.tgdd.vn/Brand/2/TOSHIBA-200x80-1.png</td>\n    </tr>\n    <tr>\n      <th>28</th>\n      <td>Lg</td>\n      <td>Tivi</td>\n      <td>https://www.dienmayxanh.com/tivi-lg</td>\n      <td>https://cdn.tgdd.vn/Brand/2/LG1942-b_16.png</td>\n    </tr>\n    <tr>\n      <th>29</th>\n      <td>Tcl</td>\n      <td>Tivi</td>\n      <td>https://www.dienmayxanh.com/tivi-tcl</td>\n      <td>https://cdn.tgdd.vn/Brand/2/TCL1942-b_57.png</td>\n    </tr>\n    <tr>\n      <th>30</th>\n      <td>Samsung</td>\n      <td>Tivi</td>\n      <td>https://www.dienmayxanh.com/tivi-samsung</td>\n      <td>https://cdn.tgdd.vn/Brand/2/Samsung1942-b_51.png</td>\n    </tr>\n    <tr>\n      <th>31</th>\n      <td>Aqua</td>\n      <td>Tivi</td>\n      <td>https://www.dienmayxanh.com/tivi-aqua</td>\n      <td>https://cdn.tgdd.vn/Brand/2/Aqua1943-s34-135x8...</td>\n    </tr>\n    <tr>\n      <th>32</th>\n      <td>Sharp</td>\n      <td>Tivi</td>\n      <td>https://www.dienmayxanh.com/tivi-sharp</td>\n      <td>https://cdn.tgdd.vn/Brand/2/Sharp1942-b_48.png</td>\n    </tr>\n    <tr>\n      <th>33</th>\n      <td>Lg</td>\n      <td>Washing Machine</td>\n      <td>https://www.dienmayxanh.com/may-giat-lg</td>\n      <td>https://cdn.tgdd.vn/Brand/2/LG1944-b_14.png</td>\n    </tr>\n    <tr>\n      <th>34</th>\n      <td>Aqua Sanyo</td>\n      <td>Washing Machine</td>\n      <td>https://www.dienmayxanh.com/may-giat-aqua-sanyo</td>\n      <td>https://cdn.tgdd.vn/Brand/2/Aqua1944-b_31.png</td>\n    </tr>\n    <tr>\n      <th>35</th>\n      <td>Beko</td>\n      <td>Washing Machine</td>\n      <td>https://www.dienmayxanh.com/may-giat-beko</td>\n      <td>https://cdn.tgdd.vn/Brand/2/Beko1944-b_1.png</td>\n    </tr>\n    <tr>\n      <th>36</th>\n      <td>Whirlpool</td>\n      <td>Washing Machine</td>\n      <td>https://www.dienmayxanh.com/may-giat-whirlpool</td>\n      <td>https://cdn.tgdd.vn/Brand/2/Artboard2-180x80-3...</td>\n    </tr>\n    <tr>\n      <th>37</th>\n      <td>Toshiba</td>\n      <td>Washing Machine</td>\n      <td>https://www.dienmayxanh.com/may-giat-toshiba</td>\n      <td>https://cdn.tgdd.vn/Brand/2/Toshiba1944-b_17.png</td>\n    </tr>\n    <tr>\n      <th>38</th>\n      <td>Electrolux</td>\n      <td>Washing Machine</td>\n      <td>https://www.dienmayxanh.com/may-giat-electrolux</td>\n      <td>https://cdn.tgdd.vn/Brand/2/Electrolux1944-b_6...</td>\n    </tr>\n    <tr>\n      <th>39</th>\n      <td>Sharp</td>\n      <td>Washing Machine</td>\n      <td>https://www.dienmayxanh.com/may-giat-sharp</td>\n      <td>https://cdn.tgdd.vn/Brand/2/Sharp1944-b_7.png</td>\n    </tr>\n    <tr>\n      <th>40</th>\n      <td>Tcl</td>\n      <td>Washing Machine</td>\n      <td>https://www.dienmayxanh.com/may-giat-tcl</td>\n      <td>https://cdn.tgdd.vn/Brand/2/TCL1944-b_9.png</td>\n    </tr>\n    <tr>\n      <th>41</th>\n      <td>Casper</td>\n      <td>Washing Machine</td>\n      <td>https://www.dienmayxanh.com/may-giat-casper</td>\n      <td>https://cdn.tgdd.vn/Brand/2/1-200x90-3.png</td>\n    </tr>\n    <tr>\n      <th>42</th>\n      <td>Samsung</td>\n      <td>Washing Machine</td>\n      <td>https://www.dienmayxanh.com/may-giat-samsung</td>\n      <td>https://cdn.tgdd.vn/Brand/2/Samsung1944-b_5.png</td>\n    </tr>\n    <tr>\n      <th>43</th>\n      <td>Panasonic</td>\n      <td>Washing Machine</td>\n      <td>https://www.dienmayxanh.com/may-giat-panasonic</td>\n      <td>https://cdn.tgdd.vn/Brand/2/Panasonic1944-b.png</td>\n    </tr>\n  </tbody>\n</table>\n</div>\n      <button class=\"colab-df-convert\" onclick=\"convertToInteractive('df-509fd732-cdbd-4a06-834a-37b43f468a74')\"\n              title=\"Convert this dataframe to an interactive table.\"\n              style=\"display:none;\">\n        \n  <svg xmlns=\"http://www.w3.org/2000/svg\" height=\"24px\"viewBox=\"0 0 24 24\"\n       width=\"24px\">\n    <path d=\"M0 0h24v24H0V0z\" fill=\"none\"/>\n    <path d=\"M18.56 5.44l.94 2.06.94-2.06 2.06-.94-2.06-.94-.94-2.06-.94 2.06-2.06.94zm-11 1L8.5 8.5l.94-2.06 2.06-.94-2.06-.94L8.5 2.5l-.94 2.06-2.06.94zm10 10l.94 2.06.94-2.06 2.06-.94-2.06-.94-.94-2.06-.94 2.06-2.06.94z\"/><path d=\"M17.41 7.96l-1.37-1.37c-.4-.4-.92-.59-1.43-.59-.52 0-1.04.2-1.43.59L10.3 9.45l-7.72 7.72c-.78.78-.78 2.05 0 2.83L4 21.41c.39.39.9.59 1.41.59.51 0 1.02-.2 1.41-.59l7.78-7.78 2.81-2.81c.8-.78.8-2.07 0-2.86zM5.41 20L4 18.59l7.72-7.72 1.47 1.35L5.41 20z\"/>\n  </svg>\n      </button>\n      \n  <style>\n    .colab-df-container {\n      display:flex;\n      flex-wrap:wrap;\n      gap: 12px;\n    }\n\n    .colab-df-convert {\n      background-color: #E8F0FE;\n      border: none;\n      border-radius: 50%;\n      cursor: pointer;\n      display: none;\n      fill: #1967D2;\n      height: 32px;\n      padding: 0 0 0 0;\n      width: 32px;\n    }\n\n    .colab-df-convert:hover {\n      background-color: #E2EBFA;\n      box-shadow: 0px 1px 2px rgba(60, 64, 67, 0.3), 0px 1px 3px 1px rgba(60, 64, 67, 0.15);\n      fill: #174EA6;\n    }\n\n    [theme=dark] .colab-df-convert {\n      background-color: #3B4455;\n      fill: #D2E3FC;\n    }\n\n    [theme=dark] .colab-df-convert:hover {\n      background-color: #434B5C;\n      box-shadow: 0px 1px 3px 1px rgba(0, 0, 0, 0.15);\n      filter: drop-shadow(0px 1px 2px rgba(0, 0, 0, 0.3));\n      fill: #FFFFFF;\n    }\n  </style>\n\n      <script>\n        const buttonEl =\n          document.querySelector('#df-509fd732-cdbd-4a06-834a-37b43f468a74 button.colab-df-convert');\n        buttonEl.style.display =\n          google.colab.kernel.accessAllowed ? 'block' : 'none';\n\n        async function convertToInteractive(key) {\n          const element = document.querySelector('#df-509fd732-cdbd-4a06-834a-37b43f468a74');\n          const dataTable =\n            await google.colab.kernel.invokeFunction('convertToInteractive',\n                                                     [key], {});\n          if (!dataTable) return;\n\n          const docLinkHtml = 'Like what you see? Visit the ' +\n            '<a target=\"_blank\" href=https://colab.research.google.com/notebooks/data_table.ipynb>data table notebook</a>'\n            + ' to learn more about interactive tables.';\n          element.innerHTML = '';\n          dataTable['output_type'] = 'display_data';\n          await google.colab.output.renderOutput(dataTable, element);\n          const docLink = document.createElement('div');\n          docLink.innerHTML = docLinkHtml;\n          element.appendChild(docLink);\n        }\n      </script>\n    </div>\n  </div>\n  "
                    },
                    "metadata": {}
                }
            ],
            "execution_count": null
        },
        {
            "cell_type": "code",
            "source": [
                "brand_details = brand_details \\\n",
                "                .join(genres, on='genre_name', how='inner') \\\n",
                "                .join(brands, on='brand_name', how='inner')\n",
                "\n",
                "brand_details = brand_details.toPandas()\n",
                "brand_details"
            ],
            "metadata": {
                "colab": {
                    "base_uri": "https://localhost:8080/",
                    "height": 1000
                },
                "id": "eZ0Gk2DB-g-0",
                "executionInfo": {
                    "status": "ok",
                    "timestamp": 1687821290920,
                    "user_tz": -420,
                    "elapsed": 2710,
                    "user": {
                        "displayName": "Cho Phan",
                        "userId": "15376299712231995454"
                    }
                },
                "outputId": "2837180e-bcc9-454d-d493-63bf163a6a27",
                "azdata_cell_guid": "aaeea155-83ec-4122-b9d5-8712b394b389",
                "language": "python"
            },
            "outputs": [
                {
                    "output_type": "execute_result",
                    "execution_count": 34,
                    "data": {
                        "text/plain": "    brand_name       genre_name  \\\n0    Panasonic  Air Conditioner   \n1      Samsung  Air Conditioner   \n2           Lg  Air Conditioner   \n3       Casper  Air Conditioner   \n4        Midea  Air Conditioner   \n5         Gree  Air Conditioner   \n6       Comfee  Air Conditioner   \n7     Nagakawa  Air Conditioner   \n8       Daikin  Air Conditioner   \n9         Aqua  Air Conditioner   \n10      Funiki  Air Conditioner   \n11         Tcl  Air Conditioner   \n12       Sharp  Air Conditioner   \n13     Toshiba  Air Conditioner   \n14       Sharp           Fridge   \n15  Aqua Sanyo           Fridge   \n16        Beko           Fridge   \n17     Toshiba           Fridge   \n18          Lg           Fridge   \n19     Hitachi           Fridge   \n20     Samsung           Fridge   \n21      Casper           Fridge   \n22  Electrolux           Fridge   \n23   Panasonic           Fridge   \n24        Sony             Tivi   \n25    Iffalcon             Tivi   \n26      Casper             Tivi   \n27     Toshiba             Tivi   \n28          Lg             Tivi   \n29         Tcl             Tivi   \n30     Samsung             Tivi   \n31        Aqua             Tivi   \n32       Sharp             Tivi   \n33          Lg  Washing Machine   \n34  Aqua Sanyo  Washing Machine   \n35        Beko  Washing Machine   \n36   Whirlpool  Washing Machine   \n37     Toshiba  Washing Machine   \n38  Electrolux  Washing Machine   \n39       Sharp  Washing Machine   \n40         Tcl  Washing Machine   \n41      Casper  Washing Machine   \n42     Samsung  Washing Machine   \n43   Panasonic  Washing Machine   \n\n                                               link  \\\n0    https://www.dienmayxanh.com/may-lanh-panasonic   \n1      https://www.dienmayxanh.com/may-lanh-samsung   \n2           https://www.dienmayxanh.com/may-lanh-lg   \n3       https://www.dienmayxanh.com/may-lanh-casper   \n4        https://www.dienmayxanh.com/may-lanh-midea   \n5         https://www.dienmayxanh.com/may-lanh-gree   \n6       https://www.dienmayxanh.com/may-lanh-comfee   \n7     https://www.dienmayxanh.com/may-lanh-nagakawa   \n8       https://www.dienmayxanh.com/may-lanh-daikin   \n9         https://www.dienmayxanh.com/may-lanh-aqua   \n10      https://www.dienmayxanh.com/may-lanh-funiki   \n11         https://www.dienmayxanh.com/may-lanh-tcl   \n12       https://www.dienmayxanh.com/may-lanh-sharp   \n13     https://www.dienmayxanh.com/may-lanh-toshiba   \n14        https://www.dienmayxanh.com/tu-lanh-sharp   \n15   https://www.dienmayxanh.com/tu-lanh-aqua-sanyo   \n16         https://www.dienmayxanh.com/tu-lanh-beko   \n17      https://www.dienmayxanh.com/tu-lanh-toshiba   \n18           https://www.dienmayxanh.com/tu-lanh-lg   \n19      https://www.dienmayxanh.com/tu-lanh-hitachi   \n20      https://www.dienmayxanh.com/tu-lanh-samsung   \n21       https://www.dienmayxanh.com/tu-lanh-casper   \n22   https://www.dienmayxanh.com/tu-lanh-electrolux   \n23    https://www.dienmayxanh.com/tu-lanh-panasonic   \n24            https://www.dienmayxanh.com/tivi-sony   \n25        https://www.dienmayxanh.com/tivi-iffalcon   \n26          https://www.dienmayxanh.com/tivi-casper   \n27         https://www.dienmayxanh.com/tivi-toshiba   \n28              https://www.dienmayxanh.com/tivi-lg   \n29             https://www.dienmayxanh.com/tivi-tcl   \n30         https://www.dienmayxanh.com/tivi-samsung   \n31            https://www.dienmayxanh.com/tivi-aqua   \n32           https://www.dienmayxanh.com/tivi-sharp   \n33          https://www.dienmayxanh.com/may-giat-lg   \n34  https://www.dienmayxanh.com/may-giat-aqua-sanyo   \n35        https://www.dienmayxanh.com/may-giat-beko   \n36   https://www.dienmayxanh.com/may-giat-whirlpool   \n37     https://www.dienmayxanh.com/may-giat-toshiba   \n38  https://www.dienmayxanh.com/may-giat-electrolux   \n39       https://www.dienmayxanh.com/may-giat-sharp   \n40         https://www.dienmayxanh.com/may-giat-tcl   \n41      https://www.dienmayxanh.com/may-giat-casper   \n42     https://www.dienmayxanh.com/may-giat-samsung   \n43   https://www.dienmayxanh.com/may-giat-panasonic   \n\n                                            link_logo genre_id company_id  \\\n0     https://cdn.tgdd.vn/Brand/2/Panasonic2002-b.png     0301         03   \n1     https://cdn.tgdd.vn/Brand/2/Samsung2002-b_1.png     0301         03   \n2         https://cdn.tgdd.vn/Brand/2/LG2002-b_13.png     0301         03   \n3     https://cdn.tgdd.vn/Brand/2/casper-200x80-1.png     0301         03   \n4       https://cdn.tgdd.vn/Brand/2/idea-200x80-1.png     0301         03   \n5       https://cdn.tgdd.vn/Brand/2/Gree2002-b_52.png     0301         03   \n6     https://cdn.tgdd.vn/Brand/2/Comfee2002-b_19.png     0301         03   \n7   https://cdn.tgdd.vn/Brand/2/Untitled-3-min-200...     0301         03   \n8     https://cdn.tgdd.vn/Brand/2/Daikin2002-b_34.png     0301         03   \n9       https://cdn.tgdd.vn/Brand/2/Aqua2002-b_36.png     0301         03   \n10                                               None     0301         03   \n11       https://cdn.tgdd.vn/Brand/2/TCL2002-b_24.png     0301         03   \n12     https://cdn.tgdd.vn/Brand/2/Sharp2002-b_15.png     0301         03   \n13   https://cdn.tgdd.vn/Brand/2/Toshiba2002-b_12.png     0301         03   \n14     https://cdn.tgdd.vn/Brand/2/Sharp1943-b_53.png     0302         03   \n15      https://cdn.tgdd.vn/Brand/2/Aqua1943-b_34.png     0302         03   \n16       https://cdn.tgdd.vn/Brand/2/Beko1943-b_0.png     0302         03   \n17   https://cdn.tgdd.vn/Brand/2/Toshiba1943-b_52.png     0302         03   \n18        https://cdn.tgdd.vn/Brand/2/LG1943-b_10.png     0302         03   \n19   https://cdn.tgdd.vn/Brand/2/Hitachi1943-b_11.png     0302         03   \n20   https://cdn.tgdd.vn/Brand/2/Samsung1943-b_53.png     0302         03   \n21        https://cdn.tgdd.vn/Brand/2/10-200x80-1.png     0302         03   \n22  https://cdn.tgdd.vn/Brand/2/Electrolux1943-b_5...     0302         03   \n23  https://cdn.tgdd.vn/Brand/2/Panasonic1943-b_52...     0302         03   \n24      https://cdn.tgdd.vn/Brand/2/Sony1942-b_57.png     0303         03   \n25  https://cdn.tgdd.vn/Brand/2/iFFALCON-logo-200x...     0303         03   \n26  https://cdn.tgdd.vn/Brand/2/Untitled-1-92x40-1...     0303         03   \n27   https://cdn.tgdd.vn/Brand/2/TOSHIBA-200x80-1.png     0303         03   \n28        https://cdn.tgdd.vn/Brand/2/LG1942-b_16.png     0303         03   \n29       https://cdn.tgdd.vn/Brand/2/TCL1942-b_57.png     0303         03   \n30   https://cdn.tgdd.vn/Brand/2/Samsung1942-b_51.png     0303         03   \n31  https://cdn.tgdd.vn/Brand/2/Aqua1943-s34-135x8...     0303         03   \n32     https://cdn.tgdd.vn/Brand/2/Sharp1942-b_48.png     0303         03   \n33        https://cdn.tgdd.vn/Brand/2/LG1944-b_14.png     0304         03   \n34      https://cdn.tgdd.vn/Brand/2/Aqua1944-b_31.png     0304         03   \n35       https://cdn.tgdd.vn/Brand/2/Beko1944-b_1.png     0304         03   \n36  https://cdn.tgdd.vn/Brand/2/Artboard2-180x80-3...     0304         03   \n37   https://cdn.tgdd.vn/Brand/2/Toshiba1944-b_17.png     0304         03   \n38  https://cdn.tgdd.vn/Brand/2/Electrolux1944-b_6...     0304         03   \n39      https://cdn.tgdd.vn/Brand/2/Sharp1944-b_7.png     0304         03   \n40        https://cdn.tgdd.vn/Brand/2/TCL1944-b_9.png     0304         03   \n41         https://cdn.tgdd.vn/Brand/2/1-200x90-3.png     0304         03   \n42    https://cdn.tgdd.vn/Brand/2/Samsung1944-b_5.png     0304         03   \n43    https://cdn.tgdd.vn/Brand/2/Panasonic1944-b.png     0304         03   \n\n   brand_id  \n0      0314  \n1      0307  \n2      0306  \n3      0310  \n4      0301  \n5      0308  \n6      0311  \n7      0309  \n8      0304  \n9      0302  \n10     0303  \n11     0305  \n12     0312  \n13     0313  \n14     0312  \n15     0316  \n16     0315  \n17     0313  \n18     0306  \n19     0317  \n20     0307  \n21     0310  \n22     0318  \n23     0314  \n24     0319  \n25     0320  \n26     0310  \n27     0313  \n28     0306  \n29     0305  \n30     0307  \n31     0302  \n32     0312  \n33     0306  \n34     0316  \n35     0315  \n36     0321  \n37     0313  \n38     0318  \n39     0312  \n40     0305  \n41     0310  \n42     0307  \n43     0314  ",
                        "text/html": "\n  <div id=\"df-d95a26c9-e452-4e7a-85c3-08ba18e56694\">\n    <div class=\"colab-df-container\">\n      <div>\n<style scoped>\n    .dataframe tbody tr th:only-of-type {\n        vertical-align: middle;\n    }\n\n    .dataframe tbody tr th {\n        vertical-align: top;\n    }\n\n    .dataframe thead th {\n        text-align: right;\n    }\n</style>\n<table border=\"1\" class=\"dataframe\">\n  <thead>\n    <tr style=\"text-align: right;\">\n      <th></th>\n      <th>brand_name</th>\n      <th>genre_name</th>\n      <th>link</th>\n      <th>link_logo</th>\n      <th>genre_id</th>\n      <th>company_id</th>\n      <th>brand_id</th>\n    </tr>\n  </thead>\n  <tbody>\n    <tr>\n      <th>0</th>\n      <td>Panasonic</td>\n      <td>Air Conditioner</td>\n      <td>https://www.dienmayxanh.com/may-lanh-panasonic</td>\n      <td>https://cdn.tgdd.vn/Brand/2/Panasonic2002-b.png</td>\n      <td>0301</td>\n      <td>03</td>\n      <td>0314</td>\n    </tr>\n    <tr>\n      <th>1</th>\n      <td>Samsung</td>\n      <td>Air Conditioner</td>\n      <td>https://www.dienmayxanh.com/may-lanh-samsung</td>\n      <td>https://cdn.tgdd.vn/Brand/2/Samsung2002-b_1.png</td>\n      <td>0301</td>\n      <td>03</td>\n      <td>0307</td>\n    </tr>\n    <tr>\n      <th>2</th>\n      <td>Lg</td>\n      <td>Air Conditioner</td>\n      <td>https://www.dienmayxanh.com/may-lanh-lg</td>\n      <td>https://cdn.tgdd.vn/Brand/2/LG2002-b_13.png</td>\n      <td>0301</td>\n      <td>03</td>\n      <td>0306</td>\n    </tr>\n    <tr>\n      <th>3</th>\n      <td>Casper</td>\n      <td>Air Conditioner</td>\n      <td>https://www.dienmayxanh.com/may-lanh-casper</td>\n      <td>https://cdn.tgdd.vn/Brand/2/casper-200x80-1.png</td>\n      <td>0301</td>\n      <td>03</td>\n      <td>0310</td>\n    </tr>\n    <tr>\n      <th>4</th>\n      <td>Midea</td>\n      <td>Air Conditioner</td>\n      <td>https://www.dienmayxanh.com/may-lanh-midea</td>\n      <td>https://cdn.tgdd.vn/Brand/2/idea-200x80-1.png</td>\n      <td>0301</td>\n      <td>03</td>\n      <td>0301</td>\n    </tr>\n    <tr>\n      <th>5</th>\n      <td>Gree</td>\n      <td>Air Conditioner</td>\n      <td>https://www.dienmayxanh.com/may-lanh-gree</td>\n      <td>https://cdn.tgdd.vn/Brand/2/Gree2002-b_52.png</td>\n      <td>0301</td>\n      <td>03</td>\n      <td>0308</td>\n    </tr>\n    <tr>\n      <th>6</th>\n      <td>Comfee</td>\n      <td>Air Conditioner</td>\n      <td>https://www.dienmayxanh.com/may-lanh-comfee</td>\n      <td>https://cdn.tgdd.vn/Brand/2/Comfee2002-b_19.png</td>\n      <td>0301</td>\n      <td>03</td>\n      <td>0311</td>\n    </tr>\n    <tr>\n      <th>7</th>\n      <td>Nagakawa</td>\n      <td>Air Conditioner</td>\n      <td>https://www.dienmayxanh.com/may-lanh-nagakawa</td>\n      <td>https://cdn.tgdd.vn/Brand/2/Untitled-3-min-200...</td>\n      <td>0301</td>\n      <td>03</td>\n      <td>0309</td>\n    </tr>\n    <tr>\n      <th>8</th>\n      <td>Daikin</td>\n      <td>Air Conditioner</td>\n      <td>https://www.dienmayxanh.com/may-lanh-daikin</td>\n      <td>https://cdn.tgdd.vn/Brand/2/Daikin2002-b_34.png</td>\n      <td>0301</td>\n      <td>03</td>\n      <td>0304</td>\n    </tr>\n    <tr>\n      <th>9</th>\n      <td>Aqua</td>\n      <td>Air Conditioner</td>\n      <td>https://www.dienmayxanh.com/may-lanh-aqua</td>\n      <td>https://cdn.tgdd.vn/Brand/2/Aqua2002-b_36.png</td>\n      <td>0301</td>\n      <td>03</td>\n      <td>0302</td>\n    </tr>\n    <tr>\n      <th>10</th>\n      <td>Funiki</td>\n      <td>Air Conditioner</td>\n      <td>https://www.dienmayxanh.com/may-lanh-funiki</td>\n      <td>None</td>\n      <td>0301</td>\n      <td>03</td>\n      <td>0303</td>\n    </tr>\n    <tr>\n      <th>11</th>\n      <td>Tcl</td>\n      <td>Air Conditioner</td>\n      <td>https://www.dienmayxanh.com/may-lanh-tcl</td>\n      <td>https://cdn.tgdd.vn/Brand/2/TCL2002-b_24.png</td>\n      <td>0301</td>\n      <td>03</td>\n      <td>0305</td>\n    </tr>\n    <tr>\n      <th>12</th>\n      <td>Sharp</td>\n      <td>Air Conditioner</td>\n      <td>https://www.dienmayxanh.com/may-lanh-sharp</td>\n      <td>https://cdn.tgdd.vn/Brand/2/Sharp2002-b_15.png</td>\n      <td>0301</td>\n      <td>03</td>\n      <td>0312</td>\n    </tr>\n    <tr>\n      <th>13</th>\n      <td>Toshiba</td>\n      <td>Air Conditioner</td>\n      <td>https://www.dienmayxanh.com/may-lanh-toshiba</td>\n      <td>https://cdn.tgdd.vn/Brand/2/Toshiba2002-b_12.png</td>\n      <td>0301</td>\n      <td>03</td>\n      <td>0313</td>\n    </tr>\n    <tr>\n      <th>14</th>\n      <td>Sharp</td>\n      <td>Fridge</td>\n      <td>https://www.dienmayxanh.com/tu-lanh-sharp</td>\n      <td>https://cdn.tgdd.vn/Brand/2/Sharp1943-b_53.png</td>\n      <td>0302</td>\n      <td>03</td>\n      <td>0312</td>\n    </tr>\n    <tr>\n      <th>15</th>\n      <td>Aqua Sanyo</td>\n      <td>Fridge</td>\n      <td>https://www.dienmayxanh.com/tu-lanh-aqua-sanyo</td>\n      <td>https://cdn.tgdd.vn/Brand/2/Aqua1943-b_34.png</td>\n      <td>0302</td>\n      <td>03</td>\n      <td>0316</td>\n    </tr>\n    <tr>\n      <th>16</th>\n      <td>Beko</td>\n      <td>Fridge</td>\n      <td>https://www.dienmayxanh.com/tu-lanh-beko</td>\n      <td>https://cdn.tgdd.vn/Brand/2/Beko1943-b_0.png</td>\n      <td>0302</td>\n      <td>03</td>\n      <td>0315</td>\n    </tr>\n    <tr>\n      <th>17</th>\n      <td>Toshiba</td>\n      <td>Fridge</td>\n      <td>https://www.dienmayxanh.com/tu-lanh-toshiba</td>\n      <td>https://cdn.tgdd.vn/Brand/2/Toshiba1943-b_52.png</td>\n      <td>0302</td>\n      <td>03</td>\n      <td>0313</td>\n    </tr>\n    <tr>\n      <th>18</th>\n      <td>Lg</td>\n      <td>Fridge</td>\n      <td>https://www.dienmayxanh.com/tu-lanh-lg</td>\n      <td>https://cdn.tgdd.vn/Brand/2/LG1943-b_10.png</td>\n      <td>0302</td>\n      <td>03</td>\n      <td>0306</td>\n    </tr>\n    <tr>\n      <th>19</th>\n      <td>Hitachi</td>\n      <td>Fridge</td>\n      <td>https://www.dienmayxanh.com/tu-lanh-hitachi</td>\n      <td>https://cdn.tgdd.vn/Brand/2/Hitachi1943-b_11.png</td>\n      <td>0302</td>\n      <td>03</td>\n      <td>0317</td>\n    </tr>\n    <tr>\n      <th>20</th>\n      <td>Samsung</td>\n      <td>Fridge</td>\n      <td>https://www.dienmayxanh.com/tu-lanh-samsung</td>\n      <td>https://cdn.tgdd.vn/Brand/2/Samsung1943-b_53.png</td>\n      <td>0302</td>\n      <td>03</td>\n      <td>0307</td>\n    </tr>\n    <tr>\n      <th>21</th>\n      <td>Casper</td>\n      <td>Fridge</td>\n      <td>https://www.dienmayxanh.com/tu-lanh-casper</td>\n      <td>https://cdn.tgdd.vn/Brand/2/10-200x80-1.png</td>\n      <td>0302</td>\n      <td>03</td>\n      <td>0310</td>\n    </tr>\n    <tr>\n      <th>22</th>\n      <td>Electrolux</td>\n      <td>Fridge</td>\n      <td>https://www.dienmayxanh.com/tu-lanh-electrolux</td>\n      <td>https://cdn.tgdd.vn/Brand/2/Electrolux1943-b_5...</td>\n      <td>0302</td>\n      <td>03</td>\n      <td>0318</td>\n    </tr>\n    <tr>\n      <th>23</th>\n      <td>Panasonic</td>\n      <td>Fridge</td>\n      <td>https://www.dienmayxanh.com/tu-lanh-panasonic</td>\n      <td>https://cdn.tgdd.vn/Brand/2/Panasonic1943-b_52...</td>\n      <td>0302</td>\n      <td>03</td>\n      <td>0314</td>\n    </tr>\n    <tr>\n      <th>24</th>\n      <td>Sony</td>\n      <td>Tivi</td>\n      <td>https://www.dienmayxanh.com/tivi-sony</td>\n      <td>https://cdn.tgdd.vn/Brand/2/Sony1942-b_57.png</td>\n      <td>0303</td>\n      <td>03</td>\n      <td>0319</td>\n    </tr>\n    <tr>\n      <th>25</th>\n      <td>Iffalcon</td>\n      <td>Tivi</td>\n      <td>https://www.dienmayxanh.com/tivi-iffalcon</td>\n      <td>https://cdn.tgdd.vn/Brand/2/iFFALCON-logo-200x...</td>\n      <td>0303</td>\n      <td>03</td>\n      <td>0320</td>\n    </tr>\n    <tr>\n      <th>26</th>\n      <td>Casper</td>\n      <td>Tivi</td>\n      <td>https://www.dienmayxanh.com/tivi-casper</td>\n      <td>https://cdn.tgdd.vn/Brand/2/Untitled-1-92x40-1...</td>\n      <td>0303</td>\n      <td>03</td>\n      <td>0310</td>\n    </tr>\n    <tr>\n      <th>27</th>\n      <td>Toshiba</td>\n      <td>Tivi</td>\n      <td>https://www.dienmayxanh.com/tivi-toshiba</td>\n      <td>https://cdn.tgdd.vn/Brand/2/TOSHIBA-200x80-1.png</td>\n      <td>0303</td>\n      <td>03</td>\n      <td>0313</td>\n    </tr>\n    <tr>\n      <th>28</th>\n      <td>Lg</td>\n      <td>Tivi</td>\n      <td>https://www.dienmayxanh.com/tivi-lg</td>\n      <td>https://cdn.tgdd.vn/Brand/2/LG1942-b_16.png</td>\n      <td>0303</td>\n      <td>03</td>\n      <td>0306</td>\n    </tr>\n    <tr>\n      <th>29</th>\n      <td>Tcl</td>\n      <td>Tivi</td>\n      <td>https://www.dienmayxanh.com/tivi-tcl</td>\n      <td>https://cdn.tgdd.vn/Brand/2/TCL1942-b_57.png</td>\n      <td>0303</td>\n      <td>03</td>\n      <td>0305</td>\n    </tr>\n    <tr>\n      <th>30</th>\n      <td>Samsung</td>\n      <td>Tivi</td>\n      <td>https://www.dienmayxanh.com/tivi-samsung</td>\n      <td>https://cdn.tgdd.vn/Brand/2/Samsung1942-b_51.png</td>\n      <td>0303</td>\n      <td>03</td>\n      <td>0307</td>\n    </tr>\n    <tr>\n      <th>31</th>\n      <td>Aqua</td>\n      <td>Tivi</td>\n      <td>https://www.dienmayxanh.com/tivi-aqua</td>\n      <td>https://cdn.tgdd.vn/Brand/2/Aqua1943-s34-135x8...</td>\n      <td>0303</td>\n      <td>03</td>\n      <td>0302</td>\n    </tr>\n    <tr>\n      <th>32</th>\n      <td>Sharp</td>\n      <td>Tivi</td>\n      <td>https://www.dienmayxanh.com/tivi-sharp</td>\n      <td>https://cdn.tgdd.vn/Brand/2/Sharp1942-b_48.png</td>\n      <td>0303</td>\n      <td>03</td>\n      <td>0312</td>\n    </tr>\n    <tr>\n      <th>33</th>\n      <td>Lg</td>\n      <td>Washing Machine</td>\n      <td>https://www.dienmayxanh.com/may-giat-lg</td>\n      <td>https://cdn.tgdd.vn/Brand/2/LG1944-b_14.png</td>\n      <td>0304</td>\n      <td>03</td>\n      <td>0306</td>\n    </tr>\n    <tr>\n      <th>34</th>\n      <td>Aqua Sanyo</td>\n      <td>Washing Machine</td>\n      <td>https://www.dienmayxanh.com/may-giat-aqua-sanyo</td>\n      <td>https://cdn.tgdd.vn/Brand/2/Aqua1944-b_31.png</td>\n      <td>0304</td>\n      <td>03</td>\n      <td>0316</td>\n    </tr>\n    <tr>\n      <th>35</th>\n      <td>Beko</td>\n      <td>Washing Machine</td>\n      <td>https://www.dienmayxanh.com/may-giat-beko</td>\n      <td>https://cdn.tgdd.vn/Brand/2/Beko1944-b_1.png</td>\n      <td>0304</td>\n      <td>03</td>\n      <td>0315</td>\n    </tr>\n    <tr>\n      <th>36</th>\n      <td>Whirlpool</td>\n      <td>Washing Machine</td>\n      <td>https://www.dienmayxanh.com/may-giat-whirlpool</td>\n      <td>https://cdn.tgdd.vn/Brand/2/Artboard2-180x80-3...</td>\n      <td>0304</td>\n      <td>03</td>\n      <td>0321</td>\n    </tr>\n    <tr>\n      <th>37</th>\n      <td>Toshiba</td>\n      <td>Washing Machine</td>\n      <td>https://www.dienmayxanh.com/may-giat-toshiba</td>\n      <td>https://cdn.tgdd.vn/Brand/2/Toshiba1944-b_17.png</td>\n      <td>0304</td>\n      <td>03</td>\n      <td>0313</td>\n    </tr>\n    <tr>\n      <th>38</th>\n      <td>Electrolux</td>\n      <td>Washing Machine</td>\n      <td>https://www.dienmayxanh.com/may-giat-electrolux</td>\n      <td>https://cdn.tgdd.vn/Brand/2/Electrolux1944-b_6...</td>\n      <td>0304</td>\n      <td>03</td>\n      <td>0318</td>\n    </tr>\n    <tr>\n      <th>39</th>\n      <td>Sharp</td>\n      <td>Washing Machine</td>\n      <td>https://www.dienmayxanh.com/may-giat-sharp</td>\n      <td>https://cdn.tgdd.vn/Brand/2/Sharp1944-b_7.png</td>\n      <td>0304</td>\n      <td>03</td>\n      <td>0312</td>\n    </tr>\n    <tr>\n      <th>40</th>\n      <td>Tcl</td>\n      <td>Washing Machine</td>\n      <td>https://www.dienmayxanh.com/may-giat-tcl</td>\n      <td>https://cdn.tgdd.vn/Brand/2/TCL1944-b_9.png</td>\n      <td>0304</td>\n      <td>03</td>\n      <td>0305</td>\n    </tr>\n    <tr>\n      <th>41</th>\n      <td>Casper</td>\n      <td>Washing Machine</td>\n      <td>https://www.dienmayxanh.com/may-giat-casper</td>\n      <td>https://cdn.tgdd.vn/Brand/2/1-200x90-3.png</td>\n      <td>0304</td>\n      <td>03</td>\n      <td>0310</td>\n    </tr>\n    <tr>\n      <th>42</th>\n      <td>Samsung</td>\n      <td>Washing Machine</td>\n      <td>https://www.dienmayxanh.com/may-giat-samsung</td>\n      <td>https://cdn.tgdd.vn/Brand/2/Samsung1944-b_5.png</td>\n      <td>0304</td>\n      <td>03</td>\n      <td>0307</td>\n    </tr>\n    <tr>\n      <th>43</th>\n      <td>Panasonic</td>\n      <td>Washing Machine</td>\n      <td>https://www.dienmayxanh.com/may-giat-panasonic</td>\n      <td>https://cdn.tgdd.vn/Brand/2/Panasonic1944-b.png</td>\n      <td>0304</td>\n      <td>03</td>\n      <td>0314</td>\n    </tr>\n  </tbody>\n</table>\n</div>\n      <button class=\"colab-df-convert\" onclick=\"convertToInteractive('df-d95a26c9-e452-4e7a-85c3-08ba18e56694')\"\n              title=\"Convert this dataframe to an interactive table.\"\n              style=\"display:none;\">\n        \n  <svg xmlns=\"http://www.w3.org/2000/svg\" height=\"24px\"viewBox=\"0 0 24 24\"\n       width=\"24px\">\n    <path d=\"M0 0h24v24H0V0z\" fill=\"none\"/>\n    <path d=\"M18.56 5.44l.94 2.06.94-2.06 2.06-.94-2.06-.94-.94-2.06-.94 2.06-2.06.94zm-11 1L8.5 8.5l.94-2.06 2.06-.94-2.06-.94L8.5 2.5l-.94 2.06-2.06.94zm10 10l.94 2.06.94-2.06 2.06-.94-2.06-.94-.94-2.06-.94 2.06-2.06.94z\"/><path d=\"M17.41 7.96l-1.37-1.37c-.4-.4-.92-.59-1.43-.59-.52 0-1.04.2-1.43.59L10.3 9.45l-7.72 7.72c-.78.78-.78 2.05 0 2.83L4 21.41c.39.39.9.59 1.41.59.51 0 1.02-.2 1.41-.59l7.78-7.78 2.81-2.81c.8-.78.8-2.07 0-2.86zM5.41 20L4 18.59l7.72-7.72 1.47 1.35L5.41 20z\"/>\n  </svg>\n      </button>\n      \n  <style>\n    .colab-df-container {\n      display:flex;\n      flex-wrap:wrap;\n      gap: 12px;\n    }\n\n    .colab-df-convert {\n      background-color: #E8F0FE;\n      border: none;\n      border-radius: 50%;\n      cursor: pointer;\n      display: none;\n      fill: #1967D2;\n      height: 32px;\n      padding: 0 0 0 0;\n      width: 32px;\n    }\n\n    .colab-df-convert:hover {\n      background-color: #E2EBFA;\n      box-shadow: 0px 1px 2px rgba(60, 64, 67, 0.3), 0px 1px 3px 1px rgba(60, 64, 67, 0.15);\n      fill: #174EA6;\n    }\n\n    [theme=dark] .colab-df-convert {\n      background-color: #3B4455;\n      fill: #D2E3FC;\n    }\n\n    [theme=dark] .colab-df-convert:hover {\n      background-color: #434B5C;\n      box-shadow: 0px 1px 3px 1px rgba(0, 0, 0, 0.15);\n      filter: drop-shadow(0px 1px 2px rgba(0, 0, 0, 0.3));\n      fill: #FFFFFF;\n    }\n  </style>\n\n      <script>\n        const buttonEl =\n          document.querySelector('#df-d95a26c9-e452-4e7a-85c3-08ba18e56694 button.colab-df-convert');\n        buttonEl.style.display =\n          google.colab.kernel.accessAllowed ? 'block' : 'none';\n\n        async function convertToInteractive(key) {\n          const element = document.querySelector('#df-d95a26c9-e452-4e7a-85c3-08ba18e56694');\n          const dataTable =\n            await google.colab.kernel.invokeFunction('convertToInteractive',\n                                                     [key], {});\n          if (!dataTable) return;\n\n          const docLinkHtml = 'Like what you see? Visit the ' +\n            '<a target=\"_blank\" href=https://colab.research.google.com/notebooks/data_table.ipynb>data table notebook</a>'\n            + ' to learn more about interactive tables.';\n          element.innerHTML = '';\n          dataTable['output_type'] = 'display_data';\n          await google.colab.output.renderOutput(dataTable, element);\n          const docLink = document.createElement('div');\n          docLink.innerHTML = docLinkHtml;\n          element.appendChild(docLink);\n        }\n      </script>\n    </div>\n  </div>\n  "
                    },
                    "metadata": {}
                }
            ],
            "execution_count": null
        },
        {
            "cell_type": "code",
            "source": [
                "brand_details = brand_details[['brand_id', 'genre_id', 'link', 'link_logo']]\n",
                "brand_details"
            ],
            "metadata": {
                "colab": {
                    "base_uri": "https://localhost:8080/",
                    "height": 1000
                },
                "id": "gTR2zU6O_BDa",
                "executionInfo": {
                    "status": "ok",
                    "timestamp": 1687821310577,
                    "user_tz": -420,
                    "elapsed": 669,
                    "user": {
                        "displayName": "Cho Phan",
                        "userId": "15376299712231995454"
                    }
                },
                "outputId": "f85689ce-a698-4e9f-cb3c-c70e8be02ff3",
                "azdata_cell_guid": "859caa65-0bd1-4f76-856c-8bf19523bf95",
                "language": "python"
            },
            "outputs": [
                {
                    "output_type": "execute_result",
                    "execution_count": 35,
                    "data": {
                        "text/plain": "   brand_id genre_id                                             link  \\\n0      0314     0301   https://www.dienmayxanh.com/may-lanh-panasonic   \n1      0307     0301     https://www.dienmayxanh.com/may-lanh-samsung   \n2      0306     0301          https://www.dienmayxanh.com/may-lanh-lg   \n3      0310     0301      https://www.dienmayxanh.com/may-lanh-casper   \n4      0301     0301       https://www.dienmayxanh.com/may-lanh-midea   \n5      0308     0301        https://www.dienmayxanh.com/may-lanh-gree   \n6      0311     0301      https://www.dienmayxanh.com/may-lanh-comfee   \n7      0309     0301    https://www.dienmayxanh.com/may-lanh-nagakawa   \n8      0304     0301      https://www.dienmayxanh.com/may-lanh-daikin   \n9      0302     0301        https://www.dienmayxanh.com/may-lanh-aqua   \n10     0303     0301      https://www.dienmayxanh.com/may-lanh-funiki   \n11     0305     0301         https://www.dienmayxanh.com/may-lanh-tcl   \n12     0312     0301       https://www.dienmayxanh.com/may-lanh-sharp   \n13     0313     0301     https://www.dienmayxanh.com/may-lanh-toshiba   \n14     0312     0302        https://www.dienmayxanh.com/tu-lanh-sharp   \n15     0316     0302   https://www.dienmayxanh.com/tu-lanh-aqua-sanyo   \n16     0315     0302         https://www.dienmayxanh.com/tu-lanh-beko   \n17     0313     0302      https://www.dienmayxanh.com/tu-lanh-toshiba   \n18     0306     0302           https://www.dienmayxanh.com/tu-lanh-lg   \n19     0317     0302      https://www.dienmayxanh.com/tu-lanh-hitachi   \n20     0307     0302      https://www.dienmayxanh.com/tu-lanh-samsung   \n21     0310     0302       https://www.dienmayxanh.com/tu-lanh-casper   \n22     0318     0302   https://www.dienmayxanh.com/tu-lanh-electrolux   \n23     0314     0302    https://www.dienmayxanh.com/tu-lanh-panasonic   \n24     0319     0303            https://www.dienmayxanh.com/tivi-sony   \n25     0320     0303        https://www.dienmayxanh.com/tivi-iffalcon   \n26     0310     0303          https://www.dienmayxanh.com/tivi-casper   \n27     0313     0303         https://www.dienmayxanh.com/tivi-toshiba   \n28     0306     0303              https://www.dienmayxanh.com/tivi-lg   \n29     0305     0303             https://www.dienmayxanh.com/tivi-tcl   \n30     0307     0303         https://www.dienmayxanh.com/tivi-samsung   \n31     0302     0303            https://www.dienmayxanh.com/tivi-aqua   \n32     0312     0303           https://www.dienmayxanh.com/tivi-sharp   \n33     0306     0304          https://www.dienmayxanh.com/may-giat-lg   \n34     0316     0304  https://www.dienmayxanh.com/may-giat-aqua-sanyo   \n35     0315     0304        https://www.dienmayxanh.com/may-giat-beko   \n36     0321     0304   https://www.dienmayxanh.com/may-giat-whirlpool   \n37     0313     0304     https://www.dienmayxanh.com/may-giat-toshiba   \n38     0318     0304  https://www.dienmayxanh.com/may-giat-electrolux   \n39     0312     0304       https://www.dienmayxanh.com/may-giat-sharp   \n40     0305     0304         https://www.dienmayxanh.com/may-giat-tcl   \n41     0310     0304      https://www.dienmayxanh.com/may-giat-casper   \n42     0307     0304     https://www.dienmayxanh.com/may-giat-samsung   \n43     0314     0304   https://www.dienmayxanh.com/may-giat-panasonic   \n\n                                            link_logo  \n0     https://cdn.tgdd.vn/Brand/2/Panasonic2002-b.png  \n1     https://cdn.tgdd.vn/Brand/2/Samsung2002-b_1.png  \n2         https://cdn.tgdd.vn/Brand/2/LG2002-b_13.png  \n3     https://cdn.tgdd.vn/Brand/2/casper-200x80-1.png  \n4       https://cdn.tgdd.vn/Brand/2/idea-200x80-1.png  \n5       https://cdn.tgdd.vn/Brand/2/Gree2002-b_52.png  \n6     https://cdn.tgdd.vn/Brand/2/Comfee2002-b_19.png  \n7   https://cdn.tgdd.vn/Brand/2/Untitled-3-min-200...  \n8     https://cdn.tgdd.vn/Brand/2/Daikin2002-b_34.png  \n9       https://cdn.tgdd.vn/Brand/2/Aqua2002-b_36.png  \n10                                               None  \n11       https://cdn.tgdd.vn/Brand/2/TCL2002-b_24.png  \n12     https://cdn.tgdd.vn/Brand/2/Sharp2002-b_15.png  \n13   https://cdn.tgdd.vn/Brand/2/Toshiba2002-b_12.png  \n14     https://cdn.tgdd.vn/Brand/2/Sharp1943-b_53.png  \n15      https://cdn.tgdd.vn/Brand/2/Aqua1943-b_34.png  \n16       https://cdn.tgdd.vn/Brand/2/Beko1943-b_0.png  \n17   https://cdn.tgdd.vn/Brand/2/Toshiba1943-b_52.png  \n18        https://cdn.tgdd.vn/Brand/2/LG1943-b_10.png  \n19   https://cdn.tgdd.vn/Brand/2/Hitachi1943-b_11.png  \n20   https://cdn.tgdd.vn/Brand/2/Samsung1943-b_53.png  \n21        https://cdn.tgdd.vn/Brand/2/10-200x80-1.png  \n22  https://cdn.tgdd.vn/Brand/2/Electrolux1943-b_5...  \n23  https://cdn.tgdd.vn/Brand/2/Panasonic1943-b_52...  \n24      https://cdn.tgdd.vn/Brand/2/Sony1942-b_57.png  \n25  https://cdn.tgdd.vn/Brand/2/iFFALCON-logo-200x...  \n26  https://cdn.tgdd.vn/Brand/2/Untitled-1-92x40-1...  \n27   https://cdn.tgdd.vn/Brand/2/TOSHIBA-200x80-1.png  \n28        https://cdn.tgdd.vn/Brand/2/LG1942-b_16.png  \n29       https://cdn.tgdd.vn/Brand/2/TCL1942-b_57.png  \n30   https://cdn.tgdd.vn/Brand/2/Samsung1942-b_51.png  \n31  https://cdn.tgdd.vn/Brand/2/Aqua1943-s34-135x8...  \n32     https://cdn.tgdd.vn/Brand/2/Sharp1942-b_48.png  \n33        https://cdn.tgdd.vn/Brand/2/LG1944-b_14.png  \n34      https://cdn.tgdd.vn/Brand/2/Aqua1944-b_31.png  \n35       https://cdn.tgdd.vn/Brand/2/Beko1944-b_1.png  \n36  https://cdn.tgdd.vn/Brand/2/Artboard2-180x80-3...  \n37   https://cdn.tgdd.vn/Brand/2/Toshiba1944-b_17.png  \n38  https://cdn.tgdd.vn/Brand/2/Electrolux1944-b_6...  \n39      https://cdn.tgdd.vn/Brand/2/Sharp1944-b_7.png  \n40        https://cdn.tgdd.vn/Brand/2/TCL1944-b_9.png  \n41         https://cdn.tgdd.vn/Brand/2/1-200x90-3.png  \n42    https://cdn.tgdd.vn/Brand/2/Samsung1944-b_5.png  \n43    https://cdn.tgdd.vn/Brand/2/Panasonic1944-b.png  ",
                        "text/html": "\n  <div id=\"df-e0d40b2a-cb25-44f4-8828-354bd0bfcf9d\">\n    <div class=\"colab-df-container\">\n      <div>\n<style scoped>\n    .dataframe tbody tr th:only-of-type {\n        vertical-align: middle;\n    }\n\n    .dataframe tbody tr th {\n        vertical-align: top;\n    }\n\n    .dataframe thead th {\n        text-align: right;\n    }\n</style>\n<table border=\"1\" class=\"dataframe\">\n  <thead>\n    <tr style=\"text-align: right;\">\n      <th></th>\n      <th>brand_id</th>\n      <th>genre_id</th>\n      <th>link</th>\n      <th>link_logo</th>\n    </tr>\n  </thead>\n  <tbody>\n    <tr>\n      <th>0</th>\n      <td>0314</td>\n      <td>0301</td>\n      <td>https://www.dienmayxanh.com/may-lanh-panasonic</td>\n      <td>https://cdn.tgdd.vn/Brand/2/Panasonic2002-b.png</td>\n    </tr>\n    <tr>\n      <th>1</th>\n      <td>0307</td>\n      <td>0301</td>\n      <td>https://www.dienmayxanh.com/may-lanh-samsung</td>\n      <td>https://cdn.tgdd.vn/Brand/2/Samsung2002-b_1.png</td>\n    </tr>\n    <tr>\n      <th>2</th>\n      <td>0306</td>\n      <td>0301</td>\n      <td>https://www.dienmayxanh.com/may-lanh-lg</td>\n      <td>https://cdn.tgdd.vn/Brand/2/LG2002-b_13.png</td>\n    </tr>\n    <tr>\n      <th>3</th>\n      <td>0310</td>\n      <td>0301</td>\n      <td>https://www.dienmayxanh.com/may-lanh-casper</td>\n      <td>https://cdn.tgdd.vn/Brand/2/casper-200x80-1.png</td>\n    </tr>\n    <tr>\n      <th>4</th>\n      <td>0301</td>\n      <td>0301</td>\n      <td>https://www.dienmayxanh.com/may-lanh-midea</td>\n      <td>https://cdn.tgdd.vn/Brand/2/idea-200x80-1.png</td>\n    </tr>\n    <tr>\n      <th>5</th>\n      <td>0308</td>\n      <td>0301</td>\n      <td>https://www.dienmayxanh.com/may-lanh-gree</td>\n      <td>https://cdn.tgdd.vn/Brand/2/Gree2002-b_52.png</td>\n    </tr>\n    <tr>\n      <th>6</th>\n      <td>0311</td>\n      <td>0301</td>\n      <td>https://www.dienmayxanh.com/may-lanh-comfee</td>\n      <td>https://cdn.tgdd.vn/Brand/2/Comfee2002-b_19.png</td>\n    </tr>\n    <tr>\n      <th>7</th>\n      <td>0309</td>\n      <td>0301</td>\n      <td>https://www.dienmayxanh.com/may-lanh-nagakawa</td>\n      <td>https://cdn.tgdd.vn/Brand/2/Untitled-3-min-200...</td>\n    </tr>\n    <tr>\n      <th>8</th>\n      <td>0304</td>\n      <td>0301</td>\n      <td>https://www.dienmayxanh.com/may-lanh-daikin</td>\n      <td>https://cdn.tgdd.vn/Brand/2/Daikin2002-b_34.png</td>\n    </tr>\n    <tr>\n      <th>9</th>\n      <td>0302</td>\n      <td>0301</td>\n      <td>https://www.dienmayxanh.com/may-lanh-aqua</td>\n      <td>https://cdn.tgdd.vn/Brand/2/Aqua2002-b_36.png</td>\n    </tr>\n    <tr>\n      <th>10</th>\n      <td>0303</td>\n      <td>0301</td>\n      <td>https://www.dienmayxanh.com/may-lanh-funiki</td>\n      <td>None</td>\n    </tr>\n    <tr>\n      <th>11</th>\n      <td>0305</td>\n      <td>0301</td>\n      <td>https://www.dienmayxanh.com/may-lanh-tcl</td>\n      <td>https://cdn.tgdd.vn/Brand/2/TCL2002-b_24.png</td>\n    </tr>\n    <tr>\n      <th>12</th>\n      <td>0312</td>\n      <td>0301</td>\n      <td>https://www.dienmayxanh.com/may-lanh-sharp</td>\n      <td>https://cdn.tgdd.vn/Brand/2/Sharp2002-b_15.png</td>\n    </tr>\n    <tr>\n      <th>13</th>\n      <td>0313</td>\n      <td>0301</td>\n      <td>https://www.dienmayxanh.com/may-lanh-toshiba</td>\n      <td>https://cdn.tgdd.vn/Brand/2/Toshiba2002-b_12.png</td>\n    </tr>\n    <tr>\n      <th>14</th>\n      <td>0312</td>\n      <td>0302</td>\n      <td>https://www.dienmayxanh.com/tu-lanh-sharp</td>\n      <td>https://cdn.tgdd.vn/Brand/2/Sharp1943-b_53.png</td>\n    </tr>\n    <tr>\n      <th>15</th>\n      <td>0316</td>\n      <td>0302</td>\n      <td>https://www.dienmayxanh.com/tu-lanh-aqua-sanyo</td>\n      <td>https://cdn.tgdd.vn/Brand/2/Aqua1943-b_34.png</td>\n    </tr>\n    <tr>\n      <th>16</th>\n      <td>0315</td>\n      <td>0302</td>\n      <td>https://www.dienmayxanh.com/tu-lanh-beko</td>\n      <td>https://cdn.tgdd.vn/Brand/2/Beko1943-b_0.png</td>\n    </tr>\n    <tr>\n      <th>17</th>\n      <td>0313</td>\n      <td>0302</td>\n      <td>https://www.dienmayxanh.com/tu-lanh-toshiba</td>\n      <td>https://cdn.tgdd.vn/Brand/2/Toshiba1943-b_52.png</td>\n    </tr>\n    <tr>\n      <th>18</th>\n      <td>0306</td>\n      <td>0302</td>\n      <td>https://www.dienmayxanh.com/tu-lanh-lg</td>\n      <td>https://cdn.tgdd.vn/Brand/2/LG1943-b_10.png</td>\n    </tr>\n    <tr>\n      <th>19</th>\n      <td>0317</td>\n      <td>0302</td>\n      <td>https://www.dienmayxanh.com/tu-lanh-hitachi</td>\n      <td>https://cdn.tgdd.vn/Brand/2/Hitachi1943-b_11.png</td>\n    </tr>\n    <tr>\n      <th>20</th>\n      <td>0307</td>\n      <td>0302</td>\n      <td>https://www.dienmayxanh.com/tu-lanh-samsung</td>\n      <td>https://cdn.tgdd.vn/Brand/2/Samsung1943-b_53.png</td>\n    </tr>\n    <tr>\n      <th>21</th>\n      <td>0310</td>\n      <td>0302</td>\n      <td>https://www.dienmayxanh.com/tu-lanh-casper</td>\n      <td>https://cdn.tgdd.vn/Brand/2/10-200x80-1.png</td>\n    </tr>\n    <tr>\n      <th>22</th>\n      <td>0318</td>\n      <td>0302</td>\n      <td>https://www.dienmayxanh.com/tu-lanh-electrolux</td>\n      <td>https://cdn.tgdd.vn/Brand/2/Electrolux1943-b_5...</td>\n    </tr>\n    <tr>\n      <th>23</th>\n      <td>0314</td>\n      <td>0302</td>\n      <td>https://www.dienmayxanh.com/tu-lanh-panasonic</td>\n      <td>https://cdn.tgdd.vn/Brand/2/Panasonic1943-b_52...</td>\n    </tr>\n    <tr>\n      <th>24</th>\n      <td>0319</td>\n      <td>0303</td>\n      <td>https://www.dienmayxanh.com/tivi-sony</td>\n      <td>https://cdn.tgdd.vn/Brand/2/Sony1942-b_57.png</td>\n    </tr>\n    <tr>\n      <th>25</th>\n      <td>0320</td>\n      <td>0303</td>\n      <td>https://www.dienmayxanh.com/tivi-iffalcon</td>\n      <td>https://cdn.tgdd.vn/Brand/2/iFFALCON-logo-200x...</td>\n    </tr>\n    <tr>\n      <th>26</th>\n      <td>0310</td>\n      <td>0303</td>\n      <td>https://www.dienmayxanh.com/tivi-casper</td>\n      <td>https://cdn.tgdd.vn/Brand/2/Untitled-1-92x40-1...</td>\n    </tr>\n    <tr>\n      <th>27</th>\n      <td>0313</td>\n      <td>0303</td>\n      <td>https://www.dienmayxanh.com/tivi-toshiba</td>\n      <td>https://cdn.tgdd.vn/Brand/2/TOSHIBA-200x80-1.png</td>\n    </tr>\n    <tr>\n      <th>28</th>\n      <td>0306</td>\n      <td>0303</td>\n      <td>https://www.dienmayxanh.com/tivi-lg</td>\n      <td>https://cdn.tgdd.vn/Brand/2/LG1942-b_16.png</td>\n    </tr>\n    <tr>\n      <th>29</th>\n      <td>0305</td>\n      <td>0303</td>\n      <td>https://www.dienmayxanh.com/tivi-tcl</td>\n      <td>https://cdn.tgdd.vn/Brand/2/TCL1942-b_57.png</td>\n    </tr>\n    <tr>\n      <th>30</th>\n      <td>0307</td>\n      <td>0303</td>\n      <td>https://www.dienmayxanh.com/tivi-samsung</td>\n      <td>https://cdn.tgdd.vn/Brand/2/Samsung1942-b_51.png</td>\n    </tr>\n    <tr>\n      <th>31</th>\n      <td>0302</td>\n      <td>0303</td>\n      <td>https://www.dienmayxanh.com/tivi-aqua</td>\n      <td>https://cdn.tgdd.vn/Brand/2/Aqua1943-s34-135x8...</td>\n    </tr>\n    <tr>\n      <th>32</th>\n      <td>0312</td>\n      <td>0303</td>\n      <td>https://www.dienmayxanh.com/tivi-sharp</td>\n      <td>https://cdn.tgdd.vn/Brand/2/Sharp1942-b_48.png</td>\n    </tr>\n    <tr>\n      <th>33</th>\n      <td>0306</td>\n      <td>0304</td>\n      <td>https://www.dienmayxanh.com/may-giat-lg</td>\n      <td>https://cdn.tgdd.vn/Brand/2/LG1944-b_14.png</td>\n    </tr>\n    <tr>\n      <th>34</th>\n      <td>0316</td>\n      <td>0304</td>\n      <td>https://www.dienmayxanh.com/may-giat-aqua-sanyo</td>\n      <td>https://cdn.tgdd.vn/Brand/2/Aqua1944-b_31.png</td>\n    </tr>\n    <tr>\n      <th>35</th>\n      <td>0315</td>\n      <td>0304</td>\n      <td>https://www.dienmayxanh.com/may-giat-beko</td>\n      <td>https://cdn.tgdd.vn/Brand/2/Beko1944-b_1.png</td>\n    </tr>\n    <tr>\n      <th>36</th>\n      <td>0321</td>\n      <td>0304</td>\n      <td>https://www.dienmayxanh.com/may-giat-whirlpool</td>\n      <td>https://cdn.tgdd.vn/Brand/2/Artboard2-180x80-3...</td>\n    </tr>\n    <tr>\n      <th>37</th>\n      <td>0313</td>\n      <td>0304</td>\n      <td>https://www.dienmayxanh.com/may-giat-toshiba</td>\n      <td>https://cdn.tgdd.vn/Brand/2/Toshiba1944-b_17.png</td>\n    </tr>\n    <tr>\n      <th>38</th>\n      <td>0318</td>\n      <td>0304</td>\n      <td>https://www.dienmayxanh.com/may-giat-electrolux</td>\n      <td>https://cdn.tgdd.vn/Brand/2/Electrolux1944-b_6...</td>\n    </tr>\n    <tr>\n      <th>39</th>\n      <td>0312</td>\n      <td>0304</td>\n      <td>https://www.dienmayxanh.com/may-giat-sharp</td>\n      <td>https://cdn.tgdd.vn/Brand/2/Sharp1944-b_7.png</td>\n    </tr>\n    <tr>\n      <th>40</th>\n      <td>0305</td>\n      <td>0304</td>\n      <td>https://www.dienmayxanh.com/may-giat-tcl</td>\n      <td>https://cdn.tgdd.vn/Brand/2/TCL1944-b_9.png</td>\n    </tr>\n    <tr>\n      <th>41</th>\n      <td>0310</td>\n      <td>0304</td>\n      <td>https://www.dienmayxanh.com/may-giat-casper</td>\n      <td>https://cdn.tgdd.vn/Brand/2/1-200x90-3.png</td>\n    </tr>\n    <tr>\n      <th>42</th>\n      <td>0307</td>\n      <td>0304</td>\n      <td>https://www.dienmayxanh.com/may-giat-samsung</td>\n      <td>https://cdn.tgdd.vn/Brand/2/Samsung1944-b_5.png</td>\n    </tr>\n    <tr>\n      <th>43</th>\n      <td>0314</td>\n      <td>0304</td>\n      <td>https://www.dienmayxanh.com/may-giat-panasonic</td>\n      <td>https://cdn.tgdd.vn/Brand/2/Panasonic1944-b.png</td>\n    </tr>\n  </tbody>\n</table>\n</div>\n      <button class=\"colab-df-convert\" onclick=\"convertToInteractive('df-e0d40b2a-cb25-44f4-8828-354bd0bfcf9d')\"\n              title=\"Convert this dataframe to an interactive table.\"\n              style=\"display:none;\">\n        \n  <svg xmlns=\"http://www.w3.org/2000/svg\" height=\"24px\"viewBox=\"0 0 24 24\"\n       width=\"24px\">\n    <path d=\"M0 0h24v24H0V0z\" fill=\"none\"/>\n    <path d=\"M18.56 5.44l.94 2.06.94-2.06 2.06-.94-2.06-.94-.94-2.06-.94 2.06-2.06.94zm-11 1L8.5 8.5l.94-2.06 2.06-.94-2.06-.94L8.5 2.5l-.94 2.06-2.06.94zm10 10l.94 2.06.94-2.06 2.06-.94-2.06-.94-.94-2.06-.94 2.06-2.06.94z\"/><path d=\"M17.41 7.96l-1.37-1.37c-.4-.4-.92-.59-1.43-.59-.52 0-1.04.2-1.43.59L10.3 9.45l-7.72 7.72c-.78.78-.78 2.05 0 2.83L4 21.41c.39.39.9.59 1.41.59.51 0 1.02-.2 1.41-.59l7.78-7.78 2.81-2.81c.8-.78.8-2.07 0-2.86zM5.41 20L4 18.59l7.72-7.72 1.47 1.35L5.41 20z\"/>\n  </svg>\n      </button>\n      \n  <style>\n    .colab-df-container {\n      display:flex;\n      flex-wrap:wrap;\n      gap: 12px;\n    }\n\n    .colab-df-convert {\n      background-color: #E8F0FE;\n      border: none;\n      border-radius: 50%;\n      cursor: pointer;\n      display: none;\n      fill: #1967D2;\n      height: 32px;\n      padding: 0 0 0 0;\n      width: 32px;\n    }\n\n    .colab-df-convert:hover {\n      background-color: #E2EBFA;\n      box-shadow: 0px 1px 2px rgba(60, 64, 67, 0.3), 0px 1px 3px 1px rgba(60, 64, 67, 0.15);\n      fill: #174EA6;\n    }\n\n    [theme=dark] .colab-df-convert {\n      background-color: #3B4455;\n      fill: #D2E3FC;\n    }\n\n    [theme=dark] .colab-df-convert:hover {\n      background-color: #434B5C;\n      box-shadow: 0px 1px 3px 1px rgba(0, 0, 0, 0.15);\n      filter: drop-shadow(0px 1px 2px rgba(0, 0, 0, 0.3));\n      fill: #FFFFFF;\n    }\n  </style>\n\n      <script>\n        const buttonEl =\n          document.querySelector('#df-e0d40b2a-cb25-44f4-8828-354bd0bfcf9d button.colab-df-convert');\n        buttonEl.style.display =\n          google.colab.kernel.accessAllowed ? 'block' : 'none';\n\n        async function convertToInteractive(key) {\n          const element = document.querySelector('#df-e0d40b2a-cb25-44f4-8828-354bd0bfcf9d');\n          const dataTable =\n            await google.colab.kernel.invokeFunction('convertToInteractive',\n                                                     [key], {});\n          if (!dataTable) return;\n\n          const docLinkHtml = 'Like what you see? Visit the ' +\n            '<a target=\"_blank\" href=https://colab.research.google.com/notebooks/data_table.ipynb>data table notebook</a>'\n            + ' to learn more about interactive tables.';\n          element.innerHTML = '';\n          dataTable['output_type'] = 'display_data';\n          await google.colab.output.renderOutput(dataTable, element);\n          const docLink = document.createElement('div');\n          docLink.innerHTML = docLinkHtml;\n          element.appendChild(docLink);\n        }\n      </script>\n    </div>\n  </div>\n  "
                    },
                    "metadata": {}
                }
            ],
            "execution_count": null
        },
        {
            "cell_type": "code",
            "source": [
                "to_csv(brand_details, '/transformed/brand_details/brand_details.csv')"
            ],
            "metadata": {
                "id": "lkT43o_v4Hyc",
                "azdata_cell_guid": "07618b4d-d426-4e1e-96b7-4a4254cdbc89",
                "language": "python"
            },
            "outputs": [],
            "execution_count": null
        },
        {
            "cell_type": "markdown",
            "source": [
                "## **Tables Products**"
            ],
            "metadata": {
                "id": "AwHnT0oR9Qky",
                "azdata_cell_guid": "b54d901e-57c1-4f72-b10a-54b2c5768dc6"
            }
        },
        {
            "cell_type": "code",
            "source": [
                "air_conditioner = read_csv('/transformed/product/air_conditioner.csv')\n",
                "fridge = read_csv('/transformed/product/fridge.csv')\n",
                "tivi = read_csv('/transformed/product/tivi.csv')\n",
                "washing_machine = read_csv('/transformed/product/washing_machine.csv')"
            ],
            "metadata": {
                "id": "6H-g86JB4H1M",
                "azdata_cell_guid": "51646f03-7f0a-4c58-8a0f-c267dd76f85c",
                "language": "python"
            },
            "outputs": [],
            "execution_count": null
        },
        {
            "cell_type": "code",
            "source": [
                "genres = read_csv('/transformed/genre/genres.csv')\n",
                "brands = read_csv('/transformed/brand/brands.csv')"
            ],
            "metadata": {
                "id": "f_i_a_D34H36",
                "azdata_cell_guid": "4204488c-906b-4666-918d-84b569046b95",
                "language": "python"
            },
            "outputs": [],
            "execution_count": null
        },
        {
            "cell_type": "code",
            "source": [
                "products = air_conditioner \\\n",
                "           .union(fridge) \\\n",
                "           .union(tivi) \\\n",
                "           .union(washing_machine)\n",
                "\n",
                "products.toPandas()"
            ],
            "metadata": {
                "colab": {
                    "base_uri": "https://localhost:8080/",
                    "height": 423
                },
                "id": "-XDFSbeX4D-Z",
                "executionInfo": {
                    "status": "ok",
                    "timestamp": 1687820956591,
                    "user_tz": -420,
                    "elapsed": 1101,
                    "user": {
                        "displayName": "Cho Phan",
                        "userId": "15376299712231995454"
                    }
                },
                "outputId": "c66e1995-5666-4c2d-bd56-02777fe225c7",
                "azdata_cell_guid": "f218e16c-405d-451f-89ad-8b527e773f9e",
                "language": "python"
            },
            "outputs": [
                {
                    "output_type": "execute_result",
                    "execution_count": 24,
                    "data": {
                        "text/plain": "                                          product_name current_price  \\\n0     Panasonic Inverter 1 HP CU/CS-PU9ZKH-8M Mới 2023    11390000.0   \n1    Panasonic Inverter 1.5 HP CU/CS-PU12ZKH-8M Mới...    13890000.0   \n2      Panasonic Inverter 1 HP CU/CS-XU9ZKH-8 Mới 2023    13990000.0   \n3    Panasonic Inverter 1.5 HP CU/CS-XU12ZKH-8 Mới ...    17390000.0   \n4                Panasonic Inverter 2 HP CS-PU18XKH-8M    18690000.0   \n..                                                 ...           ...   \n791             Whirlpool Inverter 10.5 Kg FWEB10502FW     9340000.0   \n792                 Whirlpool Inverter 8 Kg FWEB8002FG     7190000.0   \n793             Whirlpool Inverter 10.5 Kg FWMD10502FG    13740000.0   \n794                      Whirlpool 10.5 Kg VWVC10502FS     6810000.0   \n795  Whirlpool Inverter Giặt 9.5 Kg - Sấy 7 Kg WWEB...    13190000.0   \n\n          price percent_discount rating series  \\\n0    11390000.0                0    319   None   \n1    13890000.0                0    235   None   \n2    13990000.0                0    110   None   \n3    17390000.0                0     37   None   \n4    18690000.0                0     47   None   \n..          ...              ...    ...    ...   \n791  13490000.0               30      0   None   \n792   9990000.0               28      0   None   \n793  17990000.0               23      3   None   \n794   9490000.0               28      0   None   \n795  16490000.0               20      0   None   \n\n                                                  link       genre_name  \\\n0    https://www.dienmayxanh.com/may-lanh/panasonic...  Air Conditioner   \n1    https://www.dienmayxanh.com/may-lanh/panasonic...  Air Conditioner   \n2    https://www.dienmayxanh.com/may-lanh/panasonic...  Air Conditioner   \n3    https://www.dienmayxanh.com/may-lanh/panasonic...  Air Conditioner   \n4    https://www.dienmayxanh.com/may-lanh/panasonic...  Air Conditioner   \n..                                                 ...              ...   \n791  https://www.dienmayxanh.com/may-giat/whirlpool...  Washing Machine   \n792  https://www.dienmayxanh.com/may-giat/whirlpool...  Washing Machine   \n793  https://www.dienmayxanh.com/may-giat/whirlpool...  Washing Machine   \n794  https://www.dienmayxanh.com/may-giat/whirlpool...  Washing Machine   \n795  https://www.dienmayxanh.com/may-giat/say-whirl...  Washing Machine   \n\n    brand_name  \n0    Panasonic  \n1    Panasonic  \n2    Panasonic  \n3    Panasonic  \n4    Panasonic  \n..         ...  \n791  Whirlpool  \n792  Whirlpool  \n793  Whirlpool  \n794  Whirlpool  \n795  Whirlpool  \n\n[796 rows x 9 columns]",
                        "text/html": "\n  <div id=\"df-93aa703d-ee21-4deb-9643-ba1cdc90e215\">\n    <div class=\"colab-df-container\">\n      <div>\n<style scoped>\n    .dataframe tbody tr th:only-of-type {\n        vertical-align: middle;\n    }\n\n    .dataframe tbody tr th {\n        vertical-align: top;\n    }\n\n    .dataframe thead th {\n        text-align: right;\n    }\n</style>\n<table border=\"1\" class=\"dataframe\">\n  <thead>\n    <tr style=\"text-align: right;\">\n      <th></th>\n      <th>product_name</th>\n      <th>current_price</th>\n      <th>price</th>\n      <th>percent_discount</th>\n      <th>rating</th>\n      <th>series</th>\n      <th>link</th>\n      <th>genre_name</th>\n      <th>brand_name</th>\n    </tr>\n  </thead>\n  <tbody>\n    <tr>\n      <th>0</th>\n      <td>Panasonic Inverter 1 HP CU/CS-PU9ZKH-8M Mới 2023</td>\n      <td>11390000.0</td>\n      <td>11390000.0</td>\n      <td>0</td>\n      <td>319</td>\n      <td>None</td>\n      <td>https://www.dienmayxanh.com/may-lanh/panasonic...</td>\n      <td>Air Conditioner</td>\n      <td>Panasonic</td>\n    </tr>\n    <tr>\n      <th>1</th>\n      <td>Panasonic Inverter 1.5 HP CU/CS-PU12ZKH-8M Mới...</td>\n      <td>13890000.0</td>\n      <td>13890000.0</td>\n      <td>0</td>\n      <td>235</td>\n      <td>None</td>\n      <td>https://www.dienmayxanh.com/may-lanh/panasonic...</td>\n      <td>Air Conditioner</td>\n      <td>Panasonic</td>\n    </tr>\n    <tr>\n      <th>2</th>\n      <td>Panasonic Inverter 1 HP CU/CS-XU9ZKH-8 Mới 2023</td>\n      <td>13990000.0</td>\n      <td>13990000.0</td>\n      <td>0</td>\n      <td>110</td>\n      <td>None</td>\n      <td>https://www.dienmayxanh.com/may-lanh/panasonic...</td>\n      <td>Air Conditioner</td>\n      <td>Panasonic</td>\n    </tr>\n    <tr>\n      <th>3</th>\n      <td>Panasonic Inverter 1.5 HP CU/CS-XU12ZKH-8 Mới ...</td>\n      <td>17390000.0</td>\n      <td>17390000.0</td>\n      <td>0</td>\n      <td>37</td>\n      <td>None</td>\n      <td>https://www.dienmayxanh.com/may-lanh/panasonic...</td>\n      <td>Air Conditioner</td>\n      <td>Panasonic</td>\n    </tr>\n    <tr>\n      <th>4</th>\n      <td>Panasonic Inverter 2 HP CS-PU18XKH-8M</td>\n      <td>18690000.0</td>\n      <td>18690000.0</td>\n      <td>0</td>\n      <td>47</td>\n      <td>None</td>\n      <td>https://www.dienmayxanh.com/may-lanh/panasonic...</td>\n      <td>Air Conditioner</td>\n      <td>Panasonic</td>\n    </tr>\n    <tr>\n      <th>...</th>\n      <td>...</td>\n      <td>...</td>\n      <td>...</td>\n      <td>...</td>\n      <td>...</td>\n      <td>...</td>\n      <td>...</td>\n      <td>...</td>\n      <td>...</td>\n    </tr>\n    <tr>\n      <th>791</th>\n      <td>Whirlpool Inverter 10.5 Kg FWEB10502FW</td>\n      <td>9340000.0</td>\n      <td>13490000.0</td>\n      <td>30</td>\n      <td>0</td>\n      <td>None</td>\n      <td>https://www.dienmayxanh.com/may-giat/whirlpool...</td>\n      <td>Washing Machine</td>\n      <td>Whirlpool</td>\n    </tr>\n    <tr>\n      <th>792</th>\n      <td>Whirlpool Inverter 8 Kg FWEB8002FG</td>\n      <td>7190000.0</td>\n      <td>9990000.0</td>\n      <td>28</td>\n      <td>0</td>\n      <td>None</td>\n      <td>https://www.dienmayxanh.com/may-giat/whirlpool...</td>\n      <td>Washing Machine</td>\n      <td>Whirlpool</td>\n    </tr>\n    <tr>\n      <th>793</th>\n      <td>Whirlpool Inverter 10.5 Kg FWMD10502FG</td>\n      <td>13740000.0</td>\n      <td>17990000.0</td>\n      <td>23</td>\n      <td>3</td>\n      <td>None</td>\n      <td>https://www.dienmayxanh.com/may-giat/whirlpool...</td>\n      <td>Washing Machine</td>\n      <td>Whirlpool</td>\n    </tr>\n    <tr>\n      <th>794</th>\n      <td>Whirlpool 10.5 Kg VWVC10502FS</td>\n      <td>6810000.0</td>\n      <td>9490000.0</td>\n      <td>28</td>\n      <td>0</td>\n      <td>None</td>\n      <td>https://www.dienmayxanh.com/may-giat/whirlpool...</td>\n      <td>Washing Machine</td>\n      <td>Whirlpool</td>\n    </tr>\n    <tr>\n      <th>795</th>\n      <td>Whirlpool Inverter Giặt 9.5 Kg - Sấy 7 Kg WWEB...</td>\n      <td>13190000.0</td>\n      <td>16490000.0</td>\n      <td>20</td>\n      <td>0</td>\n      <td>None</td>\n      <td>https://www.dienmayxanh.com/may-giat/say-whirl...</td>\n      <td>Washing Machine</td>\n      <td>Whirlpool</td>\n    </tr>\n  </tbody>\n</table>\n<p>796 rows × 9 columns</p>\n</div>\n      <button class=\"colab-df-convert\" onclick=\"convertToInteractive('df-93aa703d-ee21-4deb-9643-ba1cdc90e215')\"\n              title=\"Convert this dataframe to an interactive table.\"\n              style=\"display:none;\">\n        \n  <svg xmlns=\"http://www.w3.org/2000/svg\" height=\"24px\"viewBox=\"0 0 24 24\"\n       width=\"24px\">\n    <path d=\"M0 0h24v24H0V0z\" fill=\"none\"/>\n    <path d=\"M18.56 5.44l.94 2.06.94-2.06 2.06-.94-2.06-.94-.94-2.06-.94 2.06-2.06.94zm-11 1L8.5 8.5l.94-2.06 2.06-.94-2.06-.94L8.5 2.5l-.94 2.06-2.06.94zm10 10l.94 2.06.94-2.06 2.06-.94-2.06-.94-.94-2.06-.94 2.06-2.06.94z\"/><path d=\"M17.41 7.96l-1.37-1.37c-.4-.4-.92-.59-1.43-.59-.52 0-1.04.2-1.43.59L10.3 9.45l-7.72 7.72c-.78.78-.78 2.05 0 2.83L4 21.41c.39.39.9.59 1.41.59.51 0 1.02-.2 1.41-.59l7.78-7.78 2.81-2.81c.8-.78.8-2.07 0-2.86zM5.41 20L4 18.59l7.72-7.72 1.47 1.35L5.41 20z\"/>\n  </svg>\n      </button>\n      \n  <style>\n    .colab-df-container {\n      display:flex;\n      flex-wrap:wrap;\n      gap: 12px;\n    }\n\n    .colab-df-convert {\n      background-color: #E8F0FE;\n      border: none;\n      border-radius: 50%;\n      cursor: pointer;\n      display: none;\n      fill: #1967D2;\n      height: 32px;\n      padding: 0 0 0 0;\n      width: 32px;\n    }\n\n    .colab-df-convert:hover {\n      background-color: #E2EBFA;\n      box-shadow: 0px 1px 2px rgba(60, 64, 67, 0.3), 0px 1px 3px 1px rgba(60, 64, 67, 0.15);\n      fill: #174EA6;\n    }\n\n    [theme=dark] .colab-df-convert {\n      background-color: #3B4455;\n      fill: #D2E3FC;\n    }\n\n    [theme=dark] .colab-df-convert:hover {\n      background-color: #434B5C;\n      box-shadow: 0px 1px 3px 1px rgba(0, 0, 0, 0.15);\n      filter: drop-shadow(0px 1px 2px rgba(0, 0, 0, 0.3));\n      fill: #FFFFFF;\n    }\n  </style>\n\n      <script>\n        const buttonEl =\n          document.querySelector('#df-93aa703d-ee21-4deb-9643-ba1cdc90e215 button.colab-df-convert');\n        buttonEl.style.display =\n          google.colab.kernel.accessAllowed ? 'block' : 'none';\n\n        async function convertToInteractive(key) {\n          const element = document.querySelector('#df-93aa703d-ee21-4deb-9643-ba1cdc90e215');\n          const dataTable =\n            await google.colab.kernel.invokeFunction('convertToInteractive',\n                                                     [key], {});\n          if (!dataTable) return;\n\n          const docLinkHtml = 'Like what you see? Visit the ' +\n            '<a target=\"_blank\" href=https://colab.research.google.com/notebooks/data_table.ipynb>data table notebook</a>'\n            + ' to learn more about interactive tables.';\n          element.innerHTML = '';\n          dataTable['output_type'] = 'display_data';\n          await google.colab.output.renderOutput(dataTable, element);\n          const docLink = document.createElement('div');\n          docLink.innerHTML = docLinkHtml;\n          element.appendChild(docLink);\n        }\n      </script>\n    </div>\n  </div>\n  "
                    },
                    "metadata": {}
                }
            ],
            "execution_count": null
        },
        {
            "cell_type": "code",
            "source": [
                "products = products \\\n",
                "           .join(genres, on='genre_name', how='inner') \\\n",
                "           .join(brands, on='brand_name', how='inner')\n",
                "products = products.toPandas()\n",
                "products"
            ],
            "metadata": {
                "colab": {
                    "base_uri": "https://localhost:8080/",
                    "height": 641
                },
                "id": "7xgEmjQg4OSY",
                "executionInfo": {
                    "status": "ok",
                    "timestamp": 1687820969528,
                    "user_tz": -420,
                    "elapsed": 2153,
                    "user": {
                        "displayName": "Cho Phan",
                        "userId": "15376299712231995454"
                    }
                },
                "outputId": "ba50cfad-4e0a-49ca-b33e-8176bc3d0bbf",
                "azdata_cell_guid": "3cb26076-d258-4065-8b5d-603116766b82",
                "language": "python"
            },
            "outputs": [
                {
                    "output_type": "execute_result",
                    "execution_count": 25,
                    "data": {
                        "text/plain": "    brand_name       genre_name  \\\n0    Panasonic  Air Conditioner   \n1    Panasonic  Air Conditioner   \n2    Panasonic  Air Conditioner   \n3    Panasonic  Air Conditioner   \n4    Panasonic  Air Conditioner   \n..         ...              ...   \n791  Whirlpool  Washing Machine   \n792  Whirlpool  Washing Machine   \n793  Whirlpool  Washing Machine   \n794  Whirlpool  Washing Machine   \n795  Whirlpool  Washing Machine   \n\n                                          product_name current_price  \\\n0     Panasonic Inverter 1 HP CU/CS-PU9ZKH-8M Mới 2023    11390000.0   \n1    Panasonic Inverter 1.5 HP CU/CS-PU12ZKH-8M Mới...    13890000.0   \n2      Panasonic Inverter 1 HP CU/CS-XU9ZKH-8 Mới 2023    13990000.0   \n3    Panasonic Inverter 1.5 HP CU/CS-XU12ZKH-8 Mới ...    17390000.0   \n4                Panasonic Inverter 2 HP CS-PU18XKH-8M    18690000.0   \n..                                                 ...           ...   \n791             Whirlpool Inverter 10.5 Kg FWEB10502FW     9340000.0   \n792                 Whirlpool Inverter 8 Kg FWEB8002FG     7190000.0   \n793             Whirlpool Inverter 10.5 Kg FWMD10502FG    13740000.0   \n794                      Whirlpool 10.5 Kg VWVC10502FS     6810000.0   \n795  Whirlpool Inverter Giặt 9.5 Kg - Sấy 7 Kg WWEB...    13190000.0   \n\n          price percent_discount rating series  \\\n0    11390000.0                0    319   None   \n1    13890000.0                0    235   None   \n2    13990000.0                0    110   None   \n3    17390000.0                0     37   None   \n4    18690000.0                0     47   None   \n..          ...              ...    ...    ...   \n791  13490000.0               30      0   None   \n792   9990000.0               28      0   None   \n793  17990000.0               23      3   None   \n794   9490000.0               28      0   None   \n795  16490000.0               20      0   None   \n\n                                                  link genre_id company_id  \\\n0    https://www.dienmayxanh.com/may-lanh/panasonic...     0301         03   \n1    https://www.dienmayxanh.com/may-lanh/panasonic...     0301         03   \n2    https://www.dienmayxanh.com/may-lanh/panasonic...     0301         03   \n3    https://www.dienmayxanh.com/may-lanh/panasonic...     0301         03   \n4    https://www.dienmayxanh.com/may-lanh/panasonic...     0301         03   \n..                                                 ...      ...        ...   \n791  https://www.dienmayxanh.com/may-giat/whirlpool...     0304         03   \n792  https://www.dienmayxanh.com/may-giat/whirlpool...     0304         03   \n793  https://www.dienmayxanh.com/may-giat/whirlpool...     0304         03   \n794  https://www.dienmayxanh.com/may-giat/whirlpool...     0304         03   \n795  https://www.dienmayxanh.com/may-giat/say-whirl...     0304         03   \n\n    brand_id  \n0       0314  \n1       0314  \n2       0314  \n3       0314  \n4       0314  \n..       ...  \n791     0321  \n792     0321  \n793     0321  \n794     0321  \n795     0321  \n\n[796 rows x 12 columns]",
                        "text/html": "\n  <div id=\"df-8e917062-d59c-427c-83c1-eda66f7f5404\">\n    <div class=\"colab-df-container\">\n      <div>\n<style scoped>\n    .dataframe tbody tr th:only-of-type {\n        vertical-align: middle;\n    }\n\n    .dataframe tbody tr th {\n        vertical-align: top;\n    }\n\n    .dataframe thead th {\n        text-align: right;\n    }\n</style>\n<table border=\"1\" class=\"dataframe\">\n  <thead>\n    <tr style=\"text-align: right;\">\n      <th></th>\n      <th>brand_name</th>\n      <th>genre_name</th>\n      <th>product_name</th>\n      <th>current_price</th>\n      <th>price</th>\n      <th>percent_discount</th>\n      <th>rating</th>\n      <th>series</th>\n      <th>link</th>\n      <th>genre_id</th>\n      <th>company_id</th>\n      <th>brand_id</th>\n    </tr>\n  </thead>\n  <tbody>\n    <tr>\n      <th>0</th>\n      <td>Panasonic</td>\n      <td>Air Conditioner</td>\n      <td>Panasonic Inverter 1 HP CU/CS-PU9ZKH-8M Mới 2023</td>\n      <td>11390000.0</td>\n      <td>11390000.0</td>\n      <td>0</td>\n      <td>319</td>\n      <td>None</td>\n      <td>https://www.dienmayxanh.com/may-lanh/panasonic...</td>\n      <td>0301</td>\n      <td>03</td>\n      <td>0314</td>\n    </tr>\n    <tr>\n      <th>1</th>\n      <td>Panasonic</td>\n      <td>Air Conditioner</td>\n      <td>Panasonic Inverter 1.5 HP CU/CS-PU12ZKH-8M Mới...</td>\n      <td>13890000.0</td>\n      <td>13890000.0</td>\n      <td>0</td>\n      <td>235</td>\n      <td>None</td>\n      <td>https://www.dienmayxanh.com/may-lanh/panasonic...</td>\n      <td>0301</td>\n      <td>03</td>\n      <td>0314</td>\n    </tr>\n    <tr>\n      <th>2</th>\n      <td>Panasonic</td>\n      <td>Air Conditioner</td>\n      <td>Panasonic Inverter 1 HP CU/CS-XU9ZKH-8 Mới 2023</td>\n      <td>13990000.0</td>\n      <td>13990000.0</td>\n      <td>0</td>\n      <td>110</td>\n      <td>None</td>\n      <td>https://www.dienmayxanh.com/may-lanh/panasonic...</td>\n      <td>0301</td>\n      <td>03</td>\n      <td>0314</td>\n    </tr>\n    <tr>\n      <th>3</th>\n      <td>Panasonic</td>\n      <td>Air Conditioner</td>\n      <td>Panasonic Inverter 1.5 HP CU/CS-XU12ZKH-8 Mới ...</td>\n      <td>17390000.0</td>\n      <td>17390000.0</td>\n      <td>0</td>\n      <td>37</td>\n      <td>None</td>\n      <td>https://www.dienmayxanh.com/may-lanh/panasonic...</td>\n      <td>0301</td>\n      <td>03</td>\n      <td>0314</td>\n    </tr>\n    <tr>\n      <th>4</th>\n      <td>Panasonic</td>\n      <td>Air Conditioner</td>\n      <td>Panasonic Inverter 2 HP CS-PU18XKH-8M</td>\n      <td>18690000.0</td>\n      <td>18690000.0</td>\n      <td>0</td>\n      <td>47</td>\n      <td>None</td>\n      <td>https://www.dienmayxanh.com/may-lanh/panasonic...</td>\n      <td>0301</td>\n      <td>03</td>\n      <td>0314</td>\n    </tr>\n    <tr>\n      <th>...</th>\n      <td>...</td>\n      <td>...</td>\n      <td>...</td>\n      <td>...</td>\n      <td>...</td>\n      <td>...</td>\n      <td>...</td>\n      <td>...</td>\n      <td>...</td>\n      <td>...</td>\n      <td>...</td>\n      <td>...</td>\n    </tr>\n    <tr>\n      <th>791</th>\n      <td>Whirlpool</td>\n      <td>Washing Machine</td>\n      <td>Whirlpool Inverter 10.5 Kg FWEB10502FW</td>\n      <td>9340000.0</td>\n      <td>13490000.0</td>\n      <td>30</td>\n      <td>0</td>\n      <td>None</td>\n      <td>https://www.dienmayxanh.com/may-giat/whirlpool...</td>\n      <td>0304</td>\n      <td>03</td>\n      <td>0321</td>\n    </tr>\n    <tr>\n      <th>792</th>\n      <td>Whirlpool</td>\n      <td>Washing Machine</td>\n      <td>Whirlpool Inverter 8 Kg FWEB8002FG</td>\n      <td>7190000.0</td>\n      <td>9990000.0</td>\n      <td>28</td>\n      <td>0</td>\n      <td>None</td>\n      <td>https://www.dienmayxanh.com/may-giat/whirlpool...</td>\n      <td>0304</td>\n      <td>03</td>\n      <td>0321</td>\n    </tr>\n    <tr>\n      <th>793</th>\n      <td>Whirlpool</td>\n      <td>Washing Machine</td>\n      <td>Whirlpool Inverter 10.5 Kg FWMD10502FG</td>\n      <td>13740000.0</td>\n      <td>17990000.0</td>\n      <td>23</td>\n      <td>3</td>\n      <td>None</td>\n      <td>https://www.dienmayxanh.com/may-giat/whirlpool...</td>\n      <td>0304</td>\n      <td>03</td>\n      <td>0321</td>\n    </tr>\n    <tr>\n      <th>794</th>\n      <td>Whirlpool</td>\n      <td>Washing Machine</td>\n      <td>Whirlpool 10.5 Kg VWVC10502FS</td>\n      <td>6810000.0</td>\n      <td>9490000.0</td>\n      <td>28</td>\n      <td>0</td>\n      <td>None</td>\n      <td>https://www.dienmayxanh.com/may-giat/whirlpool...</td>\n      <td>0304</td>\n      <td>03</td>\n      <td>0321</td>\n    </tr>\n    <tr>\n      <th>795</th>\n      <td>Whirlpool</td>\n      <td>Washing Machine</td>\n      <td>Whirlpool Inverter Giặt 9.5 Kg - Sấy 7 Kg WWEB...</td>\n      <td>13190000.0</td>\n      <td>16490000.0</td>\n      <td>20</td>\n      <td>0</td>\n      <td>None</td>\n      <td>https://www.dienmayxanh.com/may-giat/say-whirl...</td>\n      <td>0304</td>\n      <td>03</td>\n      <td>0321</td>\n    </tr>\n  </tbody>\n</table>\n<p>796 rows × 12 columns</p>\n</div>\n      <button class=\"colab-df-convert\" onclick=\"convertToInteractive('df-8e917062-d59c-427c-83c1-eda66f7f5404')\"\n              title=\"Convert this dataframe to an interactive table.\"\n              style=\"display:none;\">\n        \n  <svg xmlns=\"http://www.w3.org/2000/svg\" height=\"24px\"viewBox=\"0 0 24 24\"\n       width=\"24px\">\n    <path d=\"M0 0h24v24H0V0z\" fill=\"none\"/>\n    <path d=\"M18.56 5.44l.94 2.06.94-2.06 2.06-.94-2.06-.94-.94-2.06-.94 2.06-2.06.94zm-11 1L8.5 8.5l.94-2.06 2.06-.94-2.06-.94L8.5 2.5l-.94 2.06-2.06.94zm10 10l.94 2.06.94-2.06 2.06-.94-2.06-.94-.94-2.06-.94 2.06-2.06.94z\"/><path d=\"M17.41 7.96l-1.37-1.37c-.4-.4-.92-.59-1.43-.59-.52 0-1.04.2-1.43.59L10.3 9.45l-7.72 7.72c-.78.78-.78 2.05 0 2.83L4 21.41c.39.39.9.59 1.41.59.51 0 1.02-.2 1.41-.59l7.78-7.78 2.81-2.81c.8-.78.8-2.07 0-2.86zM5.41 20L4 18.59l7.72-7.72 1.47 1.35L5.41 20z\"/>\n  </svg>\n      </button>\n      \n  <style>\n    .colab-df-container {\n      display:flex;\n      flex-wrap:wrap;\n      gap: 12px;\n    }\n\n    .colab-df-convert {\n      background-color: #E8F0FE;\n      border: none;\n      border-radius: 50%;\n      cursor: pointer;\n      display: none;\n      fill: #1967D2;\n      height: 32px;\n      padding: 0 0 0 0;\n      width: 32px;\n    }\n\n    .colab-df-convert:hover {\n      background-color: #E2EBFA;\n      box-shadow: 0px 1px 2px rgba(60, 64, 67, 0.3), 0px 1px 3px 1px rgba(60, 64, 67, 0.15);\n      fill: #174EA6;\n    }\n\n    [theme=dark] .colab-df-convert {\n      background-color: #3B4455;\n      fill: #D2E3FC;\n    }\n\n    [theme=dark] .colab-df-convert:hover {\n      background-color: #434B5C;\n      box-shadow: 0px 1px 3px 1px rgba(0, 0, 0, 0.15);\n      filter: drop-shadow(0px 1px 2px rgba(0, 0, 0, 0.3));\n      fill: #FFFFFF;\n    }\n  </style>\n\n      <script>\n        const buttonEl =\n          document.querySelector('#df-8e917062-d59c-427c-83c1-eda66f7f5404 button.colab-df-convert');\n        buttonEl.style.display =\n          google.colab.kernel.accessAllowed ? 'block' : 'none';\n\n        async function convertToInteractive(key) {\n          const element = document.querySelector('#df-8e917062-d59c-427c-83c1-eda66f7f5404');\n          const dataTable =\n            await google.colab.kernel.invokeFunction('convertToInteractive',\n                                                     [key], {});\n          if (!dataTable) return;\n\n          const docLinkHtml = 'Like what you see? Visit the ' +\n            '<a target=\"_blank\" href=https://colab.research.google.com/notebooks/data_table.ipynb>data table notebook</a>'\n            + ' to learn more about interactive tables.';\n          element.innerHTML = '';\n          dataTable['output_type'] = 'display_data';\n          await google.colab.output.renderOutput(dataTable, element);\n          const docLink = document.createElement('div');\n          docLink.innerHTML = docLinkHtml;\n          element.appendChild(docLink);\n        }\n      </script>\n    </div>\n  </div>\n  "
                    },
                    "metadata": {}
                }
            ],
            "execution_count": null
        },
        {
            "cell_type": "code",
            "source": [
                "id = []\n",
                "for i in range(1, len(products)+1):\n",
                "    if i < 10:\n",
                "        id.append('03000' + str(i))\n",
                "    elif i < 100:\n",
                "        id.append('0300' + str(i))\n",
                "    elif i < 1000:\n",
                "        id.append('030' + str(i))\n",
                "    else:\n",
                "        id.append('03' + str(i))\n",
                "\n",
                "products['product_id'] = id\n",
                "\n",
                "products"
            ],
            "metadata": {
                "colab": {
                    "base_uri": "https://localhost:8080/",
                    "height": 641
                },
                "id": "X1ujhjWT4OVN",
                "executionInfo": {
                    "status": "ok",
                    "timestamp": 1687821024819,
                    "user_tz": -420,
                    "elapsed": 491,
                    "user": {
                        "displayName": "Cho Phan",
                        "userId": "15376299712231995454"
                    }
                },
                "outputId": "0c4e0639-101d-40e7-90cd-435ddf6f8659",
                "azdata_cell_guid": "8aa3edad-4081-4fe5-b8a3-a6bdb462e93f",
                "language": "python"
            },
            "outputs": [
                {
                    "output_type": "execute_result",
                    "execution_count": 26,
                    "data": {
                        "text/plain": "    brand_name       genre_name  \\\n0    Panasonic  Air Conditioner   \n1    Panasonic  Air Conditioner   \n2    Panasonic  Air Conditioner   \n3    Panasonic  Air Conditioner   \n4    Panasonic  Air Conditioner   \n..         ...              ...   \n791  Whirlpool  Washing Machine   \n792  Whirlpool  Washing Machine   \n793  Whirlpool  Washing Machine   \n794  Whirlpool  Washing Machine   \n795  Whirlpool  Washing Machine   \n\n                                          product_name current_price  \\\n0     Panasonic Inverter 1 HP CU/CS-PU9ZKH-8M Mới 2023    11390000.0   \n1    Panasonic Inverter 1.5 HP CU/CS-PU12ZKH-8M Mới...    13890000.0   \n2      Panasonic Inverter 1 HP CU/CS-XU9ZKH-8 Mới 2023    13990000.0   \n3    Panasonic Inverter 1.5 HP CU/CS-XU12ZKH-8 Mới ...    17390000.0   \n4                Panasonic Inverter 2 HP CS-PU18XKH-8M    18690000.0   \n..                                                 ...           ...   \n791             Whirlpool Inverter 10.5 Kg FWEB10502FW     9340000.0   \n792                 Whirlpool Inverter 8 Kg FWEB8002FG     7190000.0   \n793             Whirlpool Inverter 10.5 Kg FWMD10502FG    13740000.0   \n794                      Whirlpool 10.5 Kg VWVC10502FS     6810000.0   \n795  Whirlpool Inverter Giặt 9.5 Kg - Sấy 7 Kg WWEB...    13190000.0   \n\n          price percent_discount rating series  \\\n0    11390000.0                0    319   None   \n1    13890000.0                0    235   None   \n2    13990000.0                0    110   None   \n3    17390000.0                0     37   None   \n4    18690000.0                0     47   None   \n..          ...              ...    ...    ...   \n791  13490000.0               30      0   None   \n792   9990000.0               28      0   None   \n793  17990000.0               23      3   None   \n794   9490000.0               28      0   None   \n795  16490000.0               20      0   None   \n\n                                                  link genre_id company_id  \\\n0    https://www.dienmayxanh.com/may-lanh/panasonic...     0301         03   \n1    https://www.dienmayxanh.com/may-lanh/panasonic...     0301         03   \n2    https://www.dienmayxanh.com/may-lanh/panasonic...     0301         03   \n3    https://www.dienmayxanh.com/may-lanh/panasonic...     0301         03   \n4    https://www.dienmayxanh.com/may-lanh/panasonic...     0301         03   \n..                                                 ...      ...        ...   \n791  https://www.dienmayxanh.com/may-giat/whirlpool...     0304         03   \n792  https://www.dienmayxanh.com/may-giat/whirlpool...     0304         03   \n793  https://www.dienmayxanh.com/may-giat/whirlpool...     0304         03   \n794  https://www.dienmayxanh.com/may-giat/whirlpool...     0304         03   \n795  https://www.dienmayxanh.com/may-giat/say-whirl...     0304         03   \n\n    brand_id product_id  \n0       0314     030001  \n1       0314     030002  \n2       0314     030003  \n3       0314     030004  \n4       0314     030005  \n..       ...        ...  \n791     0321     030792  \n792     0321     030793  \n793     0321     030794  \n794     0321     030795  \n795     0321     030796  \n\n[796 rows x 13 columns]",
                        "text/html": "\n  <div id=\"df-7d3bc8e4-9448-49bf-be3e-67c3424ddc5a\">\n    <div class=\"colab-df-container\">\n      <div>\n<style scoped>\n    .dataframe tbody tr th:only-of-type {\n        vertical-align: middle;\n    }\n\n    .dataframe tbody tr th {\n        vertical-align: top;\n    }\n\n    .dataframe thead th {\n        text-align: right;\n    }\n</style>\n<table border=\"1\" class=\"dataframe\">\n  <thead>\n    <tr style=\"text-align: right;\">\n      <th></th>\n      <th>brand_name</th>\n      <th>genre_name</th>\n      <th>product_name</th>\n      <th>current_price</th>\n      <th>price</th>\n      <th>percent_discount</th>\n      <th>rating</th>\n      <th>series</th>\n      <th>link</th>\n      <th>genre_id</th>\n      <th>company_id</th>\n      <th>brand_id</th>\n      <th>product_id</th>\n    </tr>\n  </thead>\n  <tbody>\n    <tr>\n      <th>0</th>\n      <td>Panasonic</td>\n      <td>Air Conditioner</td>\n      <td>Panasonic Inverter 1 HP CU/CS-PU9ZKH-8M Mới 2023</td>\n      <td>11390000.0</td>\n      <td>11390000.0</td>\n      <td>0</td>\n      <td>319</td>\n      <td>None</td>\n      <td>https://www.dienmayxanh.com/may-lanh/panasonic...</td>\n      <td>0301</td>\n      <td>03</td>\n      <td>0314</td>\n      <td>030001</td>\n    </tr>\n    <tr>\n      <th>1</th>\n      <td>Panasonic</td>\n      <td>Air Conditioner</td>\n      <td>Panasonic Inverter 1.5 HP CU/CS-PU12ZKH-8M Mới...</td>\n      <td>13890000.0</td>\n      <td>13890000.0</td>\n      <td>0</td>\n      <td>235</td>\n      <td>None</td>\n      <td>https://www.dienmayxanh.com/may-lanh/panasonic...</td>\n      <td>0301</td>\n      <td>03</td>\n      <td>0314</td>\n      <td>030002</td>\n    </tr>\n    <tr>\n      <th>2</th>\n      <td>Panasonic</td>\n      <td>Air Conditioner</td>\n      <td>Panasonic Inverter 1 HP CU/CS-XU9ZKH-8 Mới 2023</td>\n      <td>13990000.0</td>\n      <td>13990000.0</td>\n      <td>0</td>\n      <td>110</td>\n      <td>None</td>\n      <td>https://www.dienmayxanh.com/may-lanh/panasonic...</td>\n      <td>0301</td>\n      <td>03</td>\n      <td>0314</td>\n      <td>030003</td>\n    </tr>\n    <tr>\n      <th>3</th>\n      <td>Panasonic</td>\n      <td>Air Conditioner</td>\n      <td>Panasonic Inverter 1.5 HP CU/CS-XU12ZKH-8 Mới ...</td>\n      <td>17390000.0</td>\n      <td>17390000.0</td>\n      <td>0</td>\n      <td>37</td>\n      <td>None</td>\n      <td>https://www.dienmayxanh.com/may-lanh/panasonic...</td>\n      <td>0301</td>\n      <td>03</td>\n      <td>0314</td>\n      <td>030004</td>\n    </tr>\n    <tr>\n      <th>4</th>\n      <td>Panasonic</td>\n      <td>Air Conditioner</td>\n      <td>Panasonic Inverter 2 HP CS-PU18XKH-8M</td>\n      <td>18690000.0</td>\n      <td>18690000.0</td>\n      <td>0</td>\n      <td>47</td>\n      <td>None</td>\n      <td>https://www.dienmayxanh.com/may-lanh/panasonic...</td>\n      <td>0301</td>\n      <td>03</td>\n      <td>0314</td>\n      <td>030005</td>\n    </tr>\n    <tr>\n      <th>...</th>\n      <td>...</td>\n      <td>...</td>\n      <td>...</td>\n      <td>...</td>\n      <td>...</td>\n      <td>...</td>\n      <td>...</td>\n      <td>...</td>\n      <td>...</td>\n      <td>...</td>\n      <td>...</td>\n      <td>...</td>\n      <td>...</td>\n    </tr>\n    <tr>\n      <th>791</th>\n      <td>Whirlpool</td>\n      <td>Washing Machine</td>\n      <td>Whirlpool Inverter 10.5 Kg FWEB10502FW</td>\n      <td>9340000.0</td>\n      <td>13490000.0</td>\n      <td>30</td>\n      <td>0</td>\n      <td>None</td>\n      <td>https://www.dienmayxanh.com/may-giat/whirlpool...</td>\n      <td>0304</td>\n      <td>03</td>\n      <td>0321</td>\n      <td>030792</td>\n    </tr>\n    <tr>\n      <th>792</th>\n      <td>Whirlpool</td>\n      <td>Washing Machine</td>\n      <td>Whirlpool Inverter 8 Kg FWEB8002FG</td>\n      <td>7190000.0</td>\n      <td>9990000.0</td>\n      <td>28</td>\n      <td>0</td>\n      <td>None</td>\n      <td>https://www.dienmayxanh.com/may-giat/whirlpool...</td>\n      <td>0304</td>\n      <td>03</td>\n      <td>0321</td>\n      <td>030793</td>\n    </tr>\n    <tr>\n      <th>793</th>\n      <td>Whirlpool</td>\n      <td>Washing Machine</td>\n      <td>Whirlpool Inverter 10.5 Kg FWMD10502FG</td>\n      <td>13740000.0</td>\n      <td>17990000.0</td>\n      <td>23</td>\n      <td>3</td>\n      <td>None</td>\n      <td>https://www.dienmayxanh.com/may-giat/whirlpool...</td>\n      <td>0304</td>\n      <td>03</td>\n      <td>0321</td>\n      <td>030794</td>\n    </tr>\n    <tr>\n      <th>794</th>\n      <td>Whirlpool</td>\n      <td>Washing Machine</td>\n      <td>Whirlpool 10.5 Kg VWVC10502FS</td>\n      <td>6810000.0</td>\n      <td>9490000.0</td>\n      <td>28</td>\n      <td>0</td>\n      <td>None</td>\n      <td>https://www.dienmayxanh.com/may-giat/whirlpool...</td>\n      <td>0304</td>\n      <td>03</td>\n      <td>0321</td>\n      <td>030795</td>\n    </tr>\n    <tr>\n      <th>795</th>\n      <td>Whirlpool</td>\n      <td>Washing Machine</td>\n      <td>Whirlpool Inverter Giặt 9.5 Kg - Sấy 7 Kg WWEB...</td>\n      <td>13190000.0</td>\n      <td>16490000.0</td>\n      <td>20</td>\n      <td>0</td>\n      <td>None</td>\n      <td>https://www.dienmayxanh.com/may-giat/say-whirl...</td>\n      <td>0304</td>\n      <td>03</td>\n      <td>0321</td>\n      <td>030796</td>\n    </tr>\n  </tbody>\n</table>\n<p>796 rows × 13 columns</p>\n</div>\n      <button class=\"colab-df-convert\" onclick=\"convertToInteractive('df-7d3bc8e4-9448-49bf-be3e-67c3424ddc5a')\"\n              title=\"Convert this dataframe to an interactive table.\"\n              style=\"display:none;\">\n        \n  <svg xmlns=\"http://www.w3.org/2000/svg\" height=\"24px\"viewBox=\"0 0 24 24\"\n       width=\"24px\">\n    <path d=\"M0 0h24v24H0V0z\" fill=\"none\"/>\n    <path d=\"M18.56 5.44l.94 2.06.94-2.06 2.06-.94-2.06-.94-.94-2.06-.94 2.06-2.06.94zm-11 1L8.5 8.5l.94-2.06 2.06-.94-2.06-.94L8.5 2.5l-.94 2.06-2.06.94zm10 10l.94 2.06.94-2.06 2.06-.94-2.06-.94-.94-2.06-.94 2.06-2.06.94z\"/><path d=\"M17.41 7.96l-1.37-1.37c-.4-.4-.92-.59-1.43-.59-.52 0-1.04.2-1.43.59L10.3 9.45l-7.72 7.72c-.78.78-.78 2.05 0 2.83L4 21.41c.39.39.9.59 1.41.59.51 0 1.02-.2 1.41-.59l7.78-7.78 2.81-2.81c.8-.78.8-2.07 0-2.86zM5.41 20L4 18.59l7.72-7.72 1.47 1.35L5.41 20z\"/>\n  </svg>\n      </button>\n      \n  <style>\n    .colab-df-container {\n      display:flex;\n      flex-wrap:wrap;\n      gap: 12px;\n    }\n\n    .colab-df-convert {\n      background-color: #E8F0FE;\n      border: none;\n      border-radius: 50%;\n      cursor: pointer;\n      display: none;\n      fill: #1967D2;\n      height: 32px;\n      padding: 0 0 0 0;\n      width: 32px;\n    }\n\n    .colab-df-convert:hover {\n      background-color: #E2EBFA;\n      box-shadow: 0px 1px 2px rgba(60, 64, 67, 0.3), 0px 1px 3px 1px rgba(60, 64, 67, 0.15);\n      fill: #174EA6;\n    }\n\n    [theme=dark] .colab-df-convert {\n      background-color: #3B4455;\n      fill: #D2E3FC;\n    }\n\n    [theme=dark] .colab-df-convert:hover {\n      background-color: #434B5C;\n      box-shadow: 0px 1px 3px 1px rgba(0, 0, 0, 0.15);\n      filter: drop-shadow(0px 1px 2px rgba(0, 0, 0, 0.3));\n      fill: #FFFFFF;\n    }\n  </style>\n\n      <script>\n        const buttonEl =\n          document.querySelector('#df-7d3bc8e4-9448-49bf-be3e-67c3424ddc5a button.colab-df-convert');\n        buttonEl.style.display =\n          google.colab.kernel.accessAllowed ? 'block' : 'none';\n\n        async function convertToInteractive(key) {\n          const element = document.querySelector('#df-7d3bc8e4-9448-49bf-be3e-67c3424ddc5a');\n          const dataTable =\n            await google.colab.kernel.invokeFunction('convertToInteractive',\n                                                     [key], {});\n          if (!dataTable) return;\n\n          const docLinkHtml = 'Like what you see? Visit the ' +\n            '<a target=\"_blank\" href=https://colab.research.google.com/notebooks/data_table.ipynb>data table notebook</a>'\n            + ' to learn more about interactive tables.';\n          element.innerHTML = '';\n          dataTable['output_type'] = 'display_data';\n          await google.colab.output.renderOutput(dataTable, element);\n          const docLink = document.createElement('div');\n          docLink.innerHTML = docLinkHtml;\n          element.appendChild(docLink);\n        }\n      </script>\n    </div>\n  </div>\n  "
                    },
                    "metadata": {}
                }
            ],
            "execution_count": null
        },
        {
            "cell_type": "code",
            "source": [
                "# select column\n",
                "products = products[['product_id', 'product_name', 'current_price', 'price', 'percent_discount', 'rating', 'series', 'link', 'brand_id', 'genre_id']]\n",
                "products"
            ],
            "metadata": {
                "colab": {
                    "base_uri": "https://localhost:8080/",
                    "height": 423
                },
                "id": "2aY7qTl64OYI",
                "executionInfo": {
                    "status": "ok",
                    "timestamp": 1687821048589,
                    "user_tz": -420,
                    "elapsed": 416,
                    "user": {
                        "displayName": "Cho Phan",
                        "userId": "15376299712231995454"
                    }
                },
                "outputId": "c33fcbd4-e098-4c32-d87d-173800dacc49",
                "azdata_cell_guid": "2096d6ae-2e55-4dd3-9d27-a6809f413cdc",
                "language": "python"
            },
            "outputs": [
                {
                    "output_type": "execute_result",
                    "execution_count": 27,
                    "data": {
                        "text/plain": "    product_id                                       product_name  \\\n0       030001   Panasonic Inverter 1 HP CU/CS-PU9ZKH-8M Mới 2023   \n1       030002  Panasonic Inverter 1.5 HP CU/CS-PU12ZKH-8M Mới...   \n2       030003    Panasonic Inverter 1 HP CU/CS-XU9ZKH-8 Mới 2023   \n3       030004  Panasonic Inverter 1.5 HP CU/CS-XU12ZKH-8 Mới ...   \n4       030005              Panasonic Inverter 2 HP CS-PU18XKH-8M   \n..         ...                                                ...   \n791     030792             Whirlpool Inverter 10.5 Kg FWEB10502FW   \n792     030793                 Whirlpool Inverter 8 Kg FWEB8002FG   \n793     030794             Whirlpool Inverter 10.5 Kg FWMD10502FG   \n794     030795                      Whirlpool 10.5 Kg VWVC10502FS   \n795     030796  Whirlpool Inverter Giặt 9.5 Kg - Sấy 7 Kg WWEB...   \n\n    current_price       price percent_discount rating series  \\\n0      11390000.0  11390000.0                0    319   None   \n1      13890000.0  13890000.0                0    235   None   \n2      13990000.0  13990000.0                0    110   None   \n3      17390000.0  17390000.0                0     37   None   \n4      18690000.0  18690000.0                0     47   None   \n..            ...         ...              ...    ...    ...   \n791     9340000.0  13490000.0               30      0   None   \n792     7190000.0   9990000.0               28      0   None   \n793    13740000.0  17990000.0               23      3   None   \n794     6810000.0   9490000.0               28      0   None   \n795    13190000.0  16490000.0               20      0   None   \n\n                                                  link brand_id genre_id  \n0    https://www.dienmayxanh.com/may-lanh/panasonic...     0314     0301  \n1    https://www.dienmayxanh.com/may-lanh/panasonic...     0314     0301  \n2    https://www.dienmayxanh.com/may-lanh/panasonic...     0314     0301  \n3    https://www.dienmayxanh.com/may-lanh/panasonic...     0314     0301  \n4    https://www.dienmayxanh.com/may-lanh/panasonic...     0314     0301  \n..                                                 ...      ...      ...  \n791  https://www.dienmayxanh.com/may-giat/whirlpool...     0321     0304  \n792  https://www.dienmayxanh.com/may-giat/whirlpool...     0321     0304  \n793  https://www.dienmayxanh.com/may-giat/whirlpool...     0321     0304  \n794  https://www.dienmayxanh.com/may-giat/whirlpool...     0321     0304  \n795  https://www.dienmayxanh.com/may-giat/say-whirl...     0321     0304  \n\n[796 rows x 10 columns]",
                        "text/html": "\n  <div id=\"df-9d08748c-f8b5-42dc-84a4-df15ce73c717\">\n    <div class=\"colab-df-container\">\n      <div>\n<style scoped>\n    .dataframe tbody tr th:only-of-type {\n        vertical-align: middle;\n    }\n\n    .dataframe tbody tr th {\n        vertical-align: top;\n    }\n\n    .dataframe thead th {\n        text-align: right;\n    }\n</style>\n<table border=\"1\" class=\"dataframe\">\n  <thead>\n    <tr style=\"text-align: right;\">\n      <th></th>\n      <th>product_id</th>\n      <th>product_name</th>\n      <th>current_price</th>\n      <th>price</th>\n      <th>percent_discount</th>\n      <th>rating</th>\n      <th>series</th>\n      <th>link</th>\n      <th>brand_id</th>\n      <th>genre_id</th>\n    </tr>\n  </thead>\n  <tbody>\n    <tr>\n      <th>0</th>\n      <td>030001</td>\n      <td>Panasonic Inverter 1 HP CU/CS-PU9ZKH-8M Mới 2023</td>\n      <td>11390000.0</td>\n      <td>11390000.0</td>\n      <td>0</td>\n      <td>319</td>\n      <td>None</td>\n      <td>https://www.dienmayxanh.com/may-lanh/panasonic...</td>\n      <td>0314</td>\n      <td>0301</td>\n    </tr>\n    <tr>\n      <th>1</th>\n      <td>030002</td>\n      <td>Panasonic Inverter 1.5 HP CU/CS-PU12ZKH-8M Mới...</td>\n      <td>13890000.0</td>\n      <td>13890000.0</td>\n      <td>0</td>\n      <td>235</td>\n      <td>None</td>\n      <td>https://www.dienmayxanh.com/may-lanh/panasonic...</td>\n      <td>0314</td>\n      <td>0301</td>\n    </tr>\n    <tr>\n      <th>2</th>\n      <td>030003</td>\n      <td>Panasonic Inverter 1 HP CU/CS-XU9ZKH-8 Mới 2023</td>\n      <td>13990000.0</td>\n      <td>13990000.0</td>\n      <td>0</td>\n      <td>110</td>\n      <td>None</td>\n      <td>https://www.dienmayxanh.com/may-lanh/panasonic...</td>\n      <td>0314</td>\n      <td>0301</td>\n    </tr>\n    <tr>\n      <th>3</th>\n      <td>030004</td>\n      <td>Panasonic Inverter 1.5 HP CU/CS-XU12ZKH-8 Mới ...</td>\n      <td>17390000.0</td>\n      <td>17390000.0</td>\n      <td>0</td>\n      <td>37</td>\n      <td>None</td>\n      <td>https://www.dienmayxanh.com/may-lanh/panasonic...</td>\n      <td>0314</td>\n      <td>0301</td>\n    </tr>\n    <tr>\n      <th>4</th>\n      <td>030005</td>\n      <td>Panasonic Inverter 2 HP CS-PU18XKH-8M</td>\n      <td>18690000.0</td>\n      <td>18690000.0</td>\n      <td>0</td>\n      <td>47</td>\n      <td>None</td>\n      <td>https://www.dienmayxanh.com/may-lanh/panasonic...</td>\n      <td>0314</td>\n      <td>0301</td>\n    </tr>\n    <tr>\n      <th>...</th>\n      <td>...</td>\n      <td>...</td>\n      <td>...</td>\n      <td>...</td>\n      <td>...</td>\n      <td>...</td>\n      <td>...</td>\n      <td>...</td>\n      <td>...</td>\n      <td>...</td>\n    </tr>\n    <tr>\n      <th>791</th>\n      <td>030792</td>\n      <td>Whirlpool Inverter 10.5 Kg FWEB10502FW</td>\n      <td>9340000.0</td>\n      <td>13490000.0</td>\n      <td>30</td>\n      <td>0</td>\n      <td>None</td>\n      <td>https://www.dienmayxanh.com/may-giat/whirlpool...</td>\n      <td>0321</td>\n      <td>0304</td>\n    </tr>\n    <tr>\n      <th>792</th>\n      <td>030793</td>\n      <td>Whirlpool Inverter 8 Kg FWEB8002FG</td>\n      <td>7190000.0</td>\n      <td>9990000.0</td>\n      <td>28</td>\n      <td>0</td>\n      <td>None</td>\n      <td>https://www.dienmayxanh.com/may-giat/whirlpool...</td>\n      <td>0321</td>\n      <td>0304</td>\n    </tr>\n    <tr>\n      <th>793</th>\n      <td>030794</td>\n      <td>Whirlpool Inverter 10.5 Kg FWMD10502FG</td>\n      <td>13740000.0</td>\n      <td>17990000.0</td>\n      <td>23</td>\n      <td>3</td>\n      <td>None</td>\n      <td>https://www.dienmayxanh.com/may-giat/whirlpool...</td>\n      <td>0321</td>\n      <td>0304</td>\n    </tr>\n    <tr>\n      <th>794</th>\n      <td>030795</td>\n      <td>Whirlpool 10.5 Kg VWVC10502FS</td>\n      <td>6810000.0</td>\n      <td>9490000.0</td>\n      <td>28</td>\n      <td>0</td>\n      <td>None</td>\n      <td>https://www.dienmayxanh.com/may-giat/whirlpool...</td>\n      <td>0321</td>\n      <td>0304</td>\n    </tr>\n    <tr>\n      <th>795</th>\n      <td>030796</td>\n      <td>Whirlpool Inverter Giặt 9.5 Kg - Sấy 7 Kg WWEB...</td>\n      <td>13190000.0</td>\n      <td>16490000.0</td>\n      <td>20</td>\n      <td>0</td>\n      <td>None</td>\n      <td>https://www.dienmayxanh.com/may-giat/say-whirl...</td>\n      <td>0321</td>\n      <td>0304</td>\n    </tr>\n  </tbody>\n</table>\n<p>796 rows × 10 columns</p>\n</div>\n      <button class=\"colab-df-convert\" onclick=\"convertToInteractive('df-9d08748c-f8b5-42dc-84a4-df15ce73c717')\"\n              title=\"Convert this dataframe to an interactive table.\"\n              style=\"display:none;\">\n        \n  <svg xmlns=\"http://www.w3.org/2000/svg\" height=\"24px\"viewBox=\"0 0 24 24\"\n       width=\"24px\">\n    <path d=\"M0 0h24v24H0V0z\" fill=\"none\"/>\n    <path d=\"M18.56 5.44l.94 2.06.94-2.06 2.06-.94-2.06-.94-.94-2.06-.94 2.06-2.06.94zm-11 1L8.5 8.5l.94-2.06 2.06-.94-2.06-.94L8.5 2.5l-.94 2.06-2.06.94zm10 10l.94 2.06.94-2.06 2.06-.94-2.06-.94-.94-2.06-.94 2.06-2.06.94z\"/><path d=\"M17.41 7.96l-1.37-1.37c-.4-.4-.92-.59-1.43-.59-.52 0-1.04.2-1.43.59L10.3 9.45l-7.72 7.72c-.78.78-.78 2.05 0 2.83L4 21.41c.39.39.9.59 1.41.59.51 0 1.02-.2 1.41-.59l7.78-7.78 2.81-2.81c.8-.78.8-2.07 0-2.86zM5.41 20L4 18.59l7.72-7.72 1.47 1.35L5.41 20z\"/>\n  </svg>\n      </button>\n      \n  <style>\n    .colab-df-container {\n      display:flex;\n      flex-wrap:wrap;\n      gap: 12px;\n    }\n\n    .colab-df-convert {\n      background-color: #E8F0FE;\n      border: none;\n      border-radius: 50%;\n      cursor: pointer;\n      display: none;\n      fill: #1967D2;\n      height: 32px;\n      padding: 0 0 0 0;\n      width: 32px;\n    }\n\n    .colab-df-convert:hover {\n      background-color: #E2EBFA;\n      box-shadow: 0px 1px 2px rgba(60, 64, 67, 0.3), 0px 1px 3px 1px rgba(60, 64, 67, 0.15);\n      fill: #174EA6;\n    }\n\n    [theme=dark] .colab-df-convert {\n      background-color: #3B4455;\n      fill: #D2E3FC;\n    }\n\n    [theme=dark] .colab-df-convert:hover {\n      background-color: #434B5C;\n      box-shadow: 0px 1px 3px 1px rgba(0, 0, 0, 0.15);\n      filter: drop-shadow(0px 1px 2px rgba(0, 0, 0, 0.3));\n      fill: #FFFFFF;\n    }\n  </style>\n\n      <script>\n        const buttonEl =\n          document.querySelector('#df-9d08748c-f8b5-42dc-84a4-df15ce73c717 button.colab-df-convert');\n        buttonEl.style.display =\n          google.colab.kernel.accessAllowed ? 'block' : 'none';\n\n        async function convertToInteractive(key) {\n          const element = document.querySelector('#df-9d08748c-f8b5-42dc-84a4-df15ce73c717');\n          const dataTable =\n            await google.colab.kernel.invokeFunction('convertToInteractive',\n                                                     [key], {});\n          if (!dataTable) return;\n\n          const docLinkHtml = 'Like what you see? Visit the ' +\n            '<a target=\"_blank\" href=https://colab.research.google.com/notebooks/data_table.ipynb>data table notebook</a>'\n            + ' to learn more about interactive tables.';\n          element.innerHTML = '';\n          dataTable['output_type'] = 'display_data';\n          await google.colab.output.renderOutput(dataTable, element);\n          const docLink = document.createElement('div');\n          docLink.innerHTML = docLinkHtml;\n          element.appendChild(docLink);\n        }\n      </script>\n    </div>\n  </div>\n  "
                    },
                    "metadata": {}
                }
            ],
            "execution_count": null
        },
        {
            "cell_type": "code",
            "source": [
                "to_csv(products, '/transformed/product/products.csv')"
            ],
            "metadata": {
                "id": "IfPuQSoo4Oa-",
                "azdata_cell_guid": "2ffa4fb5-66a3-4307-9dfa-70fd894212b5",
                "language": "python"
            },
            "outputs": [],
            "execution_count": null
        },
        {
            "cell_type": "markdown",
            "source": [
                "# **Final Data**"
            ],
            "metadata": {
                "id": "yyTpGMYPF2Ho",
                "azdata_cell_guid": "e04a94c5-1a06-45b9-9296-1c0374521525"
            }
        },
        {
            "cell_type": "code",
            "source": [
                "current_dir = '/content/drive/MyDrive/mwg'"
            ],
            "metadata": {
                "id": "4P53JFb0CPxl",
                "executionInfo": {
                    "status": "ok",
                    "timestamp": 1687822161442,
                    "user_tz": -420,
                    "elapsed": 385,
                    "user": {
                        "displayName": "Cho Phan",
                        "userId": "15376299712231995454"
                    }
                },
                "azdata_cell_guid": "bb62bcee-07de-46ff-813b-a88bcd7f690f",
                "language": "python"
            },
            "outputs": [],
            "execution_count": 41
        },
        {
            "cell_type": "code",
            "source": [
                "brand_tgdd = read_csv('/the_gioi_di_dong/transformed/brand/brands.csv')\n",
                "brand_dmx = read_csv('/dien_may_xanh/transformed/brand/brands.csv')"
            ],
            "metadata": {
                "id": "7pFoC78NCQh_",
                "executionInfo": {
                    "status": "ok",
                    "timestamp": 1687822261850,
                    "user_tz": -420,
                    "elapsed": 2617,
                    "user": {
                        "displayName": "Cho Phan",
                        "userId": "15376299712231995454"
                    }
                },
                "azdata_cell_guid": "8b17ce05-61ed-4a00-b5dc-46303af8860a",
                "language": "python"
            },
            "outputs": [],
            "execution_count": 42
        },
        {
            "cell_type": "code",
            "source": [
                "brands = brand_tgdd \\\n",
                "         .union(brand_dmx)\n",
                "\n",
                "to_csv(brands.toPandas(), '/brands.csv')"
            ],
            "metadata": {
                "id": "H0ta4l0xCwad",
                "executionInfo": {
                    "status": "ok",
                    "timestamp": 1687822429446,
                    "user_tz": -420,
                    "elapsed": 543,
                    "user": {
                        "displayName": "Cho Phan",
                        "userId": "15376299712231995454"
                    }
                },
                "azdata_cell_guid": "7b5b3dc3-2c2e-40db-81aa-48b11c576918",
                "language": "python"
            },
            "outputs": [],
            "execution_count": 47
        },
        {
            "cell_type": "code",
            "source": [
                "product_tgdd = read_csv('/the_gioi_di_dong/transformed/product/products.csv')\n",
                "product_dmx = read_csv('/dien_may_xanh/transformed/product/products.csv')"
            ],
            "metadata": {
                "id": "6szJEZg9CwdM",
                "executionInfo": {
                    "status": "ok",
                    "timestamp": 1687822536101,
                    "user_tz": -420,
                    "elapsed": 1031,
                    "user": {
                        "displayName": "Cho Phan",
                        "userId": "15376299712231995454"
                    }
                },
                "azdata_cell_guid": "7a4cc3fa-a616-4e9f-a10c-1b8a2d994f7a",
                "language": "python"
            },
            "outputs": [],
            "execution_count": 49
        },
        {
            "cell_type": "code",
            "source": [
                "products = product_tgdd \\\n",
                "           .union(product_dmx)\n",
                "\n",
                "to_csv(products.toPandas(), '/products.csv')"
            ],
            "metadata": {
                "id": "eaqvczmCEA0o",
                "executionInfo": {
                    "status": "ok",
                    "timestamp": 1687822574567,
                    "user_tz": -420,
                    "elapsed": 811,
                    "user": {
                        "displayName": "Cho Phan",
                        "userId": "15376299712231995454"
                    }
                },
                "azdata_cell_guid": "ea824f03-640d-42cf-ac33-bc31a9636a6b",
                "language": "python"
            },
            "outputs": [],
            "execution_count": 50
        },
        {
            "cell_type": "code",
            "source": [
                "brand_d_tgdd = read_csv('/the_gioi_di_dong/transformed/brand_details/brand_details.csv')\n",
                "brand_d_dmx = read_csv('/dien_may_xanh/transformed/brand_details/brand_details.csv')"
            ],
            "metadata": {
                "id": "VaVRf_ASCwf7",
                "executionInfo": {
                    "status": "ok",
                    "timestamp": 1687822692100,
                    "user_tz": -420,
                    "elapsed": 996,
                    "user": {
                        "displayName": "Cho Phan",
                        "userId": "15376299712231995454"
                    }
                },
                "azdata_cell_guid": "de4a0e98-a1ba-454a-aeba-cfa1e6c8502f",
                "language": "python"
            },
            "outputs": [],
            "execution_count": 52
        },
        {
            "cell_type": "code",
            "source": [
                "brand_details = brand_d_tgdd \\\n",
                "                .union(brand_d_dmx)\n",
                "\n",
                "to_csv(brand_details.toPandas(), '/brand_details.csv')"
            ],
            "metadata": {
                "id": "bS-4hx29CQkp",
                "executionInfo": {
                    "status": "ok",
                    "timestamp": 1687822696205,
                    "user_tz": -420,
                    "elapsed": 373,
                    "user": {
                        "displayName": "Cho Phan",
                        "userId": "15376299712231995454"
                    }
                },
                "azdata_cell_guid": "4b0bd1d7-9eea-4eb1-9346-c089fd87ff14",
                "language": "python"
            },
            "outputs": [],
            "execution_count": 53
        },
        {
            "cell_type": "code",
            "source": [
                "genre_tgdd = read_csv('/the_gioi_di_dong/transformed/genre/genres.csv')\n",
                "genre_dmx = read_csv('/dien_may_xanh/transformed/genre/genres.csv')"
            ],
            "metadata": {
                "id": "qNoLgRvICQng",
                "executionInfo": {
                    "status": "ok",
                    "timestamp": 1687822755068,
                    "user_tz": -420,
                    "elapsed": 1395,
                    "user": {
                        "displayName": "Cho Phan",
                        "userId": "15376299712231995454"
                    }
                },
                "azdata_cell_guid": "5f6897e5-1bbc-4583-84c6-8aa63b9ac265",
                "language": "python"
            },
            "outputs": [],
            "execution_count": 54
        },
        {
            "cell_type": "code",
            "source": [
                "genres = genre_tgdd \\\n",
                "         .union(genre_dmx)\n",
                "\n",
                "to_csv(genres.toPandas(), '/genres.csv')"
            ],
            "metadata": {
                "id": "QVaXzw56CP0V",
                "executionInfo": {
                    "status": "ok",
                    "timestamp": 1687822759582,
                    "user_tz": -420,
                    "elapsed": 415,
                    "user": {
                        "displayName": "Cho Phan",
                        "userId": "15376299712231995454"
                    }
                },
                "azdata_cell_guid": "f8d0ab37-998a-4975-a34f-cc04fe4dd69e",
                "language": "python"
            },
            "outputs": [],
            "execution_count": 55
        }
    ]
}