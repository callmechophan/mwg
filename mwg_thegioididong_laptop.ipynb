{
    "metadata": {
        "kernelspec": {
            "name": "python3",
            "display_name": "Python 3 (ipykernel)",
            "language": "python"
        },
        "language_info": {
            "name": "python",
            "version": "3.10.6",
            "mimetype": "text/x-python",
            "codemirror_mode": {
                "name": "ipython",
                "version": 3
            },
            "pygments_lexer": "ipython3",
            "nbconvert_exporter": "python",
            "file_extension": ".py"
        }
    },
    "nbformat_minor": 2,
    "nbformat": 4,
    "cells": [
        {
            "cell_type": "code",
            "source": [
                "from selenium import webdriver\n",
                "from selenium.webdriver.common.by import By\n",
                "from selenium.webdriver.support.wait import WebDriverWait\n",
                "from selenium.webdriver.support import expected_conditions as ec"
            ],
            "metadata": {
                "azdata_cell_guid": "31dc8326-6c60-41c0-adb6-79bb798344f0",
                "language": "python"
            },
            "outputs": [],
            "execution_count": 1
        },
        {
            "cell_type": "code",
            "source": [
                "from time import sleep\n",
                "from random import randint\n",
                "\n",
                "import pandas as pd\n",
                "import os"
            ],
            "metadata": {
                "language": "python",
                "azdata_cell_guid": "549bb24a-cd66-4b0d-9b84-24170051e516"
            },
            "outputs": [],
            "execution_count": 2
        },
        {
            "cell_type": "code",
            "source": [
                "current_dir = os.getcwd()\n",
                "print(current_dir)"
            ],
            "metadata": {
                "language": "python",
                "azdata_cell_guid": "49bd62ac-3751-4133-b6c0-c97b671d3fee"
            },
            "outputs": [
                {
                    "name": "stdout",
                    "text": "/home/chophan/Desktop/projects/mwg\n",
                    "output_type": "stream"
                }
            ],
            "execution_count": 3
        },
        {
            "cell_type": "markdown",
            "source": [
                "# **Function Crawl Brand**"
            ],
            "metadata": {
                "azdata_cell_guid": "6f354b9c-ab4c-47e5-a8dd-e07851f12ac5"
            },
            "attachments": {}
        },
        {
            "cell_type": "code",
            "source": [
                "def brand(url, p_a, p_b):\n",
                "    browser = webdriver.Chrome()\n",
                "    browser.get(url)\n",
                "\n",
                "    sleep(randint(5, 8))\n",
                "\n",
                "    link_brand = []\n",
                "    link_logo = []\n",
                "\n",
                "    # click brand\n",
                "    click_brand = WebDriverWait(browser, randint(7,9)).until(ec.element_to_be_clickable((By.XPATH, f'/html/body/div[6]/div[{p_a}]/section/div[1]/div/div[{p_b}]')))\n",
                "    click_brand.click()\n",
                "\n",
                "    sleep(randint(3,6))\n",
                "\n",
                "    # manu show all stores after click brand\n",
                "    manu = browser.find_elements(By.XPATH, f'/html/body/div[6]/div[{p_a}]/section/div[1]/div/div[{p_b}]/div[2]/div[1]')\n",
                "    for m in manu:\n",
                "        tag_link = m.find_elements(By.TAG_NAME, 'a')\n",
                "        for t in tag_link:\n",
                "            # get link brand\n",
                "            print(t.get_attribute('href'))\n",
                "            link_brand.append(t.get_attribute('href'))\n",
                "\n",
                "            # get link logo\n",
                "            tag_img = t.find_elements(By.TAG_NAME, 'img')\n",
                "            if len(tag_img) > 0:\n",
                "                for i in tag_img:\n",
                "                    print(i.get_attribute('src'))\n",
                "                    link_logo.append(i.get_attribute('src'))\n",
                "            else:\n",
                "                print('link logo')\n",
                "                link_logo.append('')\n",
                "        \n",
                "        sleep(randint(4,8))\n",
                "    browser.close()\n",
                "\n",
                "    return link_brand, link_logo"
            ],
            "metadata": {
                "language": "python",
                "azdata_cell_guid": "361bc0aa-e116-4f99-a6e2-daec0e86bde2"
            },
            "outputs": [],
            "execution_count": 4
        },
        {
            "cell_type": "markdown",
            "source": [
                "# **Function Crawl Product**"
            ],
            "metadata": {
                "azdata_cell_guid": "6816724d-ed86-4fae-9932-1e1a37316d22"
            },
            "attachments": {}
        },
        {
            "cell_type": "code",
            "source": [
                "def product(url, class_name, p_a, p_b, p_i, p_i_bp):\n",
                "    browser = webdriver.Chrome()\n",
                "    browser.get(url)\n",
                "\n",
                "    sleep(randint(3, 8))\n",
                "\n",
                "    # click button brand\n",
                "    WebDriverWait(browser, randint(7,9)).until(ec.element_to_be_clickable((By.XPATH, f'/html/body/div[6]/div[{p_a}]/section/div[1]/div/div[{p_b}]'))).click()\n",
                "\n",
                "    sleep(randint(3,6))\n",
                "\n",
                "    # box brand > show brand\n",
                "    box_brand = browser.find_elements(By.XPATH, f'/html/body/div[6]/div[{p_a}]/section/div[1]/div/div[{p_b}]/div[2]/div[1]')\n",
                "    for m in box_brand:\n",
                "        # count brand phone sell at thegioididong\n",
                "        count_brand = m.find_elements(By.CLASS_NAME, 'c-btnbox.filter-manu')\n",
                "\n",
                "    sleep(randint(3,5))\n",
                "\n",
                "    # click button brand > cancel\n",
                "    WebDriverWait(browser, randint(7,9)).until(ec.element_to_be_clickable((By.XPATH, f'/html/body/div[6]/div[{p_a}]/section/div[1]/div/div[{p_b}]'))).click()\n",
                "\n",
                "    names = []\n",
                "    links = []\n",
                "    current_prices = []\n",
                "    old_prices = []\n",
                "    percent_discounts = []\n",
                "    ratings = []\n",
                "    brands = []\n",
                "    series = []\n",
                "\n",
                "    # for loop click to a brand\n",
                "    for t in range(1, len(count_brand)+1):\n",
                "        # click button brand\n",
                "        WebDriverWait(browser, randint(7,9)).until(ec.element_to_be_clickable((By.XPATH, f'/html/body/div[6]/div[{p_a}]/section/div[1]/div/div[{p_b}]'))).click()\n",
                "\n",
                "        sleep(randint(3,6))\n",
                "\n",
                "        # click a brand\n",
                "        WebDriverWait(browser, randint(7,9)).until(ec.element_to_be_clickable((By.XPATH, f'/html/body/div[6]/div[{p_a}]/section/div[1]/div/div[{p_b}]/div[2]/div[1]/a[{t}]'))).click()\n",
                "\n",
                "        sleep(randint(3,6))\n",
                "\n",
                "\n",
                "        see_results = browser.find_elements(By.CLASS_NAME, 'btn-filter-readmore.prevent.disabled')\n",
                "        if len(see_results) > 0:\n",
                "            # click cancel: if brand not have product\n",
                "            WebDriverWait(browser, randint(7,9)).until(ec.element_to_be_clickable((By.XPATH, f'/html/body/div[6]/div[{p_a}]/section/div[1]/div/div[{p_b}]/div[2]/div[2]/a[1]'))).click()\n",
                "        else:\n",
                "            # click view: if brand have less than 1 product\n",
                "            WebDriverWait(browser, randint(7,9)).until(ec.element_to_be_clickable((By.XPATH, f'/html/body/div[6]/div[{p_a}]/section/div[1]/div/div[{p_b}]/div[2]/div[2]/a[2]'))).click()\n",
                "\n",
                "\n",
                "        box_filter = browser.find_elements(By.XPATH, f'/html/body/div[6]/div[{p_a}]/section/div[2]/div')\n",
                "        # have box filter\n",
                "        if len(box_filter) > 0:\n",
                "            name_filter = []\n",
                "            for b in box_filter:\n",
                "                # count filter\n",
                "                count_filter = b.find_elements(By.CLASS_NAME, 'c-btnbox')\n",
                "                name_filter.append(b.text)\n",
                "            \n",
                "            filters = []\n",
                "            for f in name_filter:\n",
                "                filters.append(f.split('\\n'))\n",
                "\n",
                "            # for loop click filter a brand\n",
                "            for i in range(1, len(count_filter)+1):\n",
                "                # click filter a brand\n",
                "                WebDriverWait(browser, randint(4,6)).until(ec.element_to_be_clickable((By.XPATH, f'/html/body/div[6]/div[{p_a}]/section/div[2]/div/a[{i}]'))).click()\n",
                "\n",
                "                sleep(randint(2,4))\n",
                "\n",
                "                # button 'see more'\n",
                "                see_more = browser.find_elements(By.CLASS_NAME, 'view-more')\n",
                "                while len(see_more) > 0:\n",
                "                    try:\n",
                "                        # click see more: if have button see more (number product more than 20 will exists button see more), and click until button 'see more' no longer appear\n",
                "                        WebDriverWait(browser, randint(2,4)).until(ec.element_to_be_clickable((By.XPATH, f'/html/body/div[6]/section/div[{p_i}]/div[2]/a'))).click()\n",
                "                    except:\n",
                "                        break\n",
                "                \n",
                "                items = browser.find_elements(By.CLASS_NAME, class_name)\n",
                "\n",
                "                # for loop get data\n",
                "                for a in range(1, len(items)+1):\n",
                "                    print(filters[0][i-1])\n",
                "                    series.append(filters[0][i-1])\n",
                "\n",
                "                    print(t)\n",
                "                    if t < 10:\n",
                "                        brands.append('0' + str(t))\n",
                "                    else:\n",
                "                        brands.append(str(t))                        \n",
                "\n",
                "                    # name product\n",
                "                    name = browser.find_elements(By.XPATH, f'/html/body/div[6]/section/div[{p_i}]/ul/li[{a}]/a[1]/h3')\n",
                "                    for n in name:\n",
                "                        print(n.text)\n",
                "                        names.append(n.text)\n",
                "                        \n",
                "                    # link product\n",
                "                    link = browser.find_elements(By.XPATH, f'/html/body/div[6]/section/div[{p_i}]/ul/li[{a}]/a[1]')\n",
                "                    for l in link:\n",
                "                        print(l.get_attribute('href'))\n",
                "                        links.append(l.get_attribute('href'))\n",
                "\n",
                "                    # current price product\n",
                "                    current_price = browser.find_elements(By.XPATH, f'/html/body/div[6]/section/div[{p_i}]/ul/li[{a}]/a[1]/strong[1]')\n",
                "                    if len(current_price) > 0:\n",
                "                        for cp in current_price:\n",
                "                            print(cp.text)\n",
                "                            current_prices.append(cp.text)\n",
                "                    else:\n",
                "                        sold_out = browser.find_elements(By.XPATH, f'/html/body/div[6]/section/div[{p_i}]/ul/li[{a}]/a[1]/p')\n",
                "                        for so in sold_out:\n",
                "                            print(so.text)\n",
                "                            current_prices.append(so.text)\n",
                "                    \n",
                "                    box_p = browser.find_elements(By.XPATH, f'/html/body/div[6]/section/div[{p_i}]/ul/li[{a}]/a[1]/div[{p_i_bp}]')\n",
                "                    if len(box_p) > 0:\n",
                "                        for bp in box_p:\n",
                "                            # old price product\n",
                "                            old_price = bp.find_elements(By.CLASS_NAME, 'price-old.black')\n",
                "                            for op in old_price:\n",
                "                                print(op.text)\n",
                "                                old_prices.append(op.text)\n",
                "                            \n",
                "                            # percent discount product\n",
                "                            percent_discount = bp.find_elements(By.CLASS_NAME, 'percent')\n",
                "                            if len(percent_discount) > 0:\n",
                "                                for pp in percent_discount:\n",
                "                                    print(pp.text)\n",
                "                                    percent_discounts.append(pp.text)\n",
                "                            else:\n",
                "                                print('percent')\n",
                "                                percent_discounts.append('')\n",
                "                    else:\n",
                "                        print('old price')\n",
                "                        print('percent')\n",
                "                        old_prices.append('')\n",
                "                        percent_discounts.append('')\n",
                "                    \n",
                "                    rating = browser.find_elements(By.XPATH, f'/html/body/div[6]/section/div[{p_i}]/ul/li[{a}]/div[1]/p[2]')\n",
                "                    if len(rating) > 0:\n",
                "                        for r in rating:\n",
                "                            print(r.text)\n",
                "                            ratings.append(r.text)\n",
                "                    else:\n",
                "                        print('rating')\n",
                "                        ratings.append('')\n",
                "                            \n",
                "                WebDriverWait(browser, randint(5,8)).until(ec.element_to_be_clickable((By.XPATH, '/html/body/div[6]/div[2]/section/ul/li[2]/a'))).click()\n",
                "\n",
                "        # don't have 'box filter'\n",
                "        else:\n",
                "            # button 'see more'\n",
                "            see_more = browser.find_elements(By.CLASS_NAME, 'view-more')\n",
                "            while len(see_more) > 0:\n",
                "                try:\n",
                "                    # click see more: if have button see more (number product more than 20 will exists button see more), and click until button 'see more' no longer appear\n",
                "                    WebDriverWait(browser, randint(2,4)).until(ec.element_to_be_clickable((By.XPATH, f'/html/body/div[6]/section/div[{p_i}]/div[2]/a'))).click()\n",
                "                except:\n",
                "                    break\n",
                "            \n",
                "            items = browser.find_elements(By.CLASS_NAME, class_name)\n",
                "\n",
                "            # for loop get data\n",
                "            for a in range(1, len(items)+1):\n",
                "                print('series')\n",
                "                series.append('')\n",
                "\n",
                "                print(t)\n",
                "                if t < 10:\n",
                "                    brands.append('0' + str(t))\n",
                "                else:\n",
                "                    brands.append(str(t))                        \n",
                "\n",
                "                # name product\n",
                "                name = browser.find_elements(By.XPATH, f'/html/body/div[6]/section/div[{p_i}]/ul/li[{a}]/a[1]/h3')\n",
                "                for n in name:\n",
                "                    print(n.text)\n",
                "                    names.append(n.text)\n",
                "                \n",
                "                link = browser.find_elements(By.XPATH, f'/html/body/div[6]/section/div[{p_i}]/ul/li[{a}]/a[1]')\n",
                "                for l in link:\n",
                "                    print(l.get_attribute('href'))\n",
                "                    links.append(l.get_attribute('href'))\n",
                "\n",
                "                current_price = browser.find_elements(By.XPATH, f'/html/body/div[6]/section/div[{p_i}]/ul/li[{a}]/a[1]/strong[1]')\n",
                "                if len(current_price) > 0:\n",
                "                    for cp in current_price:\n",
                "                        print(cp.text)\n",
                "                        current_prices.append(cp.text)\n",
                "                else:\n",
                "                    sold_out = browser.find_elements(By.XPATH, f'/html/body/div[6]/section/div[{p_i}]/ul/li[{a}]/a[1]/p')\n",
                "                    for so in sold_out:\n",
                "                        print(so.text)\n",
                "                        current_prices.append(so.text)\n",
                "\n",
                "                box_p = browser.find_elements(By.XPATH, f'/html/body/div[6]/section/div[{p_i}]/ul/li[{a}]/a[1]/div[{p_i_bp}]')\n",
                "                if len(box_p) > 0:\n",
                "                    for bp in box_p:\n",
                "                        # old price product\n",
                "                        old_price = bp.find_elements(By.CLASS_NAME, 'price-old.black')\n",
                "                        for op in old_price:\n",
                "                            print(op.text)\n",
                "                            old_prices.append(op.text)\n",
                "                        \n",
                "                        # percent discount product\n",
                "                        percent_discount = bp.find_elements(By.CLASS_NAME, 'percent')\n",
                "                        if len(percent_discount) > 0:\n",
                "                            for pp in percent_discount:\n",
                "                                print(pp.text)\n",
                "                                percent_discounts.append(pp.text)\n",
                "                        else:\n",
                "                            print('percent')\n",
                "                            percent_discounts.append('')\n",
                "                else:\n",
                "                    print('old price')\n",
                "                    print('percent')\n",
                "                    old_prices.append('')\n",
                "                    percent_discounts.append('')\n",
                "                \n",
                "                rating = browser.find_elements(By.XPATH, f'/html/body/div[6]/section/div[{p_i}]/ul/li[{a}]/div[1]/p[2]')\n",
                "                if len(rating) > 0:\n",
                "                    for r in rating:\n",
                "                        print(r.text)\n",
                "                        ratings.append(r.text)\n",
                "                else:\n",
                "                    print('rating')\n",
                "                    ratings.append('')\n",
                "                \n",
                "\n",
                "        browser.get(url)\n",
                "\n",
                "    sleep(randint(3,6))\n",
                "\n",
                "    browser.close()\n",
                "\n",
                "    return names, current_prices, old_prices, percent_discounts, ratings, links, brands, series\n",
                ""
            ],
            "metadata": {
                "language": "python",
                "azdata_cell_guid": "39698dd9-89b9-4f27-819a-ba75e4faf35e"
            },
            "outputs": [],
            "execution_count": 5
        },
        {
            "cell_type": "markdown",
            "source": [
                "# **Function Build to Brand Data**"
            ],
            "metadata": {
                "azdata_cell_guid": "91e2959b-b5e0-4422-90c6-312f8dc9cfdc"
            },
            "attachments": {}
        },
        {
            "cell_type": "code",
            "source": [
                "def build_to_brand_data():\n",
                "    brand = pd.DataFrame()\n",
                "\n",
                "    brand['link'] = link_brand\n",
                "    brand['link_logo'] = link_logo\n",
                "\n",
                "    index = []\n",
                "    for i in range(1, len(brand)+1):\n",
                "        if i < 10:\n",
                "            index.append('0' + str(i))\n",
                "        else:\n",
                "            index.append(str(i))\n",
                "\n",
                "    brand['brand_id'] = index\n",
                "\n",
                "    return brand"
            ],
            "metadata": {
                "language": "python",
                "azdata_cell_guid": "53e15540-b0d1-4299-ae26-55603074ca94"
            },
            "outputs": [],
            "execution_count": 8
        },
        {
            "cell_type": "markdown",
            "source": [
                "# **Function Build to Product Data**"
            ],
            "metadata": {
                "language": "python",
                "azdata_cell_guid": "997952ae-037c-4c83-9afb-85b4a9909da8"
            },
            "attachments": {}
        },
        {
            "cell_type": "code",
            "source": [
                "def build_to_product_data(genre_name):\n",
                "    product = pd.DataFrame()\n",
                "\n",
                "    product['product_name'] = names\n",
                "    product['current_price'] = current_prices\n",
                "    product['price'] = old_prices\n",
                "    product['percent_discount'] = percent_discounts\n",
                "    product['rating'] = ratings\n",
                "    product['link'] = links\n",
                "    product['brand_id'] = brands\n",
                "    product['series'] = series\n",
                "\n",
                "    genres = []\n",
                "    for i in range(1, len(product)+1):\n",
                "        genres.append(genre_name)\n",
                "\n",
                "    product['genre_name'] = genres\n",
                "\n",
                "    return product"
            ],
            "metadata": {
                "language": "python",
                "azdata_cell_guid": "6048bf4b-27fd-4de3-bb0c-d2c618096e7a"
            },
            "outputs": [],
            "execution_count": 15
        },
        {
            "cell_type": "markdown",
            "source": [
                "# **Laptop**"
            ],
            "metadata": {
                "azdata_cell_guid": "0a331b4a-8456-428f-bcf0-7237acf75728"
            },
            "attachments": {}
        },
        {
            "cell_type": "code",
            "source": [
                "link_brand, link_logo = \\\n",
                "brand('https://www.thegioididong.com/laptop', 4, 3)"
            ],
            "metadata": {
                "azdata_cell_guid": "56803370-0982-4401-85ec-d4d3707c1aca",
                "language": "python"
            },
            "outputs": [
                {
                    "name": "stdout",
                    "text": "https://www.thegioididong.com/laptop-apple-macbook\nhttps://cdn.tgdd.vn/Brand/1/logo-macbook-149x40.png\nhttps://www.thegioididong.com/laptop-asus\nhttps://cdn.tgdd.vn/Brand/1/logo-asus-149x40.png\nhttps://www.thegioididong.com/laptop-hp-compaq\nhttps://cdn.tgdd.vn/Brand/1/logo-hp-149x40-1.png\nhttps://www.thegioididong.com/laptop-lenovo\nhttps://cdn.tgdd.vn/Brand/1/logo-lenovo-149x40.png\nhttps://www.thegioididong.com/laptop-acer\nhttps://cdn.tgdd.vn/Brand/1/logo-acer-149x40.png\nhttps://www.thegioididong.com/laptop-dell\nhttps://cdn.tgdd.vn/Brand/1/logo-dell-149x40.png\nhttps://www.thegioididong.com/laptop-msi\nhttps://cdn.tgdd.vn/Brand/1/logo-msi-149x40.png\n",
                    "output_type": "stream"
                },
                {
                    "name": "stdout",
                    "text": "https://www.thegioididong.com/laptop-gigabyte\nhttps://cdn.tgdd.vn/Brand/1/logo-gigabyte-149x40.png\nhttps://www.thegioididong.com/laptop-surface\nhttps://cdn.tgdd.vn/Brand/1/logo-surface-149x40-1.png\nhttps://www.thegioididong.com/laptop-itel\nhttps://cdn.tgdd.vn/Brand/1/logo-itel-149x40.png\nhttps://www.thegioididong.com/laptop-masstel\nhttps://cdn.tgdd.vn/Brand/1/Masstel42-b0-200x48-1.png\nhttps://www.thegioididong.com/laptop-lg\nhttps://cdn.tgdd.vn/Brand/1/logo-lg-149x40.png\n",
                    "output_type": "stream"
                }
            ],
            "execution_count": 6
        },
        {
            "cell_type": "code",
            "source": [
                "brand_data = build_to_brand_data()\n",
                "brand_data"
            ],
            "metadata": {
                "language": "python",
                "azdata_cell_guid": "38715731-2ced-473a-ad4a-27e2b46ed7ae"
            },
            "outputs": [
                {
                    "data": {
                        "text/plain": "                                                 link   \n0   https://www.thegioididong.com/laptop-apple-mac...  \\\n1           https://www.thegioididong.com/laptop-asus   \n2      https://www.thegioididong.com/laptop-hp-compaq   \n3         https://www.thegioididong.com/laptop-lenovo   \n4           https://www.thegioididong.com/laptop-acer   \n5           https://www.thegioididong.com/laptop-dell   \n6            https://www.thegioididong.com/laptop-msi   \n7       https://www.thegioididong.com/laptop-gigabyte   \n8        https://www.thegioididong.com/laptop-surface   \n9           https://www.thegioididong.com/laptop-itel   \n10       https://www.thegioididong.com/laptop-masstel   \n11            https://www.thegioididong.com/laptop-lg   \n\n                                            link_logo brand_id  \n0   https://cdn.tgdd.vn/Brand/1/logo-macbook-149x4...       01  \n1    https://cdn.tgdd.vn/Brand/1/logo-asus-149x40.png       02  \n2    https://cdn.tgdd.vn/Brand/1/logo-hp-149x40-1.png       03  \n3   https://cdn.tgdd.vn/Brand/1/logo-lenovo-149x40...       04  \n4    https://cdn.tgdd.vn/Brand/1/logo-acer-149x40.png       05  \n5    https://cdn.tgdd.vn/Brand/1/logo-dell-149x40.png       06  \n6     https://cdn.tgdd.vn/Brand/1/logo-msi-149x40.png       07  \n7   https://cdn.tgdd.vn/Brand/1/logo-gigabyte-149x...       08  \n8   https://cdn.tgdd.vn/Brand/1/logo-surface-149x4...       09  \n9    https://cdn.tgdd.vn/Brand/1/logo-itel-149x40.png       10  \n10  https://cdn.tgdd.vn/Brand/1/Masstel42-b0-200x4...       11  \n11     https://cdn.tgdd.vn/Brand/1/logo-lg-149x40.png       12  ",
                        "text/html": "<div>\n<style scoped>\n    .dataframe tbody tr th:only-of-type {\n        vertical-align: middle;\n    }\n\n    .dataframe tbody tr th {\n        vertical-align: top;\n    }\n\n    .dataframe thead th {\n        text-align: right;\n    }\n</style>\n<table border=\"1\" class=\"dataframe\">\n  <thead>\n    <tr style=\"text-align: right;\">\n      <th></th>\n      <th>link</th>\n      <th>link_logo</th>\n      <th>brand_id</th>\n    </tr>\n  </thead>\n  <tbody>\n    <tr>\n      <th>0</th>\n      <td>https://www.thegioididong.com/laptop-apple-mac...</td>\n      <td>https://cdn.tgdd.vn/Brand/1/logo-macbook-149x4...</td>\n      <td>01</td>\n    </tr>\n    <tr>\n      <th>1</th>\n      <td>https://www.thegioididong.com/laptop-asus</td>\n      <td>https://cdn.tgdd.vn/Brand/1/logo-asus-149x40.png</td>\n      <td>02</td>\n    </tr>\n    <tr>\n      <th>2</th>\n      <td>https://www.thegioididong.com/laptop-hp-compaq</td>\n      <td>https://cdn.tgdd.vn/Brand/1/logo-hp-149x40-1.png</td>\n      <td>03</td>\n    </tr>\n    <tr>\n      <th>3</th>\n      <td>https://www.thegioididong.com/laptop-lenovo</td>\n      <td>https://cdn.tgdd.vn/Brand/1/logo-lenovo-149x40...</td>\n      <td>04</td>\n    </tr>\n    <tr>\n      <th>4</th>\n      <td>https://www.thegioididong.com/laptop-acer</td>\n      <td>https://cdn.tgdd.vn/Brand/1/logo-acer-149x40.png</td>\n      <td>05</td>\n    </tr>\n    <tr>\n      <th>5</th>\n      <td>https://www.thegioididong.com/laptop-dell</td>\n      <td>https://cdn.tgdd.vn/Brand/1/logo-dell-149x40.png</td>\n      <td>06</td>\n    </tr>\n    <tr>\n      <th>6</th>\n      <td>https://www.thegioididong.com/laptop-msi</td>\n      <td>https://cdn.tgdd.vn/Brand/1/logo-msi-149x40.png</td>\n      <td>07</td>\n    </tr>\n    <tr>\n      <th>7</th>\n      <td>https://www.thegioididong.com/laptop-gigabyte</td>\n      <td>https://cdn.tgdd.vn/Brand/1/logo-gigabyte-149x...</td>\n      <td>08</td>\n    </tr>\n    <tr>\n      <th>8</th>\n      <td>https://www.thegioididong.com/laptop-surface</td>\n      <td>https://cdn.tgdd.vn/Brand/1/logo-surface-149x4...</td>\n      <td>09</td>\n    </tr>\n    <tr>\n      <th>9</th>\n      <td>https://www.thegioididong.com/laptop-itel</td>\n      <td>https://cdn.tgdd.vn/Brand/1/logo-itel-149x40.png</td>\n      <td>10</td>\n    </tr>\n    <tr>\n      <th>10</th>\n      <td>https://www.thegioididong.com/laptop-masstel</td>\n      <td>https://cdn.tgdd.vn/Brand/1/Masstel42-b0-200x4...</td>\n      <td>11</td>\n    </tr>\n    <tr>\n      <th>11</th>\n      <td>https://www.thegioididong.com/laptop-lg</td>\n      <td>https://cdn.tgdd.vn/Brand/1/logo-lg-149x40.png</td>\n      <td>12</td>\n    </tr>\n  </tbody>\n</table>\n</div>"
                    },
                    "metadata": {},
                    "execution_count": 10,
                    "output_type": "execute_result"
                }
            ],
            "execution_count": 10
        },
        {
            "cell_type": "code",
            "source": [
                "brand_data.to_csv(current_dir + '/laptop/brand_laptop.csv', index=False)"
            ],
            "metadata": {
                "language": "python",
                "azdata_cell_guid": "c0e797f3-029d-4dcd-b3fe-9eb12ce0bd64"
            },
            "outputs": [],
            "execution_count": 12
        },
        {
            "cell_type": "code",
            "source": [
                "names, current_prices, old_prices, percent_discounts, ratings, links, brands, series = \\\n",
                "product('https://www.thegioididong.com/laptop', 'item.__cate_44', 4, 3, 3, 4)"
            ],
            "metadata": {
                "language": "python",
                "azdata_cell_guid": "f833c9dd-f842-4bf1-87c8-39d74aebcd97"
            },
            "outputs": [
                {
                    "name": "stdout",
                    "text": "MacBook Air\n1\nMacBook Air 13 inch M1 2020 7-core GPU\nhttps://www.thegioididong.com/laptop/apple-macbook-air-2020-mgn63saa\n18.390.000₫\nold price\npercent\n156\nMacBook Air\n1\nMacBook Air 13 inch M2 2022 8-core GPU\nhttps://www.thegioididong.com/laptop/apple-macbook-air-m2-2022\n27.590.000₫\nold price\npercent\n54\nMacBook Air\n1\n",
                    "output_type": "stream"
                },
                {
                    "name": "stdout",
                    "text": "MacBook Air 13 inch M2 2022 10-core GPU\nhttps://www.thegioididong.com/laptop/apple-macbook-air-m2-2022-16gb\n39.490.000₫\nold price\npercent\n10\nMacBook Air\n1\nMacBook Air 15 inch M2 2023 10-core GPU\nhttps://www.thegioididong.com/laptop/apple-macbook-air-15-inch-m2-2023\n37.990.000₫\nold price\npercent\nrating\nMacBook Air\n1\nMacBook Air 15 inch M2 2023 10-core GPU\n",
                    "output_type": "stream"
                },
                {
                    "name": "stdout",
                    "text": "https://www.thegioididong.com/laptop/apple-macbook-air-m2-2023-16gb\n37.990.000₫\nold price\npercent\nrating\nMacBook Air\n1\nMacBook Air 15 inch M2 2023 10-core GPU\nhttps://www.thegioididong.com/laptop/apple-macbook-air-m2-2023\n31.990.000₫\nold price\npercent\nrating\n",
                    "output_type": "stream"
                },
                {
                    "name": "stdout",
                    "text": "MacBook Pro 13 inch\n1\nMacBook Pro 13 inch M2 2022 10-core GPU\nhttps://www.thegioididong.com/laptop/apple-macbook-pro-13-inch-m2-2022\n30.990.000₫\nold price\npercent\n32\nMacBook Pro 13 inch\n1\nMacBook Pro 13 inch M2 2022 10-core GPU\nhttps://www.thegioididong.com/laptop/apple-macbook-pro-m2-2022-16gb\n38.590.000₫\nold price\npercent\n17\nMacBook Pro 13 inch\n1\nMacBook Pro 13 inch M1 2020 8-core GPU\nhttps://www.thegioididong.com/laptop/apple-macbook-pro-2020-z11c\n",
                    "output_type": "stream"
                },
                {
                    "name": "stdout",
                    "text": "34.990.000₫\nold price\npercent\n42\nMacBook Pro 13 inch\n1\nMacBook Pro 13 inch M2 2022 10-core GPU\nhttps://www.thegioididong.com/laptop/apple-macbook-pro-m2-2022\n34.490.000₫\nold price\npercent\n6\n",
                    "output_type": "stream"
                },
                {
                    "name": "stdout",
                    "text": "MacBook Pro 14 inch\n1\nMacBook Pro 14 inch M1 Pro 2021 16-core GPU\nhttps://www.thegioididong.com/laptop/apple-macbook-pro-14-m1-pro-2021-10-core-cpu\n39.990.000₫\nold price\npercent\n21\n",
                    "output_type": "stream"
                },
                {
                    "name": "stdout",
                    "text": "MacBook Pro 16 inch\n1\nMacBook Pro 16 inch M1 Pro 2021 16 core-GPU\nhttps://www.thegioididong.com/laptop/apple-pro-16-m1-pro-2021-10-core-cpu\n39.990.000₫\nold price\npercent\n18\nMacBook Pro 16 inch\n1\nMacBook Pro 16 inch M1 Pro 2021 16-core GPU\nhttps://www.thegioididong.com/laptop/apple-macbook-pro-16-m1-pro-2021-10-core-cpu\n41.990.000₫\nold price\npercent\n12\n",
                    "output_type": "stream"
                },
                {
                    "name": "stdout",
                    "text": "VivoBook\n2\nAsus Vivobook X415EA i3 1115G4 (EK2034W)\nhttps://www.thegioididong.com/laptop/asus-vivobook-x415ea-i3-ek2034w\n9.790.000₫\n11.490.000₫\n-14%\n25\nVivoBook\n2\nAsus Vivobook 15 X1502ZA i5 1240P (EJ120W)\nhttps://www.thegioididong.com/laptop/asus-vivobook-15-x1502za-i5-ej120w\n14.990.000₫\n",
                    "output_type": "stream"
                },
                {
                    "name": "stdout",
                    "text": "18.490.000₫\n-18%\n74\nVivoBook\n2\nAsus VivoBook X515MA N4020 (BR480W)\nhttps://www.thegioididong.com/laptop/asus-vivobook-x515ma-n4020-br480w\n7.490.000₫\n7.890.000₫\n-5%\n51\nVivoBook\n2\nAsus Vivobook 15 OLED A1505VA i5 13500H (L1052W)\n",
                    "output_type": "stream"
                },
                {
                    "name": "stdout",
                    "text": "https://www.thegioididong.com/laptop/asus-vivobook-15-oled-a1505va-i5-l1052w\n17.490.000₫\n20.490.000₫\n-14%\n16\nVivoBook\n2\nAsus Vivobook 14 X1402ZA i5 1240P (EK083W)\nhttps://www.thegioididong.com/laptop/asus-vivobook-14-x1402za-i5-ek083w\n14.990.000₫\n18.490.000₫\n",
                    "output_type": "stream"
                },
                {
                    "name": "stdout",
                    "text": "-18%\n32\nVivoBook\n2\nAsus Vivobook 14X OLED A1405ZA i5 12500H (KM146W)\nhttps://www.thegioididong.com/laptop/asus-vivobook-14x-oled-a1405za-i5-km146w\n16.490.000₫\n19.490.000₫\n-15%\n8\nVivoBook\n2\nAsus Vivobook 15 X1504VA i5 1335U (NJ025W)\nhttps://www.thegioididong.com/laptop/asus-vivobook-15-x1504va-i5-nj025w\n",
                    "output_type": "stream"
                },
                {
                    "name": "stdout",
                    "text": "16.490.000₫\n17.990.000₫\n-8%\n7\nVivoBook\n2\nAsus Vivobook 15 X1502ZA i7 1260P (EJ582W)\nhttps://www.thegioididong.com/laptop/asus-vivobook-15-x1502za-i7-ej582w\n17.490.000₫\n23.990.000₫\n-27%\n",
                    "output_type": "stream"
                },
                {
                    "name": "stdout",
                    "text": "41\nVivoBook\n2\nAsus VivoBook X415EA i3 1115G4 (EK1386W)\nhttps://www.thegioididong.com/laptop/asus-vivobook-x415ea-i3-ek1386w\n9.490.000₫\n11.490.000₫\n-17%\n72\nVivoBook\n2\nAsus Vivobook S 14 Flip TP3402VA i5 13500H (LZ031W)\nhttps://www.thegioididong.com/laptop/asus-vivobook-s-14-flip-tp3402va-i5-lz031w\n20.490.000₫\n",
                    "output_type": "stream"
                },
                {
                    "name": "stdout",
                    "text": "21.990.000₫\n-6%\n10\nVivoBook\n2\nAsus Vivobook 14 X1402ZA i3 1220P (EK249W)\nhttps://www.thegioididong.com/laptop/asus-vivobook-14-x1402za-i3-ek249w\n10.490.000₫\n13.990.000₫\n-25%\n21\nVivoBook\n2\nAsus Vivobook 14X OLED S3405VA i9 13900H (KM071W)\n",
                    "output_type": "stream"
                },
                {
                    "name": "stdout",
                    "text": "https://www.thegioididong.com/laptop/asus-vivobook-14x-oled-s3405va-i9-km071w\n24.690.000₫\n26.990.000₫\n-8%\nrating\nVivoBook\n2\nAsus Vivobook S 14 Flip TP3402VA i9 13900H (LZ118W)\nhttps://www.thegioididong.com/laptop/asus-vivobook-s-14-flip-tp3402va-i9-lz118w\n24.490.000₫\n26.490.000₫\n-7%\nrating\nVivoBook\n2\n",
                    "output_type": "stream"
                },
                {
                    "name": "stdout",
                    "text": "Asus Vivobook 15 OLED A1505VA i9 13900H (L1201W)\nhttps://www.thegioididong.com/laptop/asus-vivobook-15-oled-a1505va-i9-l1201w\n23.090.000₫\n24.990.000₫\n-7%\nrating\nVivoBook\n2\nAsus Vivobook 14X OLED S3405VA i5 13500H (KM072W)\nhttps://www.thegioididong.com/laptop/asus-vivobook-14x-oled-s3405va-i5-km072w\n21.990.000₫\n22.990.000₫\n",
                    "output_type": "stream"
                },
                {
                    "name": "stdout",
                    "text": "percent\nrating\nVivoBook\n2\nAsus Vivobook 15 X1504VA i7 1355U (NJ023W)\nhttps://www.thegioididong.com/laptop/asus-vivobook-15-x1504va-nj023w\n19.990.000₫\n22.990.000₫\n-13%\n5\nVivoBook\n2\nAsus Vivobook 14 X1404VA i5 1335U (NK123W)\nhttps://www.thegioididong.com/laptop/asus-vivobook-14-x1404va-i5-nk123w\n16.290.000₫\n",
                    "output_type": "stream"
                },
                {
                    "name": "stdout",
                    "text": "17.990.000₫\n-9%\n5\nVivoBook\n2\nAsus Vivobook S 14 Flip TP3402VA i3 1315U (LZ025W)\nhttps://www.thegioididong.com/laptop/asus-vivobook-s-14-flip-tp3402va-i3-lz025w\n16.190.000₫\n16.990.000₫\npercent\nrating\nVivoBook\n2\nAsus Vivobook 14 A1405VA i3 1315U (LY097W)\nhttps://www.thegioididong.com/laptop/asus-vivobook-14-a1405va-i3-ly097w\n",
                    "output_type": "stream"
                },
                {
                    "name": "stdout",
                    "text": "13.990.000₫\n14.990.000₫\n-6%\n6\nVivoBook\n2\nAsus Vivobook X515EA i3 1115G4 (EJ3948W)\nhttps://www.thegioididong.com/laptop/asus-vivobook-x515ea-i3-ej3948w\n10.390.000₫\n11.990.000₫\n-13%\n15\n",
                    "output_type": "stream"
                },
                {
                    "name": "stdout",
                    "text": "ZenBook\n2\nAsus Zenbook 14 OLED UX3402ZA i5 1240P (KM220W)\nhttps://www.thegioididong.com/laptop/asus-zenbook-14-oled-ux3402za-i5-km218w\n20.990.000₫\n26.990.000₫\n-22%\n26\nZenBook\n2\nAsus Zenbook 14 Flip OLED UP3404VA i7 1360P (KN039W)\nhttps://www.thegioididong.com/laptop/asus-zenbook-14-flip-oled-up3404va-i7-kn039w\n31.690.000₫\n33.990.000₫\n",
                    "output_type": "stream"
                },
                {
                    "name": "stdout",
                    "text": "-6%\n7\nZenBook\n2\nAsus Zenbook S 13 OLED UX5304VA i7 1355U (NQ126W)\nhttps://www.thegioididong.com/laptop/asus-zenbook-s-13-oled-ux5304va-i7-nq126w\n46.490.000₫\n49.990.000₫\n-7%\nrating\nZenBook\n2\nAsus Zenbook S 13 OLED UX5304VA i7 1355U (NQ125W)\nhttps://www.thegioididong.com/laptop/asus-zenbook-s-13-oled-ux5304va-i7-nq125w\n37.990.000₫\n39.990.000₫\n",
                    "output_type": "stream"
                },
                {
                    "name": "stdout",
                    "text": "-5%\nrating\nZenBook\n2\nAsus Zenbook 14 OLED UX3402VA i7 1360P (KM068W)\nhttps://www.thegioididong.com/laptop/asus-zenbook-14-oled-ux3402va-i7-km068w\n31.990.000₫\nold price\npercent\nrating\nZenBook\n2\nAsus Zenbook 14 Flip OLED UP3404VA i5 1340P (KN038W)\nhttps://www.thegioididong.com/laptop/asus-zenbook-14-flip-oled-up3404va-i5-kn038w\n27.990.000₫\n29.990.000₫\n-6%\n3\nZenBook\n2\nAsus Zenbook 14 OLED UX3402ZA i7 1260P (KM221W)\n",
                    "output_type": "stream"
                },
                {
                    "name": "stdout",
                    "text": "https://www.thegioididong.com/laptop/asus-zenbook-14-oled-ux3402za-i7-km221w\n26.690.000₫\n31.990.000₫\n-16%\n16\nZenBook\n2\nAsus Zenbook 14 OLED UX3402VA i5 1340P (KM085W)\nhttps://www.thegioididong.com/laptop/asus-zenbook-14-oled-ux3402va-i5-km085w\n25.490.000₫\n27.990.000₫\n",
                    "output_type": "stream"
                },
                {
                    "name": "stdout",
                    "text": "-8%\n6\nZenBook\n2\nAsus ZenBook UX325EA i5 1135G7 (KG656W)\nhttps://www.thegioididong.com/laptop/asus-zenbook-ux325ea-i5-kg656w\n18.790.000₫\n22.490.000₫\n-16%\n32\n",
                    "output_type": "stream"
                },
                {
                    "name": "stdout",
                    "text": "TUF Gaming\n2\nAsus TUF Gaming F15 FX506LHB i5 10300H (HN188W)\nhttps://www.thegioididong.com/laptop/asus-tuf-gaming-fx506lhb-i5-hn188w\n19.990.000₫\n20.990.000₫\npercent\n145\nTUF Gaming\n2\nAsus Gaming TUF Dash F15 FX517ZE i5 12450H (HN045W)\nhttps://www.thegioididong.com/laptop/asus-tuf-gaming-fx517ze-i5-hn045w\n23.990.000₫\n24.990.000₫\npercent\n",
                    "output_type": "stream"
                },
                {
                    "name": "stdout",
                    "text": "24\nTUF Gaming\n2\nAsus Gaming TUF Dash F15 FX517ZC i5 12450H (HN077W)\nhttps://www.thegioididong.com/laptop/asus-tuf-gaming-fx517zc-i5-hn077w\n22.990.000₫\n23.990.000₫\npercent\n61\nTUF Gaming\n2\nAsus TUF Gaming F15 FX507VV4 i9 13900H (LP382W)\nhttps://www.thegioididong.com/laptop/asus-tuf-gaming-f15-fx507vv4-i9-lp382w\n41.990.000₫\n42.990.000₫\npercent\nrating\nTUF Gaming\n2\n",
                    "output_type": "stream"
                },
                {
                    "name": "stdout",
                    "text": "Asus TUF Gaming F15 FX507ZM i7 12700H (HN123W)\nhttps://www.thegioididong.com/laptop/asus-tuf-gaming-fx507z-i7-hn123w\n31.990.000₫\n32.990.000₫\npercent\n4\nTUF Gaming\n2\nAsus Gaming TUF Dash F15 FX517ZR i7 12650H (HN086W)\nhttps://www.thegioididong.com/laptop/asus-tuf-gaming-fx517z-i7-hn086w\n34.990.000₫\n35.990.000₫\npercent\nrating\nTUF Gaming\n2\n",
                    "output_type": "stream"
                },
                {
                    "name": "stdout",
                    "text": "Asus TUF Gaming F15 FX507ZU4 i7 12700H (LP520W)\nhttps://www.thegioididong.com/laptop/asus-tuf-gaming-f15-fx507zu4-i7-lp520w\n33.990.000₫\n34.990.000₫\npercent\n4\nTUF Gaming\n2\nAsus TUF Gaming F15 FX507ZC i7 12700H (HN124W)\nhttps://www.thegioididong.com/laptop/asus-tuf-gaming-fx507zc-i7-hn124w\n31.490.000₫\n32.490.000₫\npercent\n25\nTUF Gaming\n2\nAsus TUF Gaming F15 FX507ZE i7 12700H (HN093W)\n",
                    "output_type": "stream"
                },
                {
                    "name": "stdout",
                    "text": "https://www.thegioididong.com/laptop/asus-tuf-gaming-fx507z-i7-hn093w\n27.990.000₫\n28.990.000₫\npercent\n8\nTUF Gaming\n2\nAsus TUF Gaming F15 FX507ZC4 i5 12500H (HN095W)\nhttps://www.thegioididong.com/laptop/asus-tuf-gaming-f15-fx507zc4-i5-hn095w\n26.990.000₫\n27.990.000₫\npercent\n3\nTUF Gaming\n2\nAsus TUF Gaming F15 FX506HC i5 11400H (HN949W)\nhttps://www.thegioididong.com/laptop/asus-tuf-gaming-f15-fx506hc-i5-hn949w\n",
                    "output_type": "stream"
                },
                {
                    "name": "stdout",
                    "text": "22.990.000₫\n23.990.000₫\npercent\nrating\nTUF Gaming\n2\nAsus TUF Gaming F15 FX506HC i5 11400H (HN144W)\nhttps://www.thegioididong.com/laptop/asus-tuf-gaming-fx506hc-i5-hn144w\n21.990.000₫\n22.990.000₫\npercent\n52\nTUF Gaming\n2\nAsus TUF Gaming F15 FX506HF i5 11400H (HN014W)\nhttps://www.thegioididong.com/laptop/asus-tuf-gaming-f15-fx506hf-i5-hn014w\n19.990.000₫\n",
                    "output_type": "stream"
                },
                {
                    "name": "stdout",
                    "text": "20.990.000₫\npercent\nrating\n",
                    "output_type": "stream"
                },
                {
                    "name": "stdout",
                    "text": "ROG\n2\nAsus Gaming ROG Strix G15 G513IH R7 4800H (HN015W)\nhttps://www.thegioididong.com/laptop/asus-rog-strix-gaming-g513ih-r7-hn015w\n21.990.000₫\n22.990.000₫\npercent\n94\nROG\n2\nAsus Gaming ROG Strix SCAR 15 G533ZM i7 12700H (LN2210W)\nhttps://www.thegioididong.com/laptop/asus-rog-strix-scar-15-g533z-i7-ln2210w\n42.990.000₫\n43.990.000₫\npercent\nrating\nROG\n2\nAsus Gaming ROG Strix SCAR 18 G834JY i9 13980HX (N6039W)\n",
                    "output_type": "stream"
                },
                {
                    "name": "stdout",
                    "text": "https://www.thegioididong.com/laptop/asus-gaming-rog-strix-scar-18-g834jy-i9-n6039w\n124.000.000₫\n125.000.000₫\npercent\nrating\nROG\n2\nAsus Gaming ROG Strix SCAR 17 G733PZ R9 7945HX (LL980W)\nhttps://www.thegioididong.com/laptop/asus-gaming-rog-strix-scar-17-g733pz-r9-ll980w\n89.000.000₫\n90.000.000₫\npercent\nrating\nROG\n2\nAsus Gaming ROG Zephyrus M16 GU604VI i9 13900H (NM779W)\n",
                    "output_type": "stream"
                },
                {
                    "name": "stdout",
                    "text": "https://www.thegioididong.com/laptop/asus-gaming-rog-zephyrus-m16-gu604vi-i9-nm779w\n79.990.000₫\n80.990.000₫\npercent\nrating\nROG\n2\nAsus Gaming ROG Strix G17 G713RW R9 6900HX (LL178W)\nhttps://www.thegioididong.com/laptop/asus-gaming-rog-strix-g17-g713r-r9-ll178w\n56.990.000₫\n57.990.000₫\npercent\nrating\nROG\n2\nAsus Gaming ROG Strix G16 G614JI i7 13650HX (N4084W)\nhttps://www.thegioididong.com/laptop/asus-gaming-rog-strix-g16-g614ji-i7-n4084w\n59.990.000₫\n",
                    "output_type": "stream"
                },
                {
                    "name": "stdout",
                    "text": "60.990.000₫\npercent\nrating\nROG\n2\nAsus Gaming ROG Flow Z13 GZ301VU i9 13900H (MU301W)\nhttps://www.thegioididong.com/laptop/asus-gaming-rog-flow-z13-gz301vu-i9-mu301w\n56.990.000₫\n57.990.000₫\npercent\nrating\nROG\n2\nAsus Gaming ROG Strix G15 G513RM R7 6800H (HQ055W)\nhttps://www.thegioididong.com/laptop/asus-rog-strix-gaming-g513rm-r7-hq055w\n46.990.000₫\n47.990.000₫\npercent\nrating\nROG\n2\nAsus Gaming ROG Zephyrus G16 GU603VU i7 13620H (N3898W)\n",
                    "output_type": "stream"
                },
                {
                    "name": "stdout",
                    "text": "https://www.thegioididong.com/laptop/asus-gaming-rog-zephyrus-g16-gu603vu-i7-n3898w\n43.990.000₫\n44.990.000₫\npercent\nrating\nROG\n2\nAsus Gaming ROG Strix G16 G614JU i7 13650HX (N3777W)\nhttps://www.thegioididong.com/laptop/asus-gaming-rog-strix-g16-g614ju-i7-n3777w\n42.990.000₫\n43.990.000₫\npercent\nrating\nROG\n2\nAsus Gaming ROG Strix G16 G614JU i5 13450HX (N3135W)\nhttps://www.thegioididong.com/laptop/asus-gaming-rog-strix-g16-g614ju-i5-n3135w\n38.990.000₫\n",
                    "output_type": "stream"
                },
                {
                    "name": "stdout",
                    "text": "39.990.000₫\npercent\nrating\n",
                    "output_type": "stream"
                },
                {
                    "name": "stdout",
                    "text": "VivoBook Pro OLED\n2\nAsus Vivobook Pro 16 OLED K6602VV i9 13900H (MX077W)\nhttps://www.thegioididong.com/laptop/asus-vivobook-pro-16-oled-k6602vv-i9-mx077w\n45.990.000₫\n48.990.000₫\n-6%\nrating\nVivoBook Pro OLED\n2\nAsus Vivobook Pro 15 OLED K6502VU i9 13900H (MA090W)\nhttps://www.thegioididong.com/laptop/asus-vivobook-pro-15-oled-k6502vu-i9-ma090w\n38.990.000₫\n41.990.000₫\n",
                    "output_type": "stream"
                },
                {
                    "name": "stdout",
                    "text": "-7%\nrating\nVivoBook Pro OLED\n2\nAsus Vivobook Pro 15 OLED K6502VU i5 13500H (MA089W)\nhttps://www.thegioididong.com/laptop/asus-vivobook-pro-15-oled-k6502vu-i5-ma089w\n35.490.000₫\n37.990.000₫\n-6%\nrating\nVivoBook Pro OLED\n2\nAsus Vivobook Pro 15 OLED K6502Z i7 12650H (MA036W)\nhttps://www.thegioididong.com/laptop/asus-vivobook-pro-15-oled-k6502z-i7-ma036w\n28.990.000₫\n",
                    "output_type": "stream"
                },
                {
                    "name": "stdout",
                    "text": "33.990.000₫\n-14%\n10\nVivoBook Pro OLED\n2\nAsus Vivobook Pro 15 OLED K6502Z i5 12450H (MA025W)\nhttps://www.thegioididong.com/laptop/asus-vivobook-pro-15-k6502z-i5-ma025w\n24.490.000₫\n30.990.000₫\n-20%\n10\n",
                    "output_type": "stream"
                },
                {
                    "name": "stdout",
                    "text": "ExpertBook\n2\nAsus ExpertBook B5402CB i5 1240P (KI0353W)\nhttps://www.thegioididong.com/laptop/asus-expertbook-b5402cb-i5-ki0353w\n19.990.000₫\n26.990.000₫\n-25%\n11\n",
                    "output_type": "stream"
                },
                {
                    "name": "stdout",
                    "text": "Envy\n3\nHP Envy X360 13 bf0090TU i7 1250U (76B13PA)\nhttps://www.thegioididong.com/laptop/hp-envy-x360-13-bf0090tu-i7-76b13pa\n28.990.000₫\n32.990.000₫\n-12%\n12\nEnvy\n3\nHP Envy 16 h0205TX i9 12900H (7C0T2PA)\nhttps://www.thegioididong.com/laptop/hp-envy-16-h0205tx-i9-7c0t2pa\n58.990.000₫\n65.390.000₫\n",
                    "output_type": "stream"
                },
                {
                    "name": "stdout",
                    "text": "-9%\nrating\nEnvy\n3\nHP Envy X360 13 bf0112TU i5 1230U (7C0N9PA)\nhttps://www.thegioididong.com/laptop/hp-envy-x360-13-bf0112tu-i5-7c0n9pa\n29.590.000₫\nold price\npercent\nrating\nEnvy\n3\nHP Envy X360 13 bf0095TU i5 1230U (76B15PA)\nhttps://www.thegioididong.com/laptop/hp-envy-x360-13-bf0095tu-i5-76b15pa\n25.590.000₫\n29.590.000₫\n-13%\n13\n",
                    "output_type": "stream"
                },
                {
                    "name": "stdout",
                    "text": "Pavilion\n3\nHP Pavilion 15 eg2082TU i5 1240P (7C0Q5PA)\nhttps://www.thegioididong.com/laptop/hp-pavilion-15-eg2082tu-i5-7c0q5pa\n16.990.000₫\n19.790.000₫\n-14%\n33\nPavilion\n3\nHP Pavilion 14 dv2074TU i5 1235U (7C0P3PA)\nhttps://www.thegioididong.com/laptop/hp-pavilion-14-dv2074tu-i5-7c0p3pa\n16.890.000₫\n19.690.000₫\n",
                    "output_type": "stream"
                },
                {
                    "name": "stdout",
                    "text": "-14%\n23\nPavilion\n3\nHP Pavilion X360 14 ek0134TU i5 1235U (7C0P8PA)\nhttps://www.thegioididong.com/laptop/hp-pavilion-x360-14-ek0134tu-i5-7c0p8pa\n18.590.000₫\n21.890.000₫\n-15%\n27\nPavilion\n3\nHP Pavilion 15 eg2035TX i5 1235U (6K781PA)\nhttps://www.thegioididong.com/laptop/hp-pavilion-15-eg2035tx-i5-6k781pa\n18.090.000₫\n20.590.000₫\n",
                    "output_type": "stream"
                },
                {
                    "name": "stdout",
                    "text": "-12%\n34\nPavilion\n3\nHP Pavilion 15 eg2056TU i5 1240P (6K786PA)\nhttps://www.thegioididong.com/laptop/hp-pavilion-15-eg2056tu-i5-6k786pa\n15.490.000₫\n18.990.000₫\n-18%\n62\nPavilion\n3\nHP Pavilion 14 dv2033TU i5 1235U (6K769PA)\nhttps://www.thegioididong.com/laptop/hp-pavilion-14-dv2033tu-i5-6k769pa\n15.490.000₫\n18.990.000₫\n",
                    "output_type": "stream"
                },
                {
                    "name": "stdout",
                    "text": "-18%\n34\nPavilion\n3\nHP Pavilion 15 eg2059TU i5 1240P (6K789PA)\nhttps://www.thegioididong.com/laptop/hp-pavilion-15-eg2059tu-i5-6k789pa\n15.090.000₫\n17.990.000₫\n-16%\n23\nPavilion\n3\nHP Pavilion X360 14 ek0132TU i7 1255U (7C0W4PA)\nhttps://www.thegioididong.com/laptop/hp-pavilion-x360-14-ek0132tu-i7-7c0w4pa\n23.990.000₫\n26.990.000₫\n",
                    "output_type": "stream"
                },
                {
                    "name": "stdout",
                    "text": "-11%\n11\nPavilion\n3\nHP Pavilion 15 eg2088TU i7 1260P (7C0R0PA)\nhttps://www.thegioididong.com/laptop/hp-pavilion-15-eg2088tu-i7-7c0r0pa\n22.790.000₫\n25.290.000₫\n-9%\n12\nPavilion\n3\nHP Pavilion X360 14 ek1049TU i5 1335U (80R27PA)\nhttps://www.thegioididong.com/laptop/hp-pavilion-x360-14-ek1049tu-i5-80r27pa\n21.990.000₫\n24.290.000₫\n",
                    "output_type": "stream"
                },
                {
                    "name": "stdout",
                    "text": "-9%\n8\nPavilion\n3\nHP Pavilion 15 eg2034TX i7 1255U (6K780PA)\nhttps://www.thegioididong.com/laptop/hp-pavilion-15-eg2034tx-i7-6k780pa\n21.890.000₫\n24.590.000₫\n-10%\n9\nPavilion\n3\nHP Pavilion X360 14 ek1048TU i5 1335U (80R26PA)\nhttps://www.thegioididong.com/laptop/hp-pavilion-x360-14-ek1048tu-i5-80r26pa\n",
                    "output_type": "stream"
                },
                {
                    "name": "stdout",
                    "text": "20.590.000₫\n22.890.000₫\n-10%\n5\nPavilion\n3\nHP Pavilion 15 eg2081TU i5 1240P (7C0Q4PA)\nhttps://www.thegioididong.com/laptop/hp-pavilion-15-eg2081tu-i5-7c0q4pa\n18.590.000₫\n20.990.000₫\n-11%\nrating\nPavilion\n3\nHP Pavilion 15 eg2062TX i5 1235U (7C0W7PA)\n",
                    "output_type": "stream"
                },
                {
                    "name": "stdout",
                    "text": "https://www.thegioididong.com/laptop/hp-pavilion-15-eg2062tx-i5-7c0w7pa\n18.090.000₫\n20.590.000₫\n-12%\nrating\nPavilion\n3\nHP Pavilion 15 eg2036TX i5 1235U (6K782PA)\nhttps://www.thegioididong.com/laptop/hp-pavilion-15-eg2036tx-i5-6k782pa\n17.790.000₫\n20.590.000₫\n",
                    "output_type": "stream"
                },
                {
                    "name": "stdout",
                    "text": "-13%\n15\nPavilion\n3\nHP Pavilion 15 eg2085TU i5 1240P (7C0Q7PA)\nhttps://www.thegioididong.com/laptop/hp-pavilion-15-eg2085tu-i5-7c0q7pa\n16.290.000₫\n18.790.000₫\n-13%\n9\nPavilion\n3\nHP Pavilion X360 14 ek0059TU i3 1215U (6K7E1PA)\nhttps://www.thegioididong.com/laptop/hp-pavilion-x360-14-ek0059tu-i3-6k7e1pa\n",
                    "output_type": "stream"
                },
                {
                    "name": "stdout",
                    "text": "14.490.000₫\n16.590.000₫\n-12%\n11\nPavilion\n3\nHP Pavilion X360 14 ek0131TU i3 1215U (7C0P6PA)\nhttps://www.thegioididong.com/laptop/hp-pavilion-x360-14-ek0131tu-i3-7c0p6pa\n14.490.000₫\n16.590.000₫\n-12%\n3\nPavilion\n3\n",
                    "output_type": "stream"
                },
                {
                    "name": "stdout",
                    "text": "HP Pavilion 15 eg2086TU i3 1215U (7C0Q8PA)\nhttps://www.thegioididong.com/laptop/hp-pavilion-15-eg2086tu-i3-7c0q8pa\n12.790.000₫\n15.290.000₫\n-16%\n15\nPavilion\n3\nHP Pavilion 15 eg2062TU i3 1215U (6K790PA)\nhttps://www.thegioididong.com/laptop/hp-pavilion-15-eg2062tu-i3-6k790pa\n12.490.000₫\n",
                    "output_type": "stream"
                },
                {
                    "name": "stdout",
                    "text": "14.990.000₫\n-16%\n18\n",
                    "output_type": "stream"
                },
                {
                    "name": "stdout",
                    "text": "ProBook\n3\nHP Probook 450 G9 i5 1235U (6M0Y9PA)\nhttps://www.thegioididong.com/laptop/hp-probook-450-g9-i5-6m0y9pa\n18.990.000₫\n21.290.000₫\n-10%\n11\n",
                    "output_type": "stream"
                },
                {
                    "name": "stdout",
                    "text": "EliteBook\n3\nHP EliteBook 630 G9 i7 1255U (6M146PA)\nhttps://www.thegioididong.com/laptop/hp-elitebook-630-g9-i7-6m146pa\n24.190.000₫\n27.790.000₫\n-12%\n12\nEliteBook\n3\nHP Elitebook Dragonfly G3 i7 1255U (6Z980PA)\nhttps://www.thegioididong.com/laptop/hp-elitebook-dragonfly-g3-i7-6z980pa\n47.490.000₫\n52.590.000₫\n",
                    "output_type": "stream"
                },
                {
                    "name": "stdout",
                    "text": "-9%\nrating\nEliteBook\n3\nHP Elitebook X360 1040 G9 i7 1255U (6Z982PA)\nhttps://www.thegioididong.com/laptop/hp-elitebook-x360-1040-g9-i7-6z982pa\n45.090.000₫\n49.990.000₫\n-9%\nrating\nEliteBook\n3\nHP Elitebook 630 G9 i5 1235U (6M143PA)\n",
                    "output_type": "stream"
                },
                {
                    "name": "stdout",
                    "text": "https://www.thegioididong.com/laptop/hp-elitebook-630-g9-i5-6m143pa\n19.890.000₫\n22.190.000₫\n-10%\n21\n",
                    "output_type": "stream"
                },
                {
                    "name": "stdout",
                    "text": "Victus\n3\nHP VICTUS 15 fa0155TX i5 12450H (81P00PA)\nhttps://www.thegioididong.com/laptop/hp-victus-15-fa0155tx-i5-81p00pa\n20.990.000₫\n27.990.000₫\n-25%\n5\nVictus\n3\nHP Gaming VICTUS 15 fa0111TX i5 12500H (7C0R4PA)\nhttps://www.thegioididong.com/laptop/hp-victus-15-fa0111tx-i5-7c0r4pa\n22.290.000₫\n",
                    "output_type": "stream"
                },
                {
                    "name": "stdout",
                    "text": "28.290.000₫\n-21%\n7\nVictus\n3\nHP Gaming VICTUS 16 e1102AX R7 6800H (7C139PA)\nhttps://www.thegioididong.com/laptop/hp-victus-16-e1102ax-r7-7c139pa\n24.990.000₫\n30.990.000₫\n-19%\nrating\n",
                    "output_type": "stream"
                },
                {
                    "name": "stdout",
                    "text": "Omen\n3\nHP Omen 16 n0085AX R9 6900HX (7C144PA)\nhttps://www.thegioididong.com/laptop/hp-omen-16-n0085ax-r9-7c144pa\n56.690.000₫\n62.890.000₫\n-9%\nrating\nOmen\n3\nHP Omen 16 n0087AX R7 6800H (7C0T7PA)\nhttps://www.thegioididong.com/laptop/hp-omen-16-n0087ax-r7-7c0t7pa\n45.790.000₫\n50.890.000₫\n",
                    "output_type": "stream"
                },
                {
                    "name": "stdout",
                    "text": "-10%\nrating\n",
                    "output_type": "stream"
                },
                {
                    "name": "stdout",
                    "text": "Cơ bản (15s, 240, 245)\n3\nHP 240 G8 i3 1115G4 (6L1A1PA)\nhttps://www.thegioididong.com/laptop/hp-240-g8-i3-6l1a1pa\n9.790.000₫\n12.990.000₫\n-24%\n48\nCơ bản (15s, 240, 245)\n3\nHP 15s fq2716TU i3 1115G4 (7C0X3PA)\nhttps://www.thegioididong.com/laptop/hp-15s-fq2716tu-i3-7c0x3pa\n",
                    "output_type": "stream"
                },
                {
                    "name": "stdout",
                    "text": "10.490.000₫\n13.690.000₫\n-23%\n63\nCơ bản (15s, 240, 245)\n3\nHP 245 G9 R5 5625U (6L1N9PA)\nhttps://www.thegioididong.com/laptop/hp-245-g9-r5-6l1n9pa\n11.690.000₫\n13.990.000₫\n-16%\n13\nCơ bản (15s, 240, 245)\n3\nHP 240 G9 i5 1235U (6L1Y1PA)\n",
                    "output_type": "stream"
                },
                {
                    "name": "stdout",
                    "text": "https://www.thegioididong.com/laptop/hp-240-g9-i5-6l1y1pa\n14.990.000₫\n17.590.000₫\n-14%\n23\nCơ bản (15s, 240, 245)\n3\nHP 15s fq5078TU i5 1235U (6K798PA)\nhttps://www.thegioididong.com/laptop/hp-15s-fq5078tu-i5-6k798pa\n15.190.000₫\n18.190.000₫\n",
                    "output_type": "stream"
                },
                {
                    "name": "stdout",
                    "text": "-16%\n44\nCơ bản (15s, 240, 245)\n3\nHP 15s fq5147TU i7 1255U (7C133PA)\nhttps://www.thegioididong.com/laptop/hp-15s-fq5147tu-i7-7c133pa\n17.790.000₫\n20.890.000₫\n-14%\n17\nCơ bản (15s, 240, 245)\n3\nHP 15s fq5162TU i5 1235U (7C134PA)\nhttps://www.thegioididong.com/laptop/hp-15s-fq5162tu-i5-7c134pa\n",
                    "output_type": "stream"
                },
                {
                    "name": "stdout",
                    "text": "15.690.000₫\n18.890.000₫\n-16%\n20\nCơ bản (15s, 240, 245)\n3\nHP 240 G9 i5 1235U (6L1Y2PA)\nhttps://www.thegioididong.com/laptop/hp-240-g9-i5-6l1y2pa\n15.390.000₫\n18.590.000₫\n-17%\n35\nCơ bản (15s, 240, 245)\n3\n",
                    "output_type": "stream"
                },
                {
                    "name": "stdout",
                    "text": "HP 15s fq5077TU i7 1255U (6K797PA)\nhttps://www.thegioididong.com/laptop/hp-15s-fq5077tu-i7-6k797pa\n16.790.000₫\n20.290.000₫\n-17%\n39\n",
                    "output_type": "stream"
                },
                {
                    "name": "stdout",
                    "text": "IdeaPad\n4\nLenovo Ideapad 3 15IAU7 i3 1215U (82RK005LVN)\nhttps://www.thegioididong.com/laptop/lenovo-ideapad-3-15iau7-i3-82rk005lvn\n9.990.000₫\n13.890.000₫\n-28%\n56\nIdeaPad\n4\nLenovo IdeaPad 1 15AMN7 R5 7520U (82VG0061VN)\nhttps://www.thegioididong.com/laptop/lenovo-ideapad-1-15amn7-r5-82vg0061vn\n9.490.000₫\n12.690.000₫\n",
                    "output_type": "stream"
                },
                {
                    "name": "stdout",
                    "text": "-25%\n42\nIdeaPad\n4\nLenovo Ideapad 3 15ITL6 i5 1155G7 (82H803CVVN)\nhttps://www.thegioididong.com/laptop/lenovo-ideapad-3-15itl6-i5-82h803cvvn\n12.190.000₫\n14.490.000₫\n-15%\n23\nIdeaPad\n4\nLenovo IdeaPad Slim 5 Light 14ABR8 R5 7530U (82XS002KVN)\nhttps://www.thegioididong.com/laptop/lenovo-ideapad-slim-5-light-14abr8-r5-82xs002kvn\n15.990.000₫\n17.990.000₫\n",
                    "output_type": "stream"
                },
                {
                    "name": "stdout",
                    "text": "-11%\n10\nIdeaPad\n4\nLenovo Ideapad 3 15IAU7 i5 1235U (82RK001PVN)\nhttps://www.thegioididong.com/laptop/lenovo-ideapad-3-15iau7-i5-82rk001pvn\n13.990.000₫\n17.990.000₫\n-22%\n29\nIdeaPad\n4\nLenovo Ideapad 3 15IAU7 i3 1215U (82RK001MVN)\nhttps://www.thegioididong.com/laptop/lenovo-ideapad-3-15iau7-i3-82rk001mvn\n10.390.000₫\n",
                    "output_type": "stream"
                },
                {
                    "name": "stdout",
                    "text": "14.690.000₫\n-29%\n32\nIdeaPad\n4\nLenovo Ideapad 5 15IAL7 i5 1235U (82SF005HVN)\nhttps://www.thegioididong.com/laptop/lenovo-ideapad-5-15ial7-i5-82sf005hvn\n15.490.000₫\n19.490.000₫\n-20%\n16\nIdeaPad\n4\nLenovo Ideapad 3 14ABA7 R5 5625U (82RM003WVN)\n",
                    "output_type": "stream"
                },
                {
                    "name": "stdout",
                    "text": "https://www.thegioididong.com/laptop/lenovo-ideapad-3-14aba7-r5-82rm003wvn\n10.490.000₫\n14.890.000₫\n-29%\n9\nIdeaPad\n4\nLenovo Ideapad 5 14IAL7 i5 1235U (82SD0060VN)\nhttps://www.thegioididong.com/laptop/lenovo-ideapad-5-14ial7-i5-82sd0060vn\n15.490.000₫\n18.990.000₫\n-18%\n16\n",
                    "output_type": "stream"
                },
                {
                    "name": "stdout",
                    "text": "IdeaPad\n4\nLenovo Ideapad 5 Pro 14IAP7 i5 1240P (82SH000SVN)\nhttps://www.thegioididong.com/laptop/lenovo-ideapad-5-pro-14iap7-i5-82sh000svn\n18.990.000₫\n24.990.000₫\n-24%\n16\nIdeaPad\n4\nLenovo Ideapad 5 Pro 14IAP7 i7 1260P (82SH002SVN)\nhttps://www.thegioididong.com/laptop/lenovo-ideapad-5-pro-14iap7-i7-82sh002svn\n21.990.000₫\n",
                    "output_type": "stream"
                },
                {
                    "name": "stdout",
                    "text": "27.990.000₫\n-21%\n7\nIdeaPad\n4\nLenovo IdeaPad 3 15ITL6 i7 1165G7 (82H803CUVN)\nhttps://www.thegioididong.com/laptop/lenovo-ideapad-3-15itl6-i7-82h803cuvn\n14.490.000₫\n16.490.000₫\n-12%\n8\nIdeaPad\n4\nLenovo Ideapad 3 15ITL6 i5 1155G7 (82H803RRVN)\n",
                    "output_type": "stream"
                },
                {
                    "name": "stdout",
                    "text": "https://www.thegioididong.com/laptop/lenovo-ideapad-3-15itl6-i5-82h803rrvn\n12.490.000₫\n14.490.000₫\n-13%\nrating\nIdeaPad\n4\nLenovo Ideapad 3 15ITL6 i3 1115G4 (82H803SGVN)\nhttps://www.thegioididong.com/laptop/lenovo-ideapad-3-15itl6-i3-82h803sgvn\n8.990.000₫\n10.490.000₫\n",
                    "output_type": "stream"
                },
                {
                    "name": "stdout",
                    "text": "-14%\nrating\n",
                    "output_type": "stream"
                },
                {
                    "name": "stdout",
                    "text": "ThinkBook\n4\nLenovo ThinkBook 14 G3 ACL R5 5500U (21A200R0VN)\nhttps://www.thegioididong.com/laptop/lenovo-thinkbook-14-g3-acl-r5-21a200r0vn\n12.990.000₫\n18.190.000₫\n-28%\n30\nThinkBook\n4\nLenovo ThinkBook 14 G4 IAP i5 1240P (21DH00B5VN)\nhttps://www.thegioididong.com/laptop/lenovo-thinkbook-14-g4-iap-i5-21dh00b5vn\n18.690.000₫\n",
                    "output_type": "stream"
                },
                {
                    "name": "stdout",
                    "text": "23.690.000₫\n-21%\nrating\nThinkBook\n4\nLenovo ThinkBook 14 G3 ACL R3 5300U (21A200RWVN)\nhttps://www.thegioididong.com/laptop/lenovo-thinkbook-14-g3-acl-r3-21a200rwvn\n9.490.000₫\nold price\npercent\nrating\n",
                    "output_type": "stream"
                },
                {
                    "name": "stdout",
                    "text": "IdeaPad Gaming\n4\nLenovo Ideapad Gaming 3 15IAH7 i5 12500H (82S9007TVN)\nhttps://www.thegioididong.com/laptop/lenovo-ideapad-gaming-3-15iah7-i5-82s9007tvn\n17.990.000₫\n26.990.000₫\n-33%\n34\nIdeaPad Gaming\n4\nLenovo Ideapad Gaming 3 15IHU6 i5 11320H (82K101F3VN)\nhttps://www.thegioididong.com/laptop/lenovo-ideapad-gaming-3-15ihu6-i5-82k101f3vn\n14.990.000₫\n20.790.000₫\n",
                    "output_type": "stream"
                },
                {
                    "name": "stdout",
                    "text": "-27%\n26\nIdeaPad Gaming\n4\nLenovo Ideapad Gaming 3 15IAH7 i7 12700H (82S9007UVN)\nhttps://www.thegioididong.com/laptop/lenovo-ideapad-gaming-3-15iah7-i7-82s9007uvn\n21.990.000₫\n31.290.000₫\n-29%\n4\n",
                    "output_type": "stream"
                },
                {
                    "name": "stdout",
                    "text": "Gaming Legion\n4\nLenovo Legion 5 15IAH7 i5 12500H (82RC003WVN)\nhttps://www.thegioididong.com/laptop/lenovo-legion-5-15iah7-i5-82rc003wvn\n23.490.000₫\n35.490.000₫\n-33%\n9\n",
                    "output_type": "stream"
                },
                {
                    "name": "stdout",
                    "text": "Yoga\n4\nLenovo Yoga Duet 7 13ITL6 i7 1165G7 (82MA009PVN)\nhttps://www.thegioididong.com/laptop/lenovo-yoga-duet-7-13itl6-i7-82ma009pvn\n32.490.000₫\n36.490.000₫\n-10%\nrating\nYoga\n4\nLenovo Yoga Slim 7 Pro 14IAH7 i7 12700H (82UT006CVN)\nhttps://www.thegioididong.com/laptop/lenovo-yoga-slim-7-pro-14iah7-i7-82ut006cvn\n27.490.000₫\n",
                    "output_type": "stream"
                },
                {
                    "name": "stdout",
                    "text": "30.990.000₫\n-11%\n4\nYoga\n4\nLenovo Yoga 7 14IAL7 i5 1240P (82QE000RVN)\nhttps://www.thegioididong.com/laptop/lenovo-yoga-7-14ial7-i5-82qe000rvn\n21.690.000₫\n30.990.000₫\n-30%\n10\nYoga\n4\nLenovo Yoga Duet 7 13ITL6 i5 1135G7 (82MA009NVN)\n",
                    "output_type": "stream"
                },
                {
                    "name": "stdout",
                    "text": "https://www.thegioididong.com/laptop/lenovo-yoga-duet-7-13itl6-i5-82ma009nvn\n24.990.000₫\n28.490.000₫\n-12%\nrating\nYoga\n4\nLenovo Yoga Slim 7 Carbon 13ITL5 i7 1165G7 (82EV00AWVN)\nhttps://www.thegioididong.com/laptop/lenovo-yoga-slim-7-carbon-13itl5-i7-82ev00awvn\n24.490.000₫\n34.990.000₫\n",
                    "output_type": "stream"
                },
                {
                    "name": "stdout",
                    "text": "-30%\n8\nYoga\n4\nLenovo Yoga Slim 7 Carbon 13ITL5 i5 1135G7 (82EV00AVVN)\nhttps://www.thegioididong.com/laptop/lenovo-yoga-slim-7-carbon-13itl5-i5-82nh00avvn\n20.290.000₫\n28.990.000₫\n-30%\n6\n",
                    "output_type": "stream"
                },
                {
                    "name": "stdout",
                    "text": "ThinkPad\n4\nLenovo ThinkPad X1 Carbon Gen 10 i7 1260P (21CB00A8VN)\nhttps://www.thegioididong.com/laptop/lenovo-thinkpad-x1-carbon-gen-10-i7-21cb00a8vn\n44.490.000₫\n49.490.000₫\n-10%\nrating\nThinkPad\n4\nLenovo ThinkPad E15 Gen 4 i7 1260P (21E600CPVN)\nhttps://www.thegioididong.com/laptop/lenovo-thinkpad-e15-gen-4-i7-21e600cpvn\n25.190.000₫\n28.690.000₫\n-12%\n",
                    "output_type": "stream"
                },
                {
                    "name": "stdout",
                    "text": "4\n",
                    "output_type": "stream"
                },
                {
                    "name": "stdout",
                    "text": "V Series\n4\nLenovo V15 G3 IAP i5 1235U (82TT0064VN)\nhttps://www.thegioididong.com/laptop/lenovo-v15-g3-iap-i5-82tt0064vn\n13.890.000₫\n17.390.000₫\n-20%\n6\nV Series\n4\nLenovo V14 G3 IAP i5 1235U (82TS005RVN)\nhttps://www.thegioididong.com/laptop/lenovo-v14-g3-iap-i5-82ts005rvn\n13.190.000₫\n16.690.000₫\n",
                    "output_type": "stream"
                },
                {
                    "name": "stdout",
                    "text": "-20%\n6\n",
                    "output_type": "stream"
                },
                {
                    "name": "stdout",
                    "text": "Nitro\n5\nAcer Nitro 5 Gaming AN515 45 R6EV R5 5600H (NH.QBMSV.006)\nhttps://www.thegioididong.com/laptop/acer-nitro-5-gaming-an515-45-r6ev-r5-nhqbmsv006\n16.990.000₫\n22.490.000₫\n-24%\n129\nNitro\n5\nAcer Nitro 5 Gaming AN515 57 5669 i5 11400H (NH.QEHSV.001)\nhttps://www.thegioididong.com/laptop/acer-nitro-5-gaming-an515-57-5669-i5-nhqehsv001\n17.990.000₫\n23.790.000₫\n",
                    "output_type": "stream"
                },
                {
                    "name": "stdout",
                    "text": "-24%\n20\nNitro\n5\nAcer Nitro 5 Gaming AN515 57 553E i5 11400H (NH.QENSV.006)\nhttps://www.thegioididong.com/laptop/acer-nitro-5-gaming-an515-57-553e-i5-nhqensv006\n19.990.000₫\n24.990.000₫\n-20%\n78\nNitro\n5\nAcer Nitro 5 Tiger AN515 58 773Y i7 12700H (NH.QFKSV.001)\nhttps://www.thegioididong.com/laptop/acer-nitro-5-tiger-an515-58-773y-i7-nhqfksv001\n27.490.000₫\n",
                    "output_type": "stream"
                },
                {
                    "name": "stdout",
                    "text": "31.990.000₫\n-14%\n24\nNitro\n5\nAcer Nitro 5 Tiger AN515 58 52SP i5 12500H (NH.QFHSV.001)\nhttps://www.thegioididong.com/laptop/acer-nitro-5-tiger-an515-58-52sp-i5-nhqfhsv001\n22.990.000₫\n27.990.000₫\n-17%\n15\nNitro\n5\nAcer Nitro 5 Gaming AN515 57 720A i7 11800H (NH.QEQSV.004)\nhttps://www.thegioididong.com/laptop/acer-nitro-5-gaming-an515-57-720a-i7-nhqeqsv004\n",
                    "output_type": "stream"
                },
                {
                    "name": "stdout",
                    "text": "21.890.000₫\n28.990.000₫\n-24%\n32\nNitro\n5\nAcer Gaming Nitro 5 AN515 57 53F9 i5 11400H (NH.QENSV.008)\nhttps://www.thegioididong.com/laptop/acer-gaming-nitro-5-an515-57-53f9-i5-nhqensv008\n19.990.000₫\n24.990.000₫\n-20%\n",
                    "output_type": "stream"
                },
                {
                    "name": "stdout",
                    "text": "6\nNitro\n5\nAcer Gaming Nitro 17 Phoenix AN17 51 50B9 i5 13500H (NH.QK5SV.001)\nhttps://www.thegioididong.com/laptop/acer-nitro-17-phoenix-an17-51-50b9-i5-nhqk5sv001\n35.490.000₫\nold price\npercent\nrating\n",
                    "output_type": "stream"
                },
                {
                    "name": "stdout",
                    "text": "Aspire\n5\nAcer Aspire 3 A315 57 379K i3 1005G1 (NX.KAGSV.001)\nhttps://www.thegioididong.com/laptop/acer-aspire-3-a315-57-379k-i3-nxkagsv001\n7.990.000₫\n8.490.000₫\n-5%\n36\nAspire\n5\nAcer Aspire 3 A315 58 54XF i5 1135G7 (NX.AM0SV.007)\nhttps://www.thegioididong.com/laptop/acer-aspire-3-a315-58-54xf-i5-nxam0sv007\n12.490.000₫\n16.990.000₫\n",
                    "output_type": "stream"
                },
                {
                    "name": "stdout",
                    "text": "-26%\n27\nAspire\n5\nAcer Aspire 3 A315 58 589K i5 1135G7 (NX.AM0SV.008)\nhttps://www.thegioididong.com/laptop/acer-aspire-3-a315-58-589k-i5-nxam0sv008\n11.490.000₫\n13.990.000₫\n-17%\n13\nAspire\n5\nAcer Aspire 7 Gaming A715 42G R05G R5 5500U (NH.QAYSV.007)\nhttps://www.thegioididong.com/laptop/acer-aspire-7-gaming-a715-42g-r05g-r5-nhqaysv007\n14.990.000₫\n",
                    "output_type": "stream"
                },
                {
                    "name": "stdout",
                    "text": "20.490.000₫\n-26%\n55\nAspire\n5\nAcer Aspire 3 A315 59 314F i3 1215U (NX.K6TSV.002)\nhttps://www.thegioididong.com/laptop/acer-aspire-3-a315-59-314f-i3-nxk6tsv002\n9.990.000₫\n13.490.000₫\n-25%\n43\nAspire\n5\nAcer Aspire 7 Gaming A715 76G 5132 i5 12450H (NH.QMESV.002)\n",
                    "output_type": "stream"
                },
                {
                    "name": "stdout",
                    "text": "https://www.thegioididong.com/laptop/acer-aspire-7-gaming-a715-76g-5132-i5-nhqmesv002\n15.990.000₫\n18.990.000₫\n-15%\n7\nAspire\n5\nAcer Aspire 3 A314 35 C3KS N5100 (NX.A7SSV.009)\nhttps://www.thegioididong.com/laptop/acer-aspire-3-a314-35-c3ks-n5100-nxa7ssv009\n5.540.000₫\n6.990.000₫\n-20%\n5\nAspire\n5\nAcer Aspire 3 A314 35 P3G9 N6000 (NX.A7SSV.007)\n",
                    "output_type": "stream"
                },
                {
                    "name": "stdout",
                    "text": "https://www.thegioididong.com/laptop/acer-aspire-3-a314-35-p3g9-n6000-nxa7ssv007\n6.990.000₫\n7.990.000₫\n-12%\n19\nAspire\n5\nAcer Aspire 5 A514 54 511G i5 1135G7 (NX.A28SV.009)\nhttps://www.thegioididong.com/laptop/acer-aspire-a514-54-511g-i5-nxa28sv009\n14.190.000₫\n19.990.000₫\n",
                    "output_type": "stream"
                },
                {
                    "name": "stdout",
                    "text": "-29%\n57\nAspire\n5\nAcer Aspire 3 A315 58 382Z i3 1115G4 (NX.ADDSV.00K)\nhttps://www.thegioididong.com/laptop/acer-aspire-3-a315-58-382z-i3-nxaddsv00k\n9.990.000₫\n12.990.000₫\n-23%\n17\nAspire\n5\nAcer Aspire 5 A515 58P 34RJ i3 1315U (NX.KHJSV.003)\nhttps://www.thegioididong.com/laptop/acer-aspire-5-a515-58p-34rj-i3-nxkhjsv003\n",
                    "output_type": "stream"
                },
                {
                    "name": "stdout",
                    "text": "11.990.000₫\n13.090.000₫\n-8%\nrating\nAspire\n5\nAcer Aspire 7 Gaming A715 43G R8GA R5 5625U (NH.QHDSV.002)\nhttps://www.thegioididong.com/laptop/acer-aspire-7-gaming-a715-43g-r8ga-r5-nhqhdsv002\n17.490.000₫\n21.990.000₫\n-20%\n13\nAspire\n5\nAcer Aspire 3 A315 58 787C i7 1165G7 (NX.ADDSV.00J)\n",
                    "output_type": "stream"
                },
                {
                    "name": "stdout",
                    "text": "https://www.thegioididong.com/laptop/acer-aspire-3-a315-58-787c-i7-nxaddsv00j\n16.490.000₫\n19.990.000₫\n-17%\n15\nAspire\n5\nAcer Aspire 7 Gaming A715 75G 58U4 i5 10300H (NH.Q97SV.004)\nhttps://www.thegioididong.com/laptop/acer-aspire-7-gaming-a715-75g-58u4-i5-nhq97sv004\n15.390.000₫\n",
                    "output_type": "stream"
                },
                {
                    "name": "stdout",
                    "text": "21.990.000₫\n-30%\n36\nAspire\n5\nAcer Aspire 3 A315 59 5283 i5 1235U (NX.K6TSV.00B)\nhttps://www.thegioididong.com/laptop/acer-aspire-3-a315-59-5283-i5-nxk6tsv00b\n14.490.000₫\n15.990.000₫\n-9%\n4\nAspire\n5\nAcer Aspire 5 A514 54 5127 i5 1135G7 (NX.A28SV.007)\n",
                    "output_type": "stream"
                },
                {
                    "name": "stdout",
                    "text": "https://www.thegioididong.com/laptop/acer-aspire-a514-54-5127-i5-nxa28sv007\n14.190.000₫\n15.490.000₫\n-8%\n23\nAspire\n5\nAcer Aspire 3 A315 59 38PG i3 1215U (NX.K6TSV.00A)\nhttps://www.thegioididong.com/laptop/acer-aspire-3-a315-59-38pg-i3-nxk6tsv00a\n10.690.000₫\n13.990.000₫\n-23%\n",
                    "output_type": "stream"
                },
                {
                    "name": "stdout",
                    "text": "7\nAspire\n5\nAcer Aspire 3 A314 35 P6NC N6000 (NX.A7SSV.006)\nhttps://www.thegioididong.com/laptop/acer-aspire-3-a314-35-p6nc-nxa7ssv006\n10.290.000₫\nold price\npercent\n13\nAspire\n5\nAcer Aspire 3 A315 58 358E i3 1115G4 (NX.ADDSV.00F)\nhttps://www.thegioididong.com/laptop/acer-aspire-3-a315-58-358e-i3-nxaddsv00f\n10.290.000₫\n13.990.000₫\n-26%\n",
                    "output_type": "stream"
                },
                {
                    "name": "stdout",
                    "text": "17\n",
                    "output_type": "stream"
                },
                {
                    "name": "stdout",
                    "text": "Swift\n5\nAcer Swift 3 SF314 512 56QN i5 1240P (NX.K0FSV.002)\nhttps://www.thegioididong.com/laptop/acer-swift-3-sf314-512-56qn-i5-nxk0fsv002\n18.490.000₫\n23.990.000₫\n-22%\n11\nSwift\n5\nAcer Swift 3 SF314 511 55QE i5 1135G7 (NX.ABNSV.003)\nhttps://www.thegioididong.com/laptop/acer-swift-3-sf314-511-55qe-i5-nxabnsv003\n17.690.000₫\n22.990.000₫\n-23%\n",
                    "output_type": "stream"
                },
                {
                    "name": "stdout",
                    "text": "13\n",
                    "output_type": "stream"
                },
                {
                    "name": "stdout",
                    "text": "TravelMate\n5\nAcer TravelMate B3 TMB311 31 C2HB N4020 (NX.VNFSV.006)\nhttps://www.thegioididong.com/laptop/acer-travelmate-b3-tmb311-31-c2hb-nxvnfsv006\n5.990.000₫\n9.990.000₫\n-40%\n88\n",
                    "output_type": "stream"
                },
                {
                    "name": "stdout",
                    "text": "Predator\n5\nAcer Gaming Predator Helios Neo 16 PHN16 71 74BA i7 13700HX (NH.QLUSV.004)\nhttps://www.thegioididong.com/laptop/acer-predator-helios-neo-phn16-71-74ba-i7-nhqlusv004\n42.990.000₫\nold price\npercent\nrating\nPredator\n5\nAcer Gaming Predator Helios Neo 16 PHN16 71 7460 i7 13700HX (NH.QLTSV.004)\nhttps://www.thegioididong.com/laptop/acer-predator-helios-neo-phn16-71-7460-i7-nhqltsv004\n38.990.000₫\nold price\npercent\nrating\nPredator\n5\nAcer Gaming Predator Helios Neo 16 PHN16 71 54CD i5 13500HX (NH.QLTSV.001)\nhttps://www.thegioididong.com/laptop/acer-predator-helios-neo-phn16-71-54cd-i5-nhqltsv001\n35.990.000₫\n",
                    "output_type": "stream"
                },
                {
                    "name": "stdout",
                    "text": "old price\npercent\nrating\nPredator\n5\nAcer Predator Helios PH16 71 94N1 i9 13900HX (NH.QJSSV.002)\nhttps://www.thegioididong.com/laptop/acer-predator-helios-ph16-71-94n1-i9-nhqjssv002\n117.790.000₫\nold price\npercent\nrating\nPredator\n5\nAcer Predator Helios PH18 71 94SJ i9 13900HX (NH.QKRSV.002)\nhttps://www.thegioididong.com/laptop/acer-predator-helios-ph18-71-94sj-i9-nhqkrsv002\n119.990.000₫\nold price\npercent\nrating\n",
                    "output_type": "stream"
                },
                {
                    "name": "stdout",
                    "text": "Inspiron\n6\nDell Inspiron 15 3520 i5 1235U (N5I5122W1)\nhttps://www.thegioididong.com/laptop/dell-inspiron-15-3520-i5-n5i5122w1\n16.190.000₫\n18.590.000₫\n-12%\n27\nInspiron\n6\nDell Inspiron 16 5620 i7 1255U (N6I7110W1)\nhttps://www.thegioididong.com/laptop/dell-inspiron-16-5620-i7-n6i7110w1\n22.490.000₫\n25.190.000₫\n",
                    "output_type": "stream"
                },
                {
                    "name": "stdout",
                    "text": "-10%\n22\nInspiron\n6\nDell Inspiron 15 3520 i3 1215U (i3U082W11BLU)\nhttps://www.thegioididong.com/laptop/dell-inspiron-15-3520-i3-i3u082w11blu\n12.290.000₫\n13.690.000₫\n-10%\n14\nInspiron\n6\nDell Inspiron 5620 i5 1235U (71003903)\nhttps://www.thegioididong.com/laptop/dell-inspiron-5620-i5-71003903\n18.490.000₫\n",
                    "output_type": "stream"
                },
                {
                    "name": "stdout",
                    "text": "20.290.000₫\n-8%\n9\nInspiron\n6\nDell Inspiron 16 5620 i5 1235U (P1WKN)\nhttps://www.thegioididong.com/laptop/dell-inspiron-16-5620-i5-p1wkn\n17.690.000₫\n19.790.000₫\n-10%\n7\nInspiron\n6\nDell Inspiron 14 7430 2-in-1 i7 1355U (i7U165W11SLU)\n",
                    "output_type": "stream"
                },
                {
                    "name": "stdout",
                    "text": "https://www.thegioididong.com/laptop/dell-inspiron-14-7430-2-in-1-i7-i7u165w11slu\n29.490.000₫\nold price\npercent\nrating\nInspiron\n6\nDell Inspiron 5430 i5 1340P (i5P165W11SLD2)\nhttps://www.thegioididong.com/laptop/dell-inspiron-5430-i5-i5p165w11sld2\n25.990.000₫\n27.490.000₫\n-5%\nrating\nInspiron\n6\nDell Inspiron 16 5620 i7 1255U (N6I7009W1)\nhttps://www.thegioididong.com/laptop/dell-inspiron-16-5620-i7-n6i7009w1\n",
                    "output_type": "stream"
                },
                {
                    "name": "stdout",
                    "text": "24.990.000₫\n26.590.000₫\n-6%\nrating\nInspiron\n6\nDell Inspiron 15 3520 i5 1235U (i5U085W11BLU)\nhttps://www.thegioididong.com/laptop/dell-inspiron-15-3520-i5u085w11blu\n16.090.000₫\n18.990.000₫\n-15%\n9\nInspiron\n6\nDell Inspiron 15 3520 i3 1215U (71003264)\n",
                    "output_type": "stream"
                },
                {
                    "name": "stdout",
                    "text": "https://www.thegioididong.com/laptop/dell-inspiron-3520-i3-71003264\n12.990.000₫\n14.490.000₫\n-10%\n7\n",
                    "output_type": "stream"
                },
                {
                    "name": "stdout",
                    "text": "Vostro\n6\nDell Vostro 3510 i5 1135G7 (P112F002BBL)\nhttps://www.thegioididong.com/laptop/dell-vostro-3510-i5-p112f002bbl\n16.790.000₫\n22.990.000₫\n-26%\n71\nVostro\n6\nDell Vostro 3520 i3 1215U (V5I3614W1)\nhttps://www.thegioididong.com/laptop/dell-vostro-3520-i3-v5i3614w1\n12.490.000₫\n13.990.000₫\n",
                    "output_type": "stream"
                },
                {
                    "name": "stdout",
                    "text": "-10%\n14\nVostro\n6\nDell Vostro 5620 i5 1240P (V6I5001W1)\nhttps://www.thegioididong.com/laptop/dell-vostro-5620-i5-v6i5001w1\n17.990.000₫\n20.190.000₫\n-10%\n20\nVostro\n6\nDell Vostro 15 3520 i5 1235U (5M2TT2)\nhttps://www.thegioididong.com/laptop/dell-vostro-15-3520-i5-5m2tt2\n16.790.000₫\n",
                    "output_type": "stream"
                },
                {
                    "name": "stdout",
                    "text": "19.490.000₫\n-13%\n11\nVostro\n6\nDell Vostro 5620 i5 1240P (70282719)\nhttps://www.thegioididong.com/laptop/dell-vostro-5620-i5-70282719\n22.990.000₫\n24.990.000₫\n-8%\n10\nVostro\n6\nDell Vostro 5620 i5 1240P (70296963)\n",
                    "output_type": "stream"
                },
                {
                    "name": "stdout",
                    "text": "https://www.thegioididong.com/laptop/dell-vostro-5620-i5-70296963\n21.990.000₫\n25.490.000₫\n-13%\n9\nVostro\n6\nDell Vostro 5630 i5 1340P (i5P085W11GRU)\nhttps://www.thegioididong.com/laptop/dell-vostro-5630-i5-i5p085w11gru\n21.990.000₫\n23.190.000₫\n-5%\nrating\nVostro\n6\nDell Vostro 3400 i7 1165G7 (V4I7015W1)\n",
                    "output_type": "stream"
                },
                {
                    "name": "stdout",
                    "text": "https://www.thegioididong.com/laptop/dell-vostro-3400-i7-v4i7015w1\n21.590.000₫\n25.190.000₫\n-14%\n25\n",
                    "output_type": "stream"
                },
                {
                    "name": "stdout",
                    "text": "XPS\n6\nDell XPS 17 9710 i7 11800H (XPS7I7001W1)\nhttps://www.thegioididong.com/laptop/dell-xps-17-9710-i7-xps7i7001w1\n49.990.000₫\n71.490.000₫\n-30%\nrating\n",
                    "output_type": "stream"
                },
                {
                    "name": "stdout",
                    "text": "Alienware\n6\nDell Gaming Alienware m15 R6 i7 11800H (P109F001DBL)\nhttps://www.thegioididong.com/laptop/dell-gaming-alienware-m15-r6-i7-p109f001dbl\n47.490.000₫\n61.990.000₫\n-23%\nrating\n",
                    "output_type": "stream"
                },
                {
                    "name": "stdout",
                    "text": "Gaming G-series\n6\nDell Gaming G15 5511 i5 11400H (70266676)\nhttps://www.thegioididong.com/laptop/dell-gaming-g15-5511-i5-70266676\n21.990.000₫\n27.490.000₫\n-20%\n27\nGaming G-series\n6\nDell Gaming G15 5530 i7 13650HX (i7H165W11GR4060)\nhttps://www.thegioididong.com/laptop/dell-gaming-g15-5530-i7-i7h165w11gr4060\n41.990.000₫\n42.990.000₫\n",
                    "output_type": "stream"
                },
                {
                    "name": "stdout",
                    "text": "percent\nrating\nGaming G-series\n6\nDell Gaming G15 5530 i7 13650HX (i7H165W11GR4050)\nhttps://www.thegioididong.com/laptop/dell-gaming-g15-5530-i7-i7h165w11gr4050\n39.990.000₫\n41.190.000₫\npercent\nrating\n",
                    "output_type": "stream"
                },
                {
                    "name": "stdout",
                    "text": "Modern\n7\nMSI Modern 14 C11M i3 1115G4 (011VN)\nhttps://www.thegioididong.com/laptop/msi-modern-14-c11m-i3-011vn\n10.990.000₫\n11.990.000₫\n-8%\n16\nModern\n7\nMSI Modern 14 B11MOU i3 1115G4 (1027VN)\nhttps://www.thegioididong.com/laptop/msi-modern-14-b11mou-i3-1027vn\n9.490.000₫\n13.790.000₫\n",
                    "output_type": "stream"
                },
                {
                    "name": "stdout",
                    "text": "-31%\n83\nModern\n7\nMSI Modern 15 A5M R7 5700U (237VN)\nhttps://www.thegioididong.com/laptop/msi-modern-15-a5m-r7-237vn\n12.490.000₫\n14.990.000₫\n-16%\n37\nModern\n7\nMSI Modern 15 B7M R5 7530U (231VN)\nhttps://www.thegioididong.com/laptop/msi-modern-15-b7m-r5-231vn\n",
                    "output_type": "stream"
                },
                {
                    "name": "stdout",
                    "text": "13.990.000₫\n14.990.000₫\n-6%\n4\nModern\n7\nMSI Modern 14 C7M R5 7530U (083VN)\nhttps://www.thegioididong.com/laptop/msi-modern-14-c7m-r5-083vn\n13.490.000₫\n13.990.000₫\npercent\n4\nModern\n7\n",
                    "output_type": "stream"
                },
                {
                    "name": "stdout",
                    "text": "MSI Modern 14 C13M i7 1355U (607VN)\nhttps://www.thegioididong.com/laptop/msi-modern-14-c13m-i7-607vn\n19.790.000₫\n21.490.000₫\n-7%\nrating\nModern\n7\nMSI Modern 15 B13M i5 1335U (438VN)\nhttps://www.thegioididong.com/laptop/msi-modern-15-b13m-i5-438vn\n16.790.000₫\n18.490.000₫\n",
                    "output_type": "stream"
                },
                {
                    "name": "stdout",
                    "text": "-9%\nrating\n",
                    "output_type": "stream"
                },
                {
                    "name": "stdout",
                    "text": "Cyborg/Thin GF\n7\nMSI Gaming GF63 Thin 11SC i5 11400H (664VN)\nhttps://www.thegioididong.com/laptop/msi-gaming-gf63-thin-11sc-i5-664vn\n15.490.000₫\n16.490.000₫\n-6%\n28\nCyborg/Thin GF\n7\nMSI Gaming GF63 Thin 11UC i5 11400H (1230VN)\nhttps://www.thegioididong.com/laptop/msi-gaming-gf63-thin-11uc-i5-1230vn\n17.990.000₫\n19.490.000₫\n",
                    "output_type": "stream"
                },
                {
                    "name": "stdout",
                    "text": "-7%\n14\nCyborg/Thin GF\n7\nMSI Gaming GF63 Thin 11UC i7 11800H (1228VN)\nhttps://www.thegioididong.com/laptop/msi-gaming-gf63-thin-11uc-i7-1228vn\n19.990.000₫\n20.990.000₫\npercent\n16\nCyborg/Thin GF\n7\nMSI Gaming Cyborg 15 A12UCX i5 12450H (281VN)\nhttps://www.thegioididong.com/laptop/msi-gaming-cyborg-15-a12ucx-i5-281vn\n19.290.000₫\n",
                    "output_type": "stream"
                },
                {
                    "name": "stdout",
                    "text": "19.990.000₫\npercent\n4\nCyborg/Thin GF\n7\nMSI Gaming GF63 Thin 12VE i5 12450H (460VN)\nhttps://www.thegioididong.com/laptop/msi-gaming-gf63-thin-12ve-i5-460vn\n21.490.000₫\n22.490.000₫\npercent\nrating\nCyborg/Thin GF\n7\nMSI Gaming Cyborg 15 A12VF i7 12650H (267VN)\nhttps://www.thegioididong.com/laptop/msi-gaming-cyborg-15-a12vf-i7-267vn\n29.490.000₫\n",
                    "output_type": "stream"
                },
                {
                    "name": "stdout",
                    "text": "30.490.000₫\npercent\nrating\nCyborg/Thin GF\n7\nMSI Gaming Cyborg 15 A12VE i7 12650H (240VN)\nhttps://www.thegioididong.com/laptop/msi-cyborg-15-a12ve-i7-240vn\n26.990.000₫\n27.490.000₫\npercent\nrating\n",
                    "output_type": "stream"
                },
                {
                    "name": "stdout",
                    "text": "Katana GF Series\n7\nMSI Gaming Katana 15 B13VEK i7 13620H (252VN)\nhttps://www.thegioididong.com/laptop/msi-gaming-katana-15-b13vek-i7-252vn\n30.990.000₫\n32.990.000₫\n-6%\nrating\n",
                    "output_type": "stream"
                },
                {
                    "name": "stdout",
                    "text": "GS Stealth\n7\nMSI Gaming GS66 Stealth 11UG i7 11800H (219VN)\nhttps://www.thegioididong.com/laptop/msi-gaming-gs66-stealth-11ug-i7-219vn\n50.990.000₫\n64.990.000₫\n-21%\nrating\n",
                    "output_type": "stream"
                },
                {
                    "name": "stdout",
                    "text": "Summit\n7\nMSI Summit E14 Flip Evo A12MT i7 1280P (210VN)\nhttps://www.thegioididong.com/laptop/msi-summit-e14-flip-evo-a12mt-i7-210vn\n28.990.000₫\n30.990.000₫\n-6%\nrating\nSummit\n7\nMSI Summit E14 Evo A12M i7 1280P (211VN)\nhttps://www.thegioididong.com/laptop/msi-summit-e14-evo-a12m-i7-211vn\n",
                    "output_type": "stream"
                },
                {
                    "name": "stdout",
                    "text": "23.990.000₫\n25.990.000₫\n-7%\nrating\n",
                    "output_type": "stream"
                },
                {
                    "name": "stdout",
                    "text": "series\n8\nGigabyte Gaming G5 i5 12500H (GE-51VN263SH)\nhttps://www.thegioididong.com/laptop/gigabyte-gaming-g5-i5-ge-51vn263sh\n19.990.000₫\nold price\npercent\nrating\nseries\n8\nGigabyte Gaming G5 i5 12500H (GE-51VN213SH)\nhttps://www.thegioididong.com/laptop/gigabyte-gaming-g5-i5-ge-51vn213sh\n20.990.000₫\nold price\npercent\nrating\n",
                    "output_type": "stream"
                },
                {
                    "name": "stdout",
                    "text": "series\n9\nSurface Pro 9 i7 1255U\nhttps://www.thegioididong.com/laptop/surface-pro-9-i7\n44.990.000₫\nold price\npercent\nrating\nseries\n9\nSurface Pro 9 i5 1235U\nhttps://www.thegioididong.com/laptop/surface-pro-9-i5\n29.990.000₫\nold price\npercent\nrating\n",
                    "output_type": "stream"
                },
                {
                    "name": "stdout",
                    "text": "series\n10\nitel SPIRIT 1 i3 8109U (71006300035)\nhttps://www.thegioididong.com/laptop/itel-spirit-1-i3-71006300035\n4.990.000₫\n5.590.000₫\n-10%\n56\nseries\n10\nItel Spirit 2 i5 1155G7 (71006300202)\nhttps://www.thegioididong.com/laptop/itel-spirit-2-i5-71006300202\n",
                    "output_type": "stream"
                },
                {
                    "name": "stdout",
                    "text": "12.990.000₫\n13.490.000₫\npercent\nrating\nseries\n10\nItel Spirit 2 i3 1115G4 (71006300240)\nhttps://www.thegioididong.com/laptop/itel-spirit-2-i3-71006300240\n10.290.000₫\n10.790.000₫\npercent\nrating\nseries\n10\nitel ABLE 1S N4020 (71006300027)\nhttps://www.thegioididong.com/laptop/itel-able-1s-n4020-71006300027\n",
                    "output_type": "stream"
                },
                {
                    "name": "stdout",
                    "text": "5.490.000₫\n8.990.000₫\n-38%\n40\n",
                    "output_type": "stream"
                },
                {
                    "name": "stdout",
                    "text": "series\n11\nMasstel E140 N4120\nhttps://www.thegioididong.com/laptop/masstel-e140-n4120\n5.490.000₫\nold price\npercent\n6\nseries\n11\nMasstel E116 N4020\nhttps://www.thegioididong.com/laptop/masstel-e116-n4020\n3.990.000₫\nold price\npercent\n21\n",
                    "output_type": "stream"
                },
                {
                    "name": "stdout",
                    "text": "Gram\n12\nLG gram 2023 i7 1360P (17Z90R-G.AH78A5)\nhttps://www.thegioididong.com/laptop/lg-gram-2023-i7-17z90rgah78a5\n50.990.000₫\nold price\npercent\nrating\nGram\n12\nLG gram 2023 i7 1360P (16Z90R-G.AH76A5)\nhttps://www.thegioididong.com/laptop/lg-gram-2023-i7-16z90rgah76a5\n46.990.000₫\nold price\npercent\nrating\nGram\n12\nLG gram 2023 i7 1360P (14Z90R-G.AH75A5)\nhttps://www.thegioididong.com/laptop/lg-gram-2023-i7-14z90rgah75a5\n38.990.000₫\nold price\npercent\nrating\nGram\n12\n",
                    "output_type": "stream"
                },
                {
                    "name": "stdout",
                    "text": "LG gram Style 2023 i5 1340P (14Z90RS-G.AH54A5)\nhttps://www.thegioididong.com/laptop/lg-gram-style-2023-i5-14z90rsgah54a5\n38.990.000₫\nold price\npercent\nrating\nGram\n12\nLG gram 2023 i5 1340P (14Z90R-G.AH53A5)\nhttps://www.thegioididong.com/laptop/lg-gram-2023-i5-14z90rgah53a5\n32.490.000₫\nold price\npercent\nrating\n",
                    "output_type": "stream"
                }
            ],
            "execution_count": 13
        },
        {
            "cell_type": "code",
            "source": [
                "# check data\n",
                "print(len(names))\n",
                "print(len(links))\n",
                "print(len(current_prices))\n",
                "print(len(old_prices))\n",
                "print(len(percent_discounts))\n",
                "print(len(ratings))\n",
                "print(len(brands))\n",
                "print(len(series))"
            ],
            "metadata": {
                "azdata_cell_guid": "90473bc3-4edf-4d4d-83f4-6e08e468cbc0",
                "language": "python"
            },
            "outputs": [
                {
                    "name": "stdout",
                    "text": "238\n238\n238\n238\n238\n238\n238\n238\n",
                    "output_type": "stream"
                }
            ],
            "execution_count": 17
        },
        {
            "cell_type": "code",
            "source": [
                "product_data = build_to_product_data('Laptop')\n",
                "product_data"
            ],
            "metadata": {
                "language": "python",
                "azdata_cell_guid": "02654dd0-6448-46d5-b4ee-50a682f1ebd5"
            },
            "outputs": [
                {
                    "data": {
                        "text/plain": "                                       product_name current_price price   \n0            MacBook Air 13 inch M1 2020 7-core GPU   18.390.000₫        \\\n1            MacBook Air 13 inch M2 2022 8-core GPU   27.590.000₫         \n2           MacBook Air 13 inch M2 2022 10-core GPU   39.490.000₫         \n3           MacBook Air 15 inch M2 2023 10-core GPU   37.990.000₫         \n4           MacBook Air 15 inch M2 2023 10-core GPU   37.990.000₫         \n..                                              ...           ...   ...   \n233         LG gram 2023 i7 1360P (17Z90R-G.AH78A5)   50.990.000₫         \n234         LG gram 2023 i7 1360P (16Z90R-G.AH76A5)   46.990.000₫         \n235         LG gram 2023 i7 1360P (14Z90R-G.AH75A5)   38.990.000₫         \n236  LG gram Style 2023 i5 1340P (14Z90RS-G.AH54A5)   38.990.000₫         \n237         LG gram 2023 i5 1340P (14Z90R-G.AH53A5)   32.490.000₫         \n\n    percent_discount rating   \n0                       156  \\\n1                        54   \n2                        10   \n3                             \n4                             \n..               ...    ...   \n233                           \n234                           \n235                           \n236                           \n237                           \n\n                                                  link brand_id       series   \n0    https://www.thegioididong.com/laptop/apple-mac...       01  MacBook Air  \\\n1    https://www.thegioididong.com/laptop/apple-mac...       01  MacBook Air   \n2    https://www.thegioididong.com/laptop/apple-mac...       01  MacBook Air   \n3    https://www.thegioididong.com/laptop/apple-mac...       01  MacBook Air   \n4    https://www.thegioididong.com/laptop/apple-mac...       01  MacBook Air   \n..                                                 ...      ...          ...   \n233  https://www.thegioididong.com/laptop/lg-gram-2...       12         Gram   \n234  https://www.thegioididong.com/laptop/lg-gram-2...       12         Gram   \n235  https://www.thegioididong.com/laptop/lg-gram-2...       12         Gram   \n236  https://www.thegioididong.com/laptop/lg-gram-s...       12         Gram   \n237  https://www.thegioididong.com/laptop/lg-gram-2...       12         Gram   \n\n    genre_name  \n0       Laptop  \n1       Laptop  \n2       Laptop  \n3       Laptop  \n4       Laptop  \n..         ...  \n233     Laptop  \n234     Laptop  \n235     Laptop  \n236     Laptop  \n237     Laptop  \n\n[238 rows x 9 columns]",
                        "text/html": "<div>\n<style scoped>\n    .dataframe tbody tr th:only-of-type {\n        vertical-align: middle;\n    }\n\n    .dataframe tbody tr th {\n        vertical-align: top;\n    }\n\n    .dataframe thead th {\n        text-align: right;\n    }\n</style>\n<table border=\"1\" class=\"dataframe\">\n  <thead>\n    <tr style=\"text-align: right;\">\n      <th></th>\n      <th>product_name</th>\n      <th>current_price</th>\n      <th>price</th>\n      <th>percent_discount</th>\n      <th>rating</th>\n      <th>link</th>\n      <th>brand_id</th>\n      <th>series</th>\n      <th>genre_name</th>\n    </tr>\n  </thead>\n  <tbody>\n    <tr>\n      <th>0</th>\n      <td>MacBook Air 13 inch M1 2020 7-core GPU</td>\n      <td>18.390.000₫</td>\n      <td></td>\n      <td></td>\n      <td>156</td>\n      <td>https://www.thegioididong.com/laptop/apple-mac...</td>\n      <td>01</td>\n      <td>MacBook Air</td>\n      <td>Laptop</td>\n    </tr>\n    <tr>\n      <th>1</th>\n      <td>MacBook Air 13 inch M2 2022 8-core GPU</td>\n      <td>27.590.000₫</td>\n      <td></td>\n      <td></td>\n      <td>54</td>\n      <td>https://www.thegioididong.com/laptop/apple-mac...</td>\n      <td>01</td>\n      <td>MacBook Air</td>\n      <td>Laptop</td>\n    </tr>\n    <tr>\n      <th>2</th>\n      <td>MacBook Air 13 inch M2 2022 10-core GPU</td>\n      <td>39.490.000₫</td>\n      <td></td>\n      <td></td>\n      <td>10</td>\n      <td>https://www.thegioididong.com/laptop/apple-mac...</td>\n      <td>01</td>\n      <td>MacBook Air</td>\n      <td>Laptop</td>\n    </tr>\n    <tr>\n      <th>3</th>\n      <td>MacBook Air 15 inch M2 2023 10-core GPU</td>\n      <td>37.990.000₫</td>\n      <td></td>\n      <td></td>\n      <td></td>\n      <td>https://www.thegioididong.com/laptop/apple-mac...</td>\n      <td>01</td>\n      <td>MacBook Air</td>\n      <td>Laptop</td>\n    </tr>\n    <tr>\n      <th>4</th>\n      <td>MacBook Air 15 inch M2 2023 10-core GPU</td>\n      <td>37.990.000₫</td>\n      <td></td>\n      <td></td>\n      <td></td>\n      <td>https://www.thegioididong.com/laptop/apple-mac...</td>\n      <td>01</td>\n      <td>MacBook Air</td>\n      <td>Laptop</td>\n    </tr>\n    <tr>\n      <th>...</th>\n      <td>...</td>\n      <td>...</td>\n      <td>...</td>\n      <td>...</td>\n      <td>...</td>\n      <td>...</td>\n      <td>...</td>\n      <td>...</td>\n      <td>...</td>\n    </tr>\n    <tr>\n      <th>233</th>\n      <td>LG gram 2023 i7 1360P (17Z90R-G.AH78A5)</td>\n      <td>50.990.000₫</td>\n      <td></td>\n      <td></td>\n      <td></td>\n      <td>https://www.thegioididong.com/laptop/lg-gram-2...</td>\n      <td>12</td>\n      <td>Gram</td>\n      <td>Laptop</td>\n    </tr>\n    <tr>\n      <th>234</th>\n      <td>LG gram 2023 i7 1360P (16Z90R-G.AH76A5)</td>\n      <td>46.990.000₫</td>\n      <td></td>\n      <td></td>\n      <td></td>\n      <td>https://www.thegioididong.com/laptop/lg-gram-2...</td>\n      <td>12</td>\n      <td>Gram</td>\n      <td>Laptop</td>\n    </tr>\n    <tr>\n      <th>235</th>\n      <td>LG gram 2023 i7 1360P (14Z90R-G.AH75A5)</td>\n      <td>38.990.000₫</td>\n      <td></td>\n      <td></td>\n      <td></td>\n      <td>https://www.thegioididong.com/laptop/lg-gram-2...</td>\n      <td>12</td>\n      <td>Gram</td>\n      <td>Laptop</td>\n    </tr>\n    <tr>\n      <th>236</th>\n      <td>LG gram Style 2023 i5 1340P (14Z90RS-G.AH54A5)</td>\n      <td>38.990.000₫</td>\n      <td></td>\n      <td></td>\n      <td></td>\n      <td>https://www.thegioididong.com/laptop/lg-gram-s...</td>\n      <td>12</td>\n      <td>Gram</td>\n      <td>Laptop</td>\n    </tr>\n    <tr>\n      <th>237</th>\n      <td>LG gram 2023 i5 1340P (14Z90R-G.AH53A5)</td>\n      <td>32.490.000₫</td>\n      <td></td>\n      <td></td>\n      <td></td>\n      <td>https://www.thegioididong.com/laptop/lg-gram-2...</td>\n      <td>12</td>\n      <td>Gram</td>\n      <td>Laptop</td>\n    </tr>\n  </tbody>\n</table>\n<p>238 rows × 9 columns</p>\n</div>"
                    },
                    "metadata": {},
                    "execution_count": 16,
                    "output_type": "execute_result"
                }
            ],
            "execution_count": 16
        },
        {
            "cell_type": "code",
            "source": [
                "product_data.to_csv(current_dir + '/laptop/laptop.csv', index=False)"
            ],
            "metadata": {
                "language": "python",
                "azdata_cell_guid": "9056d28d-d6c0-4909-86a4-3d0e675787e2"
            },
            "outputs": [],
            "execution_count": 18
        }
    ]
}